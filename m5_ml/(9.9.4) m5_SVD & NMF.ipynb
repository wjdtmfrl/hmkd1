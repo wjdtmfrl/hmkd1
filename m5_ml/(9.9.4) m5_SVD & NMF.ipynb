{
 "cells": [
  {
   "cell_type": "code",
   "execution_count": 9,
   "id": "d489cb3d",
   "metadata": {},
   "outputs": [],
   "source": [
    "import warnings\n",
    "warnings.filterwarnings('ignore')"
   ]
  },
  {
   "cell_type": "markdown",
   "id": "25b902cd",
   "metadata": {},
   "source": [
    "차원축소 모델 비교\n",
    "- PCA : 정방행렬(m * m), 공분산, 고유값, 고유벡터, 고유값의 크기로 주성분 결정\n",
    "- LDV : 클래스간 분산을 최대한 크게 클래스내 분산은 작게 표현\n",
    "- SVD : m * n, 행렬을 U, Σ 및 V^T의 세 가지 개별 행렬로 분해 행렬 Σ는 양수, 0 또는 음수일 수 있는 특이값을 포함\n",
    "- NMF : 음수가 아닌 행렬을 두 개의 음수가 아닌 행렬인 W와 H로 분해. W와 H는 둘 다 음수가 아닌 요소로 구성"
   ]
  },
  {
   "cell_type": "markdown",
   "id": "ea22ef01",
   "metadata": {},
   "source": [
    "SVD 개요"
   ]
  },
  {
   "cell_type": "code",
   "execution_count": 3,
   "id": "9ec2612a",
   "metadata": {},
   "outputs": [
    {
     "name": "stdout",
     "output_type": "stream",
     "text": [
      "[[ 1.749 -0.286 -0.485 -2.653]\n",
      " [-0.008 -0.32  -0.537  0.315]\n",
      " [ 0.421 -1.066 -0.886 -0.476]\n",
      " [ 0.69   0.561 -1.306 -1.119]]\n"
     ]
    }
   ],
   "source": [
    "import numpy as np\n",
    "from numpy.linalg import svd\n",
    "\n",
    "# 4X4 Random 행렬 a 생성 \n",
    "np.random.seed(11)\n",
    "a = np.random.randn(4,4)\n",
    "print(np.round(a, 3))"
   ]
  },
  {
   "cell_type": "code",
   "execution_count": 4,
   "id": "5a865ed1",
   "metadata": {},
   "outputs": [
    {
     "name": "stdout",
     "output_type": "stream",
     "text": [
      "(4, 4) (4,) (4, 4)\n",
      "U matrix:\n",
      " [[-0.859 -0.319  0.333 -0.223]\n",
      " [ 0.014  0.493 -0.072 -0.867]\n",
      " [-0.261  0.792  0.364  0.416]\n",
      " [-0.44   0.169 -0.867  0.161]]\n",
      "Sigma Value:\n",
      " [3.693 1.39  1.182 0.115]\n",
      "V transpose matrix:\n",
      " [[-0.519  0.074  0.329  0.786]\n",
      " [-0.08  -0.586 -0.743  0.313]\n",
      " [ 0.116 -0.8    0.581 -0.091]\n",
      " [-0.843 -0.1   -0.051 -0.526]]\n"
     ]
    }
   ],
   "source": [
    "# U, V 에 속한 벡터는 특이벡터, Sigma는 대각행렬\n",
    "U, Sigma, Vt = svd(a)\n",
    "print(U.shape, Sigma.shape, Vt.shape)\n",
    "print('U matrix:\\n',np.round(U, 3))\n",
    "print('Sigma Value:\\n',np.round(Sigma, 3))\n",
    "print('V transpose matrix:\\n',np.round(Vt, 3))"
   ]
  },
  {
   "cell_type": "code",
   "execution_count": 5,
   "id": "57c5b75b",
   "metadata": {},
   "outputs": [
    {
     "name": "stdout",
     "output_type": "stream",
     "text": [
      "[[ 1.749 -0.286 -0.485 -2.653]\n",
      " [-0.008 -0.32  -0.537  0.315]\n",
      " [ 0.421 -1.066 -0.886 -0.476]\n",
      " [ 0.69   0.561 -1.306 -1.119]]\n"
     ]
    }
   ],
   "source": [
    "# sigma를 다시 0을 포함한 대각행렬로 변환\n",
    "# 대각행렬은 대칭행렬의 부분집합. 즉 모든 대각행렬은 대칭이지만 모든 대칭행렬이 대각행렬은 아니다\n",
    "Sigma_mat = np.diag(Sigma)\n",
    "a_ = np.dot(np.dot(U, Sigma_mat), Vt)\n",
    "print(np.round(a_,3)) # 원래대로 돌아옴 (?)"
   ]
  },
  {
   "cell_type": "code",
   "execution_count": 6,
   "id": "4117e77a",
   "metadata": {},
   "outputs": [
    {
     "data": {
      "text/plain": [
       "array([[3.6926972 , 0.        , 0.        , 0.        ],\n",
       "       [0.        , 1.39011466, 0.        , 0.        ],\n",
       "       [0.        , 0.        , 1.18248959, 0.        ],\n",
       "       [0.        , 0.        , 0.        , 0.11453705]])"
      ]
     },
     "execution_count": 6,
     "metadata": {},
     "output_type": "execute_result"
    }
   ],
   "source": [
    "Sigma_mat"
   ]
  },
  {
   "cell_type": "code",
   "execution_count": 7,
   "id": "f3443395",
   "metadata": {},
   "outputs": [
    {
     "name": "stdout",
     "output_type": "stream",
     "text": [
      "[[ 1.749 -0.286 -0.485 -2.653]\n",
      " [-0.008 -0.32  -0.537  0.315]\n",
      " [ 1.741 -0.606 -1.021 -2.338]\n",
      " [ 1.749 -0.286 -0.485 -2.653]]\n"
     ]
    }
   ],
   "source": [
    "a[2] = a[0]+a[1]\n",
    "a[3] = a[0]\n",
    "print(np.round(a,3))"
   ]
  },
  {
   "cell_type": "code",
   "execution_count": 8,
   "id": "9890ac6b",
   "metadata": {},
   "outputs": [
    {
     "name": "stdout",
     "output_type": "stream",
     "text": [
      "(4, 4) (4,) (4, 4)\n",
      "Sigma Value:\n",
      " [5.517 0.893 0.    0.   ]\n"
     ]
    }
   ],
   "source": [
    "U, Sigma, Vt = svd(a)\n",
    "print(U.shape, Sigma.shape, Vt.shape)\n",
    "print('Sigma Value:\\n',np.round(Sigma, 3))"
   ]
  },
  {
   "cell_type": "code",
   "execution_count": 1,
   "id": "c7a0ac24",
   "metadata": {},
   "outputs": [
    {
     "name": "stdout",
     "output_type": "stream",
     "text": [
      "원본행렬:\n",
      " [[0.11133083 0.21076757 0.23296249 0.15194456 0.83017814 0.40791941]\n",
      " [0.5557906  0.74552394 0.24849976 0.9686594  0.95268418 0.48984885]\n",
      " [0.01829731 0.85760612 0.40493829 0.62247394 0.29537149 0.92958852]\n",
      " [0.4056155  0.56730065 0.24575605 0.22573721 0.03827786 0.58098021]\n",
      " [0.82925331 0.77326256 0.94693849 0.73632338 0.67328275 0.74517176]\n",
      " [0.51161442 0.46920965 0.6439515  0.82081228 0.14548493 0.01806415]]\n",
      "\n",
      " 분해 행렬 차원:  (6, 6) (6,) (6, 6)\n",
      "\n",
      " Sigma값 행렬: [3.2535007  0.88116505 0.83865238 0.55463089 0.35834824 0.0349925 ]\n",
      "\n",
      " Truncated SVD 분해 행렬 차원:  (6, 4) (4,) (4, 6)\n",
      "\n",
      " Truncated SVD Sigma값 행렬: [0.55463089 0.83865238 0.88116505 3.2535007 ]\n",
      "\n",
      " Truncated SVD로 분해 후 복원 행렬: \n",
      "  [[0.19222941 0.21792946 0.15951023 0.14084013 0.81641405 0.42533093]\n",
      " [0.44874275 0.72204422 0.34594106 0.99148577 0.96866325 0.4754868 ]\n",
      " [0.12656662 0.88860729 0.30625735 0.59517439 0.28036734 0.93961948]\n",
      " [0.23989012 0.51026588 0.39697353 0.27308905 0.05971563 0.57156395]\n",
      " [0.83806144 0.78847467 0.93868685 0.72673231 0.6740867  0.73812389]\n",
      " [0.59726589 0.47953891 0.56613544 0.80746028 0.13135039 0.03479656]]\n"
     ]
    }
   ],
   "source": [
    "import numpy as np\n",
    "from scipy.sparse.linalg import svds\n",
    "from scipy.linalg import svd\n",
    "\n",
    "np.random.seed(121)\n",
    "matrix = np.random.random((6,6))\n",
    "print('원본행렬:\\n',matrix)\n",
    "U,Sigma,Vt = svd(matrix,full_matrices=False)\n",
    "print('\\n 분해 행렬 차원: ', U.shape, Sigma.shape,Vt.shape)\n",
    "print('\\n Sigma값 행렬:',Sigma)\n",
    "\n",
    "num_comonents = 4\n",
    "U_tr,Sigma_tr,Vt_tr = svds(matrix, k=num_comonents)\n",
    "print('\\n Truncated SVD 분해 행렬 차원: ',U_tr.shape, Sigma_tr.shape,Vt_tr.shape)\n",
    "print('\\n Truncated SVD Sigma값 행렬:', Sigma_tr)\n",
    "matrix_tr = np.dot(np.dot(U_tr, np.diag(Sigma_tr)),Vt_tr)\n",
    "\n",
    "print('\\n Truncated SVD로 분해 후 복원 행렬: \\n ', matrix_tr)"
   ]
  },
  {
   "cell_type": "code",
   "execution_count": 2,
   "id": "532c4953",
   "metadata": {},
   "outputs": [
    {
     "ename": "NameError",
     "evalue": "name 'iris_ftrs' is not defined",
     "output_type": "error",
     "traceback": [
      "\u001b[1;31m---------------------------------------------------------------------------\u001b[0m",
      "\u001b[1;31mNameError\u001b[0m                                 Traceback (most recent call last)",
      "\u001b[1;32m~\\AppData\\Local\\Temp\\ipykernel_10088\\1129227943.py\u001b[0m in \u001b[0;36m<module>\u001b[1;34m\u001b[0m\n\u001b[0;32m      3\u001b[0m \u001b[1;33m\u001b[0m\u001b[0m\n\u001b[0;32m      4\u001b[0m \u001b[0mscaler\u001b[0m \u001b[1;33m=\u001b[0m \u001b[0mStandardScaler\u001b[0m\u001b[1;33m(\u001b[0m\u001b[1;33m)\u001b[0m\u001b[1;33m\u001b[0m\u001b[1;33m\u001b[0m\u001b[0m\n\u001b[1;32m----> 5\u001b[1;33m \u001b[0miris_scaled\u001b[0m \u001b[1;33m=\u001b[0m \u001b[0mscaler\u001b[0m\u001b[1;33m.\u001b[0m\u001b[0mfit_transform\u001b[0m\u001b[1;33m(\u001b[0m\u001b[0miris_ftrs\u001b[0m\u001b[1;33m)\u001b[0m\u001b[1;33m\u001b[0m\u001b[1;33m\u001b[0m\u001b[0m\n\u001b[0m\u001b[0;32m      6\u001b[0m \u001b[1;33m\u001b[0m\u001b[0m\n\u001b[0;32m      7\u001b[0m \u001b[1;31m# 스케일링된 데이터를 기반으로 Truncated SVD변환 수행\u001b[0m\u001b[1;33m\u001b[0m\u001b[1;33m\u001b[0m\u001b[0m\n",
      "\u001b[1;31mNameError\u001b[0m: name 'iris_ftrs' is not defined"
     ]
    }
   ],
   "source": [
    "# 데이터 세트가 스케일링으로 데이터 중심이 동일해지면 SVD와 PCA는 동일한 변환을 수행한다.\n",
    "from sklearn.preprocessing import StandardScaler\n",
    "\n",
    "scaler = StandardScaler()\n",
    "iris_scaled = scaler.fit_transform(iris_ftrs)\n",
    "\n",
    "# 스케일링된 데이터를 기반으로 Truncated SVD변환 수행\n",
    "tsvd = TruncatedSVD(n_components=2)\n",
    "tsvd.fit(iris_scaled)\n",
    "iris_tsvd = tsvd.transform(iris_scaled)\n",
    "\n",
    "# 스케일링된 데이터를 기반으로 PCA 변환 수행\n",
    "pca = PCA(n_components=2)\n",
    "pca.fit(iris_scaled)\n",
    "iris_pca = pca.transform(iris_scaled)\n",
    "\n",
    "fig,(ax1, ax2) = plt.subplots(figsize=(9,4), ncols=2)\n",
    "ax1.scatter(x=iris_tsvd[:,0], y=iris_tsvd[:,1],c=iris.target)\n",
    "ax2.scatter(x=iris_pca[:,0], y=iris_pca[:,1],c=iris.target)"
   ]
  },
  {
   "cell_type": "markdown",
   "id": "bcbf0249",
   "metadata": {},
   "source": [
    "### NMF(Non-negative Matrix Factorization)\n",
    "\n",
    "- 기계 학습 및 데이터 마이닝에서 자주 사용되는 차원 감소 기술입니다. PCA(Principal Component Analysis) 및 SVD(Singular Value Decomposition)와 비슷하지만 모든 요소가 음수가 아니어야 한다는 제약이 있습니다.\n",
    "\n",
    "- NMF의 핵심 아이디어는 원본 데이터 매트릭스를 음수가 아닌 두 개의 매트릭스로 분해하여 원본 데이터의 필수 기능을 캡처하지만 차원을 축소하는 것입니다."
   ]
  },
  {
   "cell_type": "code",
   "execution_count": 8,
   "id": "da50d0a1",
   "metadata": {},
   "outputs": [
    {
     "data": {
      "image/png": "[encoded data removed]",
      "text/plain": [
       "<Figure size 640x480 with 1 Axes>"
      ]
     },
     "metadata": {},
     "output_type": "display_data"
    }
   ],
   "source": [
    "from sklearn.datasets import load_iris\n",
    "from sklearn.decomposition import NMF\n",
    "import matplotlib.pyplot as plt\n",
    "%matplotlib inline\n",
    "\n",
    "iris=load_iris()\n",
    "iris_f = iris.data\n",
    "nmf = NMF(n_components=2)\n",
    "nmf.fit(iris_f)\n",
    "iris_n = nmf.transform(iris_f)\n",
    "plt.scatter(x=iris_n[:,0], y=iris_n[:,1], c=iris.target)\n",
    "plt.xlabel('NMF Component 1')\n",
    "plt.ylabel('NMF Component 2')\n",
    "plt.show()"
   ]
  },
  {
   "cell_type": "markdown",
   "id": "14a45cf7",
   "metadata": {},
   "source": [
    "#### SVD vs. NMF\n",
    "\n",
    "- 수학적 공식:\n",
    "\n",
    "    - SVD: Singular Value Decomposition은 행렬을 U, Σ 및 V^T의 세 가지 개별 행렬로 분해합니다. 행렬 Σ는 양수, 0 또는 음수일 수 있는 특이값을 포함\n",
    "    - NMF: 음수가 아닌 행렬 분해는 음수가 아닌 행렬을 두 개의 음수가 아닌 행렬인 W와 H로 분해. W와 H는 둘 다 음수가 아닌 요소로 구성. NMF는 텍스트 데이터 또는 스펙트로그램과 같이 데이터에 음수가 아닌 제약 조건이 있는 응용 프로그램에 적합\n",
    "\n",
    "- 해석 가능성:\n",
    "\n",
    "    - SVD: SVD는 인수분해 행렬에 제약을 두지 않으며 양수 요소와 음수 요소를 모두 허용하여 SVD를 통해 추출된 요인의 해석은 요인 요소의 기호가 의미에 영향을 줄 수 있으므로 더 어려울 수 있다.\n",
    "    - NMF: NMF의 비음성 제약은 향상된 해석성을 제공. NMF가 일반적으로 사용되는 주제 모델링과 같은 응용 프로그램에서 부정적이지 않은 요소는 종종 더 직관적이고 의미 있는 해석이 가능\n",
    "\n",
    "- 활용:\n",
    "\n",
    "    - SVD: SVD는 이미지 압축, 협업 필터링 및 차원 감소를 포함하여 광범위한 응용 프로그램을 가지고 있어서 기능 간의 양의 상관 관계와 음의 상관 관계를 모두 캡처하는 것이 중요할 때 특히 유용\n",
    "    - NMF: NMF는 텍스트 마이닝, 이미지 처리, 오디오 신호 처리 및 생물 정보학에서 음수가 아닌 데이터를 처리할 때와 요인의 해석 가능성이 필요할 때 유용\n",
    "\n",
    "SVD와 NMF는 둘 다 유용한 행렬 분해 기법이지만 SVD는 양수 및 음수 값을 처리할 수 있고 응용 범위가 더 넓은 반면 NMF는 음수가 아닌 데이터용으로 특별히 설계되었으며 향상된 해석성을 제공. 두 기술 중 선택은 데이터의 특성, 문제의 특정 요구 사항 및 추출된 요소의 원하는 해석 가능성에 따라 달라진다."
   ]
  },
  {
   "cell_type": "code",
   "execution_count": null,
   "id": "ca215c37",
   "metadata": {},
   "outputs": [],
   "source": []
  },
  {
   "cell_type": "code",
   "execution_count": null,
   "id": "5723cbaa",
   "metadata": {},
   "outputs": [],
   "source": []
  },
  {
   "cell_type": "code",
   "execution_count": null,
   "id": "1c548975",
   "metadata": {},
   "outputs": [],
   "source": []
  },
  {
   "cell_type": "code",
   "execution_count": null,
   "id": "f6f92555",
   "metadata": {},
   "outputs": [],
   "source": []
  },
  {
   "cell_type": "code",
   "execution_count": null,
   "id": "8677193d",
   "metadata": {},
   "outputs": [],
   "source": []
  },
  {
   "cell_type": "code",
   "execution_count": null,
   "id": "7fe7c5b2",
   "metadata": {},
   "outputs": [],
   "source": []
  }
 ],
 "metadata": {
  "kernelspec": {
   "display_name": "Python 3 (ipykernel)",
   "language": "python",
   "name": "python3"
  },
  "language_info": {
   "codemirror_mode": {
    "name": "ipython",
    "version": 3
   },
   "file_extension": ".py",
   "mimetype": "text/x-python",
   "name": "python",
   "nbconvert_exporter": "python",
   "pygments_lexer": "ipython3",
   "version": "3.9.13"
  }
 },
 "nbformat": 4,
 "nbformat_minor": 5
}
