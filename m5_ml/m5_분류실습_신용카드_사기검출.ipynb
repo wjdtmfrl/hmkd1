{
 "cells": [
  {
   "cell_type": "code",
   "execution_count": 51,
   "id": "1741ddd0",
   "metadata": {
    "scrolled": true
   },
   "outputs": [
    {
     "data": {
      "text/html": [
       "<style>.container { width:100% !important; }</style>"
      ],
      "text/plain": [
       "<IPython.core.display.HTML object>"
      ]
     },
     "metadata": {},
     "output_type": "display_data"
    }
   ],
   "source": [
    "from IPython.display import display, HTML\n",
    "display(HTML(\"<style>.container { width:100% !important; }</style>\"))\n",
    "\n",
    "import warnings\n",
    "warnings.filterwarnings('ignore')"
   ]
  },
  {
   "cell_type": "markdown",
   "id": "c1fde254",
   "metadata": {},
   "source": [
    "## Credit Card Fraud Detection\n",
    "\n",
    "고객이 구매하지 않은 항목에 대해 비용이 청구되지 않도록 신용 카드 회사가 사기 신용 카드 거래를 인식할 수 있는 것이 중요합니다.\n",
    "\n",
    "콘텐츠\n",
    "\n",
    "데이터 세트에는 2013년 9월 유럽 카드 소지자가 신용 카드로 수행한 거래가 포함되어 있습니다.\n",
    "이 데이터 세트는 284,807건의 거래 중 492건의 사기가 있는 2일 동안 발생한 거래를 나타냅니다. 데이터 세트는 매우 불균형하며 긍정적인 클래스(사기)가 모든 거래의 0.172%를 차지합니다.\n",
    "\n",
    "여기에는 PCA 변환의 결과인 숫자 입력 변수만 포함됩니다. 유감스럽게도 기밀 문제로 인해 원본 기능과 데이터에 대한 자세한 배경 정보를 제공할 수 없습니다. 피처 V1, V2, … V28은 PCA로 얻은 주요 구성 요소이며 PCA로 변환되지 않은 유일한 특징은 '시간'과 '양'입니다. 피처 '시간'에는 각 트랜잭션과 데이터 세트의 첫 번째 트랜잭션 사이에 경과된 초가 포함됩니다. 'Amount' 기능은 거래 금액이며, 이 기능은  비용에 민감한 학습(example-dependant cost-sensitive learning)에 사용할 수 있습니다. Feature 'Class'는 응답 변수이며 사기의 경우 값 1, 그렇지 않은 경우 0입니다."
   ]
  },
  {
   "cell_type": "markdown",
   "id": "1baa02d7",
   "metadata": {},
   "source": [
    "주어진 데이터셋으로 아래와 같이 모델링 및 평가를 수행하세요.\n",
    "- 로지스틱 회귀와  LightGBM 모델을 사용하여 모델 학습, 예측, 평가\n",
    "- 중요한 변수로 Amount 피처를 표준화한 후 모델 학습, 예측, 평가\n",
    "- Amount 피처를 로그 변환한 후 모델 학습, 예측, 평가\n",
    "- 이상치 데이터를 처리한 후 모델 학습, 예측, 평가\n",
    "- SMOTE 오버 샘플링 적용 후 모델 학습, 예측, 평가"
   ]
  },
  {
   "cell_type": "code",
   "execution_count": 10,
   "id": "3df0be93",
   "metadata": {},
   "outputs": [
    {
     "data": {
      "text/html": [
       "<div>\n",
       "<style scoped>\n",
       "    .dataframe tbody tr th:only-of-type {\n",
       "        vertical-align: middle;\n",
       "    }\n",
       "\n",
       "    .dataframe tbody tr th {\n",
       "        vertical-align: top;\n",
       "    }\n",
       "\n",
       "    .dataframe thead th {\n",
       "        text-align: right;\n",
       "    }\n",
       "</style>\n",
       "<table border=\"1\" class=\"dataframe\">\n",
       "  <thead>\n",
       "    <tr style=\"text-align: right;\">\n",
       "      <th></th>\n",
       "      <th>Time</th>\n",
       "      <th>V1</th>\n",
       "      <th>V2</th>\n",
       "      <th>V3</th>\n",
       "      <th>V4</th>\n",
       "      <th>V5</th>\n",
       "      <th>V6</th>\n",
       "      <th>V7</th>\n",
       "      <th>V8</th>\n",
       "      <th>V9</th>\n",
       "      <th>...</th>\n",
       "      <th>V21</th>\n",
       "      <th>V22</th>\n",
       "      <th>V23</th>\n",
       "      <th>V24</th>\n",
       "      <th>V25</th>\n",
       "      <th>V26</th>\n",
       "      <th>V27</th>\n",
       "      <th>V28</th>\n",
       "      <th>Amount</th>\n",
       "      <th>Class</th>\n",
       "    </tr>\n",
       "  </thead>\n",
       "  <tbody>\n",
       "    <tr>\n",
       "      <th>0</th>\n",
       "      <td>0.0</td>\n",
       "      <td>-1.359807</td>\n",
       "      <td>-0.072781</td>\n",
       "      <td>2.536347</td>\n",
       "      <td>1.378155</td>\n",
       "      <td>-0.338321</td>\n",
       "      <td>0.462388</td>\n",
       "      <td>0.239599</td>\n",
       "      <td>0.098698</td>\n",
       "      <td>0.363787</td>\n",
       "      <td>...</td>\n",
       "      <td>-0.018307</td>\n",
       "      <td>0.277838</td>\n",
       "      <td>-0.110474</td>\n",
       "      <td>0.066928</td>\n",
       "      <td>0.128539</td>\n",
       "      <td>-0.189115</td>\n",
       "      <td>0.133558</td>\n",
       "      <td>-0.021053</td>\n",
       "      <td>149.62</td>\n",
       "      <td>0</td>\n",
       "    </tr>\n",
       "    <tr>\n",
       "      <th>1</th>\n",
       "      <td>0.0</td>\n",
       "      <td>1.191857</td>\n",
       "      <td>0.266151</td>\n",
       "      <td>0.166480</td>\n",
       "      <td>0.448154</td>\n",
       "      <td>0.060018</td>\n",
       "      <td>-0.082361</td>\n",
       "      <td>-0.078803</td>\n",
       "      <td>0.085102</td>\n",
       "      <td>-0.255425</td>\n",
       "      <td>...</td>\n",
       "      <td>-0.225775</td>\n",
       "      <td>-0.638672</td>\n",
       "      <td>0.101288</td>\n",
       "      <td>-0.339846</td>\n",
       "      <td>0.167170</td>\n",
       "      <td>0.125895</td>\n",
       "      <td>-0.008983</td>\n",
       "      <td>0.014724</td>\n",
       "      <td>2.69</td>\n",
       "      <td>0</td>\n",
       "    </tr>\n",
       "    <tr>\n",
       "      <th>2</th>\n",
       "      <td>1.0</td>\n",
       "      <td>-1.358354</td>\n",
       "      <td>-1.340163</td>\n",
       "      <td>1.773209</td>\n",
       "      <td>0.379780</td>\n",
       "      <td>-0.503198</td>\n",
       "      <td>1.800499</td>\n",
       "      <td>0.791461</td>\n",
       "      <td>0.247676</td>\n",
       "      <td>-1.514654</td>\n",
       "      <td>...</td>\n",
       "      <td>0.247998</td>\n",
       "      <td>0.771679</td>\n",
       "      <td>0.909412</td>\n",
       "      <td>-0.689281</td>\n",
       "      <td>-0.327642</td>\n",
       "      <td>-0.139097</td>\n",
       "      <td>-0.055353</td>\n",
       "      <td>-0.059752</td>\n",
       "      <td>378.66</td>\n",
       "      <td>0</td>\n",
       "    </tr>\n",
       "    <tr>\n",
       "      <th>3</th>\n",
       "      <td>1.0</td>\n",
       "      <td>-0.966272</td>\n",
       "      <td>-0.185226</td>\n",
       "      <td>1.792993</td>\n",
       "      <td>-0.863291</td>\n",
       "      <td>-0.010309</td>\n",
       "      <td>1.247203</td>\n",
       "      <td>0.237609</td>\n",
       "      <td>0.377436</td>\n",
       "      <td>-1.387024</td>\n",
       "      <td>...</td>\n",
       "      <td>-0.108300</td>\n",
       "      <td>0.005274</td>\n",
       "      <td>-0.190321</td>\n",
       "      <td>-1.175575</td>\n",
       "      <td>0.647376</td>\n",
       "      <td>-0.221929</td>\n",
       "      <td>0.062723</td>\n",
       "      <td>0.061458</td>\n",
       "      <td>123.50</td>\n",
       "      <td>0</td>\n",
       "    </tr>\n",
       "    <tr>\n",
       "      <th>4</th>\n",
       "      <td>2.0</td>\n",
       "      <td>-1.158233</td>\n",
       "      <td>0.877737</td>\n",
       "      <td>1.548718</td>\n",
       "      <td>0.403034</td>\n",
       "      <td>-0.407193</td>\n",
       "      <td>0.095921</td>\n",
       "      <td>0.592941</td>\n",
       "      <td>-0.270533</td>\n",
       "      <td>0.817739</td>\n",
       "      <td>...</td>\n",
       "      <td>-0.009431</td>\n",
       "      <td>0.798278</td>\n",
       "      <td>-0.137458</td>\n",
       "      <td>0.141267</td>\n",
       "      <td>-0.206010</td>\n",
       "      <td>0.502292</td>\n",
       "      <td>0.219422</td>\n",
       "      <td>0.215153</td>\n",
       "      <td>69.99</td>\n",
       "      <td>0</td>\n",
       "    </tr>\n",
       "  </tbody>\n",
       "</table>\n",
       "<p>5 rows × 31 columns</p>\n",
       "</div>"
      ],
      "text/plain": [
       "   Time        V1        V2        V3        V4        V5        V6        V7  \\\n",
       "0   0.0 -1.359807 -0.072781  2.536347  1.378155 -0.338321  0.462388  0.239599   \n",
       "1   0.0  1.191857  0.266151  0.166480  0.448154  0.060018 -0.082361 -0.078803   \n",
       "2   1.0 -1.358354 -1.340163  1.773209  0.379780 -0.503198  1.800499  0.791461   \n",
       "3   1.0 -0.966272 -0.185226  1.792993 -0.863291 -0.010309  1.247203  0.237609   \n",
       "4   2.0 -1.158233  0.877737  1.548718  0.403034 -0.407193  0.095921  0.592941   \n",
       "\n",
       "         V8        V9  ...       V21       V22       V23       V24       V25  \\\n",
       "0  0.098698  0.363787  ... -0.018307  0.277838 -0.110474  0.066928  0.128539   \n",
       "1  0.085102 -0.255425  ... -0.225775 -0.638672  0.101288 -0.339846  0.167170   \n",
       "2  0.247676 -1.514654  ...  0.247998  0.771679  0.909412 -0.689281 -0.327642   \n",
       "3  0.377436 -1.387024  ... -0.108300  0.005274 -0.190321 -1.175575  0.647376   \n",
       "4 -0.270533  0.817739  ... -0.009431  0.798278 -0.137458  0.141267 -0.206010   \n",
       "\n",
       "        V26       V27       V28  Amount  Class  \n",
       "0 -0.189115  0.133558 -0.021053  149.62      0  \n",
       "1  0.125895 -0.008983  0.014724    2.69      0  \n",
       "2 -0.139097 -0.055353 -0.059752  378.66      0  \n",
       "3 -0.221929  0.062723  0.061458  123.50      0  \n",
       "4  0.502292  0.219422  0.215153   69.99      0  \n",
       "\n",
       "[5 rows x 31 columns]"
      ]
     },
     "execution_count": 10,
     "metadata": {},
     "output_type": "execute_result"
    }
   ],
   "source": [
    "import pandas as pd\n",
    "import numpy as np\n",
    "\n",
    "card_df = pd.read_csv('./creditcard.csv')\n",
    "card_df.head()"
   ]
  },
  {
   "cell_type": "code",
   "execution_count": 12,
   "id": "3b33f60e",
   "metadata": {},
   "outputs": [],
   "source": [
    "from sklearn.model_selection import train_test_split\n",
    "\n",
    "def get_preprocessed_df(df=None):\n",
    "    df_copy = df.copy()\n",
    "    df_copy.drop('Time',axis=1,inplace=True)\n",
    "    return df_copy"
   ]
  },
  {
   "cell_type": "code",
   "execution_count": 15,
   "id": "4402116a",
   "metadata": {},
   "outputs": [],
   "source": [
    "# 사전 데이터 가공 후 학습과 테스트 데이터 세트를 반환하는 함수\n",
    "\n",
    "def get_train_test_dataset(df=None):\n",
    "    df_copy = get_preprocessed_df(df)\n",
    "    \n",
    "    X_features = df_copy.iloc[:,:-1]\n",
    "    y_target = df_copy.iloc[:,-1]\n",
    "    \n",
    "    X_train,X_test,y_train,y_test = train_test_split(X_features,y_target,test_size=0.3, random_state=123, stratify = y_target)\n",
    "    \n",
    "    return X_train,X_test,y_train,y_test\n",
    "\n",
    "X_train,X_test,y_train,y_test = get_train_test_dataset(card_df)"
   ]
  },
  {
   "cell_type": "code",
   "execution_count": 17,
   "id": "cacce541",
   "metadata": {},
   "outputs": [
    {
     "data": {
      "text/plain": [
       "0    199020\n",
       "1       344\n",
       "Name: Class, dtype: int64"
      ]
     },
     "execution_count": 17,
     "metadata": {},
     "output_type": "execute_result"
    }
   ],
   "source": [
    "y_train.value_counts()"
   ]
  },
  {
   "cell_type": "code",
   "execution_count": 22,
   "id": "70d6d5d1",
   "metadata": {
    "scrolled": true
   },
   "outputs": [
    {
     "data": {
      "text/plain": [
       "199364"
      ]
     },
     "execution_count": 22,
     "metadata": {},
     "output_type": "execute_result"
    }
   ],
   "source": [
    "y_train.count()"
   ]
  },
  {
   "cell_type": "code",
   "execution_count": 25,
   "id": "2275148a",
   "metadata": {},
   "outputs": [
    {
     "data": {
      "text/plain": [
       "199364"
      ]
     },
     "execution_count": 25,
     "metadata": {},
     "output_type": "execute_result"
    }
   ],
   "source": [
    "y_train.shape[0]"
   ]
  },
  {
   "cell_type": "code",
   "execution_count": 26,
   "id": "307462bd",
   "metadata": {},
   "outputs": [
    {
     "name": "stdout",
     "output_type": "stream",
     "text": [
      "0    99.827451\n",
      "1     0.172549\n",
      "Name: Class, dtype: float64\n",
      "0    232.927215\n",
      "1      0.402608\n",
      "Name: Class, dtype: float64\n"
     ]
    }
   ],
   "source": [
    "train_cnt = y_train.count()\n",
    "test_cnt = y_test.count()\n",
    "\n",
    "print(y_train.value_counts()/train_cnt*100) # -> 학습 세트 레이블 값 분포 비율\n",
    "print(y_train.value_counts()/test_cnt*100) # -> 테스트 세트 레이블 값 분포 비율"
   ]
  },
  {
   "cell_type": "code",
   "execution_count": 27,
   "id": "4af39d61",
   "metadata": {},
   "outputs": [
    {
     "name": "stdout",
     "output_type": "stream",
     "text": [
      "0    99.827451\n",
      "1     0.172549\n",
      "Name: Class, dtype: float64\n",
      "0    99.826785\n",
      "1     0.173215\n",
      "Name: Class, dtype: float64\n"
     ]
    }
   ],
   "source": [
    "print(y_train.value_counts()/y_train.shape[0]*100)\n",
    "print(y_test.value_counts()/y_test.shape[0]*100)"
   ]
  },
  {
   "cell_type": "code",
   "execution_count": null,
   "id": "23562efb",
   "metadata": {},
   "outputs": [],
   "source": [
    "def get_clf_"
   ]
  },
  {
   "cell_type": "code",
   "execution_count": 33,
   "id": "9ba94482",
   "metadata": {},
   "outputs": [
    {
     "name": "stdout",
     "output_type": "stream",
     "text": [
      "[LightGBM] [Warning] Unknown parameter: n_estimator\n",
      "[1]\ttraining's binary_logloss: 0.00588554\tvalid_1's binary_logloss: 0.005901\n",
      "[2]\ttraining's binary_logloss: 0.0115789\tvalid_1's binary_logloss: 0.0162172\n",
      "[3]\ttraining's binary_logloss: 0.00451308\tvalid_1's binary_logloss: 0.00662061\n",
      "[4]\ttraining's binary_logloss: 0.00415713\tvalid_1's binary_logloss: 0.00674977\n",
      "[5]\ttraining's binary_logloss: 0.00390251\tvalid_1's binary_logloss: 0.00669884\n",
      "[6]\ttraining's binary_logloss: 0.00365537\tvalid_1's binary_logloss: 0.00666497\n",
      "[7]\ttraining's binary_logloss: 0.00342644\tvalid_1's binary_logloss: 0.00660417\n",
      "[8]\ttraining's binary_logloss: 0.00328798\tvalid_1's binary_logloss: 0.00651837\n",
      "[9]\ttraining's binary_logloss: 0.00316933\tvalid_1's binary_logloss: 0.00645037\n",
      "[10]\ttraining's binary_logloss: 0.00298789\tvalid_1's binary_logloss: 0.00639679\n",
      "[11]\ttraining's binary_logloss: 0.0028585\tvalid_1's binary_logloss: 0.00631404\n",
      "[12]\ttraining's binary_logloss: 0.00272959\tvalid_1's binary_logloss: 0.00623607\n",
      "[13]\ttraining's binary_logloss: 0.00260505\tvalid_1's binary_logloss: 0.00615505\n",
      "[14]\ttraining's binary_logloss: 0.00252623\tvalid_1's binary_logloss: 0.00605416\n",
      "[15]\ttraining's binary_logloss: 0.00245299\tvalid_1's binary_logloss: 0.00600011\n",
      "[16]\ttraining's binary_logloss: 0.00238698\tvalid_1's binary_logloss: 0.00594441\n",
      "[17]\ttraining's binary_logloss: 0.00223402\tvalid_1's binary_logloss: 0.00580542\n",
      "[18]\ttraining's binary_logloss: 0.00215588\tvalid_1's binary_logloss: 0.00576196\n",
      "[19]\ttraining's binary_logloss: 0.00209238\tvalid_1's binary_logloss: 0.00557799\n",
      "[20]\ttraining's binary_logloss: 0.00199629\tvalid_1's binary_logloss: 0.00553803\n",
      "[21]\ttraining's binary_logloss: 0.00193305\tvalid_1's binary_logloss: 0.00549486\n",
      "[22]\ttraining's binary_logloss: 0.00187359\tvalid_1's binary_logloss: 0.00545702\n",
      "[23]\ttraining's binary_logloss: 0.00182423\tvalid_1's binary_logloss: 0.00542421\n",
      "[24]\ttraining's binary_logloss: 0.00177331\tvalid_1's binary_logloss: 0.00539083\n",
      "[25]\ttraining's binary_logloss: 0.00173529\tvalid_1's binary_logloss: 0.00541261\n",
      "[26]\ttraining's binary_logloss: 0.00168969\tvalid_1's binary_logloss: 0.00536426\n",
      "[27]\ttraining's binary_logloss: 0.0016464\tvalid_1's binary_logloss: 0.00531974\n",
      "[28]\ttraining's binary_logloss: 0.00160872\tvalid_1's binary_logloss: 0.00525988\n",
      "[29]\ttraining's binary_logloss: 0.00156954\tvalid_1's binary_logloss: 0.00524293\n",
      "[30]\ttraining's binary_logloss: 0.00153424\tvalid_1's binary_logloss: 0.00521306\n",
      "[31]\ttraining's binary_logloss: 0.00150185\tvalid_1's binary_logloss: 0.00518492\n",
      "[32]\ttraining's binary_logloss: 0.00146924\tvalid_1's binary_logloss: 0.0051604\n",
      "[33]\ttraining's binary_logloss: 0.00143715\tvalid_1's binary_logloss: 0.00513399\n",
      "[34]\ttraining's binary_logloss: 0.00139104\tvalid_1's binary_logloss: 0.00511758\n",
      "[35]\ttraining's binary_logloss: 0.00136381\tvalid_1's binary_logloss: 0.00509061\n",
      "[36]\ttraining's binary_logloss: 0.0013357\tvalid_1's binary_logloss: 0.00506095\n",
      "[37]\ttraining's binary_logloss: 0.00131168\tvalid_1's binary_logloss: 0.00483746\n",
      "[38]\ttraining's binary_logloss: 0.00131698\tvalid_1's binary_logloss: 0.00483403\n",
      "[39]\ttraining's binary_logloss: 0.00129409\tvalid_1's binary_logloss: 0.00480629\n",
      "[40]\ttraining's binary_logloss: 0.00125494\tvalid_1's binary_logloss: 0.00478837\n",
      "[41]\ttraining's binary_logloss: 0.00104985\tvalid_1's binary_logloss: 0.00477838\n",
      "[42]\ttraining's binary_logloss: 0.000993902\tvalid_1's binary_logloss: 0.00475921\n",
      "[43]\ttraining's binary_logloss: 0.000971962\tvalid_1's binary_logloss: 0.0047474\n",
      "[44]\ttraining's binary_logloss: 0.000816472\tvalid_1's binary_logloss: 0.00473832\n",
      "[45]\ttraining's binary_logloss: 0.000715931\tvalid_1's binary_logloss: 0.00472484\n",
      "[46]\ttraining's binary_logloss: 0.000696669\tvalid_1's binary_logloss: 0.00470876\n",
      "[47]\ttraining's binary_logloss: 0.000677626\tvalid_1's binary_logloss: 0.00470346\n",
      "[48]\ttraining's binary_logloss: 0.000660485\tvalid_1's binary_logloss: 0.00469264\n",
      "[49]\ttraining's binary_logloss: 0.000643887\tvalid_1's binary_logloss: 0.00467943\n",
      "[50]\ttraining's binary_logloss: 0.000627262\tvalid_1's binary_logloss: 0.00467484\n",
      "[51]\ttraining's binary_logloss: 0.000611893\tvalid_1's binary_logloss: 0.00467442\n",
      "[52]\ttraining's binary_logloss: 0.000597062\tvalid_1's binary_logloss: 0.00466787\n",
      "[53]\ttraining's binary_logloss: 0.000583166\tvalid_1's binary_logloss: 0.00466843\n",
      "[54]\ttraining's binary_logloss: 0.000569744\tvalid_1's binary_logloss: 0.00466063\n",
      "[55]\ttraining's binary_logloss: 0.00055751\tvalid_1's binary_logloss: 0.00465521\n",
      "[56]\ttraining's binary_logloss: 0.000545056\tvalid_1's binary_logloss: 0.00465161\n",
      "[57]\ttraining's binary_logloss: 0.00120338\tvalid_1's binary_logloss: 0.00464055\n",
      "[58]\ttraining's binary_logloss: 0.00169437\tvalid_1's binary_logloss: 0.00736407\n",
      "[59]\ttraining's binary_logloss: 0.000427628\tvalid_1's binary_logloss: 0.00603875\n",
      "[60]\ttraining's binary_logloss: 0.000414008\tvalid_1's binary_logloss: 0.00603395\n",
      "[61]\ttraining's binary_logloss: 0.000399588\tvalid_1's binary_logloss: 0.00602382\n",
      "[62]\ttraining's binary_logloss: 0.000386561\tvalid_1's binary_logloss: 0.00601486\n",
      "[63]\ttraining's binary_logloss: 0.000363121\tvalid_1's binary_logloss: 0.00600934\n",
      "[64]\ttraining's binary_logloss: 0.000350043\tvalid_1's binary_logloss: 0.00600321\n",
      "[65]\ttraining's binary_logloss: 0.00033464\tvalid_1's binary_logloss: 0.00599626\n",
      "[66]\ttraining's binary_logloss: 0.00032574\tvalid_1's binary_logloss: 0.00599769\n",
      "[67]\ttraining's binary_logloss: 0.000314402\tvalid_1's binary_logloss: 0.00598959\n",
      "[68]\ttraining's binary_logloss: 0.000302069\tvalid_1's binary_logloss: 0.00598439\n",
      "[69]\ttraining's binary_logloss: 0.000292834\tvalid_1's binary_logloss: 0.0059647\n",
      "[70]\ttraining's binary_logloss: 0.0002833\tvalid_1's binary_logloss: 0.00596\n",
      "[71]\ttraining's binary_logloss: 0.000265664\tvalid_1's binary_logloss: 0.0059891\n",
      "[72]\ttraining's binary_logloss: 0.000255619\tvalid_1's binary_logloss: 0.00598382\n",
      "[73]\ttraining's binary_logloss: 0.000230753\tvalid_1's binary_logloss: 0.00597556\n",
      "[74]\ttraining's binary_logloss: 0.0002076\tvalid_1's binary_logloss: 0.00596923\n",
      "[75]\ttraining's binary_logloss: 0.000191552\tvalid_1's binary_logloss: 0.00596763\n",
      "[76]\ttraining's binary_logloss: 0.0001809\tvalid_1's binary_logloss: 0.00598428\n",
      "[77]\ttraining's binary_logloss: 0.000169916\tvalid_1's binary_logloss: 0.00597649\n",
      "[78]\ttraining's binary_logloss: 0.000162444\tvalid_1's binary_logloss: 0.00596585\n",
      "[79]\ttraining's binary_logloss: 0.000156313\tvalid_1's binary_logloss: 0.00594533\n",
      "[80]\ttraining's binary_logloss: 0.00015041\tvalid_1's binary_logloss: 0.00593148\n",
      "[81]\ttraining's binary_logloss: 0.000144293\tvalid_1's binary_logloss: 0.0059326\n",
      "[82]\ttraining's binary_logloss: 0.000139065\tvalid_1's binary_logloss: 0.00592761\n",
      "[83]\ttraining's binary_logloss: 0.000133617\tvalid_1's binary_logloss: 0.00592909\n",
      "[84]\ttraining's binary_logloss: 0.000128522\tvalid_1's binary_logloss: 0.00593074\n",
      "[85]\ttraining's binary_logloss: 0.000123962\tvalid_1's binary_logloss: 0.00593041\n",
      "[86]\ttraining's binary_logloss: 0.000119534\tvalid_1's binary_logloss: 0.00592958\n",
      "[87]\ttraining's binary_logloss: 0.000115332\tvalid_1's binary_logloss: 0.00592828\n",
      "[88]\ttraining's binary_logloss: 0.00011143\tvalid_1's binary_logloss: 0.00593287\n",
      "[89]\ttraining's binary_logloss: 0.000107685\tvalid_1's binary_logloss: 0.00592908\n",
      "[90]\ttraining's binary_logloss: 0.000104179\tvalid_1's binary_logloss: 0.00593204\n",
      "[91]\ttraining's binary_logloss: 0.000100235\tvalid_1's binary_logloss: 0.00592751\n",
      "[92]\ttraining's binary_logloss: 9.68217e-05\tvalid_1's binary_logloss: 0.00592337\n",
      "[93]\ttraining's binary_logloss: 9.36357e-05\tvalid_1's binary_logloss: 0.00591933\n",
      "[94]\ttraining's binary_logloss: 9.01734e-05\tvalid_1's binary_logloss: 0.00591328\n",
      "[95]\ttraining's binary_logloss: 8.69214e-05\tvalid_1's binary_logloss: 0.00591239\n",
      "[96]\ttraining's binary_logloss: 8.38465e-05\tvalid_1's binary_logloss: 0.0059165\n",
      "[97]\ttraining's binary_logloss: 8.12764e-05\tvalid_1's binary_logloss: 0.00591768\n",
      "[98]\ttraining's binary_logloss: 7.8408e-05\tvalid_1's binary_logloss: 0.0059168\n",
      "[99]\ttraining's binary_logloss: 7.56664e-05\tvalid_1's binary_logloss: 0.00591286\n",
      "[100]\ttraining's binary_logloss: 7.3334e-05\tvalid_1's binary_logloss: 0.00591226\n"
     ]
    }
   ],
   "source": [
    "# light GBM 사용해서 객체 만들기\n",
    "from sklearn.metrics import confusion_matrix, accuracy_score, precision_score, recall_score, f1_score, roc_auc_score\n",
    "from lightgbm import LGBMClassifier\n",
    "\n",
    "\n",
    "X_tr, X_val, y_tr, y_val= train_test_split(X_train, y_train, test_size=0.2,random_state=123)\n",
    "\n",
    "lgbm_wrapper = LGBMClassifier(n_estimator=200, learning_rate=0.05)\n",
    "evals = [(X_tr,y_tr),(X_val,y_val)]\n",
    "lgbm_wrapper.fit(X_tr,y_tr,early_stopping_rounds=50, eval_metric='logloss',eval_set=evals,verbose=True)\n",
    "preds = lgbm_wrapper.predict(X_test)\n",
    "pred_proba = lgbm_wrapper.predict_proba(X_test)[:,-1]"
   ]
  },
  {
   "cell_type": "code",
   "execution_count": 37,
   "id": "e324a43e",
   "metadata": {},
   "outputs": [],
   "source": [
    "from hyperopt import hp\n",
    "\n",
    "lgbm_search_space = {'max_depth':hp.quniform('max_depth',5,20,1),\n",
    "                    'min_child_weight': hp.quniform('min_child_weight',1,2,1),\n",
    "                    'colsample_bytree' : hp.uniform('colsample_bytree',0.5,1),\n",
    "                    'learning_rate':hp.uniform('learning_rate',0.5,1)}"
   ]
  },
  {
   "cell_type": "code",
   "execution_count": null,
   "id": "3ee34561",
   "metadata": {},
   "outputs": [],
   "source": [
    "# 멀티로 모델을 만들 때 모델을 인자값으로 주고, 여러 인자 값 집어넣으면 됨!\n",
    "\n",
    "def get_model_train_eval(model, ftr_train=None, ftr_test=None, tgt_train=None, tgt_test=None):\n",
    "    model.fit(ftr_train, tgt_train)\n",
    "    "
   ]
  },
  {
   "cell_type": "code",
   "execution_count": null,
   "id": "d9021fba",
   "metadata": {},
   "outputs": [],
   "source": [
    "# n_jobs = -1 : 학습 및 예측에 사용할 코어 수를 최대로 설정\n",
    "# boost_from_average = False : 클래스 불균형 문제를 다루기 위한 LGBM의 특정 기능을 비활성화\n",
    "\n"
   ]
  },
  {
   "cell_type": "code",
   "execution_count": null,
   "id": "20b7942f",
   "metadata": {},
   "outputs": [],
   "source": []
  },
  {
   "cell_type": "code",
   "execution_count": null,
   "id": "d1116de1",
   "metadata": {},
   "outputs": [],
   "source": []
  },
  {
   "cell_type": "code",
   "execution_count": null,
   "id": "5692dccb",
   "metadata": {},
   "outputs": [],
   "source": [
    "# 그래프 확인"
   ]
  },
  {
   "cell_type": "code",
   "execution_count": null,
   "id": "3dd17a1a",
   "metadata": {},
   "outputs": [],
   "source": [
    "# 정규분포 형태로 변환"
   ]
  },
  {
   "cell_type": "code",
   "execution_count": null,
   "id": "5d9b2940",
   "metadata": {},
   "outputs": [],
   "source": [
    "from sklearn.preprocessing import StandardScaler\n",
    "\n",
    "def get_proprocessed_df(df = None):\n",
    "    df_copy = df.copy()\n",
    "    scaler = StandardScaler()\n",
    "    amount_n = scaler.fit_transform(df_copy['Amount'].values.reshape(-1,1))\n",
    "    df_copy.insert(0,'Amount_Scaled',amount_n)\n",
    "    #df_copy.insert(lic, column, value, allow_duplicates=False -> 중복허락 True)\n",
    "    df_copy.drop(['Amount','Time'],axis=1,inplace=True)\n",
    "    return df_copy"
   ]
  },
  {
   "cell_type": "markdown",
   "id": "3f048751",
   "metadata": {},
   "source": [
    "** insert 함수 -> 칼럼 추가 함수, 0번째 인덱스에 설정한 이름으로 이름 짓고 내용을 값으로 설정\n",
    "\n",
    "이후 기존 amount 삭제, time도 필요없어서 삭제\n"
   ]
  },
  {
   "cell_type": "code",
   "execution_count": null,
   "id": "8170a16a",
   "metadata": {},
   "outputs": [],
   "source": [
    "def get_train_test_dataset(card_df)"
   ]
  },
  {
   "cell_type": "code",
   "execution_count": null,
   "id": "9bde7557",
   "metadata": {},
   "outputs": [],
   "source": [
    "X_train, X_test, y_train, y_test = get_train_test_dataset(card_df)\n",
    "\n",
    "print('##로지스틱 회귀 예측 성능##')\n",
    "lr_clf = LogisticRegression()\n",
    "get_model_train_eval(lr_clf, ftr_train=X_train, ftr_test=X_test, tgt_train=y_train, tgt_test = y_test)\n",
    "\n",
    "print('##light GBM 회귀 예측 성능##')\n",
    "수정~~lr_clf = LogisticRegression()\n",
    "get_model_train_eval(lr_clf, ftr_train=X_train, ftr_test=X_test, tgt_train=y_train, tgt_test = y_test)"
   ]
  },
  {
   "cell_type": "markdown",
   "id": "ca0dc541",
   "metadata": {},
   "source": [
    "#### 로그변환"
   ]
  },
  {
   "cell_type": "code",
   "execution_count": null,
   "id": "7ac0a7ce",
   "metadata": {},
   "outputs": [],
   "source": [
    "def get_preprocessed_df(df=None):\n",
    "    df_copy = df.copy()\n",
    "    amount_n = np.log1p(df_copy['Amount'])\n",
    "    df_copy.insert(0,'Amount_Scaled',amount_n)\n",
    "    df_copy.drop(['Time','Amount'],axis=1,inplace=True)\n",
    "    return df_copy\n",
    "    \n",
    "    \n",
    "# log1p : 1에 1을 더한 후 로그값을 계산함. 이유 - 입력값이 0 또는 음수인 경우에도 정의된 결과를 얻기 위함임."
   ]
  },
  {
   "cell_type": "markdown",
   "id": "23cd3c12",
   "metadata": {},
   "source": [
    "#### 이상치 데이터 제거 후 모델 학습/예측/평가\n",
    "- 이상치로 인해 머신러닝 모델의 성능에 영향을 받을 경우가 쉬움\n",
    "- 적기"
   ]
  },
  {
   "cell_type": "code",
   "execution_count": null,
   "id": "ff549662",
   "metadata": {},
   "outputs": [],
   "source": [
    "import seaborn as sns\n",
    "\n",
    "plt.figure(figsize=(9,9))\n",
    "corr = card_df.corr()\n",
    "sns.heatmap(corr, cmap='RaBu')"
   ]
  },
  {
   "cell_type": "code",
   "execution_count": null,
   "id": "483d0f87",
   "metadata": {},
   "outputs": [],
   "source": [
    "import numpy as np\n",
    "\n",
    "def get_outlier(df=None, column=None, weight=1.5):\n",
    "    fraud = df[df['Class']==1][column]\n",
    "    quantile_25 = np.percentile(frayd.values,25)\n",
    "    quantile_75 = np.percentile(frayd.values,75)\n",
    "    \n",
    "    iqr = quantile_75 - quantile_25\n",
    "    iqr_weight = iqr*weight\n",
    "    lowest_val = quantile_25 - iqr_weight\n",
    "    highset_val = quantile_75 + iqr_weight\n",
    "    \n",
    "    outlier_index = fraud[(fraud > highset_val) | (fraud < lowest_val)].index\n",
    "    return outlier_index"
   ]
  },
  {
   "cell_type": "code",
   "execution_count": null,
   "id": "0d008a67",
   "metadata": {},
   "outputs": [],
   "source": [
    "get_preprocessed_df에 이상치 제거까지 추가하기"
   ]
  },
  {
   "cell_type": "markdown",
   "id": "c2645e58",
   "metadata": {},
   "source": [
    "### SMOTE 오버 샘플링 적용 후 모델 학습/예측/평가\n",
    "- imbalanced-learn 패키지의 SMOTE 클래스를 이용해 오버 샘플링 적용\n",
    "- 반드시 학습 데이터 세트만 오버 샘플링 적용\n",
    "- SMOTE를 적용하면 재현율은 높아지나 정밀도는 낮아지는 것이 일반적\n",
    "- 좋은 SMOTE 패키지일수록 재현율 증가율은 높이고 정밀도 감소율은 낮출 수 있도록 효과적으로 데이터 증식"
   ]
  },
  {
   "cell_type": "code",
   "execution_count": 38,
   "id": "7f33ff9a",
   "metadata": {},
   "outputs": [
    {
     "name": "stdout",
     "output_type": "stream",
     "text": [
      "1.0.2\n"
     ]
    }
   ],
   "source": [
    "import sklearn\n",
    "print(sklearn.__version__)"
   ]
  },
  {
   "cell_type": "code",
   "execution_count": 39,
   "id": "441e2b2d",
   "metadata": {},
   "outputs": [
    {
     "name": "stdout",
     "output_type": "stream",
     "text": [
      "Collecting imbalanced-learn\n",
      "  Downloading imbalanced_learn-0.10.1-py3-none-any.whl (226 kB)\n",
      "     ------------------------------------- 226.0/226.0 kB 13.5 MB/s eta 0:00:00\n",
      "Requirement already satisfied: scipy>=1.3.2 in c:\\users\\hh\\anaconda3\\lib\\site-packages (from imbalanced-learn) (1.9.1)\n",
      "Requirement already satisfied: threadpoolctl>=2.0.0 in c:\\users\\hh\\anaconda3\\lib\\site-packages (from imbalanced-learn) (2.2.0)\n",
      "Collecting joblib>=1.1.1\n",
      "  Downloading joblib-1.2.0-py3-none-any.whl (297 kB)\n",
      "     ------------------------------------- 298.0/298.0 kB 18.0 MB/s eta 0:00:00\n",
      "Requirement already satisfied: scikit-learn>=1.0.2 in c:\\users\\hh\\anaconda3\\lib\\site-packages (from imbalanced-learn) (1.0.2)\n",
      "Requirement already satisfied: numpy>=1.17.3 in c:\\users\\hh\\anaconda3\\lib\\site-packages (from imbalanced-learn) (1.21.5)\n",
      "Installing collected packages: joblib, imbalanced-learn\n",
      "  Attempting uninstall: joblib\n",
      "    Found existing installation: joblib 1.1.0\n",
      "    Uninstalling joblib-1.1.0:\n",
      "      Successfully uninstalled joblib-1.1.0\n",
      "Successfully installed imbalanced-learn-0.10.1 joblib-1.2.0\n"
     ]
    }
   ],
   "source": [
    "!pip install imbalanced-learn"
   ]
  },
  {
   "cell_type": "code",
   "execution_count": 40,
   "id": "b181b9c2",
   "metadata": {},
   "outputs": [],
   "source": [
    "from imblearn.over_sampling import SMOTE"
   ]
  },
  {
   "cell_type": "code",
   "execution_count": 44,
   "id": "5869910e",
   "metadata": {},
   "outputs": [
    {
     "name": "stdout",
     "output_type": "stream",
     "text": [
      "smote 적용 전 피처/레이블 세트:  (199364, 29) (199364,)\n",
      "smote 적용 후 피처/레이블 세트:  (398040, 29) (398040,)\n",
      "smote 적용 후 레이블 값 분포:\n",
      " 0    199020\n",
      "1    199020\n",
      "Name: Class, dtype: int64\n"
     ]
    }
   ],
   "source": [
    "smote = SMOTE(random_state=0)\n",
    "X_train_over, y_train_over = smote.fit_resample(X_train,y_train)\n",
    "print('smote 적용 전 피처/레이블 세트: ',X_train.shape, y_train.shape)\n",
    "print('smote 적용 후 피처/레이블 세트: ',X_train_over.shape, y_train_over.shape)\n",
    "print('smote 적용 후 레이블 값 분포:\\n',pd.Series(y_train_over).value_counts())"
   ]
  },
  {
   "cell_type": "code",
   "execution_count": null,
   "id": "8e548028",
   "metadata": {},
   "outputs": [],
   "source": [
    "# lr 모델이 오버샘플링으로 인해 실제 원본 데이터의 유형보다 너무나 많은 class=1 데이터를 학습하면서\n",
    "# 실제 테스트 세트에서 예측을 지나치게 class=1로 적용해 정밀도가 급격하게 하락\n",
    "\n",
    "from sklearn.linear_model import LogisticRegression\n",
    "lr_clf = LogisticRegression()\n",
    "get_model_train_eval(lr_clf, ftr_train=X_train_over, ftr_test=X_test, tgt_train=y_train_over, tgt_test=y_test)"
   ]
  },
  {
   "cell_type": "code",
   "execution_count": 46,
   "id": "b400e777",
   "metadata": {},
   "outputs": [],
   "source": [
    "import matplotlib.pyplot as plt\n",
    "import matplotlib.ticker as ticker\n",
    "from sklearn.metrics import precision_recall_curve\n",
    "%matplotlib inline\n",
    "\n",
    "def precision_recall_curve_plot(y_test , pred_proba_c1):\n",
    "    # threshold ndarray와 이 threshold에 따른 정밀도, 재현율 ndarray 추출. \n",
    "    precisions, recalls, thresholds = precision_recall_curve( y_test, pred_proba_c1)\n",
    "    \n",
    "    # X축을 threshold값으로, Y축은 정밀도, 재현율 값으로 각각 Plot 수행. 정밀도는 점선으로 표시\n",
    "    plt.figure(figsize=(8,6))\n",
    "    threshold_boundary = thresholds.shape[0]\n",
    "    plt.plot(thresholds, precisions[0:threshold_boundary], linestyle='--', label='precision')\n",
    "    plt.plot(thresholds, recalls[0:threshold_boundary],label='recall')\n",
    "    \n",
    "    # threshold 값 X 축의 Scale을 0.1 단위로 변경\n",
    "    start, end = plt.xlim()\n",
    "    plt.xticks(np.round(np.arange(start, end, 0.1),2))\n",
    "    \n",
    "    # x축, y축 label과 legend, 그리고 grid 설정\n",
    "    plt.xlabel('Threshold value'); plt.ylabel('Precision and Recall value')\n",
    "    plt.legend(); plt.grid()\n",
    "    plt.show()"
   ]
  },
  {
   "cell_type": "code",
   "execution_count": null,
   "id": "6994ce18",
   "metadata": {
    "scrolled": true
   },
   "outputs": [],
   "source": [
    "precision_recall_curve_plot(y_test, lr_clf.predict_proba)"
   ]
  },
  {
   "cell_type": "code",
   "execution_count": null,
   "id": "10680fa5",
   "metadata": {},
   "outputs": [],
   "source": []
  },
  {
   "cell_type": "code",
   "execution_count": null,
   "id": "2601fddf",
   "metadata": {},
   "outputs": [],
   "source": []
  },
  {
   "cell_type": "code",
   "execution_count": null,
   "id": "1ccdfb04",
   "metadata": {},
   "outputs": [],
   "source": []
  },
  {
   "cell_type": "code",
   "execution_count": null,
   "id": "70b745eb",
   "metadata": {},
   "outputs": [],
   "source": []
  },
  {
   "cell_type": "code",
   "execution_count": null,
   "id": "9d1ac8da",
   "metadata": {},
   "outputs": [],
   "source": []
  },
  {
   "cell_type": "code",
   "execution_count": null,
   "id": "f524adf1",
   "metadata": {},
   "outputs": [],
   "source": []
  },
  {
   "cell_type": "code",
   "execution_count": null,
   "id": "5b013858",
   "metadata": {},
   "outputs": [],
   "source": []
  },
  {
   "cell_type": "code",
   "execution_count": null,
   "id": "44956844",
   "metadata": {},
   "outputs": [],
   "source": []
  }
 ],
 "metadata": {
  "kernelspec": {
   "display_name": "Python 3 (ipykernel)",
   "language": "python",
   "name": "python3"
  },
  "language_info": {
   "codemirror_mode": {
    "name": "ipython",
    "version": 3
   },
   "file_extension": ".py",
   "mimetype": "text/x-python",
   "name": "python",
   "nbconvert_exporter": "python",
   "pygments_lexer": "ipython3",
   "version": "3.9.13"
  }
 },
 "nbformat": 4,
 "nbformat_minor": 5
}
