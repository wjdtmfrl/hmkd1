{
 "cells": [
  {
   "cell_type": "markdown",
   "id": "c2d7b69e",
   "metadata": {},
   "source": [
    "연산\n",
    "\n",
    "시리즈끼리는(?) 브로드캐스팅이 된다\n",
    "근데 df랑 sr도 연산 적용이 된다.\n",
    "\n",
    "df2는 대괄호 두 번 해줘야 함.(한 번 하면 에러,  2차원이므로 대괄호 두 번)\n",
    "\n",
    "nan값이 나온다 -> 브로드캐스팅이 안 된거다.\n",
    "브로드 캐스팅이 된거면 값이 확대가 되어야하는데 안 나왓다 -> gpt의 오류\n",
    "\n",
    "-> 시리즈로 바꿔서 실행(iloc)\n",
    "시리즈는 하나의 행이니까 브로드캐스팅이 되므로, 시리즈 바꿔서 실행\n",
    "\n",
    "*데이터프레임끼리는 브로드캐스팅이 안 된다.*\n",
    "\n",
    "map 시리즈\n",
    "apply df 및 여러개에서 적용\n",
    "applymap은 각 요소벌로 작동\n",
    "이거 정리해둔거 있으니까 보고 새로 정리하기\n"
   ]
  },
  {
   "cell_type": "code",
   "execution_count": null,
   "id": "80a72799",
   "metadata": {},
   "outputs": [],
   "source": [
    "# chatGPT 에러 : pandas broadcasting 적용 사례\n",
    "\n",
    "import pandas as pd\n",
    "import numpy as np\n",
    "\n",
    "# 3x3 행렬 생성\n",
    "df1 = pd.DataFrame(np.arange(1, 10).reshape(3, 3), columns=list('ABC'))\n",
    "\n",
    "# 1x3 행렬 생성\n",
    "df2 = pd.DataFrame([[10, 20, 30]], columns=list('ABC'))\n",
    "\n",
    "# df1 출력\n",
    "print(\"df1:\\n\", df1)\n",
    "\n",
    "# df2 출력\n",
    "print(\"\\ndf2:\\n\", df2)\n",
    "\n",
    "# df1과 df2의 합 구하기\n",
    "result = df1 + df2\n",
    "\n",
    "# result 출력\n",
    "print(\"\\nresult:\\n\", result)"
   ]
  },
  {
   "cell_type": "code",
   "execution_count": null,
   "id": "ca2f06c3",
   "metadata": {},
   "outputs": [],
   "source": [
    "import pandas as pd\n",
    "import numpy as np\n",
    "\n",
    "# 3x3 행렬 생성\n",
    "df1 = pd.DataFrame(np.arange(1, 10).reshape(3, 3), columns=list('ABC'))\n",
    "\n",
    "# 1x3 행렬 생성\n",
    "df2 = pd.DataFrame([[10, 20, 30]], columns=list('ABC'))\n",
    "sr2 = df2.iloc[0]\n",
    "# df1 출력\n",
    "print(\"df1:\\n\", df1)\n",
    "\n",
    "# df2 출력\n",
    "print(\"\\nsr2:\\n\", sr2)"
   ]
  },
  {
   "cell_type": "code",
   "execution_count": null,
   "id": "23db26bc",
   "metadata": {},
   "outputs": [],
   "source": [
    "# df1과 sr2의 합 구하기\n",
    "result = df1 + sr2\n",
    "\n",
    "# result 출력\n",
    "print(\"\\nresult:\\n\", result)"
   ]
  },
  {
   "cell_type": "code",
   "execution_count": null,
   "id": "854e0110",
   "metadata": {},
   "outputs": [],
   "source": [
    "브로드캐스팅 정리하기"
   ]
  },
  {
   "cell_type": "code",
   "execution_count": 9,
   "id": "33cc2661",
   "metadata": {},
   "outputs": [
    {
     "name": "stdout",
     "output_type": "stream",
     "text": [
      "국어    190\n",
      "영어    160\n",
      "수학    170\n",
      "dtype: int64 \n",
      "\n",
      "국어    10\n",
      "영어     0\n",
      "수학    10\n",
      "dtype: int64 \n",
      "\n"
     ]
    }
   ],
   "source": [
    "# 시리즈도 연산할 수 있다.\n",
    "import pandas as pd\n",
    "st1 = pd.Series({'국어':100, '영어':80, '수학':90})\n",
    "st2 = pd.Series({'국어':90, '영어':80, '수학':80})\n",
    "\n",
    "add = st1 + st2\n",
    "sub = st1 - st2\n",
    "mul = st1 * st2\n",
    "div = round((st1 / st2),2)\n",
    "\n",
    "print(add,'\\n')\n",
    "print(sub,'\\n')\n",
    "# print(mul,'\\n')\n",
    "# print(div)"
   ]
  },
  {
   "cell_type": "code",
   "execution_count": 4,
   "id": "e4e90d17",
   "metadata": {
    "scrolled": false
   },
   "outputs": [
    {
     "data": {
      "text/html": [
       "<div>\n",
       "<style scoped>\n",
       "    .dataframe tbody tr th:only-of-type {\n",
       "        vertical-align: middle;\n",
       "    }\n",
       "\n",
       "    .dataframe tbody tr th {\n",
       "        vertical-align: top;\n",
       "    }\n",
       "\n",
       "    .dataframe thead th {\n",
       "        text-align: right;\n",
       "    }\n",
       "</style>\n",
       "<table border=\"1\" class=\"dataframe\">\n",
       "  <thead>\n",
       "    <tr style=\"text-align: right;\">\n",
       "      <th></th>\n",
       "      <th>0</th>\n",
       "      <th>1</th>\n",
       "      <th>2</th>\n",
       "      <th>3</th>\n",
       "    </tr>\n",
       "  </thead>\n",
       "  <tbody>\n",
       "    <tr>\n",
       "      <th>국어</th>\n",
       "      <td>190</td>\n",
       "      <td>10</td>\n",
       "      <td>9000</td>\n",
       "      <td>1.11</td>\n",
       "    </tr>\n",
       "    <tr>\n",
       "      <th>영어</th>\n",
       "      <td>160</td>\n",
       "      <td>0</td>\n",
       "      <td>6400</td>\n",
       "      <td>1.00</td>\n",
       "    </tr>\n",
       "    <tr>\n",
       "      <th>수학</th>\n",
       "      <td>170</td>\n",
       "      <td>10</td>\n",
       "      <td>7200</td>\n",
       "      <td>1.12</td>\n",
       "    </tr>\n",
       "  </tbody>\n",
       "</table>\n",
       "</div>"
      ],
      "text/plain": [
       "      0   1     2     3\n",
       "국어  190  10  9000  1.11\n",
       "영어  160   0  6400  1.00\n",
       "수학  170  10  7200  1.12"
      ]
     },
     "execution_count": 4,
     "metadata": {},
     "output_type": "execute_result"
    }
   ],
   "source": [
    "# 연산 한걸 데이터프레임으로 표시\n",
    "# concat으로 합쳐지는 것은 axis가 기준이 된다. [add,sub,mul,div]가 열(1)이 됨\n",
    "# 파이썬에서 axis = 1은 2차원 배열(또는 데이터프레임)의 열(column) 방향(axis)을 나타냅니다.\n",
    "df = pd.concat([add,sub,mul,div], axis=1)\n",
    "df"
   ]
  },
  {
   "cell_type": "code",
   "execution_count": 7,
   "id": "22ffc6bd",
   "metadata": {},
   "outputs": [
    {
     "data": {
      "text/plain": [
       "국어     190.00\n",
       "영어     160.00\n",
       "수학     170.00\n",
       "국어      10.00\n",
       "영어       0.00\n",
       "수학      10.00\n",
       "국어    9000.00\n",
       "영어    6400.00\n",
       "수학    7200.00\n",
       "국어       1.11\n",
       "영어       1.00\n",
       "수학       1.12\n",
       "dtype: float64"
      ]
     },
     "execution_count": 7,
     "metadata": {},
     "output_type": "execute_result"
    }
   ],
   "source": [
    "df = pd.concat([add,sub,mul,div], axis=0)\n",
    "df\n",
    "# -> 이건 표현을 할 때 행 방향으로 더해서 표현을 한 것,\n",
    "# 국어합\n",
    "# 영어합\n",
    "# 수학합\n",
    "# 국어차\n",
    "# 영어차\n",
    "# 수학차\n",
    "# 국어곱\n",
    "# 영어곱\n",
    "# 수학곱\n",
    "# 국어나\n",
    "# 영어나\n",
    "# 수학나"
   ]
  },
  {
   "cell_type": "code",
   "execution_count": 11,
   "id": "ffff6975",
   "metadata": {
    "scrolled": true
   },
   "outputs": [
    {
     "data": {
      "text/html": [
       "<div>\n",
       "<style scoped>\n",
       "    .dataframe tbody tr th:only-of-type {\n",
       "        vertical-align: middle;\n",
       "    }\n",
       "\n",
       "    .dataframe tbody tr th {\n",
       "        vertical-align: top;\n",
       "    }\n",
       "\n",
       "    .dataframe thead th {\n",
       "        text-align: right;\n",
       "    }\n",
       "</style>\n",
       "<table border=\"1\" class=\"dataframe\">\n",
       "  <thead>\n",
       "    <tr style=\"text-align: right;\">\n",
       "      <th></th>\n",
       "      <th>국어</th>\n",
       "      <th>영어</th>\n",
       "      <th>수학</th>\n",
       "    </tr>\n",
       "  </thead>\n",
       "  <tbody>\n",
       "    <tr>\n",
       "      <th>덧셈</th>\n",
       "      <td>190.00</td>\n",
       "      <td>160.0</td>\n",
       "      <td>170.00</td>\n",
       "    </tr>\n",
       "    <tr>\n",
       "      <th>뺄셈</th>\n",
       "      <td>10.00</td>\n",
       "      <td>0.0</td>\n",
       "      <td>10.00</td>\n",
       "    </tr>\n",
       "    <tr>\n",
       "      <th>곱셈</th>\n",
       "      <td>9000.00</td>\n",
       "      <td>6400.0</td>\n",
       "      <td>7200.00</td>\n",
       "    </tr>\n",
       "    <tr>\n",
       "      <th>나눗셈</th>\n",
       "      <td>1.11</td>\n",
       "      <td>1.0</td>\n",
       "      <td>1.12</td>\n",
       "    </tr>\n",
       "  </tbody>\n",
       "</table>\n",
       "</div>"
      ],
      "text/plain": [
       "          국어      영어       수학\n",
       "덧셈    190.00   160.0   170.00\n",
       "뺄셈     10.00     0.0    10.00\n",
       "곱셈   9000.00  6400.0  7200.00\n",
       "나눗셈     1.11     1.0     1.12"
      ]
     },
     "execution_count": 11,
     "metadata": {},
     "output_type": "execute_result"
    }
   ],
   "source": [
    "# 여기서는 add 어쩌고들이 인덱스행이 되었다.\n",
    "# 인덱스 안 주면 행 열 바뀜, 인덱스 줘서 덧셈뺄셈이 행으로 감(위의 예시)\n",
    "result = pd.DataFrame([add,sub,mul,div],index=['덧셈','뺄셈','곱셈','나눗셈'])\n",
    "result"
   ]
  },
  {
   "cell_type": "code",
   "execution_count": null,
   "id": "8fc83be0",
   "metadata": {},
   "outputs": [],
   "source": [
    "df로 바꾸기"
   ]
  },
  {
   "cell_type": "code",
   "execution_count": null,
   "id": "5126a1e8",
   "metadata": {},
   "outputs": [],
   "source": [
    "import pandas as pd\n",
    "st1 = pd.Series({'국어':np.nan, '영어':80, '수학':90})\n",
    "st2 = pd.Series({'수학':80, '국어':90})"
   ]
  },
  {
   "cell_type": "code",
   "execution_count": 15,
   "id": "ddf1294e",
   "metadata": {},
   "outputs": [
    {
     "name": "stdout",
     "output_type": "stream",
     "text": [
      "국어      NaN\n",
      "수학    170.0\n",
      "영어      NaN\n",
      "dtype: float64 \n",
      "\n",
      "국어     NaN\n",
      "수학    10.0\n",
      "영어     NaN\n",
      "dtype: float64 \n",
      "\n",
      "국어       NaN\n",
      "수학    7200.0\n",
      "영어       NaN\n",
      "dtype: float64 \n",
      "\n",
      "국어     NaN\n",
      "수학    1.12\n",
      "영어     NaN\n",
      "dtype: float64\n"
     ]
    },
    {
     "data": {
      "text/html": [
       "<div>\n",
       "<style scoped>\n",
       "    .dataframe tbody tr th:only-of-type {\n",
       "        vertical-align: middle;\n",
       "    }\n",
       "\n",
       "    .dataframe tbody tr th {\n",
       "        vertical-align: top;\n",
       "    }\n",
       "\n",
       "    .dataframe thead th {\n",
       "        text-align: right;\n",
       "    }\n",
       "</style>\n",
       "<table border=\"1\" class=\"dataframe\">\n",
       "  <thead>\n",
       "    <tr style=\"text-align: right;\">\n",
       "      <th></th>\n",
       "      <th>국어</th>\n",
       "      <th>수학</th>\n",
       "      <th>영어</th>\n",
       "    </tr>\n",
       "  </thead>\n",
       "  <tbody>\n",
       "    <tr>\n",
       "      <th>덧셈</th>\n",
       "      <td>NaN</td>\n",
       "      <td>170.00</td>\n",
       "      <td>NaN</td>\n",
       "    </tr>\n",
       "    <tr>\n",
       "      <th>뺄셈</th>\n",
       "      <td>NaN</td>\n",
       "      <td>10.00</td>\n",
       "      <td>NaN</td>\n",
       "    </tr>\n",
       "    <tr>\n",
       "      <th>곱셈</th>\n",
       "      <td>NaN</td>\n",
       "      <td>7200.00</td>\n",
       "      <td>NaN</td>\n",
       "    </tr>\n",
       "    <tr>\n",
       "      <th>나눗셈</th>\n",
       "      <td>NaN</td>\n",
       "      <td>1.12</td>\n",
       "      <td>NaN</td>\n",
       "    </tr>\n",
       "  </tbody>\n",
       "</table>\n",
       "</div>"
      ],
      "text/plain": [
       "     국어       수학  영어\n",
       "덧셈  NaN   170.00 NaN\n",
       "뺄셈  NaN    10.00 NaN\n",
       "곱셈  NaN  7200.00 NaN\n",
       "나눗셈 NaN     1.12 NaN"
      ]
     },
     "execution_count": 15,
     "metadata": {},
     "output_type": "execute_result"
    }
   ],
   "source": [
    "import pandas as pd\n",
    "import numpy as np\n",
    "st1 = pd.Series({'국어':np.nan, '영어':80, '수학':90})\n",
    "st2 = pd.Series({'수학':80, '국어':90})\n",
    "\n",
    "add = st1 + st2\n",
    "sub = st1 - st2\n",
    "mul = st1 * st2\n",
    "div = round((st1 / st2),2)\n",
    "\n",
    "print(add,'\\n')\n",
    "print(sub,'\\n')\n",
    "print(mul,'\\n')\n",
    "print(div)\n",
    "\n",
    "result = pd.DataFrame([add,sub,mul,div],index=['덧셈','뺄셈','곱셈','나눗셈'])\n",
    "result"
   ]
  },
  {
   "cell_type": "code",
   "execution_count": 16,
   "id": "1f468179",
   "metadata": {},
   "outputs": [
    {
     "data": {
      "text/plain": [
       "array([ 0,  1,  2,  3,  4,  5,  6,  7,  8,  9, 10, 11])"
      ]
     },
     "execution_count": 16,
     "metadata": {},
     "output_type": "execute_result"
    }
   ],
   "source": [
    "# 1차원 배열\n",
    "np.arange(12)"
   ]
  },
  {
   "cell_type": "code",
   "execution_count": 17,
   "id": "f086421a",
   "metadata": {},
   "outputs": [
    {
     "data": {
      "text/plain": [
       "array([[ 0,  1,  2,  3],\n",
       "       [ 4,  5,  6,  7],\n",
       "       [ 8,  9, 10, 11]])"
      ]
     },
     "execution_count": 17,
     "metadata": {},
     "output_type": "execute_result"
    }
   ],
   "source": [
    "# 2차원 배열. 3행 4열\n",
    "np.arange(12).reshape(3,4)"
   ]
  },
  {
   "cell_type": "code",
   "execution_count": 19,
   "id": "57162f4d",
   "metadata": {},
   "outputs": [
    {
     "name": "stdout",
     "output_type": "stream",
     "text": [
      "   a  b   c   d\n",
      "0  0  1   2   3\n",
      "1  4  5   6   7\n",
      "2  8  9  10  11 \n",
      "\n",
      "    a   b   c   d   e\n",
      "0   0   1   2   3   4\n",
      "1   5   6   7   8   9\n",
      "2  10  11  12  13  14\n",
      "3  15  16  17  18  19\n"
     ]
    }
   ],
   "source": [
    "df1 = pd.DataFrame(np.arange(12).reshape((3,4)), columns = list('abcd'))\n",
    "df2 = pd.DataFrame(np.arange(20).reshape((4,5)), columns = list('abcde')) #일부러 행렬이 맞지 않게\n",
    "\n",
    "print(df1, '\\n')\n",
    "print(df2)"
   ]
  },
  {
   "cell_type": "code",
   "execution_count": 20,
   "id": "eae04c66",
   "metadata": {},
   "outputs": [
    {
     "name": "stdout",
     "output_type": "stream",
     "text": [
      "     a    b     c     d\n",
      "0  0.0  1.0   2.0   3.0\n",
      "1  4.0  5.0   6.0   7.0\n",
      "2  8.0  9.0  10.0  11.0 \n",
      "\n",
      "      a     b     c     d     e\n",
      "0   0.0   1.0   2.0   3.0   4.0\n",
      "1   5.0   6.0   7.0   8.0   9.0\n",
      "2  10.0  11.0  12.0  13.0  14.0\n",
      "3  15.0  16.0  17.0  18.0  19.0\n"
     ]
    }
   ],
   "source": [
    "# 실수화 (.)\n",
    "df1 = pd.DataFrame(np.arange(12.).reshape((3,4)), columns = list('abcd'))\n",
    "df2 = pd.DataFrame(np.arange(20.).reshape((4,5)), columns = list('abcde')) #일부러 행렬이 맞지 않게\n",
    "\n",
    "print(df1, '\\n')\n",
    "print(df2)"
   ]
  },
  {
   "cell_type": "code",
   "execution_count": 21,
   "id": "422554a4",
   "metadata": {},
   "outputs": [
    {
     "name": "stdout",
     "output_type": "stream",
     "text": [
      "     a    b     c     d\n",
      "0  0.0  1.0   2.0   3.0\n",
      "1  4.0  5.0   6.0   7.0\n",
      "2  8.0  9.0  10.0  11.0 \n",
      "\n",
      "      a     b     c     d     e\n",
      "0   0.0   1.0   2.0   3.0   4.0\n",
      "1   5.0   NaN   7.0   8.0   9.0\n",
      "2  10.0  11.0  12.0  13.0  14.0\n",
      "3  15.0  16.0  17.0  18.0  19.0\n"
     ]
    }
   ],
   "source": [
    "# nan값 처리\n",
    "df1 = pd.DataFrame(np.arange(12.).reshape((3,4)), columns = list('abcd'))\n",
    "df2 = pd.DataFrame(np.arange(20.).reshape((4,5)), columns = list('abcde')) #일부러 행렬이 맞지 않게\n",
    "\n",
    "df2.loc[1,'b'] = np.nan\n",
    "print(df1, '\\n')\n",
    "print(df2)"
   ]
  },
  {
   "cell_type": "code",
   "execution_count": 22,
   "id": "ba7a9cae",
   "metadata": {},
   "outputs": [
    {
     "data": {
      "text/html": [
       "<div>\n",
       "<style scoped>\n",
       "    .dataframe tbody tr th:only-of-type {\n",
       "        vertical-align: middle;\n",
       "    }\n",
       "\n",
       "    .dataframe tbody tr th {\n",
       "        vertical-align: top;\n",
       "    }\n",
       "\n",
       "    .dataframe thead th {\n",
       "        text-align: right;\n",
       "    }\n",
       "</style>\n",
       "<table border=\"1\" class=\"dataframe\">\n",
       "  <thead>\n",
       "    <tr style=\"text-align: right;\">\n",
       "      <th></th>\n",
       "      <th>a</th>\n",
       "      <th>b</th>\n",
       "      <th>c</th>\n",
       "      <th>d</th>\n",
       "      <th>e</th>\n",
       "    </tr>\n",
       "  </thead>\n",
       "  <tbody>\n",
       "    <tr>\n",
       "      <th>0</th>\n",
       "      <td>0.0</td>\n",
       "      <td>2.0</td>\n",
       "      <td>4.0</td>\n",
       "      <td>6.0</td>\n",
       "      <td>NaN</td>\n",
       "    </tr>\n",
       "    <tr>\n",
       "      <th>1</th>\n",
       "      <td>9.0</td>\n",
       "      <td>NaN</td>\n",
       "      <td>13.0</td>\n",
       "      <td>15.0</td>\n",
       "      <td>NaN</td>\n",
       "    </tr>\n",
       "    <tr>\n",
       "      <th>2</th>\n",
       "      <td>18.0</td>\n",
       "      <td>20.0</td>\n",
       "      <td>22.0</td>\n",
       "      <td>24.0</td>\n",
       "      <td>NaN</td>\n",
       "    </tr>\n",
       "    <tr>\n",
       "      <th>3</th>\n",
       "      <td>NaN</td>\n",
       "      <td>NaN</td>\n",
       "      <td>NaN</td>\n",
       "      <td>NaN</td>\n",
       "      <td>NaN</td>\n",
       "    </tr>\n",
       "  </tbody>\n",
       "</table>\n",
       "</div>"
      ],
      "text/plain": [
       "      a     b     c     d   e\n",
       "0   0.0   2.0   4.0   6.0 NaN\n",
       "1   9.0   NaN  13.0  15.0 NaN\n",
       "2  18.0  20.0  22.0  24.0 NaN\n",
       "3   NaN   NaN   NaN   NaN NaN"
      ]
     },
     "execution_count": 22,
     "metadata": {},
     "output_type": "execute_result"
    }
   ],
   "source": [
    "df1 + df2\n",
    "# null값이 있으면 계산이 되지 않으므로 nan으로 나옴"
   ]
  },
  {
   "cell_type": "code",
   "execution_count": 10,
   "id": "610c5479",
   "metadata": {},
   "outputs": [
    {
     "ename": "NameError",
     "evalue": "name 'df1' is not defined",
     "output_type": "error",
     "traceback": [
      "\u001b[1;31m---------------------------------------------------------------------------\u001b[0m",
      "\u001b[1;31mNameError\u001b[0m                                 Traceback (most recent call last)",
      "\u001b[1;32m~\\AppData\\Local\\Temp\\ipykernel_8484\\1511639823.py\u001b[0m in \u001b[0;36m<module>\u001b[1;34m\u001b[0m\n\u001b[0;32m      3\u001b[0m \u001b[1;31m#수정하기.....................\u001b[0m\u001b[1;33m\u001b[0m\u001b[1;33m\u001b[0m\u001b[0m\n\u001b[0;32m      4\u001b[0m \u001b[1;33m\u001b[0m\u001b[0m\n\u001b[1;32m----> 5\u001b[1;33m \u001b[0madd_data\u001b[0m \u001b[1;33m=\u001b[0m \u001b[0mdf1\u001b[0m\u001b[1;33m.\u001b[0m\u001b[0madd\u001b[0m\u001b[1;33m(\u001b[0m\u001b[0mdf2\u001b[0m\u001b[1;33m,\u001b[0m\u001b[0mfill_value\u001b[0m\u001b[1;33m=\u001b[0m\u001b[1;36m0\u001b[0m\u001b[1;33m)\u001b[0m\u001b[1;33m\u001b[0m\u001b[1;33m\u001b[0m\u001b[0m\n\u001b[0m\u001b[0;32m      6\u001b[0m \u001b[0msub_data\u001b[0m \u001b[1;33m=\u001b[0m \u001b[0mdf1\u001b[0m\u001b[1;33m.\u001b[0m\u001b[0msub\u001b[0m\u001b[1;33m(\u001b[0m\u001b[0mdf2\u001b[0m\u001b[1;33m,\u001b[0m \u001b[0mfill_value\u001b[0m\u001b[1;33m=\u001b[0m\u001b[1;36m0\u001b[0m\u001b[1;33m)\u001b[0m\u001b[1;33m\u001b[0m\u001b[1;33m\u001b[0m\u001b[0m\n\u001b[0;32m      7\u001b[0m \u001b[0mmul_data\u001b[0m \u001b[1;33m=\u001b[0m \u001b[0mdf1\u001b[0m\u001b[1;33m.\u001b[0m\u001b[0mmul\u001b[0m\u001b[1;33m(\u001b[0m\u001b[0mdf2\u001b[0m\u001b[1;33m,\u001b[0m \u001b[0mfill_value\u001b[0m\u001b[1;33m=\u001b[0m\u001b[1;36m0\u001b[0m\u001b[1;33m)\u001b[0m\u001b[1;33m\u001b[0m\u001b[1;33m\u001b[0m\u001b[0m\n",
      "\u001b[1;31mNameError\u001b[0m: name 'df1' is not defined"
     ]
    }
   ],
   "source": [
    "# fill_value()\n",
    "# Q. df2의 Nan값을 0으로 대체 후 사칙연산을 수행하세요.\n",
    "\n",
    "add_data = df1.add(df2,fill_value=0)\n",
    "sub_data = df1.sub(df2, fill_value=0)\n",
    "mul_data = df1.mul(df2, fill_value=0)\n",
    "div_data = df1.div(df2, fill_value=0)\n",
    "\n",
    "print(add_data,'\\n')\n",
    "print(sub_data,'\\n')\n",
    "print(mul_data,'\\n')\n",
    "print(div_data)"
   ]
  },
  {
   "cell_type": "code",
   "execution_count": 25,
   "id": "8993068b",
   "metadata": {},
   "outputs": [
    {
     "data": {
      "text/plain": [
       "array([[ 0.,  1.,  2.,  3.],\n",
       "       [ 4.,  5.,  6.,  7.],\n",
       "       [ 8.,  9., 10., 11.]])"
      ]
     },
     "execution_count": 25,
     "metadata": {},
     "output_type": "execute_result"
    }
   ],
   "source": [
    "arr = np.arange(12.).reshape(3,4)\n",
    "arr"
   ]
  },
  {
   "cell_type": "code",
   "execution_count": 26,
   "id": "b75623f1",
   "metadata": {},
   "outputs": [
    {
     "data": {
      "text/plain": [
       "array([0., 1., 2., 3.])"
      ]
     },
     "execution_count": 26,
     "metadata": {},
     "output_type": "execute_result"
    }
   ],
   "source": [
    "arr[0]"
   ]
  },
  {
   "cell_type": "code",
   "execution_count": 2,
   "id": "fd9106f1",
   "metadata": {},
   "outputs": [],
   "source": [
    "# GPT 에러 예시"
   ]
  },
  {
   "cell_type": "code",
   "execution_count": 27,
   "id": "04ca5fc6",
   "metadata": {},
   "outputs": [
    {
     "data": {
      "text/plain": [
       "array([[0., 0., 0., 0.],\n",
       "       [4., 4., 4., 4.],\n",
       "       [8., 8., 8., 8.]])"
      ]
     },
     "execution_count": 27,
     "metadata": {},
     "output_type": "execute_result"
    }
   ],
   "source": [
    "# broadcasting 같은 행만큼 확대해서 처리해준다.\n",
    "arr - arr[0]"
   ]
  },
  {
   "cell_type": "code",
   "execution_count": 28,
   "id": "d97c3469",
   "metadata": {},
   "outputs": [
    {
     "data": {
      "text/html": [
       "<div>\n",
       "<style scoped>\n",
       "    .dataframe tbody tr th:only-of-type {\n",
       "        vertical-align: middle;\n",
       "    }\n",
       "\n",
       "    .dataframe tbody tr th {\n",
       "        vertical-align: top;\n",
       "    }\n",
       "\n",
       "    .dataframe thead th {\n",
       "        text-align: right;\n",
       "    }\n",
       "</style>\n",
       "<table border=\"1\" class=\"dataframe\">\n",
       "  <thead>\n",
       "    <tr style=\"text-align: right;\">\n",
       "      <th></th>\n",
       "      <th>b</th>\n",
       "      <th>d</th>\n",
       "      <th>e</th>\n",
       "    </tr>\n",
       "  </thead>\n",
       "  <tbody>\n",
       "    <tr>\n",
       "      <th>서울</th>\n",
       "      <td>0.0</td>\n",
       "      <td>1.0</td>\n",
       "      <td>2.0</td>\n",
       "    </tr>\n",
       "    <tr>\n",
       "      <th>부산</th>\n",
       "      <td>3.0</td>\n",
       "      <td>4.0</td>\n",
       "      <td>5.0</td>\n",
       "    </tr>\n",
       "    <tr>\n",
       "      <th>인천</th>\n",
       "      <td>6.0</td>\n",
       "      <td>7.0</td>\n",
       "      <td>8.0</td>\n",
       "    </tr>\n",
       "    <tr>\n",
       "      <th>대구</th>\n",
       "      <td>9.0</td>\n",
       "      <td>10.0</td>\n",
       "      <td>11.0</td>\n",
       "    </tr>\n",
       "  </tbody>\n",
       "</table>\n",
       "</div>"
      ],
      "text/plain": [
       "      b     d     e\n",
       "서울  0.0   1.0   2.0\n",
       "부산  3.0   4.0   5.0\n",
       "인천  6.0   7.0   8.0\n",
       "대구  9.0  10.0  11.0"
      ]
     },
     "execution_count": 28,
     "metadata": {},
     "output_type": "execute_result"
    }
   ],
   "source": [
    "# DataFrame과 Series간 연산\n",
    "df = pd.DataFrame(np.arange(12.).reshape(4,3), columns = list('bde'),\n",
    "                 index = ['서울','부산','인천','대구'])\n",
    "df"
   ]
  },
  {
   "cell_type": "code",
   "execution_count": 29,
   "id": "73a152a0",
   "metadata": {},
   "outputs": [
    {
     "data": {
      "text/plain": [
       "b    0.0\n",
       "d    1.0\n",
       "e    2.0\n",
       "Name: 서울, dtype: float64"
      ]
     },
     "execution_count": 29,
     "metadata": {},
     "output_type": "execute_result"
    }
   ],
   "source": [
    "sr = df.iloc[0]\n",
    "sr"
   ]
  },
  {
   "cell_type": "code",
   "execution_count": 30,
   "id": "bb64a888",
   "metadata": {},
   "outputs": [
    {
     "data": {
      "text/html": [
       "<div>\n",
       "<style scoped>\n",
       "    .dataframe tbody tr th:only-of-type {\n",
       "        vertical-align: middle;\n",
       "    }\n",
       "\n",
       "    .dataframe tbody tr th {\n",
       "        vertical-align: top;\n",
       "    }\n",
       "\n",
       "    .dataframe thead th {\n",
       "        text-align: right;\n",
       "    }\n",
       "</style>\n",
       "<table border=\"1\" class=\"dataframe\">\n",
       "  <thead>\n",
       "    <tr style=\"text-align: right;\">\n",
       "      <th></th>\n",
       "      <th>b</th>\n",
       "      <th>d</th>\n",
       "      <th>e</th>\n",
       "    </tr>\n",
       "  </thead>\n",
       "  <tbody>\n",
       "    <tr>\n",
       "      <th>서울</th>\n",
       "      <td>0.0</td>\n",
       "      <td>0.0</td>\n",
       "      <td>0.0</td>\n",
       "    </tr>\n",
       "    <tr>\n",
       "      <th>부산</th>\n",
       "      <td>3.0</td>\n",
       "      <td>3.0</td>\n",
       "      <td>3.0</td>\n",
       "    </tr>\n",
       "    <tr>\n",
       "      <th>인천</th>\n",
       "      <td>6.0</td>\n",
       "      <td>6.0</td>\n",
       "      <td>6.0</td>\n",
       "    </tr>\n",
       "    <tr>\n",
       "      <th>대구</th>\n",
       "      <td>9.0</td>\n",
       "      <td>9.0</td>\n",
       "      <td>9.0</td>\n",
       "    </tr>\n",
       "  </tbody>\n",
       "</table>\n",
       "</div>"
      ],
      "text/plain": [
       "      b    d    e\n",
       "서울  0.0  0.0  0.0\n",
       "부산  3.0  3.0  3.0\n",
       "인천  6.0  6.0  6.0\n",
       "대구  9.0  9.0  9.0"
      ]
     },
     "execution_count": 30,
     "metadata": {},
     "output_type": "execute_result"
    }
   ],
   "source": [
    "# df에서 sr빼도 처리가 됨\n",
    "df - sr"
   ]
  },
  {
   "cell_type": "code",
   "execution_count": 31,
   "id": "19db1ecc",
   "metadata": {},
   "outputs": [
    {
     "data": {
      "text/html": [
       "<div>\n",
       "<style scoped>\n",
       "    .dataframe tbody tr th:only-of-type {\n",
       "        vertical-align: middle;\n",
       "    }\n",
       "\n",
       "    .dataframe tbody tr th {\n",
       "        vertical-align: top;\n",
       "    }\n",
       "\n",
       "    .dataframe thead th {\n",
       "        text-align: right;\n",
       "    }\n",
       "</style>\n",
       "<table border=\"1\" class=\"dataframe\">\n",
       "  <thead>\n",
       "    <tr style=\"text-align: right;\">\n",
       "      <th></th>\n",
       "      <th>b</th>\n",
       "      <th>d</th>\n",
       "      <th>e</th>\n",
       "    </tr>\n",
       "  </thead>\n",
       "  <tbody>\n",
       "    <tr>\n",
       "      <th>서울</th>\n",
       "      <td>-1.198379</td>\n",
       "      <td>-0.921464</td>\n",
       "      <td>-1.130840</td>\n",
       "    </tr>\n",
       "    <tr>\n",
       "      <th>부산</th>\n",
       "      <td>1.259366</td>\n",
       "      <td>0.797212</td>\n",
       "      <td>0.356988</td>\n",
       "    </tr>\n",
       "    <tr>\n",
       "      <th>인천</th>\n",
       "      <td>-0.123643</td>\n",
       "      <td>1.057454</td>\n",
       "      <td>-0.796557</td>\n",
       "    </tr>\n",
       "    <tr>\n",
       "      <th>대구</th>\n",
       "      <td>0.511809</td>\n",
       "      <td>0.251588</td>\n",
       "      <td>-1.163709</td>\n",
       "    </tr>\n",
       "  </tbody>\n",
       "</table>\n",
       "</div>"
      ],
      "text/plain": [
       "           b         d         e\n",
       "서울 -1.198379 -0.921464 -1.130840\n",
       "부산  1.259366  0.797212  0.356988\n",
       "인천 -0.123643  1.057454 -0.796557\n",
       "대구  0.511809  0.251588 -1.163709"
      ]
     },
     "execution_count": 31,
     "metadata": {},
     "output_type": "execute_result"
    }
   ],
   "source": [
    "# 함수 적용과 maping\n",
    "# randn : 표준정규분포에서 난수 생성 -> 음수도 포함\n",
    "\n",
    "df = pd.DataFrame(np.random.randn(4,3), columns = list('bde'),\n",
    "                 index = ['서울','부산','인천','대구'])\n",
    "df"
   ]
  },
  {
   "cell_type": "code",
   "execution_count": 32,
   "id": "22afa67a",
   "metadata": {},
   "outputs": [
    {
     "data": {
      "text/html": [
       "<div>\n",
       "<style scoped>\n",
       "    .dataframe tbody tr th:only-of-type {\n",
       "        vertical-align: middle;\n",
       "    }\n",
       "\n",
       "    .dataframe tbody tr th {\n",
       "        vertical-align: top;\n",
       "    }\n",
       "\n",
       "    .dataframe thead th {\n",
       "        text-align: right;\n",
       "    }\n",
       "</style>\n",
       "<table border=\"1\" class=\"dataframe\">\n",
       "  <thead>\n",
       "    <tr style=\"text-align: right;\">\n",
       "      <th></th>\n",
       "      <th>b</th>\n",
       "      <th>d</th>\n",
       "      <th>e</th>\n",
       "    </tr>\n",
       "  </thead>\n",
       "  <tbody>\n",
       "    <tr>\n",
       "      <th>서울</th>\n",
       "      <td>1.198379</td>\n",
       "      <td>0.921464</td>\n",
       "      <td>1.130840</td>\n",
       "    </tr>\n",
       "    <tr>\n",
       "      <th>부산</th>\n",
       "      <td>1.259366</td>\n",
       "      <td>0.797212</td>\n",
       "      <td>0.356988</td>\n",
       "    </tr>\n",
       "    <tr>\n",
       "      <th>인천</th>\n",
       "      <td>0.123643</td>\n",
       "      <td>1.057454</td>\n",
       "      <td>0.796557</td>\n",
       "    </tr>\n",
       "    <tr>\n",
       "      <th>대구</th>\n",
       "      <td>0.511809</td>\n",
       "      <td>0.251588</td>\n",
       "      <td>1.163709</td>\n",
       "    </tr>\n",
       "  </tbody>\n",
       "</table>\n",
       "</div>"
      ],
      "text/plain": [
       "           b         d         e\n",
       "서울  1.198379  0.921464  1.130840\n",
       "부산  1.259366  0.797212  0.356988\n",
       "인천  0.123643  1.057454  0.796557\n",
       "대구  0.511809  0.251588  1.163709"
      ]
     },
     "execution_count": 32,
     "metadata": {},
     "output_type": "execute_result"
    }
   ],
   "source": [
    "# 절댓값 -> 각각 매핑하여 결과 절대값으로 출력\n",
    "np.abs(df)"
   ]
  },
  {
   "cell_type": "markdown",
   "id": "4f081453",
   "metadata": {},
   "source": [
    "커스텀 함수(custom function)를 DataFrame에 적용하려면 map함수, apply함수, applymap함수를 사용\n",
    "- map함수 : DataFrame 타입이 아니라, 반드시 Series 타입에서만 사용\n",
    "- apply함수 : 커스텀 함수를 사용하기 위해 DataFrame에서 복수 개의 컬럼이 필요하다면, apply함수를 사용\n",
    "- applymap함수 : DataFrame클래스의 함수이긴 하나, 위의 apply함수처럼 각 row(axis=1)나 각 column(axis=0)별로 \n",
    "작동하는 함수가 아니라, 각 요소(element)별로 작동  \n",
    "마치 선형대수에서 벡터에 스칼라를 연산하면, 벡터의 요소 하나하나에 해당 연산을 해주는 것처럼(elementwise) \n",
    "적용하는 DataFrame의 각 요소마다 커스텀 함수(반드시 Single vaule를 반환하는)를 수행한다고 보면 된다. \n",
    "applymap에 인자로 전달하는 커스텀함수가 Single value로부터 Single value를 반환한다는 점이 중요하다"
   ]
  },
  {
   "cell_type": "code",
   "execution_count": 33,
   "id": "9fbecd33",
   "metadata": {},
   "outputs": [
    {
     "data": {
      "text/plain": [
       "b    2.457745\n",
       "d    1.978919\n",
       "e    1.520696\n",
       "dtype: float64"
      ]
     },
     "execution_count": 33,
     "metadata": {},
     "output_type": "execute_result"
    }
   ],
   "source": [
    "# series의 최대값과 최소값의 차이를 계산\n",
    "f = lambda x:x.max() - x.min()\n",
    "df.apply(f)"
   ]
  },
  {
   "cell_type": "code",
   "execution_count": 34,
   "id": "acde5368",
   "metadata": {},
   "outputs": [
    {
     "data": {
      "text/plain": [
       "서울    0.276915\n",
       "부산    0.902379\n",
       "인천    1.854012\n",
       "대구    1.675518\n",
       "dtype: float64"
      ]
     },
     "execution_count": 34,
     "metadata": {},
     "output_type": "execute_result"
    }
   ],
   "source": [
    "# 각 행에 대해서 수행 (디폴트가 열 방향이라 행으로 바꾸려면 axis설정해줘야 함)\n",
    "df.apply(f,axis = 'columns')"
   ]
  },
  {
   "cell_type": "code",
   "execution_count": 39,
   "id": "a9055e8e",
   "metadata": {},
   "outputs": [
    {
     "data": {
      "text/plain": [
       "b    0.030494\n",
       "d    0.067995\n",
       "e   -0.403361\n",
       "dtype: float64"
      ]
     },
     "execution_count": 39,
     "metadata": {},
     "output_type": "execute_result"
    }
   ],
   "source": [
    "#적절한 사용자 함수 혹은 람다함수를 생성해서 df에 그 함수를 적용한 결과를 출력하세요.\n",
    "\n",
    "a= lambda x:(x.max() + x.min())/2\n",
    "df.apply(a, axis = 'index')"
   ]
  },
  {
   "cell_type": "code",
   "execution_count": 41,
   "id": "1d1b888c",
   "metadata": {},
   "outputs": [
    {
     "data": {
      "text/html": [
       "<div>\n",
       "<style scoped>\n",
       "    .dataframe tbody tr th:only-of-type {\n",
       "        vertical-align: middle;\n",
       "    }\n",
       "\n",
       "    .dataframe tbody tr th {\n",
       "        vertical-align: top;\n",
       "    }\n",
       "\n",
       "    .dataframe thead th {\n",
       "        text-align: right;\n",
       "    }\n",
       "</style>\n",
       "<table border=\"1\" class=\"dataframe\">\n",
       "  <thead>\n",
       "    <tr style=\"text-align: right;\">\n",
       "      <th></th>\n",
       "      <th>b</th>\n",
       "      <th>d</th>\n",
       "      <th>e</th>\n",
       "    </tr>\n",
       "  </thead>\n",
       "  <tbody>\n",
       "    <tr>\n",
       "      <th>min</th>\n",
       "      <td>-1.198379</td>\n",
       "      <td>-0.921464</td>\n",
       "      <td>-1.163709</td>\n",
       "    </tr>\n",
       "    <tr>\n",
       "      <th>max</th>\n",
       "      <td>1.259366</td>\n",
       "      <td>1.057454</td>\n",
       "      <td>0.356988</td>\n",
       "    </tr>\n",
       "  </tbody>\n",
       "</table>\n",
       "</div>"
      ],
      "text/plain": [
       "            b         d         e\n",
       "min -1.198379 -0.921464 -1.163709\n",
       "max  1.259366  1.057454  0.356988"
      ]
     },
     "execution_count": 41,
     "metadata": {},
     "output_type": "execute_result"
    }
   ],
   "source": [
    "# 여러 값을 가진 series 변환\n",
    "def f(x):\n",
    "    return pd.Series([x.min(), x.max()], index = ['min','max'])\n",
    "\n",
    "df.apply(f)"
   ]
  },
  {
   "cell_type": "code",
   "execution_count": 43,
   "id": "d95ac999",
   "metadata": {},
   "outputs": [
    {
     "data": {
      "text/html": [
       "<div>\n",
       "<style scoped>\n",
       "    .dataframe tbody tr th:only-of-type {\n",
       "        vertical-align: middle;\n",
       "    }\n",
       "\n",
       "    .dataframe tbody tr th {\n",
       "        vertical-align: top;\n",
       "    }\n",
       "\n",
       "    .dataframe thead th {\n",
       "        text-align: right;\n",
       "    }\n",
       "</style>\n",
       "<table border=\"1\" class=\"dataframe\">\n",
       "  <thead>\n",
       "    <tr style=\"text-align: right;\">\n",
       "      <th></th>\n",
       "      <th>b</th>\n",
       "      <th>d</th>\n",
       "      <th>e</th>\n",
       "    </tr>\n",
       "  </thead>\n",
       "  <tbody>\n",
       "    <tr>\n",
       "      <th>서울</th>\n",
       "      <td>-1.20</td>\n",
       "      <td>-0.92</td>\n",
       "      <td>-1.13</td>\n",
       "    </tr>\n",
       "    <tr>\n",
       "      <th>부산</th>\n",
       "      <td>1.26</td>\n",
       "      <td>0.80</td>\n",
       "      <td>0.36</td>\n",
       "    </tr>\n",
       "    <tr>\n",
       "      <th>인천</th>\n",
       "      <td>-0.12</td>\n",
       "      <td>1.06</td>\n",
       "      <td>-0.80</td>\n",
       "    </tr>\n",
       "    <tr>\n",
       "      <th>대구</th>\n",
       "      <td>0.51</td>\n",
       "      <td>0.25</td>\n",
       "      <td>-1.16</td>\n",
       "    </tr>\n",
       "  </tbody>\n",
       "</table>\n",
       "</div>"
      ],
      "text/plain": [
       "        b      d      e\n",
       "서울  -1.20  -0.92  -1.13\n",
       "부산   1.26   0.80   0.36\n",
       "인천  -0.12   1.06  -0.80\n",
       "대구   0.51   0.25  -1.16"
      ]
     },
     "execution_count": 43,
     "metadata": {},
     "output_type": "execute_result"
    }
   ],
   "source": [
    "# 실수 값을 문자열 포맷으로 변환(소수점 2자리), 각 요소별로 작동한다.\n",
    "\n",
    "format = lambda x : '%.2f' %x\n",
    "df.applymap(format)"
   ]
  },
  {
   "cell_type": "code",
   "execution_count": 44,
   "id": "80104822",
   "metadata": {},
   "outputs": [
    {
     "data": {
      "text/plain": [
       "서울   -1.130840\n",
       "부산    0.356988\n",
       "인천   -0.796557\n",
       "대구   -1.163709\n",
       "Name: e, dtype: float64"
      ]
     },
     "execution_count": 44,
     "metadata": {},
     "output_type": "execute_result"
    }
   ],
   "source": [
    "# map함수는 series에만 적용\n",
    "\n",
    "df['e']"
   ]
  },
  {
   "cell_type": "code",
   "execution_count": 45,
   "id": "248d7ede",
   "metadata": {},
   "outputs": [
    {
     "data": {
      "text/plain": [
       "서울    -1.13\n",
       "부산     0.36\n",
       "인천    -0.80\n",
       "대구    -1.16\n",
       "Name: e, dtype: object"
      ]
     },
     "execution_count": 45,
     "metadata": {},
     "output_type": "execute_result"
    }
   ],
   "source": [
    "# map함수는 series에만 적용\n",
    "\n",
    "df['e'].map(format)"
   ]
  }
 ],
 "metadata": {
  "kernelspec": {
   "display_name": "Python 3 (ipykernel)",
   "language": "python",
   "name": "python3"
  },
  "language_info": {
   "codemirror_mode": {
    "name": "ipython",
    "version": 3
   },
   "file_extension": ".py",
   "mimetype": "text/x-python",
   "name": "python",
   "nbconvert_exporter": "python",
   "pygments_lexer": "ipython3",
   "version": "3.9.13"
  }
 },
 "nbformat": 4,
 "nbformat_minor": 5
}
