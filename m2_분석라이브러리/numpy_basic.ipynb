{
 "cells": [
  {
   "cell_type": "markdown",
   "id": "d72b3b5a",
   "metadata": {},
   "source": [
    "#### NumPy는 “Numerical Python“의 약자로 대규모 다차원 배열과 행렬 연산에 필요한 다양한 함수를 제공\n",
    "* Numerical Python을 의미하는 NumPy는 파이썬에서 선형대수 기반의 프로그램을 쉽게 만들 수 있도록 지원하는 대표적인 패키지\n",
    "* 많은 머신러닝 알고리즘이 넘파이 기반으로 작성돼 있으며 알고리즘의 입출력 데이터를 넘파이 배열 타입으로 사용함\n",
    "* 넘파이의 기본 데이터 타입은 ndarray. ndarray를 이용해 넘파이에서 다차원 배열을 쉽게 생성하고 다양한 연산 수행\n",
    "\n",
    "NumPy 특징\n",
    "\n",
    "- 강력한 N 차원 배열 객체\n",
    "- 정교한 브로드케스팅(Broadcast) 기능\n",
    "- C/C ++ 및 포트란 코드 통합 도구\n",
    "- 유용한 선형 대수학, 푸리에 변환 및 난수 기능\n",
    "- 푸리에 변환(Fourier transform, FT)은 시간이나 공간에 대한 함수를 시간 또는 공간 주파수 성분으로 분해하는 변환\n",
    "- 범용적 데이터 처리에 사용 가능한 다차원 컨테이너\n",
    "\n",
    "Numpy Documentation  \n",
    "\n",
    "https://numpy.org/doc/1.21/index.html\n",
    "\n",
    "\n",
    "Numpy는 대용량 데이터 배열을 효율적으로 다룰 수 있도록 설계되었다.\n",
    "- Numpy는 내부적으로 데이터를 다른 내장 파이썬 객체와 구분된 연속된 메모리 블록에 저장\n",
    "- Numpy의 각종 알고리즘은 모두 C로 작성되어 타입 검사나 다른 오버헤드 없이 메모리를 직접 조작\n",
    "- Numpy 배열은 또한 내장 파이썬의 연속된 자료형들보다 훨씬 더 적은 메모리를 사용\n",
    "- Numpy 연산은 파이썬 반복문을 사용하지 않고 전체 배열에 대한 복잡한 계산을 수행"
   ]
  },
  {
   "cell_type": "code",
   "execution_count": 4,
   "id": "51bb6e30",
   "metadata": {
    "scrolled": true
   },
   "outputs": [
    {
     "name": "stdout",
     "output_type": "stream",
     "text": [
      "Wall time: 20.6 ms\n"
     ]
    }
   ],
   "source": [
    "# 리스트랑 배열 비교해볼거임\n",
    "import numpy as np\n",
    "my_arr = np.arange(1000000)\n",
    "my_list = list(range(1000000))\n",
    "\n",
    "# 연산 시간 체크\n",
    "%time for _ in range(10): my_arrar2 = my_arr * 2"
   ]
  },
  {
   "cell_type": "code",
   "execution_count": 5,
   "id": "ff75df15",
   "metadata": {},
   "outputs": [
    {
     "name": "stdout",
     "output_type": "stream",
     "text": [
      "Wall time: 754 ms\n"
     ]
    }
   ],
   "source": [
    "%time for _ in range(10): my_list2 = [x*2 for x in my_list]\n",
    "    \n",
    "    #결과 = 배열이 굉장히 효과적이다 !"
   ]
  },
  {
   "cell_type": "code",
   "execution_count": 14,
   "id": "f171fd2e",
   "metadata": {},
   "outputs": [
    {
     "name": "stdout",
     "output_type": "stream",
     "text": [
      "[[ 1.76405235  0.40015721  0.97873798]\n",
      " [ 2.2408932   1.86755799 -0.97727788]] \n",
      "\n",
      "[[17.64052346  4.00157208  9.78737984]\n",
      " [22.40893199 18.6755799  -9.7727788 ]] \n",
      "\n",
      "[[ 3.52810469  0.80031442  1.95747597]\n",
      " [ 4.4817864   3.73511598 -1.95455576]]\n"
     ]
    }
   ],
   "source": [
    "# 배열간 연산 가능한!\n",
    "np.random.seed(0)\n",
    "data = np.random.randn(2,3)\n",
    "print(data,'\\n')\n",
    "print(data*10,'\\n')\n",
    "print(data + data)"
   ]
  },
  {
   "cell_type": "code",
   "execution_count": 16,
   "id": "dab7b943",
   "metadata": {},
   "outputs": [
    {
     "name": "stdout",
     "output_type": "stream",
     "text": [
      "(2, 3)\n",
      "float64\n",
      "2\n"
     ]
    }
   ],
   "source": [
    "# 데이터 정보 확인\n",
    "\n",
    "print(data.shape) #데이터의 크기 확인 (몇 행 몇 열인지)\n",
    "print(data.dtype) #데이터의 자료형 확인\n",
    "print(data.ndim) #데이터의 차원 확인\n"
   ]
  },
  {
   "cell_type": "code",
   "execution_count": 24,
   "id": "af03fa7c",
   "metadata": {},
   "outputs": [
    {
     "name": "stdout",
     "output_type": "stream",
     "text": [
      "[6 7 5 8 0 1] <class 'numpy.ndarray'>\n",
      "1\n"
     ]
    }
   ],
   "source": [
    "# 배열 생성\n",
    "# 1차원\n",
    "\n",
    "data1 = [6,7,5,8,0,1]\n",
    "arr1 = np.array(data1)\n",
    "print(arr1, type(arr1))\n",
    "print(arr1.ndim)"
   ]
  },
  {
   "cell_type": "code",
   "execution_count": 22,
   "id": "bb186001",
   "metadata": {},
   "outputs": [
    {
     "name": "stdout",
     "output_type": "stream",
     "text": [
      "[[1 2 3 4]\n",
      " [5 6 7 8]] <class 'numpy.ndarray'>\n",
      "(2, 4)\n",
      "int32\n",
      "2\n"
     ]
    }
   ],
   "source": [
    "# 2차원\n",
    "data2 = [[1,2,3,4],[5,6,7,8]]\n",
    "arr2= np.array(data2)\n",
    "print(arr2, type(arr2)) # 배열의 타입은 array\n",
    "print(arr2.shape)\n",
    "print(arr2.dtype) # 데이터 타입은 정수\n",
    "print(arr2.ndim)"
   ]
  },
  {
   "cell_type": "code",
   "execution_count": 26,
   "id": "32ccb731",
   "metadata": {},
   "outputs": [
    {
     "name": "stdout",
     "output_type": "stream",
     "text": [
      "[[[ 1  2  3  4  5]\n",
      "  [ 6  7  8  9 10]]\n",
      "\n",
      " [[ 1  2  3  4  5]\n",
      "  [ 6  7  8  9 10]]\n",
      "\n",
      " [[ 1  2  3  4  5]\n",
      "  [ 6  7  8  9 10]]] <class 'numpy.ndarray'>\n"
     ]
    }
   ],
   "source": [
    "# 3차원\n",
    "\n",
    "data3 = [[[1,2,3,4,5],[6,7,8,9,10]],\n",
    "        [[1,2,3,4,5],[6,7,8,9,10]],\n",
    "        [[1,2,3,4,5],[6,7,8,9,10]]]\n",
    "        \n",
    "array3 = np.array(data3)\n",
    "print(array3, type(array3))"
   ]
  },
  {
   "cell_type": "markdown",
   "id": "51691e57",
   "metadata": {},
   "source": [
    "배열 생성 및 초기화\n",
    "- Numpy는 원하는 shape로 배열을 설정하고 각 요소를 특정 값으로 초기화하는 zeros, ones, full, eye 함수 제공\n",
    "- 파라미터로 입력한 배열과 같은 shape의 배열을 만드는 zeros_like, ones_like, full_like 함수도 제공"
   ]
  },
  {
   "cell_type": "code",
   "execution_count": 32,
   "id": "1cc70717",
   "metadata": {},
   "outputs": [
    {
     "name": "stdout",
     "output_type": "stream",
     "text": [
      "[[[0. 0. 0. 0.]\n",
      "  [0. 0. 0. 0.]\n",
      "  [0. 0. 0. 0.]]\n",
      "\n",
      " [[0. 0. 0. 0.]\n",
      "  [0. 0. 0. 0.]\n",
      "  [0. 0. 0. 0.]]]\n"
     ]
    }
   ],
   "source": [
    "# 원소가 0인걸 10개짜리 만들어주는거\n",
    "\n",
    "#print(np.zeros(10))\n",
    "#print(np.zeros((3,5)))\n",
    "print(np.zeros((2,3,4))) #3행 4열짜리 2개"
   ]
  },
  {
   "cell_type": "code",
   "execution_count": 33,
   "id": "d2396f38",
   "metadata": {},
   "outputs": [
    {
     "name": "stdout",
     "output_type": "stream",
     "text": [
      "[1. 1. 1. 1. 1. 1. 1. 1. 1. 1.]\n"
     ]
    }
   ],
   "source": [
    "print(np.ones(10))"
   ]
  },
  {
   "cell_type": "code",
   "execution_count": 2,
   "id": "b24d4411",
   "metadata": {
    "scrolled": true
   },
   "outputs": [
    {
     "ename": "NameError",
     "evalue": "name 'np' is not defined",
     "output_type": "error",
     "traceback": [
      "\u001b[1;31m---------------------------------------------------------------------------\u001b[0m",
      "\u001b[1;31mNameError\u001b[0m                                 Traceback (most recent call last)",
      "\u001b[1;32m~\\AppData\\Local\\Temp\\ipykernel_6904\\3023578940.py\u001b[0m in \u001b[0;36m<module>\u001b[1;34m\u001b[0m\n\u001b[0;32m      1\u001b[0m \u001b[1;31m# 과제) zeros_like, ones_like, full_like함수 사용 예를 작성하세요.\u001b[0m\u001b[1;33m\u001b[0m\u001b[1;33m\u001b[0m\u001b[0m\n\u001b[1;32m----> 2\u001b[1;33m \u001b[0mdata\u001b[0m \u001b[1;33m=\u001b[0m \u001b[0mnp\u001b[0m\u001b[1;33m.\u001b[0m\u001b[0mrandom\u001b[0m\u001b[1;33m.\u001b[0m\u001b[0mrandint\u001b[0m\u001b[1;33m(\u001b[0m\u001b[1;36m1\u001b[0m\u001b[1;33m,\u001b[0m\u001b[1;36m11\u001b[0m\u001b[1;33m,\u001b[0m \u001b[0msize\u001b[0m\u001b[1;33m=\u001b[0m\u001b[1;33m(\u001b[0m\u001b[1;36m3\u001b[0m\u001b[1;33m,\u001b[0m\u001b[1;36m3\u001b[0m\u001b[1;33m)\u001b[0m\u001b[1;33m)\u001b[0m\u001b[1;33m\u001b[0m\u001b[1;33m\u001b[0m\u001b[0m\n\u001b[0m\u001b[0;32m      3\u001b[0m \u001b[0mprint\u001b[0m\u001b[1;33m(\u001b[0m\u001b[0mdata\u001b[0m\u001b[1;33m)\u001b[0m\u001b[1;33m\u001b[0m\u001b[1;33m\u001b[0m\u001b[0m\n\u001b[0;32m      4\u001b[0m \u001b[1;33m\u001b[0m\u001b[0m\n\u001b[0;32m      5\u001b[0m \u001b[1;31m# arr = np.\u001b[0m\u001b[1;33m\u001b[0m\u001b[1;33m\u001b[0m\u001b[0m\n",
      "\u001b[1;31mNameError\u001b[0m: name 'np' is not defined"
     ]
    }
   ],
   "source": [
    "# 과제) zeros_like, ones_like, full_like함수 사용 예를 작성하세요.\n",
    "data = np.random.randint(1,11, size=(3,3))\n",
    "print(data)\n",
    "\n",
    "# arr = np. "
   ]
  },
  {
   "cell_type": "code",
   "execution_count": 7,
   "id": "3a99e765",
   "metadata": {},
   "outputs": [
    {
     "name": "stdout",
     "output_type": "stream",
     "text": [
      "[[0 1 2 3 4]\n",
      " [5 6 7 8 9]] \n",
      "\n",
      "[[0 0 0 0 0]\n",
      " [0 0 0 0 0]] \n",
      "\n",
      "[[1 1 1 1 1]\n",
      " [1 1 1 1 1]] \n",
      "\n",
      "[[8 8 8 8 8]\n",
      " [8 8 8 8 8]]\n"
     ]
    }
   ],
   "source": [
    "import numpy as np\n",
    "a=np.arange(10).reshape(2,5)\n",
    "print(a,'\\n')\n",
    "\n",
    "print(np.zeros_like(a),'\\n')\n",
    "print(np.ones_like(a),'\\n')\n",
    "print(np.full_like(a,8))"
   ]
  },
  {
   "cell_type": "code",
   "execution_count": 34,
   "id": "de6391ea",
   "metadata": {
    "scrolled": true
   },
   "outputs": [
    {
     "data": {
      "text/plain": [
       "array([[0, 1, 2, 3, 4],\n",
       "       [5, 6, 7, 8, 9]])"
      ]
     },
     "execution_count": 34,
     "metadata": {},
     "output_type": "execute_result"
    }
   ],
   "source": [
    "a= np.arange(10).reshape(2,5)\n",
    "a"
   ]
  },
  {
   "cell_type": "code",
   "execution_count": 36,
   "id": "911c10ff",
   "metadata": {
    "scrolled": true
   },
   "outputs": [
    {
     "data": {
      "text/plain": [
       "array([ 0,  1,  2,  3,  4,  5,  6,  7,  8,  9, 10, 11, 12, 13, 14])"
      ]
     },
     "execution_count": 36,
     "metadata": {},
     "output_type": "execute_result"
    }
   ],
   "source": [
    "# arange함수 : 파이썬의 range 함수의 배열 버전\n",
    "ar = np.arange(15)\n",
    "ar\n"
   ]
  },
  {
   "cell_type": "code",
   "execution_count": 42,
   "id": "fae1f91a",
   "metadata": {},
   "outputs": [
    {
     "data": {
      "text/plain": [
       "array([[ 0,  1,  2,  3,  4],\n",
       "       [ 5,  6,  7,  8,  9],\n",
       "       [10, 11, 12, 13, 14]])"
      ]
     },
     "execution_count": 42,
     "metadata": {},
     "output_type": "execute_result"
    }
   ],
   "source": [
    "#reshape함수 우리가 원하는 차원으로 바꿀 수 있음 나누어떨어지도록!\n",
    "ar.reshape(1,15)  # 대괄호가 두 개 있으니까 2차원\n",
    "ar.reshape(3,5)"
   ]
  },
  {
   "cell_type": "code",
   "execution_count": 47,
   "id": "2e2d0061",
   "metadata": {
    "scrolled": true
   },
   "outputs": [
    {
     "data": {
      "text/plain": [
       "array([[0, 1],\n",
       "       [2, 3],\n",
       "       [4, 5],\n",
       "       [6, 7],\n",
       "       [8, 9]])"
      ]
     },
     "execution_count": 47,
     "metadata": {},
     "output_type": "execute_result"
    }
   ],
   "source": [
    "# array1에 reshape 함수를 이용하여 (5,2)배열을 생성하고 형태를 같이 출력하세요.\n",
    "array1 = np.arange(10)\n",
    "array1.reshape(5,2)"
   ]
  },
  {
   "cell_type": "code",
   "execution_count": 52,
   "id": "190669c5",
   "metadata": {},
   "outputs": [
    {
     "name": "stdout",
     "output_type": "stream",
     "text": [
      "[ 0  1  2  3  4  5  6  7  8  9 10 11 12 13 14 15 16 17 18 19 20 21 22 23]\n",
      "[[ 0  1  2  3  4  5]\n",
      " [ 6  7  8  9 10 11]\n",
      " [12 13 14 15 16 17]\n",
      " [18 19 20 21 22 23]]\n",
      "[[[ 0  1  2  3]\n",
      "  [ 4  5  6  7]\n",
      "  [ 8  9 10 11]]\n",
      "\n",
      " [[12 13 14 15]\n",
      "  [16 17 18 19]\n",
      "  [20 21 22 23]]]\n"
     ]
    }
   ],
   "source": [
    "# ar에 reshape() 함수 이용, 1,2,3차원 배열 생성\n",
    "\n",
    "ar = np.arange(24)\n",
    "print(ar)\n",
    "print(ar.reshape(4,6))\n",
    "print(ar.reshape(2,3,4))\n"
   ]
  },
  {
   "cell_type": "code",
   "execution_count": 227,
   "id": "916938bd",
   "metadata": {},
   "outputs": [
    {
     "name": "stdout",
     "output_type": "stream",
     "text": [
      "[[[ 0  1  2  3  4]\n",
      "  [ 5  6  7  8  9]]\n",
      "\n",
      " [[10 11 12 13 14]\n",
      "  [15 16 17 18 19]]\n",
      "\n",
      " [[20 21 22 23 24]\n",
      "  [25 26 27 28 29]]]\n"
     ]
    }
   ],
   "source": [
    "# 1 -> 2,3차원 변경 -1 사용 , -1은 니가 알아서 해줘\n",
    "ar1 = np.arange(30)\n",
    "\n",
    "ar12 = ar1.reshape(2,-1)\n",
    "ar13 = ar1.reshape(-1,2,5)\n",
    "\n",
    "print(ar13)"
   ]
  },
  {
   "cell_type": "code",
   "execution_count": 228,
   "id": "f1c7ad92",
   "metadata": {
    "scrolled": true
   },
   "outputs": [
    {
     "name": "stdout",
     "output_type": "stream",
     "text": [
      "[[ 0  1  2  3  4  5  6  7  8  9 10 11 12 13 14]\n",
      " [15 16 17 18 19 20 21 22 23 24 25 26 27 28 29]]\n",
      "[ 0  1  2  3  4  5  6  7  8  9 10 11 12 13 14 15 16 17 18 19 20 21 22 23\n",
      " 24 25 26 27 28 29] \n",
      "\n",
      "[[[ 0  1  2  3  4]\n",
      "  [ 5  6  7  8  9]]\n",
      "\n",
      " [[10 11 12 13 14]\n",
      "  [15 16 17 18 19]]\n",
      "\n",
      " [[20 21 22 23 24]\n",
      "  [25 26 27 28 29]]]\n"
     ]
    }
   ],
   "source": [
    "# 2 -> 1,3차원 변경 -1 사용\n",
    "\n",
    "print(ar12)\n",
    "ar21 = ar12.reshape(-1,)\n",
    "ar23 = ar12.reshape(-1,2,5)\n",
    "\n",
    "print(ar21,'\\n')\n",
    "print(ar23)"
   ]
  },
  {
   "cell_type": "code",
   "execution_count": 234,
   "id": "b57b4d93",
   "metadata": {
    "scrolled": false
   },
   "outputs": [
    {
     "name": "stdout",
     "output_type": "stream",
     "text": [
      "[ 0  1  2  3  4  5  6  7  8  9 10 11 12 13 14 15 16 17 18 19 20 21 22 23\n",
      " 24 25 26 27 28 29] \n",
      "\n",
      "[[ 0  1  2  3  4  5  6  7  8  9]\n",
      " [10 11 12 13 14 15 16 17 18 19]\n",
      " [20 21 22 23 24 25 26 27 28 29]]\n"
     ]
    }
   ],
   "source": [
    "# 3-> 1,2차원 변경 -1 사용\n",
    "\n",
    "ar31 = ar13.reshape(-1,)\n",
    "ar32 = ar13.reshape(3,-1)\n",
    "print(ar31,'\\n')\n",
    "print(ar32)"
   ]
  },
  {
   "cell_type": "code",
   "execution_count": 69,
   "id": "7fdbac56",
   "metadata": {
    "scrolled": true
   },
   "outputs": [
    {
     "name": "stdout",
     "output_type": "stream",
     "text": [
      "[[[ 0  1  2  3  4]\n",
      "  [ 5  6  7  8  9]]\n",
      "\n",
      " [[10 11 12 13 14]\n",
      "  [15 16 17 18 19]]\n",
      "\n",
      " [[20 21 22 23 24]\n",
      "  [25 26 27 28 29]]] <class 'numpy.ndarray'> \n",
      "\n",
      "[[[0, 1, 2, 3, 4], [5, 6, 7, 8, 9]], [[10, 11, 12, 13, 14], [15, 16, 17, 18, 19]], [[20, 21, 22, 23, 24], [25, 26, 27, 28, 29]]]\n"
     ]
    }
   ],
   "source": [
    "ar3 = np.arange(30).reshape(3,2,5)\n",
    "print(ar3, type(ar3),'\\n')\n",
    "\n",
    "l3=ar3.tolist()\n",
    "print(l3)"
   ]
  },
  {
   "cell_type": "markdown",
   "id": "8fc033f3",
   "metadata": {},
   "source": [
    "행렬의 종류\n",
    "\n",
    "https://math-development-geometry.tistory.com/52\n",
    "\n",
    "- 정방행렬은 행과 열의 수가 같은 행렬\n",
    "- 대각행렬은 주대각선 원소를 제외한 모든 원소들이 0인 정방행렬\n",
    "- 삼각행렬은 주대각선 원소를 기준으로 위 또는 아래에 있는 성분이 모두 0인 정방행렬\n",
    "- 항등행렬은 행렬 곱셈 연산에 항등원으로 작용하는 행렬\n",
    "- 영행렬은 모든 원소가 0인 행렬로 곱셈 연산에서 영원으로 작용하는 행렬\n",
    "- 전치행렬은 주대각선 원소를 기준으로 행과 열을 바꿔주는 행렬\n",
    "- 직교행렬은 행렬 A의 역행렬이 A의 전치행렬이고 A의 전치행렬과 A 행렬을 곱하였을때 항등행렬이 나오는 행렬"
   ]
  },
  {
   "cell_type": "code",
   "execution_count": 71,
   "id": "068ae776",
   "metadata": {},
   "outputs": [
    {
     "data": {
      "text/plain": [
       "array([[7, 7],\n",
       "       [7, 7]])"
      ]
     },
     "execution_count": 71,
     "metadata": {},
     "output_type": "execute_result"
    }
   ],
   "source": [
    "# 정방행렬\n",
    "\n",
    "a = np.full((2,2),7)\n",
    "a"
   ]
  },
  {
   "cell_type": "code",
   "execution_count": 72,
   "id": "d0c94dcd",
   "metadata": {},
   "outputs": [
    {
     "data": {
      "text/plain": [
       "array([[1., 0., 0.],\n",
       "       [0., 1., 0.],\n",
       "       [0., 0., 1.]])"
      ]
     },
     "execution_count": 72,
     "metadata": {},
     "output_type": "execute_result"
    }
   ],
   "source": [
    "# 항등행렬, 단위행렬 eye함수 대각선의 개수가 3 \n",
    "ar = np.eye(3)\n",
    "ar"
   ]
  },
  {
   "cell_type": "code",
   "execution_count": 74,
   "id": "a4295182",
   "metadata": {},
   "outputs": [
    {
     "data": {
      "text/plain": [
       "array([[1, 0, 0, 0, 0],\n",
       "       [0, 2, 0, 0, 0],\n",
       "       [0, 0, 3, 0, 0],\n",
       "       [0, 0, 0, 4, 0],\n",
       "       [0, 0, 0, 0, 5]])"
      ]
     },
     "execution_count": 74,
     "metadata": {},
     "output_type": "execute_result"
    }
   ],
   "source": [
    "# 대각행렬 대각선에 들어가는 숫자\n",
    "diag_mat = np.diag([1,2,3,4,5])\n",
    "diag_mat"
   ]
  },
  {
   "cell_type": "code",
   "execution_count": 75,
   "id": "53c15d2b",
   "metadata": {},
   "outputs": [
    {
     "name": "stdout",
     "output_type": "stream",
     "text": [
      "[[1 2 3]\n",
      " [0 5 6]\n",
      " [0 0 9]]\n"
     ]
    }
   ],
   "source": [
    "# 삼각행렬\n",
    "\n",
    "upper_tri_mat = np.triu([[1,2,3],[4,5,6],[7,8,9]])\n",
    "print(upper_tri_mat)"
   ]
  },
  {
   "cell_type": "code",
   "execution_count": 77,
   "id": "2b52e1a9",
   "metadata": {
    "scrolled": true
   },
   "outputs": [
    {
     "name": "stdout",
     "output_type": "stream",
     "text": [
      "[[1 0 0]\n",
      " [4 5 0]\n",
      " [7 8 9]]\n"
     ]
    }
   ],
   "source": [
    "# 과제) 하삼각행렬을 생성하세요\n",
    "\n",
    "lower_tri_mat = np.tril([[1,2,3],[4,5,6],[7,8,9]])\n",
    "print(lower_tri_mat)"
   ]
  },
  {
   "cell_type": "code",
   "execution_count": 84,
   "id": "c588e08f",
   "metadata": {},
   "outputs": [
    {
     "name": "stdout",
     "output_type": "stream",
     "text": [
      "[[1 2]\n",
      " [3 4]\n",
      " [5 6]] \n",
      "\n",
      "[[1 3 5]\n",
      " [2 4 6]]\n"
     ]
    }
   ],
   "source": [
    "# 전치행렬 : 원래 행렬에서 행과 열을 바꾼 행렬\n",
    "\n",
    "\n",
    "mat = np.array([[1,2],[3,4],[5,6]])\n",
    "print(mat,'\\n')\n",
    "\n",
    "transpose_mat = mat.T\n",
    "print(transpose_mat)"
   ]
  },
  {
   "cell_type": "markdown",
   "id": "11963818",
   "metadata": {},
   "source": [
    "직교행렬\n",
    "\n",
    "- 행과 열이 서로 직교하는 정방행렬. \n",
    "- 모든 열벡터와 행벡터가 서로 직교하교 크기가 1인 단위벡터로 이루어짐.\n",
    "- np.linalg.qr() 함수를 사용한다. qr분행을 수행하여 직교행렬을 추출.\n",
    "- q를 추출하여 직교행렬을 만든다.\n",
    "- np.dot(orth_mat,orth_mat.T)을 계산하여 직교성을 검증한다.  (나중에 배울거임)\n",
    "- np.allclose()함수로 두 행렬이 동일한지 검사한다. True를 반환하면 두 행렬은 동일."
   ]
  },
  {
   "cell_type": "code",
   "execution_count": 90,
   "id": "2ffb349f",
   "metadata": {},
   "outputs": [
    {
     "name": "stdout",
     "output_type": "stream",
     "text": [
      "[[-1.70627019  1.9507754  -0.50965218]\n",
      " [-0.4380743  -1.25279536  0.77749036]\n",
      " [-1.61389785 -0.21274028 -0.89546656]]\n",
      "[[-0.71418111  0.58409529 -0.38571756]\n",
      " [-0.18336158 -0.68793021 -0.70223255]\n",
      " [-0.67551749 -0.43079544  0.59840739]]\n",
      "True\n"
     ]
    }
   ],
   "source": [
    "mat = np.random.randn(3,3)\n",
    "print(mat)\n",
    "\n",
    "# qr분해 후 q추출, 지표에 있는 orth mat을 만든다.\n",
    "q,r = np.linalg.qr(mat)\n",
    "\n",
    "# 직교행렬 추출\n",
    "orth_mat = q\n",
    "print(orth_mat)\n",
    "\n",
    "# 직교성 검증 -> allclose 뒤에 두개가 같은지 검사하는 과정\n",
    "print(np.allclose(np.dot(orth_mat, orth_mat.T),np.eye(3)))\n",
    "\n"
   ]
  },
  {
   "cell_type": "markdown",
   "id": "b37df9e2",
   "metadata": {},
   "source": [
    "#### 배열의 인덱싱, 슬라이싱"
   ]
  },
  {
   "cell_type": "code",
   "execution_count": 91,
   "id": "f53e8ec3",
   "metadata": {},
   "outputs": [
    {
     "data": {
      "text/plain": [
       "array([[1, 2, 3],\n",
       "       [4, 5, 6],\n",
       "       [7, 8, 9]])"
      ]
     },
     "execution_count": 91,
     "metadata": {},
     "output_type": "execute_result"
    }
   ],
   "source": [
    "ar2 = np.arange(1,10).reshape(3,3)\n",
    "ar2"
   ]
  },
  {
   "cell_type": "code",
   "execution_count": 92,
   "id": "a97d1e04",
   "metadata": {},
   "outputs": [
    {
     "data": {
      "text/plain": [
       "array([7, 8, 9])"
      ]
     },
     "execution_count": 92,
     "metadata": {},
     "output_type": "execute_result"
    }
   ],
   "source": [
    "# 7,8,9 뽑기 loc, iloc 안 써도 됨ㅋ 2번째 행이므로\n",
    "\n",
    "ar2[2]"
   ]
  },
  {
   "cell_type": "code",
   "execution_count": 95,
   "id": "18379314",
   "metadata": {},
   "outputs": [
    {
     "data": {
      "text/plain": [
       "3"
      ]
     },
     "execution_count": 95,
     "metadata": {},
     "output_type": "execute_result"
    }
   ],
   "source": [
    "# 3 뽑기\n",
    "#ar2[0][2]\n",
    "ar2[0,2]"
   ]
  },
  {
   "cell_type": "code",
   "execution_count": 127,
   "id": "8fbebc21",
   "metadata": {},
   "outputs": [
    {
     "data": {
      "text/plain": [
       "array([[ 0,  1,  2,  3],\n",
       "       [ 4,  5,  6,  7],\n",
       "       [ 8,  9, 10, 11],\n",
       "       [12, 13, 14, 15],\n",
       "       [16, 17, 18, 19]])"
      ]
     },
     "execution_count": 127,
     "metadata": {},
     "output_type": "execute_result"
    }
   ],
   "source": [
    "# 슬라이싱\n",
    "ar = np.arange(20).reshape(5,4)\n",
    "ar"
   ]
  },
  {
   "cell_type": "code",
   "execution_count": 125,
   "id": "66fe5313",
   "metadata": {},
   "outputs": [
    {
     "data": {
      "text/plain": [
       "array([[2, 3],\n",
       "       [5, 6]])"
      ]
     },
     "execution_count": 125,
     "metadata": {},
     "output_type": "execute_result"
    }
   ],
   "source": [
    "ar[:2,1:]"
   ]
  },
  {
   "cell_type": "code",
   "execution_count": 128,
   "id": "d02c6c09",
   "metadata": {},
   "outputs": [
    {
     "data": {
      "text/plain": [
       "9"
      ]
     },
     "execution_count": 128,
     "metadata": {},
     "output_type": "execute_result"
    }
   ],
   "source": [
    "ar[2,1]"
   ]
  },
  {
   "cell_type": "code",
   "execution_count": 122,
   "id": "5c4fc0cf",
   "metadata": {},
   "outputs": [
    {
     "data": {
      "text/plain": [
       "array([[1, 2, 3],\n",
       "       [4, 5, 6],\n",
       "       [7, 8, 9]])"
      ]
     },
     "execution_count": 122,
     "metadata": {},
     "output_type": "execute_result"
    }
   ],
   "source": [
    "# ar에서 슬라이싱을 사용하여 아래와 같이 출력하세요\n",
    "ar = np.arange(1,10).reshape(3,3)\n",
    "ar"
   ]
  },
  {
   "cell_type": "code",
   "execution_count": 123,
   "id": "9c460ae0",
   "metadata": {
    "scrolled": true
   },
   "outputs": [
    {
     "name": "stdout",
     "output_type": "stream",
     "text": [
      "[[1 2]\n",
      " [4 5]] \n",
      "\n",
      "[[4 5 6]\n",
      " [7 8 9]] \n",
      "\n",
      "[[4 5 6]\n",
      " [7 8 9]] \n",
      "\n",
      "[[1 2 3]\n",
      " [4 5 6]\n",
      " [7 8 9]] \n",
      "\n",
      "[[2 3]\n",
      " [5 6]] \n",
      "\n",
      "[1 4]\n"
     ]
    }
   ],
   "source": [
    "print(ar[:2,:2],'\\n')\n",
    "print(ar[1:],'\\n')\n",
    "print(ar[1:,:],'\\n')\n",
    "print(ar,'\\n')\n",
    "print(ar[:2,1:],'\\n')\n",
    "print(ar[:2,0])"
   ]
  },
  {
   "cell_type": "code",
   "execution_count": null,
   "id": "737caa3b",
   "metadata": {},
   "outputs": [],
   "source": [
    "#과제) ar에서 인덱스를 이용해서 값을 선택하고 리스트로 아래와 같이 출력하세요.\n",
    "[3, 6]\n",
    "[[1, 2], [4, 5]]\n",
    "[[1, 2, 3], [4, 5, 6]]"
   ]
  },
  {
   "cell_type": "code",
   "execution_count": 9,
   "id": "995120a5",
   "metadata": {},
   "outputs": [
    {
     "data": {
      "text/plain": [
       "array([[1, 2, 3],\n",
       "       [4, 5, 6],\n",
       "       [7, 8, 9]])"
      ]
     },
     "execution_count": 9,
     "metadata": {},
     "output_type": "execute_result"
    }
   ],
   "source": [
    "ar = np.arange(1,10).reshape(3,3)\n",
    "ar"
   ]
  },
  {
   "cell_type": "code",
   "execution_count": 10,
   "id": "d6c20210",
   "metadata": {},
   "outputs": [
    {
     "name": "stdout",
     "output_type": "stream",
     "text": [
      "[3, 6] \n",
      "\n",
      "[[1, 2], [4, 5]] \n",
      "\n",
      "[[1, 2, 3], [4, 5, 6]]\n"
     ]
    }
   ],
   "source": [
    "print(ar[:2,2].tolist(),'\\n')\n",
    "print(ar[:2,:2].tolist(),'\\n')\n",
    "print(ar[:2].tolist())"
   ]
  },
  {
   "cell_type": "code",
   "execution_count": 114,
   "id": "75e7c458",
   "metadata": {},
   "outputs": [
    {
     "data": {
      "text/plain": [
       "array([1, 2, 3, 4, 5, 6, 7, 8, 9])"
      ]
     },
     "execution_count": 114,
     "metadata": {},
     "output_type": "execute_result"
    }
   ],
   "source": [
    "# Boolean indexing\n",
    "\n",
    "ar = np.arange(1,10)\n",
    "ar"
   ]
  },
  {
   "cell_type": "code",
   "execution_count": 116,
   "id": "73aa0c7c",
   "metadata": {},
   "outputs": [
    {
     "data": {
      "text/plain": [
       "array([6, 7, 8, 9])"
      ]
     },
     "execution_count": 116,
     "metadata": {},
     "output_type": "execute_result"
    }
   ],
   "source": [
    "ar[ar> 5]\n",
    "# 이 안의 조건이 참인것만 반환한다"
   ]
  },
  {
   "cell_type": "code",
   "execution_count": 133,
   "id": "2e238d3e",
   "metadata": {},
   "outputs": [
    {
     "data": {
      "text/plain": [
       "array([11, 12, 13, 14])"
      ]
     },
     "execution_count": 133,
     "metadata": {},
     "output_type": "execute_result"
    }
   ],
   "source": [
    "# 1~14까지 ndarray를 만들어 array_e로 저장하고 (array_e/2)>5를 만족하는 값을 불린 인덱스로 출력.\n",
    "\n",
    "array_e = np.arange(1,15)\n",
    "\n",
    "\n",
    "array_e[array_e/2>5]"
   ]
  },
  {
   "cell_type": "code",
   "execution_count": 138,
   "id": "7a04e1fe",
   "metadata": {},
   "outputs": [
    {
     "name": "stdout",
     "output_type": "stream",
     "text": [
      "[ 1.76405235  0.40015721  0.97873798  2.2408932   1.86755799 -0.97727788\n",
      "  0.95008842 -0.15135721 -0.10321885  0.4105985   0.14404357  1.45427351\n",
      "  0.76103773  0.12167502  0.44386323  0.33367433  1.49407907 -0.20515826\n",
      "  0.3130677  -0.85409574 -2.55298982  0.6536186   0.8644362  -0.74216502\n",
      "  2.26975462 -1.45436567  0.04575852 -0.18718385  1.53277921  1.46935877]\n"
     ]
    },
    {
     "data": {
      "text/plain": [
       "array([1.76405235, 0.97873798, 2.2408932 , 1.86755799, 0.95008842,\n",
       "       1.45427351, 0.76103773, 1.49407907, 0.6536186 , 0.8644362 ,\n",
       "       2.26975462, 1.53277921, 1.46935877])"
      ]
     },
     "execution_count": 138,
     "metadata": {},
     "output_type": "execute_result"
    }
   ],
   "source": [
    "# arr 에서 0.5보다 큰 수를 출력하세요.\n",
    "np.random.seed(0)\n",
    "arr = np.random.randn(30)\n",
    "print(arr)\n",
    "arr[arr>0.5]"
   ]
  },
  {
   "cell_type": "code",
   "execution_count": 141,
   "id": "25e1462d",
   "metadata": {},
   "outputs": [
    {
     "data": {
      "text/plain": [
       "array([ 0,  3,  6,  9, 12, 15, 18, 21, 24, 27])"
      ]
     },
     "execution_count": 141,
     "metadata": {},
     "output_type": "execute_result"
    }
   ],
   "source": [
    "# data에서 3의 배수인 것만 출력하세요.\n",
    "# np.random.seed(0)\n",
    "data = np.arange(30)\n",
    "data[data%3==0]"
   ]
  },
  {
   "cell_type": "code",
   "execution_count": 249,
   "id": "036b5003",
   "metadata": {
    "scrolled": true
   },
   "outputs": [
    {
     "data": {
      "text/plain": [
       "array([1, 2, 4])"
      ]
     },
     "execution_count": 249,
     "metadata": {},
     "output_type": "execute_result"
    }
   ],
   "source": [
    "# 과제) [1,2,0,0,4,0]에서 zero가 아닌 **인덱스**를 배열형태로 출력하세요.\n",
    "\n",
    "list = [1,2,0,0,4,0]\n",
    "arr1 = np.array(list)\n",
    "\n",
    "arr1[arr1!=0]"
   ]
  },
  {
   "cell_type": "markdown",
   "id": "38dc6dec",
   "metadata": {},
   "source": [
    "np.where(condition)은 \n",
    "- condition 배열의 요소가 True인 인덱스를 반환하는 함수입니다. \n",
    "- condition 배열은 bool 타입이어야 하며, 반환값은 tuple 타입으로 (array of row indices, array of column indices)의 형태로 반환"
   ]
  },
  {
   "cell_type": "code",
   "execution_count": null,
   "id": "184ca7e5",
   "metadata": {},
   "outputs": [],
   "source": [
    "np.where(a!=0,1,0)"
   ]
  },
  {
   "cell_type": "code",
   "execution_count": 13,
   "id": "200efc4c",
   "metadata": {},
   "outputs": [
    {
     "name": "stdout",
     "output_type": "stream",
     "text": [
      "(array([0, 1, 4], dtype=int64),)\n",
      "[0 1 4]\n"
     ]
    }
   ],
   "source": [
    "# 김나영\n",
    "#과제: 0이 아닌 값 인덱스를 배열형태로 출력\n",
    "a=np.array([1,2,0,0,4,0])\n",
    "\n",
    "index=np.where(a!=0)     #조건을 만족하는 인덱스 반환.(결과값을 안 주면 t/f로 해서 true의 인덱스값 반환)\n",
    "print(index)\n",
    "print(index[0])           #[0]에 인덱스 값, [1]에 타입값"
   ]
  },
  {
   "cell_type": "code",
   "execution_count": 20,
   "id": "4e3660c4",
   "metadata": {
    "scrolled": true
   },
   "outputs": [
    {
     "name": "stdout",
     "output_type": "stream",
     "text": [
      "(array([0, 1, 4], dtype=int64),)\n",
      "[0 1 4]\n"
     ]
    }
   ],
   "source": [
    "# 선생님\n",
    "a = np.array([1,2,0,0,4,0])\n",
    "nz = np.nonzero(a) #a에서 0이 아닌 걸 인덱스로 뽑아준다\n",
    "print(nz)\n",
    "print(nz[0])"
   ]
  },
  {
   "cell_type": "code",
   "execution_count": 145,
   "id": "b996384c",
   "metadata": {},
   "outputs": [
    {
     "data": {
      "text/plain": [
       "array([False, False,  True,  True])"
      ]
     },
     "execution_count": 145,
     "metadata": {},
     "output_type": "execute_result"
    }
   ],
   "source": [
    "bools = np.array([False, False, True, True])\n",
    "bools\n"
   ]
  },
  {
   "cell_type": "code",
   "execution_count": 146,
   "id": "bada3921",
   "metadata": {},
   "outputs": [
    {
     "data": {
      "text/plain": [
       "True"
      ]
     },
     "execution_count": 146,
     "metadata": {},
     "output_type": "execute_result"
    }
   ],
   "source": [
    "# any 메소드: 하나 이상의 값이 True 인지 검사\n",
    "bools.any()"
   ]
  },
  {
   "cell_type": "code",
   "execution_count": 147,
   "id": "2b891053",
   "metadata": {},
   "outputs": [
    {
     "data": {
      "text/plain": [
       "False"
      ]
     },
     "execution_count": 147,
     "metadata": {},
     "output_type": "execute_result"
    }
   ],
   "source": [
    "# all 메소드 : 모든 원소가 True 인지 검사\n",
    "bools.all()"
   ]
  },
  {
   "cell_type": "code",
   "execution_count": 153,
   "id": "81af5bcb",
   "metadata": {},
   "outputs": [
    {
     "name": "stdout",
     "output_type": "stream",
     "text": [
      "[[-1.16514984  0.90082649  0.46566244 -1.53624369]\n",
      " [ 1.48825219  1.89588918  1.17877957 -0.17992484]\n",
      " [-1.07075262  1.05445173 -0.40317695  1.22244507]\n",
      " [ 0.20827498  0.97663904  0.3563664   0.70657317]]\n"
     ]
    },
    {
     "data": {
      "text/plain": [
       "array([[-2,  2,  2, -2],\n",
       "       [ 2,  2,  2, -2],\n",
       "       [-2,  2, -2,  2],\n",
       "       [ 2,  2,  2,  2]])"
      ]
     },
     "execution_count": 153,
     "metadata": {},
     "output_type": "execute_result"
    }
   ],
   "source": [
    "# arr에서 0보다 크면 2로, 아니면 -2로 변경하세요.\n",
    "arr = np.random.randn(4,4)\n",
    "print(arr)\n",
    "\n",
    "np.where(arr>0,2,-2)"
   ]
  },
  {
   "cell_type": "code",
   "execution_count": 166,
   "id": "aeb2e7dd",
   "metadata": {
    "scrolled": true
   },
   "outputs": [
    {
     "name": "stdout",
     "output_type": "stream",
     "text": [
      "[[-1.16514984  0.90082649  0.46566244 -1.53624369]\n",
      " [ 1.48825219  1.89588918  1.17877957 -0.17992484]\n",
      " [-1.07075262  1.05445173 -0.40317695  1.22244507]\n",
      " [ 0.20827498  0.97663904  0.3563664   0.70657317]]\n"
     ]
    },
    {
     "data": {
      "text/plain": [
       "array([[-1.16514984,  2.        ,  2.        , -1.53624369],\n",
       "       [ 2.        ,  2.        ,  2.        , -0.17992484],\n",
       "       [-1.07075262,  2.        , -0.40317695,  2.        ],\n",
       "       [ 2.        ,  2.        ,  2.        ,  2.        ]])"
      ]
     },
     "execution_count": 166,
     "metadata": {},
     "output_type": "execute_result"
    }
   ],
   "source": [
    "# arr의 모든 양수를 2로 바꾸세요.\n",
    "print(arr)\n",
    "np.where(arr>0,2,arr)"
   ]
  },
  {
   "cell_type": "code",
   "execution_count": 169,
   "id": "6291582a",
   "metadata": {
    "scrolled": true
   },
   "outputs": [
    {
     "data": {
      "text/plain": [
       "array([45, 48, 65, 68, 68, 10, 84, 22, 37, 88])"
      ]
     },
     "execution_count": 169,
     "metadata": {},
     "output_type": "execute_result"
    }
   ],
   "source": [
    "# np.sort() : 복사본을 반환\n",
    "np.random.seed(0)\n",
    "arr = np.random.randint(1,100,size=10)\n",
    "arr"
   ]
  },
  {
   "cell_type": "code",
   "execution_count": 170,
   "id": "0b3ffb2e",
   "metadata": {
    "scrolled": true
   },
   "outputs": [
    {
     "name": "stdout",
     "output_type": "stream",
     "text": [
      "[10 22 37 45 48 65 68 68 84 88]\n",
      "[45 48 65 68 68 10 84 22 37 88]\n"
     ]
    }
   ],
   "source": [
    "print(np.sort(arr)) #원본 반영 안 됨 -> sorted에 새로 지정해야함\n",
    "print(arr)"
   ]
  },
  {
   "cell_type": "code",
   "execution_count": 171,
   "id": "23b78a78",
   "metadata": {},
   "outputs": [
    {
     "name": "stdout",
     "output_type": "stream",
     "text": [
      "[10 22 37 45 48 65 68 68 84 88]\n"
     ]
    }
   ],
   "source": [
    "sorted = np.sort(arr)\n",
    "print(sorted)"
   ]
  },
  {
   "cell_type": "code",
   "execution_count": 181,
   "id": "61266b40",
   "metadata": {},
   "outputs": [
    {
     "name": "stdout",
     "output_type": "stream",
     "text": [
      "[[ 7  1]\n",
      " [ 8 12]] \n",
      "\n",
      "[[ 8 12]\n",
      " [ 1  7]]\n"
     ]
    }
   ],
   "source": [
    "# 행렬이 2차원 이상일 경우, axis 축 값 설정을 통해 로우방향, 칼럼방향으로 정렬 수행\n",
    "ar2 = np.array([[8,12], [7,1]])\n",
    "print(np.sort(ar2,axis=0),'\\n')\n",
    "print(np.sort(ar2,axis=1))"
   ]
  },
  {
   "cell_type": "code",
   "execution_count": 251,
   "id": "ad4190ef",
   "metadata": {
    "scrolled": true
   },
   "outputs": [
    {
     "name": "stdout",
     "output_type": "stream",
     "text": [
      "[[ 7  1  2]\n",
      " [ 8 12 10]] \n",
      "\n",
      "[[ 8 10 12]\n",
      " [ 1  2  7]]\n"
     ]
    }
   ],
   "source": [
    "ar2 = np.array([[8,12,10], [7,1,2]])\n",
    "print(np.sort(ar2,axis=0),'\\n')\n",
    "print(np.sort(ar2,axis=1))"
   ]
  },
  {
   "cell_type": "code",
   "execution_count": 259,
   "id": "cd3c5ac8",
   "metadata": {},
   "outputs": [
    {
     "name": "stdout",
     "output_type": "stream",
     "text": [
      "None\n",
      "[0 2 3 3 3 4 5 5 7 9]\n"
     ]
    },
    {
     "data": {
      "text/plain": [
       "array([0, 2, 3, 3, 3, 4, 5, 5, 7, 9])"
      ]
     },
     "execution_count": 259,
     "metadata": {},
     "output_type": "execute_result"
    }
   ],
   "source": [
    "# ndarray.sort() : 원본 반영\n",
    "np.random.seed(0)\n",
    "arr = np.random.randint(10,size=10)\n",
    "print(arr.sort())\n",
    "print(arr)\n",
    "arr.sort()\n",
    "arr"
   ]
  },
  {
   "cell_type": "code",
   "execution_count": 260,
   "id": "31559d21",
   "metadata": {},
   "outputs": [
    {
     "data": {
      "text/plain": [
       "array([[5, 0, 3, 3, 7, 9, 3, 5, 2, 4],\n",
       "       [7, 6, 8, 8, 1, 6, 7, 7, 8, 1],\n",
       "       [5, 9, 8, 9, 4, 3, 0, 3, 5, 0],\n",
       "       [2, 3, 8, 1, 3, 3, 3, 7, 0, 1],\n",
       "       [9, 9, 0, 4, 7, 3, 2, 7, 2, 0],\n",
       "       [0, 4, 5, 5, 6, 8, 4, 1, 4, 9],\n",
       "       [8, 1, 1, 7, 9, 9, 3, 6, 7, 2],\n",
       "       [0, 3, 5, 9, 4, 4, 6, 4, 4, 3],\n",
       "       [4, 4, 8, 4, 3, 7, 5, 5, 0, 1],\n",
       "       [5, 9, 3, 0, 5, 0, 1, 2, 4, 2]])"
      ]
     },
     "execution_count": 260,
     "metadata": {},
     "output_type": "execute_result"
    }
   ],
   "source": [
    "np.random.seed(0)\n",
    "arr = np.random.randint(10,size=(10,10))\n",
    "arr"
   ]
  },
  {
   "cell_type": "code",
   "execution_count": 261,
   "id": "5c537123",
   "metadata": {},
   "outputs": [
    {
     "data": {
      "text/plain": [
       "array([[0, 0, 0, 0, 1, 0, 0, 1, 0, 0],\n",
       "       [0, 1, 1, 1, 3, 3, 1, 2, 0, 0],\n",
       "       [2, 3, 3, 3, 3, 3, 2, 3, 2, 1],\n",
       "       [4, 3, 3, 4, 4, 3, 3, 4, 2, 1],\n",
       "       [5, 4, 5, 4, 4, 4, 3, 5, 4, 1],\n",
       "       [5, 4, 5, 5, 5, 6, 3, 5, 4, 2],\n",
       "       [5, 6, 8, 7, 6, 7, 4, 6, 4, 2],\n",
       "       [7, 9, 8, 8, 7, 8, 5, 7, 5, 3],\n",
       "       [8, 9, 8, 9, 7, 9, 6, 7, 7, 4],\n",
       "       [9, 9, 8, 9, 9, 9, 7, 7, 8, 9]])"
      ]
     },
     "execution_count": 261,
     "metadata": {},
     "output_type": "execute_result"
    }
   ],
   "source": [
    "# 방향 정해주기 1은 열, 0은 행\n",
    "arr.sort(0)\n",
    "arr"
   ]
  },
  {
   "cell_type": "code",
   "execution_count": 262,
   "id": "ddbfe50e",
   "metadata": {},
   "outputs": [
    {
     "data": {
      "text/plain": [
       "array([[0, 0, 0, 0, 0, 0, 0, 0, 1, 1],\n",
       "       [0, 0, 0, 1, 1, 1, 1, 2, 3, 3],\n",
       "       [1, 2, 2, 2, 3, 3, 3, 3, 3, 3],\n",
       "       [1, 2, 3, 3, 3, 3, 4, 4, 4, 4],\n",
       "       [1, 3, 4, 4, 4, 4, 4, 5, 5, 5],\n",
       "       [2, 3, 4, 4, 5, 5, 5, 5, 5, 6],\n",
       "       [2, 4, 4, 5, 6, 6, 6, 7, 7, 8],\n",
       "       [3, 5, 5, 7, 7, 7, 8, 8, 8, 9],\n",
       "       [4, 6, 7, 7, 7, 8, 8, 9, 9, 9],\n",
       "       [7, 7, 8, 8, 9, 9, 9, 9, 9, 9]])"
      ]
     },
     "execution_count": 262,
     "metadata": {},
     "output_type": "execute_result"
    }
   ],
   "source": [
    "arr.sort(1)\n",
    "arr"
   ]
  },
  {
   "cell_type": "code",
   "execution_count": 200,
   "id": "4aa55a8c",
   "metadata": {},
   "outputs": [
    {
     "name": "stdout",
     "output_type": "stream",
     "text": [
      "[3 1 9 5]\n"
     ]
    },
    {
     "data": {
      "text/plain": [
       "array([1, 0, 3, 2], dtype=int64)"
      ]
     },
     "execution_count": 200,
     "metadata": {},
     "output_type": "execute_result"
    }
   ],
   "source": [
    "# 정렬된 행렬의 인덱스 반환 : 기존 원본 행렬의 원소에 대한 인덱스를 필요로 할 때\n",
    "org_array = np.array([3,1,9,5])\n",
    "sort_indices = np.argsort(org_array)\n",
    "print(org_array)\n",
    "sort_indices"
   ]
  },
  {
   "cell_type": "code",
   "execution_count": 201,
   "id": "40a59dc1",
   "metadata": {},
   "outputs": [
    {
     "data": {
      "text/plain": [
       "array([0, 1, 2, 3, 4, 5, 6, 7, 8, 9])"
      ]
     },
     "execution_count": 201,
     "metadata": {},
     "output_type": "execute_result"
    }
   ],
   "source": [
    "# 배열도 입출력이 있다... 어떻게 하느냐~~~~~~~~~~~~~!!!!!!! \n",
    "#np.save & np.load, 바이너리 형식, npy파일로 저장\n",
    "\n",
    "arr= np.arange(10)\n",
    "np.save('some_array',arr)\n",
    "\n",
    "np.load('some_array.npy')"
   ]
  },
  {
   "cell_type": "code",
   "execution_count": 202,
   "id": "51c6e889",
   "metadata": {},
   "outputs": [
    {
     "data": {
      "text/plain": [
       "array([0, 1, 2, 3, 4, 5, 6, 7, 8, 9])"
      ]
     },
     "execution_count": 202,
     "metadata": {},
     "output_type": "execute_result"
    }
   ],
   "source": [
    "# np.savez : 여러 개의 배열을 압축된 형식으로 저장\n",
    "np.savez('array_archive.npz',a=arr, b=arr)\n",
    "arch = np.load('array_archive.npz')\n",
    "arch['b']"
   ]
  },
  {
   "cell_type": "code",
   "execution_count": 203,
   "id": "f5a0f7ec",
   "metadata": {},
   "outputs": [
    {
     "data": {
      "text/plain": [
       "array([0, 1, 2, 3, 4, 5, 6, 7, 8, 9])"
      ]
     },
     "execution_count": 203,
     "metadata": {},
     "output_type": "execute_result"
    }
   ],
   "source": [
    "arch['a']"
   ]
  },
  {
   "cell_type": "code",
   "execution_count": 210,
   "id": "506e4176",
   "metadata": {
    "scrolled": true
   },
   "outputs": [
    {
     "data": {
      "text/plain": [
       "array([1, 0, 1, 0, 1, 0, 1, 0, 1, 0])"
      ]
     },
     "execution_count": 210,
     "metadata": {},
     "output_type": "execute_result"
    }
   ],
   "source": [
    "# 인덱싱을 사용하여 [ 1 0 1 0 1 0 1 0 1 0 ]을 출력하세요.\n",
    "\n",
    "arr = np.array([1,2,3,4,5,6,7,8,9,10])\n",
    "arr[:] = arr%2\n",
    "arr"
   ]
  },
  {
   "cell_type": "code",
   "execution_count": 212,
   "id": "a27d946a",
   "metadata": {
    "scrolled": false
   },
   "outputs": [
    {
     "name": "stdout",
     "output_type": "stream",
     "text": [
      "[1 0 1 0 1 0 1 0 1 0]\n"
     ]
    }
   ],
   "source": [
    "a = np.ones(10,dtype=int)\n",
    "a[[1,3,5,7,9]] = 0\n",
    "print(a)"
   ]
  },
  {
   "cell_type": "markdown",
   "id": "e4f3aa26",
   "metadata": {},
   "source": [
    "#### [과제] 1 ~ 100을 아래와 같이 출력하세요"
   ]
  },
  {
   "cell_type": "code",
   "execution_count": null,
   "id": "85e3b1c6",
   "metadata": {},
   "outputs": [],
   "source": [
    "[[  1   2   3   4   5   6   7   8   9  10]\n",
    " [ 20  19  18  17  16  15  14  13  12  11]\n",
    " [ 21  22  23  24  25  26  27  28  29  30]\n",
    " [ 40  39  38  37  36  35  34  33  32  31]\n",
    " [ 41  42  43  44  45  46  47  48  49  50]\n",
    " [ 60  59  58  57  56  55  54  53  52  51]\n",
    " [ 61  62  63  64  65  66  67  68  69  70]\n",
    " [ 80  79  78  77  76  75  74  73  72  71]\n",
    " [ 81  82  83  84  85  86  87  88  89  90]\n",
    " [100  99  98  97  96  95  94  93  92  91]] <class 'numpy.ndarray'>"
   ]
  },
  {
   "cell_type": "code",
   "execution_count": 380,
   "id": "839c4b48",
   "metadata": {
    "scrolled": false
   },
   "outputs": [
    {
     "name": "stdout",
     "output_type": "stream",
     "text": [
      "[ 1  2  3  4  5  6  7  8  9 10]\n",
      "[20 19 18 17 16 15 14 13 12 11]\n",
      "[21 22 23 24 25 26 27 28 29 30]\n",
      "[40 39 38 37 36 35 34 33 32 31]\n",
      "[41 42 43 44 45 46 47 48 49 50]\n",
      "[60 59 58 57 56 55 54 53 52 51]\n",
      "[61 62 63 64 65 66 67 68 69 70]\n",
      "[80 79 78 77 76 75 74 73 72 71]\n",
      "[81 82 83 84 85 86 87 88 89 90]\n",
      "[100  99  98  97  96  95  94  93  92  91] <class 'numpy.ndarray'>\n"
     ]
    }
   ],
   "source": [
    "arr=np.arange(1,101).reshape(10,10)\n",
    "print(arr[0])\n",
    "print(arr[1][::-1])\n",
    "print(arr[2])\n",
    "print(arr[3][::-1])\n",
    "print(arr[4])\n",
    "print(arr[5][::-1])\n",
    "print(arr[6])\n",
    "print(arr[7][::-1])\n",
    "print(arr[8])\n",
    "print(arr[9][::-1],type(arr))\n"
   ]
  },
  {
   "cell_type": "code",
   "execution_count": 23,
   "id": "8901c8ea",
   "metadata": {},
   "outputs": [
    {
     "name": "stdout",
     "output_type": "stream",
     "text": [
      "[[  1   2   3   4   5   6   7   8   9  10]\n",
      " [ 11  12  13  14  15  16  17  18  19  20]\n",
      " [ 21  22  23  24  25  26  27  28  29  30]\n",
      " [ 31  32  33  34  35  36  37  38  39  40]\n",
      " [ 41  42  43  44  45  46  47  48  49  50]\n",
      " [ 51  52  53  54  55  56  57  58  59  60]\n",
      " [ 61  62  63  64  65  66  67  68  69  70]\n",
      " [ 71  72  73  74  75  76  77  78  79  80]\n",
      " [ 81  82  83  84  85  86  87  88  89  90]\n",
      " [ 91  92  93  94  95  96  97  98  99 100]]\n",
      "[[  1   2   3   4   5   6   7   8   9  10]\n",
      " [ 20  19  18  17  16  15  14  13  12  11]\n",
      " [ 21  22  23  24  25  26  27  28  29  30]\n",
      " [ 40  39  38  37  36  35  34  33  32  31]\n",
      " [ 41  42  43  44  45  46  47  48  49  50]\n",
      " [ 60  59  58  57  56  55  54  53  52  51]\n",
      " [ 61  62  63  64  65  66  67  68  69  70]\n",
      " [ 80  79  78  77  76  75  74  73  72  71]\n",
      " [ 81  82  83  84  85  86  87  88  89  90]\n",
      " [100  99  98  97  96  95  94  93  92  91]]\n"
     ]
    }
   ],
   "source": [
    "arr = np.arange(1,101).reshape(10,10)\n",
    "print(arr)\n",
    "arr[1::2] = arr[1::2, ::-1]\n",
    "print(arr)"
   ]
  },
  {
   "cell_type": "markdown",
   "id": "4610ed0d",
   "metadata": {},
   "source": [
    "#### [과제] np.ones((10,10))을 아래와 같이 출력하세요"
   ]
  },
  {
   "cell_type": "code",
   "execution_count": null,
   "id": "6777434d",
   "metadata": {},
   "outputs": [],
   "source": [
    "array([[1., 1., 1., 1., 1., 1., 1., 1., 1., 1.],\n",
    "       [1., 0., 0., 0., 0., 0., 0., 0., 0., 1.],\n",
    "       [1., 0., 0., 0., 0., 0., 0., 0., 0., 1.],\n",
    "       [1., 0., 0., 0., 0., 0., 0., 0., 0., 1.],\n",
    "       [1., 0., 0., 0., 0., 0., 0., 0., 0., 1.],\n",
    "       [1., 0., 0., 0., 0., 0., 0., 0., 0., 1.],\n",
    "       [1., 0., 0., 0., 0., 0., 0., 0., 0., 1.],\n",
    "       [1., 0., 0., 0., 0., 0., 0., 0., 0., 1.],\n",
    "       [1., 0., 0., 0., 0., 0., 0., 0., 0., 1.],\n",
    "       [1., 1., 1., 1., 1., 1., 1., 1., 1., 1.]])"
   ]
  },
  {
   "cell_type": "code",
   "execution_count": 26,
   "id": "903286ca",
   "metadata": {},
   "outputs": [
    {
     "data": {
      "text/plain": [
       "array([[1., 1., 1., 1., 1., 1., 1., 1., 1., 1.],\n",
       "       [1., 0., 0., 0., 0., 0., 0., 0., 0., 1.],\n",
       "       [1., 0., 0., 0., 0., 0., 0., 0., 0., 1.],\n",
       "       [1., 0., 0., 0., 0., 0., 0., 0., 0., 1.],\n",
       "       [1., 0., 0., 0., 0., 0., 0., 0., 0., 1.],\n",
       "       [1., 0., 0., 0., 0., 0., 0., 0., 0., 1.],\n",
       "       [1., 0., 0., 0., 0., 0., 0., 0., 0., 1.],\n",
       "       [1., 0., 0., 0., 0., 0., 0., 0., 0., 1.],\n",
       "       [1., 0., 0., 0., 0., 0., 0., 0., 0., 1.],\n",
       "       [1., 1., 1., 1., 1., 1., 1., 1., 1., 1.]])"
      ]
     },
     "execution_count": 26,
     "metadata": {},
     "output_type": "execute_result"
    }
   ],
   "source": [
    "arr = np.ones((10,10))\n",
    "arr\n",
    "arr[1:9,1:9] = 0\n",
    "arr"
   ]
  },
  {
   "cell_type": "markdown",
   "id": "f2ad0ea6",
   "metadata": {},
   "source": [
    "#### [과제] np.ones((5,5))을 아래와 같이 출력하세요"
   ]
  },
  {
   "cell_type": "code",
   "execution_count": null,
   "id": "2e109d8c",
   "metadata": {},
   "outputs": [],
   "source": [
    "array([[0., 0., 0., 0., 0., 0., 0., 0., 0.],\n",
    "       [0., 0., 0., 0., 0., 0., 0., 0., 0.],\n",
    "       [0., 0., 1., 1., 1., 1., 1., 0., 0.],\n",
    "       [0., 0., 1., 1., 1., 1., 1., 0., 0.],\n",
    "       [0., 0., 1., 1., 1., 1., 1., 0., 0.],\n",
    "       [0., 0., 1., 1., 1., 1., 1., 0., 0.],\n",
    "       [0., 0., 1., 1., 1., 1., 1., 0., 0.],\n",
    "       [0., 0., 0., 0., 0., 0., 0., 0., 0.],\n",
    "       [0., 0., 0., 0., 0., 0., 0., 0., 0.]])"
   ]
  },
  {
   "cell_type": "code",
   "execution_count": 266,
   "id": "3512af05",
   "metadata": {},
   "outputs": [
    {
     "data": {
      "text/plain": [
       "array([[1., 1., 1., 1., 1.],\n",
       "       [1., 1., 1., 1., 1.],\n",
       "       [1., 1., 1., 1., 1.],\n",
       "       [1., 1., 1., 1., 1.],\n",
       "       [1., 1., 1., 1., 1.]])"
      ]
     },
     "execution_count": 266,
     "metadata": {},
     "output_type": "execute_result"
    }
   ],
   "source": [
    "arr = np.ones((5,5))"
   ]
  },
  {
   "cell_type": "code",
   "execution_count": 29,
   "id": "16f60b6d",
   "metadata": {},
   "outputs": [
    {
     "data": {
      "text/plain": [
       "array([[0., 0., 0., 0., 0., 0., 0., 0., 0., 0.],\n",
       "       [0., 0., 0., 0., 0., 0., 0., 0., 0., 0.],\n",
       "       [0., 0., 1., 1., 1., 1., 1., 1., 0., 0.],\n",
       "       [0., 0., 1., 1., 1., 1., 1., 1., 0., 0.],\n",
       "       [0., 0., 1., 1., 1., 1., 1., 1., 0., 0.],\n",
       "       [0., 0., 1., 1., 1., 1., 1., 1., 0., 0.],\n",
       "       [0., 0., 1., 1., 1., 1., 1., 1., 0., 0.],\n",
       "       [0., 0., 1., 1., 1., 1., 1., 1., 0., 0.],\n",
       "       [0., 0., 0., 0., 0., 0., 0., 0., 0., 0.],\n",
       "       [0., 0., 0., 0., 0., 0., 0., 0., 0., 0.]])"
      ]
     },
     "execution_count": 29,
     "metadata": {},
     "output_type": "execute_result"
    }
   ],
   "source": [
    "arr = np.zeros((10,10))\n",
    "arr[2:8,2:8] = 1\n",
    "arr"
   ]
  },
  {
   "cell_type": "code",
   "execution_count": 28,
   "id": "cfce37c7",
   "metadata": {},
   "outputs": [
    {
     "name": "stdout",
     "output_type": "stream",
     "text": [
      "[[0. 0. 0. 0. 0. 0. 0. 0. 0.]\n",
      " [0. 0. 0. 0. 0. 0. 0. 0. 0.]\n",
      " [0. 0. 1. 1. 1. 1. 1. 0. 0.]\n",
      " [0. 0. 1. 1. 1. 1. 1. 0. 0.]\n",
      " [0. 0. 1. 1. 1. 1. 1. 0. 0.]\n",
      " [0. 0. 1. 1. 1. 1. 1. 0. 0.]\n",
      " [0. 0. 1. 1. 1. 1. 1. 0. 0.]\n",
      " [0. 0. 0. 0. 0. 0. 0. 0. 0.]\n",
      " [0. 0. 0. 0. 0. 0. 0. 0. 0.]]\n"
     ]
    }
   ],
   "source": [
    "#과제: 전부 1인 5x5배열을 -> 9x9배열로 확장, 0 채우기\n",
    "arr=np.ones((5,5))\n",
    "\n",
    "v=np.zeros((2,5))\n",
    "h=np.zeros((9,2))\n",
    "\n",
    "arr2=np.vstack((arr,v))      # arr 아래에 v 붙이기\n",
    "arr2=np.vstack((v,arr2))\n",
    "#print(arr2)\n",
    "\n",
    "arr2=np.hstack((h,arr2))     # h 옆에 arr2 붙이기\n",
    "arr2=np.hstack((arr2,h))\n",
    "print(arr2)"
   ]
  },
  {
   "cell_type": "code",
   "execution_count": 1,
   "id": "50864912",
   "metadata": {},
   "outputs": [
    {
     "name": "stdout",
     "output_type": "stream",
     "text": [
      "[[0. 0. 0. 0. 0. 0. 0. 0. 0.]\n",
      " [0. 0. 0. 0. 0. 0. 0. 0. 0.]\n",
      " [0. 0. 1. 1. 1. 1. 1. 0. 0.]\n",
      " [0. 0. 1. 1. 1. 1. 1. 0. 0.]\n",
      " [0. 0. 1. 1. 1. 1. 1. 0. 0.]\n",
      " [0. 0. 1. 1. 1. 1. 1. 0. 0.]\n",
      " [0. 0. 1. 1. 1. 1. 1. 0. 0.]\n",
      " [0. 0. 0. 0. 0. 0. 0. 0. 0.]\n",
      " [0. 0. 0. 0. 0. 0. 0. 0. 0.]]\n"
     ]
    }
   ],
   "source": [
    "import numpy as np\n",
    "\n",
    "arr = np.ones((5, 5))\n",
    "arr = np.pad(arr, ((2, 2), (2, 2)), mode='constant')  # 모서리에 0을 추가\n",
    "\n",
    "arr[2:7, 2:7] = 1  # 중앙 부분 1로 변경\n",
    "\n",
    "print(arr)"
   ]
  },
  {
   "cell_type": "markdown",
   "id": "693940f6",
   "metadata": {},
   "source": [
    "#### [과제] np.zeros((8,8))을 이용해서 아래와 같이 출력하세요(두가지 방식:인덱싱, tile 함수)"
   ]
  },
  {
   "cell_type": "code",
   "execution_count": null,
   "id": "7132c4fe",
   "metadata": {},
   "outputs": [],
   "source": [
    "array([[0, 1, 0, 1, 0, 1, 0, 1],\n",
    "       [1, 0, 1, 0, 1, 0, 1, 0],\n",
    "       [0, 1, 0, 1, 0, 1, 0, 1],\n",
    "       [1, 0, 1, 0, 1, 0, 1, 0],\n",
    "       [0, 1, 0, 1, 0, 1, 0, 1],\n",
    "       [1, 0, 1, 0, 1, 0, 1, 0],\n",
    "       [0, 1, 0, 1, 0, 1, 0, 1],\n",
    "       [1, 0, 1, 0, 1, 0, 1, 0]])"
   ]
  },
  {
   "cell_type": "code",
   "execution_count": 352,
   "id": "01eb1b61",
   "metadata": {},
   "outputs": [
    {
     "data": {
      "text/plain": [
       "array([[0., 1., 0., 1., 0., 1., 0., 1.],\n",
       "       [1., 0., 1., 0., 1., 0., 1., 0.],\n",
       "       [0., 1., 0., 1., 0., 1., 0., 1.],\n",
       "       [1., 0., 1., 0., 1., 0., 1., 0.],\n",
       "       [0., 1., 0., 1., 0., 1., 0., 1.],\n",
       "       [1., 0., 1., 0., 1., 0., 1., 0.],\n",
       "       [0., 1., 0., 1., 0., 1., 0., 1.],\n",
       "       [1., 0., 1., 0., 1., 0., 1., 0.]])"
      ]
     },
     "execution_count": 352,
     "metadata": {},
     "output_type": "execute_result"
    }
   ],
   "source": [
    "arr=np.zeros((8,8))\n",
    "arr[0,[1,3,5,7]] =1\n",
    "arr[1,[0,2,4,6]] =1\n",
    "arr[2,[1,3,5,7]] =1\n",
    "arr[3,[0,2,4,6]] =1\n",
    "arr[4,[1,3,5,7]] =1\n",
    "arr[5,[0,2,4,6]] =1\n",
    "arr[6,[1,3,5,7]] =1\n",
    "arr[7,[0,2,4,6]] =1\n",
    "arr\n"
   ]
  },
  {
   "cell_type": "code",
   "execution_count": 3,
   "id": "f87b6ed4",
   "metadata": {},
   "outputs": [
    {
     "name": "stdout",
     "output_type": "stream",
     "text": [
      "[[0. 1. 0. 1. 0. 1. 0. 1.]\n",
      " [1. 0. 1. 0. 1. 0. 1. 0.]\n",
      " [0. 1. 0. 1. 0. 1. 0. 1.]\n",
      " [1. 0. 1. 0. 1. 0. 1. 0.]\n",
      " [0. 1. 0. 1. 0. 1. 0. 1.]\n",
      " [1. 0. 1. 0. 1. 0. 1. 0.]\n",
      " [0. 1. 0. 1. 0. 1. 0. 1.]\n",
      " [1. 0. 1. 0. 1. 0. 1. 0.]] \n",
      "\n",
      "[[0 1 0 1 0 1 0 1]\n",
      " [1 0 1 0 1 0 1 0]\n",
      " [0 1 0 1 0 1 0 1]\n",
      " [1 0 1 0 1 0 1 0]\n",
      " [0 1 0 1 0 1 0 1]\n",
      " [1 0 1 0 1 0 1 0]\n",
      " [0 1 0 1 0 1 0 1]\n",
      " [1 0 1 0 1 0 1 0]]\n"
     ]
    }
   ],
   "source": [
    "arr = np.zeros((8,8))\n",
    "for i in range(8):\n",
    "    for j in range(8):\n",
    "        if (i + j) % 2 != 0:\n",
    "            arr[i][j] = 1\n",
    "print(arr,'\\n')\n",
    "\n",
    "arr = np.tile(np.array([[0, 1], [1, 0]]), (4, 4))\n",
    "print(arr)"
   ]
  },
  {
   "cell_type": "code",
   "execution_count": 31,
   "id": "3b143779",
   "metadata": {},
   "outputs": [
    {
     "data": {
      "text/plain": [
       "array([[0., 1., 0., 1., 0., 1., 0., 1.],\n",
       "       [1., 0., 1., 0., 1., 0., 1., 0.],\n",
       "       [0., 1., 0., 1., 0., 1., 0., 1.],\n",
       "       [1., 0., 1., 0., 1., 0., 1., 0.],\n",
       "       [0., 1., 0., 1., 0., 1., 0., 1.],\n",
       "       [1., 0., 1., 0., 1., 0., 1., 0.],\n",
       "       [0., 1., 0., 1., 0., 1., 0., 1.],\n",
       "       [1., 0., 1., 0., 1., 0., 1., 0.]])"
      ]
     },
     "execution_count": 31,
     "metadata": {},
     "output_type": "execute_result"
    }
   ],
   "source": [
    "#과제: 전부 0인 배열을 패턴화해서 출력\n",
    "arr=np.zeros((8,8))\n",
    "\n",
    "for i in range(8):\n",
    "    if i%2==0:\n",
    "        arr[i][1::2]=1     # 짝수 번째 줄 0101010\n",
    "    else:\n",
    "        arr[i][0::2]=1     # 홀수 번째 줄 1010101\n",
    "arr"
   ]
  },
  {
   "cell_type": "code",
   "execution_count": 277,
   "id": "139fac84",
   "metadata": {},
   "outputs": [
    {
     "data": {
      "text/plain": [
       "array([[1, 0, 1, 0, 1, 0, 1, 0, 1, 0],\n",
       "       [1, 0, 1, 0, 1, 0, 1, 0, 1, 0],\n",
       "       [1, 0, 1, 0, 1, 0, 1, 0, 1, 0],\n",
       "       [1, 0, 1, 0, 1, 0, 1, 0, 1, 0],\n",
       "       [1, 0, 1, 0, 1, 0, 1, 0, 1, 0],\n",
       "       [1, 0, 1, 0, 1, 0, 1, 0, 1, 0],\n",
       "       [1, 0, 1, 0, 1, 0, 1, 0, 1, 0],\n",
       "       [1, 0, 1, 0, 1, 0, 1, 0, 1, 0]])"
      ]
     },
     "execution_count": 277,
     "metadata": {},
     "output_type": "execute_result"
    }
   ],
   "source": [
    "arr = np.array([0,1])\n",
    "np.tile(a,(8,1))"
   ]
  },
  {
   "cell_type": "code",
   "execution_count": 32,
   "id": "6a5c6e81",
   "metadata": {},
   "outputs": [
    {
     "data": {
      "text/plain": [
       "array([[0, 1, 0, 1, 0, 1, 0, 1],\n",
       "       [1, 0, 1, 0, 1, 0, 1, 0],\n",
       "       [0, 1, 0, 1, 0, 1, 0, 1],\n",
       "       [1, 0, 1, 0, 1, 0, 1, 0],\n",
       "       [0, 1, 0, 1, 0, 1, 0, 1],\n",
       "       [1, 0, 1, 0, 1, 0, 1, 0],\n",
       "       [0, 1, 0, 1, 0, 1, 0, 1],\n",
       "       [1, 0, 1, 0, 1, 0, 1, 0]])"
      ]
     },
     "execution_count": 32,
     "metadata": {},
     "output_type": "execute_result"
    }
   ],
   "source": [
    "# 선생님\n",
    "z= np.zeros((8,8),dtype=int)\n",
    "z[1::2,::2] = 1\n",
    "z[::2,1::2] = 1\n",
    "z"
   ]
  },
  {
   "cell_type": "markdown",
   "id": "a7b8dd28",
   "metadata": {},
   "source": [
    "#### [과제] np.arange(336).reshape(6,7,8)에서 100번째 요소의 인덱스를 구하세요"
   ]
  },
  {
   "cell_type": "code",
   "execution_count": 213,
   "id": "6a786fbc",
   "metadata": {},
   "outputs": [
    {
     "data": {
      "text/plain": [
       "array([[[  0,   1,   2,   3,   4,   5,   6,   7],\n",
       "        [  8,   9,  10,  11,  12,  13,  14,  15],\n",
       "        [ 16,  17,  18,  19,  20,  21,  22,  23],\n",
       "        [ 24,  25,  26,  27,  28,  29,  30,  31],\n",
       "        [ 32,  33,  34,  35,  36,  37,  38,  39],\n",
       "        [ 40,  41,  42,  43,  44,  45,  46,  47],\n",
       "        [ 48,  49,  50,  51,  52,  53,  54,  55]],\n",
       "\n",
       "       [[ 56,  57,  58,  59,  60,  61,  62,  63],\n",
       "        [ 64,  65,  66,  67,  68,  69,  70,  71],\n",
       "        [ 72,  73,  74,  75,  76,  77,  78,  79],\n",
       "        [ 80,  81,  82,  83,  84,  85,  86,  87],\n",
       "        [ 88,  89,  90,  91,  92,  93,  94,  95],\n",
       "        [ 96,  97,  98,  99, 100, 101, 102, 103],\n",
       "        [104, 105, 106, 107, 108, 109, 110, 111]],\n",
       "\n",
       "       [[112, 113, 114, 115, 116, 117, 118, 119],\n",
       "        [120, 121, 122, 123, 124, 125, 126, 127],\n",
       "        [128, 129, 130, 131, 132, 133, 134, 135],\n",
       "        [136, 137, 138, 139, 140, 141, 142, 143],\n",
       "        [144, 145, 146, 147, 148, 149, 150, 151],\n",
       "        [152, 153, 154, 155, 156, 157, 158, 159],\n",
       "        [160, 161, 162, 163, 164, 165, 166, 167]],\n",
       "\n",
       "       [[168, 169, 170, 171, 172, 173, 174, 175],\n",
       "        [176, 177, 178, 179, 180, 181, 182, 183],\n",
       "        [184, 185, 186, 187, 188, 189, 190, 191],\n",
       "        [192, 193, 194, 195, 196, 197, 198, 199],\n",
       "        [200, 201, 202, 203, 204, 205, 206, 207],\n",
       "        [208, 209, 210, 211, 212, 213, 214, 215],\n",
       "        [216, 217, 218, 219, 220, 221, 222, 223]],\n",
       "\n",
       "       [[224, 225, 226, 227, 228, 229, 230, 231],\n",
       "        [232, 233, 234, 235, 236, 237, 238, 239],\n",
       "        [240, 241, 242, 243, 244, 245, 246, 247],\n",
       "        [248, 249, 250, 251, 252, 253, 254, 255],\n",
       "        [256, 257, 258, 259, 260, 261, 262, 263],\n",
       "        [264, 265, 266, 267, 268, 269, 270, 271],\n",
       "        [272, 273, 274, 275, 276, 277, 278, 279]],\n",
       "\n",
       "       [[280, 281, 282, 283, 284, 285, 286, 287],\n",
       "        [288, 289, 290, 291, 292, 293, 294, 295],\n",
       "        [296, 297, 298, 299, 300, 301, 302, 303],\n",
       "        [304, 305, 306, 307, 308, 309, 310, 311],\n",
       "        [312, 313, 314, 315, 316, 317, 318, 319],\n",
       "        [320, 321, 322, 323, 324, 325, 326, 327],\n",
       "        [328, 329, 330, 331, 332, 333, 334, 335]]])"
      ]
     },
     "execution_count": 213,
     "metadata": {},
     "output_type": "execute_result"
    }
   ],
   "source": [
    "np.arange(336).reshape(6,7,8)"
   ]
  },
  {
   "cell_type": "code",
   "execution_count": 6,
   "id": "2033dbc7",
   "metadata": {},
   "outputs": [
    {
     "name": "stdout",
     "output_type": "stream",
     "text": [
      "[1, 5, 3]\n"
     ]
    },
    {
     "data": {
      "text/plain": [
       "(array([1], dtype=int64), array([5], dtype=int64), array([3], dtype=int64))"
      ]
     },
     "execution_count": 6,
     "metadata": {},
     "output_type": "execute_result"
    }
   ],
   "source": [
    "#[과제] np.arange(336).reshape(6,7,8)에서 100번째 요소의 인덱스 구하기\n",
    "arr=np.arange(336).reshape(6,7,8)\n",
    "\n",
    "b=arr.reshape(-1)\n",
    "idx=np.where(arr==b[99])     #b의 99인덱스 = arr의 100번째\n",
    "\n",
    "index=[idx[i][0] for i in range(len(idx))]    #인덱스값 뽑기\n",
    "print(index)\n",
    "idx"
   ]
  },
  {
   "cell_type": "code",
   "execution_count": 5,
   "id": "56bb4ab6",
   "metadata": {},
   "outputs": [
    {
     "data": {
      "text/plain": [
       "(1, 5, 4)"
      ]
     },
     "execution_count": 5,
     "metadata": {},
     "output_type": "execute_result"
    }
   ],
   "source": [
    "# unravel_index() 함수는 1차원 배열에서 인덱스를 다차원 인덱스 튜플로 반환해주는 함수\n",
    "arr = np.arange(336).reshape(6,7,8)\n",
    "np.unravel_index(100, arr.shape)"
   ]
  },
  {
   "cell_type": "code",
   "execution_count": null,
   "id": "874ef172",
   "metadata": {},
   "outputs": [],
   "source": []
  },
  {
   "cell_type": "code",
   "execution_count": null,
   "id": "c8a6ba84",
   "metadata": {},
   "outputs": [],
   "source": []
  },
  {
   "cell_type": "code",
   "execution_count": null,
   "id": "58ce5c01",
   "metadata": {},
   "outputs": [],
   "source": []
  },
  {
   "cell_type": "code",
   "execution_count": null,
   "id": "dbc0cdf7",
   "metadata": {},
   "outputs": [],
   "source": []
  },
  {
   "cell_type": "code",
   "execution_count": null,
   "id": "c54d54de",
   "metadata": {},
   "outputs": [],
   "source": []
  }
 ],
 "metadata": {
  "kernelspec": {
   "display_name": "Python 3 (ipykernel)",
   "language": "python",
   "name": "python3"
  },
  "language_info": {
   "codemirror_mode": {
    "name": "ipython",
    "version": 3
   },
   "file_extension": ".py",
   "mimetype": "text/x-python",
   "name": "python",
   "nbconvert_exporter": "python",
   "pygments_lexer": "ipython3",
   "version": "3.9.13"
  }
 },
 "nbformat": 4,
 "nbformat_minor": 5
}
