{
 "cells": [
  {
   "cell_type": "markdown",
   "id": "259e8858",
   "metadata": {},
   "source": [
    "#### summary\n",
    "- 1차원: 분산(데이터가 얼마나 떨어져있는지), 공분산, 표준편차, 최빈값, 평균, 중앙값, 4분위수, 최대, 최소값 이런 것들을 통계량이라고 함.(표본)\n",
    " => 통계가 데이터를 분석하는데 어떻게 쓰이는지 설명할 수 있다.\n",
    "데이터의 구성을 볼 수 있는 것: 4분위수, 최대/최소값\n",
    "위의 모든 것들이 기술통계.\n",
    "\n",
    "\n",
    "- 2차원: 하나의 변수가 아닌 두개의 변수 - 공분산(음/양의 방향,0)\n",
    "공분산은 방향은 알 수 있지만 얼만큼 상관이 있는지 모름 -> 상관계수 필요.\n",
    "상관계수는 표준편차로 나눠주면 된다. Z(표준화)\n",
    "\n",
    "데이터를 탐색하는데 어떻게 쓰이는지 알아야 한다.!!"
   ]
  },
  {
   "cell_type": "markdown",
   "id": "008da3df",
   "metadata": {},
   "source": [
    "#### 1차원 데이터"
   ]
  },
  {
   "cell_type": "code",
   "execution_count": 2,
   "id": "171c819a",
   "metadata": {},
   "outputs": [
    {
     "data": {
      "text/html": [
       "<div>\n",
       "<style scoped>\n",
       "    .dataframe tbody tr th:only-of-type {\n",
       "        vertical-align: middle;\n",
       "    }\n",
       "\n",
       "    .dataframe tbody tr th {\n",
       "        vertical-align: top;\n",
       "    }\n",
       "\n",
       "    .dataframe thead th {\n",
       "        text-align: right;\n",
       "    }\n",
       "</style>\n",
       "<table border=\"1\" class=\"dataframe\">\n",
       "  <thead>\n",
       "    <tr style=\"text-align: right;\">\n",
       "      <th></th>\n",
       "      <th>english</th>\n",
       "      <th>mathematics</th>\n",
       "    </tr>\n",
       "    <tr>\n",
       "      <th>student number</th>\n",
       "      <th></th>\n",
       "      <th></th>\n",
       "    </tr>\n",
       "  </thead>\n",
       "  <tbody>\n",
       "    <tr>\n",
       "      <th>1</th>\n",
       "      <td>42</td>\n",
       "      <td>65</td>\n",
       "    </tr>\n",
       "    <tr>\n",
       "      <th>2</th>\n",
       "      <td>69</td>\n",
       "      <td>80</td>\n",
       "    </tr>\n",
       "    <tr>\n",
       "      <th>3</th>\n",
       "      <td>56</td>\n",
       "      <td>63</td>\n",
       "    </tr>\n",
       "    <tr>\n",
       "      <th>4</th>\n",
       "      <td>41</td>\n",
       "      <td>63</td>\n",
       "    </tr>\n",
       "    <tr>\n",
       "      <th>5</th>\n",
       "      <td>57</td>\n",
       "      <td>76</td>\n",
       "    </tr>\n",
       "  </tbody>\n",
       "</table>\n",
       "</div>"
      ],
      "text/plain": [
       "                english  mathematics\n",
       "student number                      \n",
       "1                    42           65\n",
       "2                    69           80\n",
       "3                    56           63\n",
       "4                    41           63\n",
       "5                    57           76"
      ]
     },
     "execution_count": 2,
     "metadata": {},
     "output_type": "execute_result"
    }
   ],
   "source": [
    "import numpy as np\n",
    "import pandas as pd\n",
    "df = pd.read_csv('./data/ch2_scores_em.csv', index_col='student number')\n",
    "df.head()"
   ]
  },
  {
   "cell_type": "code",
   "execution_count": 3,
   "id": "34a92745",
   "metadata": {},
   "outputs": [
    {
     "data": {
      "text/plain": [
       "student number\n",
       "1     42\n",
       "2     69\n",
       "3     56\n",
       "4     41\n",
       "5     57\n",
       "6     48\n",
       "7     65\n",
       "8     49\n",
       "9     65\n",
       "10    58\n",
       "Name: english, dtype: int64"
      ]
     },
     "execution_count": 3,
     "metadata": {},
     "output_type": "execute_result"
    }
   ],
   "source": [
    "# 시리즈형태\n",
    "scores = df.english[:10]\n",
    "scores"
   ]
  },
  {
   "cell_type": "code",
   "execution_count": 4,
   "id": "6480f199",
   "metadata": {},
   "outputs": [
    {
     "data": {
      "text/plain": [
       "array([42, 69, 56, 41, 57, 48, 65, 49, 65, 58], dtype=int64)"
      ]
     },
     "execution_count": 4,
     "metadata": {},
     "output_type": "execute_result"
    }
   ],
   "source": [
    "# 배열형태\n",
    "scores = np.array(df.english)[:10]\n",
    "scores"
   ]
  },
  {
   "cell_type": "code",
   "execution_count": 5,
   "id": "b4066883",
   "metadata": {},
   "outputs": [
    {
     "data": {
      "text/html": [
       "<div>\n",
       "<style scoped>\n",
       "    .dataframe tbody tr th:only-of-type {\n",
       "        vertical-align: middle;\n",
       "    }\n",
       "\n",
       "    .dataframe tbody tr th {\n",
       "        vertical-align: top;\n",
       "    }\n",
       "\n",
       "    .dataframe thead th {\n",
       "        text-align: right;\n",
       "    }\n",
       "</style>\n",
       "<table border=\"1\" class=\"dataframe\">\n",
       "  <thead>\n",
       "    <tr style=\"text-align: right;\">\n",
       "      <th></th>\n",
       "      <th>score</th>\n",
       "    </tr>\n",
       "  </thead>\n",
       "  <tbody>\n",
       "    <tr>\n",
       "      <th>A</th>\n",
       "      <td>42</td>\n",
       "    </tr>\n",
       "    <tr>\n",
       "      <th>B</th>\n",
       "      <td>69</td>\n",
       "    </tr>\n",
       "    <tr>\n",
       "      <th>C</th>\n",
       "      <td>56</td>\n",
       "    </tr>\n",
       "    <tr>\n",
       "      <th>D</th>\n",
       "      <td>41</td>\n",
       "    </tr>\n",
       "    <tr>\n",
       "      <th>E</th>\n",
       "      <td>57</td>\n",
       "    </tr>\n",
       "    <tr>\n",
       "      <th>F</th>\n",
       "      <td>48</td>\n",
       "    </tr>\n",
       "    <tr>\n",
       "      <th>G</th>\n",
       "      <td>65</td>\n",
       "    </tr>\n",
       "    <tr>\n",
       "      <th>H</th>\n",
       "      <td>49</td>\n",
       "    </tr>\n",
       "    <tr>\n",
       "      <th>I</th>\n",
       "      <td>65</td>\n",
       "    </tr>\n",
       "    <tr>\n",
       "      <th>J</th>\n",
       "      <td>58</td>\n",
       "    </tr>\n",
       "  </tbody>\n",
       "</table>\n",
       "</div>"
      ],
      "text/plain": [
       "   score\n",
       "A     42\n",
       "B     69\n",
       "C     56\n",
       "D     41\n",
       "E     57\n",
       "F     48\n",
       "G     65\n",
       "H     49\n",
       "I     65\n",
       "J     58"
      ]
     },
     "execution_count": 5,
     "metadata": {},
     "output_type": "execute_result"
    }
   ],
   "source": [
    "scores_df1 = pd.DataFrame({'score':scores},index=list('ABCDEFGHIJ'))\n",
    "scores_df1\n",
    "# 이건 걍 df로 만드는거고, 인덱스에 이름을 지어주기 위해선 아래 방법으로"
   ]
  },
  {
   "cell_type": "code",
   "execution_count": 6,
   "id": "ec2d26a0",
   "metadata": {},
   "outputs": [
    {
     "data": {
      "text/html": [
       "<div>\n",
       "<style scoped>\n",
       "    .dataframe tbody tr th:only-of-type {\n",
       "        vertical-align: middle;\n",
       "    }\n",
       "\n",
       "    .dataframe tbody tr th {\n",
       "        vertical-align: top;\n",
       "    }\n",
       "\n",
       "    .dataframe thead th {\n",
       "        text-align: right;\n",
       "    }\n",
       "</style>\n",
       "<table border=\"1\" class=\"dataframe\">\n",
       "  <thead>\n",
       "    <tr style=\"text-align: right;\">\n",
       "      <th></th>\n",
       "      <th>score</th>\n",
       "    </tr>\n",
       "    <tr>\n",
       "      <th>student</th>\n",
       "      <th></th>\n",
       "    </tr>\n",
       "  </thead>\n",
       "  <tbody>\n",
       "    <tr>\n",
       "      <th>A</th>\n",
       "      <td>42</td>\n",
       "    </tr>\n",
       "    <tr>\n",
       "      <th>B</th>\n",
       "      <td>69</td>\n",
       "    </tr>\n",
       "    <tr>\n",
       "      <th>C</th>\n",
       "      <td>56</td>\n",
       "    </tr>\n",
       "    <tr>\n",
       "      <th>D</th>\n",
       "      <td>41</td>\n",
       "    </tr>\n",
       "    <tr>\n",
       "      <th>E</th>\n",
       "      <td>57</td>\n",
       "    </tr>\n",
       "    <tr>\n",
       "      <th>F</th>\n",
       "      <td>48</td>\n",
       "    </tr>\n",
       "    <tr>\n",
       "      <th>G</th>\n",
       "      <td>65</td>\n",
       "    </tr>\n",
       "    <tr>\n",
       "      <th>H</th>\n",
       "      <td>49</td>\n",
       "    </tr>\n",
       "    <tr>\n",
       "      <th>I</th>\n",
       "      <td>65</td>\n",
       "    </tr>\n",
       "    <tr>\n",
       "      <th>J</th>\n",
       "      <td>58</td>\n",
       "    </tr>\n",
       "  </tbody>\n",
       "</table>\n",
       "</div>"
      ],
      "text/plain": [
       "         score\n",
       "student       \n",
       "A           42\n",
       "B           69\n",
       "C           56\n",
       "D           41\n",
       "E           57\n",
       "F           48\n",
       "G           65\n",
       "H           49\n",
       "I           65\n",
       "J           58"
      ]
     },
     "execution_count": 6,
     "metadata": {},
     "output_type": "execute_result"
    }
   ],
   "source": [
    "scores_df = pd.DataFrame({'score':scores},\n",
    "                         index=pd.Index(list('ABCDEFGHIJ'),name='student'))\n",
    "scores_df\n",
    "# 인덱스(Index)함수 사용. i는 대문자임 ㅋ -> 인덱스 이름 만들 수 있음!!"
   ]
  },
  {
   "cell_type": "markdown",
   "id": "2c7e5e8f",
   "metadata": {},
   "source": [
    "ages_df.index = list('ABCDEFGHIJ')\n",
    "\n",
    "\n",
    "ages_df.index.name = 'passenger'\n",
    "\n",
    "따로 추가하기~!!"
   ]
  },
  {
   "cell_type": "code",
   "execution_count": 7,
   "id": "7c7fea03",
   "metadata": {},
   "outputs": [
    {
     "data": {
      "text/plain": [
       "55.0"
      ]
     },
     "execution_count": 7,
     "metadata": {},
     "output_type": "execute_result"
    }
   ],
   "source": [
    "# 평균값 <- 배열사용\n",
    "sum(scores)/len(scores)"
   ]
  },
  {
   "cell_type": "code",
   "execution_count": 8,
   "id": "3a66bfad",
   "metadata": {},
   "outputs": [
    {
     "data": {
      "text/plain": [
       "55.0"
      ]
     },
     "execution_count": 8,
     "metadata": {},
     "output_type": "execute_result"
    }
   ],
   "source": [
    "# 평균값 <- 넘파이사용\n",
    "np.mean(scores)"
   ]
  },
  {
   "cell_type": "code",
   "execution_count": 9,
   "id": "c03ccd27",
   "metadata": {},
   "outputs": [
    {
     "data": {
      "text/plain": [
       "score    55.0\n",
       "dtype: float64"
      ]
     },
     "execution_count": 9,
     "metadata": {},
     "output_type": "execute_result"
    }
   ],
   "source": [
    "# 평균값 <- 데이터프레임사용\n",
    "scores_df.mean()"
   ]
  },
  {
   "cell_type": "code",
   "execution_count": 10,
   "id": "9ac6d604",
   "metadata": {},
   "outputs": [
    {
     "data": {
      "text/plain": [
       "56.5"
      ]
     },
     "execution_count": 10,
     "metadata": {},
     "output_type": "execute_result"
    }
   ],
   "source": [
    "# 중앙값\n",
    "np.median(scores)\n",
    "# scores_df.median()"
   ]
  },
  {
   "cell_type": "code",
   "execution_count": 11,
   "id": "49592598",
   "metadata": {},
   "outputs": [
    {
     "data": {
      "text/plain": [
       "array([41, 42, 48, 49, 56, 57, 58, 65, 65, 69], dtype=int64)"
      ]
     },
     "execution_count": 11,
     "metadata": {},
     "output_type": "execute_result"
    }
   ],
   "source": [
    "sorted_scores = np.sort(scores)\n",
    "sorted_scores"
   ]
  },
  {
   "cell_type": "code",
   "execution_count": 12,
   "id": "ce8c5695",
   "metadata": {},
   "outputs": [],
   "source": [
    "# 짝수일 때 median값 뽑을 수 있는 코드\n",
    "# 내가 생각한 코드\n",
    "n= len(sorted_scores)\n",
    "\n",
    "if n%2 ==0:\n",
    "    a= (sorted_scores[4]+sorted_scores[5])/2\n",
    "    \n",
    "    # 인덱스 번호를 줘버리면 기본 리스트의 값과 연동 불가!!\n",
    "    \n",
    "else:\n",
    "    print(np.median(sorted_scores))"
   ]
  },
  {
   "cell_type": "code",
   "execution_count": 13,
   "id": "e2b732e3",
   "metadata": {},
   "outputs": [
    {
     "data": {
      "text/plain": [
       "56.5"
      ]
     },
     "execution_count": 13,
     "metadata": {},
     "output_type": "execute_result"
    }
   ],
   "source": [
    "# 선생님 풀이\n",
    "# **** median 값 뽑는 코드 ****\n",
    "\n",
    "n=len(sorted_scores)\n",
    "if n%2 ==0:\n",
    "    m0 = sorted_scores[n//2 -1] #가운데친구들\n",
    "    m1 = sorted_scores[n//2]    #가운데친구들\n",
    "    median = (m0+m1) / 2        #더해서 나누기 2\n",
    "    \n",
    "else:\n",
    "    median = sorted_scores[(n+1)//2-1]  # 홀수일 경우\n",
    "    \n",
    "median"
   ]
  },
  {
   "cell_type": "code",
   "execution_count": 16,
   "id": "639df751",
   "metadata": {},
   "outputs": [
    {
     "name": "stdout",
     "output_type": "stream",
     "text": [
      "   score\n",
      "0     65\n"
     ]
    }
   ],
   "source": [
    "# 최빈값\n",
    "print(scores_df.mode())"
   ]
  },
  {
   "cell_type": "code",
   "execution_count": 15,
   "id": "b2732ba4",
   "metadata": {},
   "outputs": [
    {
     "data": {
      "text/plain": [
       "0    65\n",
       "dtype: int64"
      ]
     },
     "execution_count": 15,
     "metadata": {},
     "output_type": "execute_result"
    }
   ],
   "source": [
    "pd.Series(sorted_scores).mode()"
   ]
  },
  {
   "cell_type": "code",
   "execution_count": 15,
   "id": "914630b3",
   "metadata": {
    "scrolled": true
   },
   "outputs": [
    {
     "data": {
      "text/html": [
       "<div>\n",
       "<style scoped>\n",
       "    .dataframe tbody tr th:only-of-type {\n",
       "        vertical-align: middle;\n",
       "    }\n",
       "\n",
       "    .dataframe tbody tr th {\n",
       "        vertical-align: top;\n",
       "    }\n",
       "\n",
       "    .dataframe thead th {\n",
       "        text-align: right;\n",
       "    }\n",
       "</style>\n",
       "<table border=\"1\" class=\"dataframe\">\n",
       "  <thead>\n",
       "    <tr style=\"text-align: right;\">\n",
       "      <th></th>\n",
       "      <th>score</th>\n",
       "    </tr>\n",
       "  </thead>\n",
       "  <tbody>\n",
       "    <tr>\n",
       "      <th>count</th>\n",
       "      <td>10.000000</td>\n",
       "    </tr>\n",
       "    <tr>\n",
       "      <th>mean</th>\n",
       "      <td>55.000000</td>\n",
       "    </tr>\n",
       "    <tr>\n",
       "      <th>std</th>\n",
       "      <td>9.775252</td>\n",
       "    </tr>\n",
       "    <tr>\n",
       "      <th>min</th>\n",
       "      <td>41.000000</td>\n",
       "    </tr>\n",
       "    <tr>\n",
       "      <th>25%</th>\n",
       "      <td>48.250000</td>\n",
       "    </tr>\n",
       "    <tr>\n",
       "      <th>50%</th>\n",
       "      <td>56.500000</td>\n",
       "    </tr>\n",
       "    <tr>\n",
       "      <th>75%</th>\n",
       "      <td>63.250000</td>\n",
       "    </tr>\n",
       "    <tr>\n",
       "      <th>max</th>\n",
       "      <td>69.000000</td>\n",
       "    </tr>\n",
       "  </tbody>\n",
       "</table>\n",
       "</div>"
      ],
      "text/plain": [
       "           score\n",
       "count  10.000000\n",
       "mean   55.000000\n",
       "std     9.775252\n",
       "min    41.000000\n",
       "25%    48.250000\n",
       "50%    56.500000\n",
       "75%    63.250000\n",
       "max    69.000000"
      ]
     },
     "execution_count": 15,
     "metadata": {},
     "output_type": "execute_result"
    }
   ],
   "source": [
    "scores_df.describe()"
   ]
  },
  {
   "cell_type": "code",
   "execution_count": 16,
   "id": "727faae6",
   "metadata": {},
   "outputs": [
    {
     "data": {
      "text/plain": [
       "<AxesSubplot:xlabel='score', ylabel='Density'>"
      ]
     },
     "execution_count": 16,
     "metadata": {},
     "output_type": "execute_result"
    },
    {
     "data": {
      "image/png": "[encoded data removed]",
      "text/plain": [
       "<Figure size 640x480 with 1 Axes>"
      ]
     },
     "metadata": {},
     "output_type": "display_data"
    }
   ],
   "source": [
    "import seaborn as sns\n",
    "sns.kdeplot(data=scores_df, x='score')\n",
    "# 이러한 분포로 된 걸 알 수 있다."
   ]
  },
  {
   "cell_type": "code",
   "execution_count": 17,
   "id": "5da47b96",
   "metadata": {},
   "outputs": [
    {
     "data": {
      "text/plain": [
       "<AxesSubplot:xlabel='score', ylabel='Count'>"
      ]
     },
     "execution_count": 17,
     "metadata": {},
     "output_type": "execute_result"
    },
    {
     "data": {
      "image/png": "[encoded data removed]",
      "text/plain": [
       "<Figure size 640x480 with 1 Axes>"
      ]
     },
     "metadata": {},
     "output_type": "display_data"
    }
   ],
   "source": [
    "# 만약에 다른 극단적인 큰 수가 들어가면?\n",
    "# 큰 수가 있으니까 평균이 중앙값보다 오른쪽에 있다.\n",
    "# 반대로 극단적인 작은 수가 들어가면 평균이 중앙값보다 왼쪽에있다..\n",
    "scores_df.iloc[9,0] =1\n",
    "sns.histplot(data=scores_df, x='score',kde=True)"
   ]
  },
  {
   "cell_type": "code",
   "execution_count": 18,
   "id": "8a701024",
   "metadata": {},
   "outputs": [
    {
     "data": {
      "text/html": [
       "<div>\n",
       "<style scoped>\n",
       "    .dataframe tbody tr th:only-of-type {\n",
       "        vertical-align: middle;\n",
       "    }\n",
       "\n",
       "    .dataframe tbody tr th {\n",
       "        vertical-align: top;\n",
       "    }\n",
       "\n",
       "    .dataframe thead th {\n",
       "        text-align: right;\n",
       "    }\n",
       "</style>\n",
       "<table border=\"1\" class=\"dataframe\">\n",
       "  <thead>\n",
       "    <tr style=\"text-align: right;\">\n",
       "      <th></th>\n",
       "      <th>score</th>\n",
       "    </tr>\n",
       "  </thead>\n",
       "  <tbody>\n",
       "    <tr>\n",
       "      <th>count</th>\n",
       "      <td>10.000000</td>\n",
       "    </tr>\n",
       "    <tr>\n",
       "      <th>mean</th>\n",
       "      <td>49.300000</td>\n",
       "    </tr>\n",
       "    <tr>\n",
       "      <th>std</th>\n",
       "      <td>19.556471</td>\n",
       "    </tr>\n",
       "    <tr>\n",
       "      <th>min</th>\n",
       "      <td>1.000000</td>\n",
       "    </tr>\n",
       "    <tr>\n",
       "      <th>25%</th>\n",
       "      <td>43.500000</td>\n",
       "    </tr>\n",
       "    <tr>\n",
       "      <th>50%</th>\n",
       "      <td>52.500000</td>\n",
       "    </tr>\n",
       "    <tr>\n",
       "      <th>75%</th>\n",
       "      <td>63.000000</td>\n",
       "    </tr>\n",
       "    <tr>\n",
       "      <th>max</th>\n",
       "      <td>69.000000</td>\n",
       "    </tr>\n",
       "  </tbody>\n",
       "</table>\n",
       "</div>"
      ],
      "text/plain": [
       "           score\n",
       "count  10.000000\n",
       "mean   49.300000\n",
       "std    19.556471\n",
       "min     1.000000\n",
       "25%    43.500000\n",
       "50%    52.500000\n",
       "75%    63.000000\n",
       "max    69.000000"
      ]
     },
     "execution_count": 18,
     "metadata": {},
     "output_type": "execute_result"
    }
   ],
   "source": [
    "scores_df.describe()"
   ]
  },
  {
   "cell_type": "code",
   "execution_count": 19,
   "id": "c13951e3",
   "metadata": {},
   "outputs": [
    {
     "name": "stdout",
     "output_type": "stream",
     "text": [
      "55.0\n",
      "[42 69 56 41 57 48 65 49 65 58]\n",
      "[-13.  14.   1. -14.   2.  -7.  10.  -6.  10.   3.]\n"
     ]
    }
   ],
   "source": [
    "# 데이터의 산포도 지표\n",
    "# 분산과 표준편차\n",
    "\n",
    "mean = np.mean(scores)\n",
    "print(mean)\n",
    "print(scores)\n",
    "\n",
    "# deviation 편차: 데이터셋에 있어서 원소와 평균의 차이\n",
    "# 편차의 합은 항상 0이다.\n",
    "deviation = scores - mean\n",
    "print(deviation)"
   ]
  },
  {
   "cell_type": "code",
   "execution_count": 20,
   "id": "7c267df4",
   "metadata": {},
   "outputs": [
    {
     "data": {
      "text/plain": [
       "0.0"
      ]
     },
     "execution_count": 20,
     "metadata": {},
     "output_type": "execute_result"
    }
   ],
   "source": [
    "sum(deviation)\n",
    "np.mean(deviation)"
   ]
  },
  {
   "cell_type": "code",
   "execution_count": 21,
   "id": "d40e59a8",
   "metadata": {},
   "outputs": [],
   "source": [
    "# 편차의 합이 다 0이 되버리니까 분산개념을 생각한다.\n",
    "# 편차를 제곱해주는게 분산\n",
    "# 분산은 제곱했으므로 과장됨 \n",
    "# -> 실제값으로 바꾸기 위해 루트를 씌워주는게 표준편차."
   ]
  },
  {
   "cell_type": "markdown",
   "id": "95bbb676",
   "metadata": {},
   "source": [
    "#### 분산\n",
    "- Numpy와 Pandas는 서로 다른 분산을 기본으로 설정하여 계산. \n",
    " * Numpy는 표본분산, Pandas는 불편분산\n",
    " * Pandas에서 표본분산을 계산하려면 var 메소드의 인수를 ddof=0이라고 설정, 불편분산은 ddof=1일 때 해당됨\n",
    " \n",
    " [표본분산이 분산을 과소평가하는 이유]\n",
    "\n",
    "- 분산은 '데이터와 평균값의 간의 거리' 이므로 모평균 간의 거리를 계산 : np.sum((fish_data - mu)**2)/N  \n",
    "호수안에 물고기가 7마리 있다. 몸길이 {1,2,3,4,5,6,7}, 모평균 4,  \n",
    "샘플링 3마리 {1,2,3} 표본평균 2  \n",
    "이때 분산은 모평균을 모르기 때문에 표본평균과의 거리를 계산하며 분산을 과소평가 하게된다.\n",
    "- 표본 분산 보다 조금 더 큰 값이 되도록 보정하기 위하여 N 대신 N-1로 나누어 불편분산을 구할 수 있다."
   ]
  },
  {
   "cell_type": "code",
   "execution_count": 22,
   "id": "78b15e7a",
   "metadata": {},
   "outputs": [
    {
     "data": {
      "text/plain": [
       "86.0"
      ]
     },
     "execution_count": 22,
     "metadata": {},
     "output_type": "execute_result"
    }
   ],
   "source": [
    "# 넘파이 표본분산(default)\n",
    "np.mean(deviation **2)\n",
    "np.var(scores)"
   ]
  },
  {
   "cell_type": "code",
   "execution_count": 23,
   "id": "5e8e3bac",
   "metadata": {},
   "outputs": [
    {
     "data": {
      "text/plain": [
       "95.55555555555556"
      ]
     },
     "execution_count": 23,
     "metadata": {},
     "output_type": "execute_result"
    }
   ],
   "source": [
    "# 넘파이 불편분산\n",
    "np.var(scores,ddof=1)"
   ]
  },
  {
   "cell_type": "code",
   "execution_count": 24,
   "id": "9078d274",
   "metadata": {},
   "outputs": [
    {
     "data": {
      "text/plain": [
       "score    382.455556\n",
       "dtype: float64"
      ]
     },
     "execution_count": 24,
     "metadata": {},
     "output_type": "execute_result"
    }
   ],
   "source": [
    "# 판다스 불편분산(default)\n",
    "scores_df.var()"
   ]
  },
  {
   "cell_type": "code",
   "execution_count": 25,
   "id": "67ea129c",
   "metadata": {},
   "outputs": [
    {
     "data": {
      "text/plain": [
       "score    344.21\n",
       "dtype: float64"
      ]
     },
     "execution_count": 25,
     "metadata": {},
     "output_type": "execute_result"
    }
   ],
   "source": [
    "# 판다스 표본분산\n",
    "scores_df.var(ddof=0)"
   ]
  },
  {
   "cell_type": "code",
   "execution_count": 26,
   "id": "a5a1bf16",
   "metadata": {},
   "outputs": [
    {
     "data": {
      "text/plain": [
       "array([42, 69, 56, 41, 57, 48, 65, 49, 65, 58], dtype=int64)"
      ]
     },
     "execution_count": 26,
     "metadata": {},
     "output_type": "execute_result"
    }
   ],
   "source": [
    "scores"
   ]
  },
  {
   "cell_type": "code",
   "execution_count": 27,
   "id": "f2af0bbb",
   "metadata": {},
   "outputs": [
    {
     "data": {
      "text/plain": [
       "9.273618495495704"
      ]
     },
     "execution_count": 27,
     "metadata": {},
     "output_type": "execute_result"
    }
   ],
   "source": [
    "# 표준편차 (넘파이에서 루트씌우는 게 sqrt)\n",
    "np.sqrt(np.var(scores,ddof=0))"
   ]
  },
  {
   "cell_type": "code",
   "execution_count": 28,
   "id": "bf8ac67b",
   "metadata": {},
   "outputs": [
    {
     "data": {
      "text/plain": [
       "9.273618495495704"
      ]
     },
     "execution_count": 28,
     "metadata": {},
     "output_type": "execute_result"
    }
   ],
   "source": [
    "np.std(scores,ddof=0)"
   ]
  },
  {
   "cell_type": "code",
   "execution_count": 29,
   "id": "6c87038c",
   "metadata": {},
   "outputs": [
    {
     "data": {
      "text/plain": [
       "28"
      ]
     },
     "execution_count": 29,
     "metadata": {},
     "output_type": "execute_result"
    }
   ],
   "source": [
    "# 범위와 4분위수\n",
    "# 범위 (제일 큰 수에서 작은 수 빼기)\n",
    "np.max(scores) - np.min(scores)"
   ]
  },
  {
   "cell_type": "code",
   "execution_count": 30,
   "id": "9c770550",
   "metadata": {},
   "outputs": [
    {
     "data": {
      "text/plain": [
       "15.0"
      ]
     },
     "execution_count": 30,
     "metadata": {},
     "output_type": "execute_result"
    }
   ],
   "source": [
    "scores_q1 = np.percentile(scores,25)\n",
    "scores_q3 = np.percentile(scores,75)\n",
    "\n",
    "scores_q3 - scores_q1"
   ]
  },
  {
   "cell_type": "code",
   "execution_count": 31,
   "id": "496894ee",
   "metadata": {},
   "outputs": [
    {
     "data": {
      "text/plain": [
       "count    10.000000\n",
       "mean     55.000000\n",
       "std       9.775252\n",
       "min      41.000000\n",
       "25%      48.250000\n",
       "50%      56.500000\n",
       "75%      63.250000\n",
       "max      69.000000\n",
       "dtype: float64"
      ]
     },
     "execution_count": 31,
     "metadata": {},
     "output_type": "execute_result"
    }
   ],
   "source": [
    "pd.Series(scores).describe()"
   ]
  },
  {
   "cell_type": "code",
   "execution_count": 32,
   "id": "41ca0999",
   "metadata": {},
   "outputs": [
    {
     "name": "stdout",
     "output_type": "stream",
     "text": [
      "[42 69 56 41 57 48 65 49 65 58]\n",
      "평균: 55.0, 표준편차: 9.2736\n"
     ]
    }
   ],
   "source": [
    "# 데이터의 정규화\n",
    "print(scores)\n",
    "print(f'평균: {scores.mean()}, 표준편차: {scores.std().round(4)}')"
   ]
  },
  {
   "cell_type": "code",
   "execution_count": 33,
   "id": "ae3f404c",
   "metadata": {},
   "outputs": [],
   "source": [
    "# 표준화 (데이터 분포를, 평균0, 표준편차가 1인 형태로 변경)\n",
    "# 데이터의 스케일을 변경하지만 데이터의 관계는 유지한다."
   ]
  },
  {
   "cell_type": "markdown",
   "id": "c9a5e0e4",
   "metadata": {},
   "source": [
    "#### Z = (X - μ) / σ\n",
    "#### 표준화 = 편차(원소-평균값) / 표준편차 이다!!!"
   ]
  },
  {
   "cell_type": "code",
   "execution_count": 34,
   "id": "883faaab",
   "metadata": {
    "scrolled": true
   },
   "outputs": [
    {
     "data": {
      "text/plain": [
       "array([-1.40182605,  1.50965882,  0.10783277, -1.50965882,  0.21566555,\n",
       "       -0.75482941,  1.07832773, -0.64699664,  1.07832773,  0.32349832])"
      ]
     },
     "execution_count": 34,
     "metadata": {},
     "output_type": "execute_result"
    }
   ],
   "source": [
    "z = (scores - np.mean(scores)) / np.std(scores)\n",
    "z"
   ]
  },
  {
   "cell_type": "code",
   "execution_count": 35,
   "id": "f0d127f0",
   "metadata": {},
   "outputs": [
    {
     "data": {
      "text/plain": [
       "array([42., 69., 56., 41., 57., 48., 65., 49., 65., 58.])"
      ]
     },
     "execution_count": 35,
     "metadata": {},
     "output_type": "execute_result"
    }
   ],
   "source": [
    "# 역으로 구해보자\n",
    "55.0 + z*scores.std()"
   ]
  },
  {
   "cell_type": "code",
   "execution_count": 36,
   "id": "e9e61a80",
   "metadata": {},
   "outputs": [
    {
     "data": {
      "text/plain": [
       "count    50.000000\n",
       "mean     58.380000\n",
       "std       9.799813\n",
       "min      37.000000\n",
       "25%      54.000000\n",
       "50%      57.500000\n",
       "75%      65.000000\n",
       "max      79.000000\n",
       "dtype: float64"
      ]
     },
     "execution_count": 36,
     "metadata": {},
     "output_type": "execute_result"
    }
   ],
   "source": [
    "# 데이터의 시각화\n",
    "\n",
    "e_scores = np.array(df.english)\n",
    "pd.Series(e_scores).describe()"
   ]
  },
  {
   "cell_type": "code",
   "execution_count": 37,
   "id": "82fcc7b6",
   "metadata": {
    "scrolled": false
   },
   "outputs": [
    {
     "data": {
      "text/plain": [
       "array([ 0,  0,  0,  2,  8, 16, 18,  6,  0,  0], dtype=int64)"
      ]
     },
     "execution_count": 37,
     "metadata": {},
     "output_type": "execute_result"
    }
   ],
   "source": [
    "# 도수분포표 보기 (넘파이에서 제공하는 히스토그램 사용, _는 무시하는 것.)\n",
    "freq,_=np.histogram(e_scores, bins=10, range=(0,100))\n",
    "freq"
   ]
  },
  {
   "cell_type": "markdown",
   "id": "5b03c918",
   "metadata": {},
   "source": [
    "np.histogram() 함수는 히스토그램을 생성할 때, 구간(bin)의 개수와 구간의 범위를 설정하며, 두 개의 값을 반환합니다. 첫 번째 값은 구간별 빈도수(frequency)를 나타내는 1차원 배열이고, 두 번째 값은 구간(bin) 정보를 나타내는 1차원 배열입니다.\n",
    "\n",
    "하지만, 두 번째 반환값인 구간 정보 배열이 사용되지 않는 경우가 있습니다. 이 때, 구간 정보 배열 대신에 언더스코어(_)를 사용하여 해당 값이 무시되도록 처리할 수 있습니다.\n",
    "\n",
    "따라서, 위의 코드에서 _는 필수적인 값은 아니지만, 두 번째 반환값인 구간 정보 배열이 사용되지 않으므로, 언더스코어를 사용하여 무시하는 것이 일반적입니다"
   ]
  },
  {
   "cell_type": "code",
   "execution_count": 38,
   "id": "f2258598",
   "metadata": {},
   "outputs": [
    {
     "data": {
      "text/plain": [
       "(array([ 0,  0,  0,  2,  8, 16, 18,  6,  0,  0], dtype=int64),\n",
       " array([  0.,  10.,  20.,  30.,  40.,  50.,  60.,  70.,  80.,  90., 100.]))"
      ]
     },
     "execution_count": 38,
     "metadata": {},
     "output_type": "execute_result"
    }
   ],
   "source": [
    "# 이렇게!!\n",
    "freq,bins=np.histogram(e_scores, bins=10, range=(0,100))\n",
    "freq,bins"
   ]
  },
  {
   "cell_type": "code",
   "execution_count": 39,
   "id": "3ecaa476",
   "metadata": {},
   "outputs": [
    {
     "data": {
      "text/html": [
       "<div>\n",
       "<style scoped>\n",
       "    .dataframe tbody tr th:only-of-type {\n",
       "        vertical-align: middle;\n",
       "    }\n",
       "\n",
       "    .dataframe tbody tr th {\n",
       "        vertical-align: top;\n",
       "    }\n",
       "\n",
       "    .dataframe thead th {\n",
       "        text-align: right;\n",
       "    }\n",
       "</style>\n",
       "<table border=\"1\" class=\"dataframe\">\n",
       "  <thead>\n",
       "    <tr style=\"text-align: right;\">\n",
       "      <th></th>\n",
       "      <th>frequency</th>\n",
       "    </tr>\n",
       "    <tr>\n",
       "      <th>class</th>\n",
       "      <th></th>\n",
       "    </tr>\n",
       "  </thead>\n",
       "  <tbody>\n",
       "    <tr>\n",
       "      <th>0~10</th>\n",
       "      <td>0</td>\n",
       "    </tr>\n",
       "    <tr>\n",
       "      <th>10~20</th>\n",
       "      <td>0</td>\n",
       "    </tr>\n",
       "    <tr>\n",
       "      <th>20~30</th>\n",
       "      <td>0</td>\n",
       "    </tr>\n",
       "    <tr>\n",
       "      <th>30~40</th>\n",
       "      <td>2</td>\n",
       "    </tr>\n",
       "    <tr>\n",
       "      <th>40~50</th>\n",
       "      <td>8</td>\n",
       "    </tr>\n",
       "    <tr>\n",
       "      <th>50~60</th>\n",
       "      <td>16</td>\n",
       "    </tr>\n",
       "    <tr>\n",
       "      <th>60~70</th>\n",
       "      <td>18</td>\n",
       "    </tr>\n",
       "    <tr>\n",
       "      <th>70~80</th>\n",
       "      <td>6</td>\n",
       "    </tr>\n",
       "    <tr>\n",
       "      <th>80~90</th>\n",
       "      <td>0</td>\n",
       "    </tr>\n",
       "    <tr>\n",
       "      <th>90~100</th>\n",
       "      <td>0</td>\n",
       "    </tr>\n",
       "  </tbody>\n",
       "</table>\n",
       "</div>"
      ],
      "text/plain": [
       "        frequency\n",
       "class            \n",
       "0~10            0\n",
       "10~20           0\n",
       "20~30           0\n",
       "30~40           2\n",
       "40~50           8\n",
       "50~60          16\n",
       "60~70          18\n",
       "70~80           6\n",
       "80~90           0\n",
       "90~100          0"
      ]
     },
     "execution_count": 39,
     "metadata": {},
     "output_type": "execute_result"
    }
   ],
   "source": [
    "# 구간만들기 간편한 for문\n",
    "freq_class = [f'{i}~{i+10}' for i in range(0,100,10)]\n",
    "\n",
    "# dataframe 만들어주기\n",
    "freq_dist_df = pd.DataFrame({'frequency':freq},\n",
    "                            index=pd.Index(freq_class, name='class'))\n",
    "freq_dist_df\n",
    "# 이게 도수분포표!!!!"
   ]
  },
  {
   "cell_type": "code",
   "execution_count": 40,
   "id": "9a842c86",
   "metadata": {},
   "outputs": [
    {
     "data": {
      "text/plain": [
       "<AxesSubplot:xlabel='frequency', ylabel='Count'>"
      ]
     },
     "execution_count": 40,
     "metadata": {},
     "output_type": "execute_result"
    },
    {
     "data": {
      "image/png": "[encoded data removed]",
      "text/plain": [
       "<Figure size 640x480 with 1 Axes>"
      ]
     },
     "metadata": {},
     "output_type": "display_data"
    }
   ],
   "source": [
    "sns.histplot(data=freq_dist_df, x='frequency', kde=True)"
   ]
  },
  {
   "cell_type": "code",
   "execution_count": 41,
   "id": "35d18c84",
   "metadata": {},
   "outputs": [
    {
     "data": {
      "text/plain": [
       "[5, 15, 25, 35, 45, 55, 65, 75, 85, 95]"
      ]
     },
     "execution_count": 41,
     "metadata": {},
     "output_type": "execute_result"
    }
   ],
   "source": [
    "# 계급값 : 각 계급을 대표하는 값으로 계급의 중앙값이 이용됨\n",
    "class_value = [(i+(i+10))//2 for i in range(0,100,10)]\n",
    "class_value\n"
   ]
  },
  {
   "cell_type": "code",
   "execution_count": 42,
   "id": "7b30f47a",
   "metadata": {},
   "outputs": [
    {
     "data": {
      "text/plain": [
       "array([0.  , 0.  , 0.  , 0.04, 0.16, 0.32, 0.36, 0.12, 0.  , 0.  ])"
      ]
     },
     "execution_count": 42,
     "metadata": {},
     "output_type": "execute_result"
    }
   ],
   "source": [
    "# 상대도수 : 해당 계급 데이터의 상대적인 비율\n",
    "\n",
    "rel_freq = freq / freq.sum()\n",
    "rel_freq"
   ]
  },
  {
   "cell_type": "markdown",
   "id": "81d396ce",
   "metadata": {},
   "source": [
    "rel_freq에서 rel은 \"relative(상대적인)\"의 약어로, 상대도수(relative frequency)를 나타냅니다. 상대도수는 특정한 값이 전체 값 중에서 차지하는 비율을 나타내는데, 전체 값의 크기에 관계없이 상대적인 비율을 살펴볼 수 있게 합니다. 예를 들어, 전체 학생 중에서 60명이 수학시험에서 80점 이상을 받았다면, 상대도수는 60명 / 전체 학생 수 로 계산할 수 있습니다. 이때, 상대도수를 통해 80점 이상을 받은 학생이 전체 학생 중에서 어느 정도 비중을 차지하는지를 살펴볼 수 있습니다."
   ]
  },
  {
   "cell_type": "code",
   "execution_count": 43,
   "id": "9666a440",
   "metadata": {},
   "outputs": [
    {
     "name": "stdout",
     "output_type": "stream",
     "text": [
      "[ 0  0  0  2  8 16 18  6  0  0]\n",
      "[0.   0.   0.   0.04 0.16 0.32 0.36 0.12 0.   0.  ]\n"
     ]
    }
   ],
   "source": [
    "print(freq)\n",
    "rel_freq = freq / freq.sum()\n",
    "print(rel_freq)"
   ]
  },
  {
   "cell_type": "code",
   "execution_count": 44,
   "id": "60b5abe5",
   "metadata": {},
   "outputs": [
    {
     "data": {
      "text/plain": [
       "array([0.  , 0.  , 0.  , 0.04, 0.2 , 0.52, 0.88, 1.  , 1.  , 1.  ])"
      ]
     },
     "execution_count": 44,
     "metadata": {},
     "output_type": "execute_result"
    }
   ],
   "source": [
    "# 누적 상대도수 : 해당 계급까지의 상대도수의 합/ cum: 무게\n",
    "cum_rel_freq = np.cumsum(rel_freq)\n",
    "cum_rel_freq"
   ]
  },
  {
   "cell_type": "code",
   "execution_count": 45,
   "id": "ad632977",
   "metadata": {},
   "outputs": [
    {
     "data": {
      "text/html": [
       "<div>\n",
       "<style scoped>\n",
       "    .dataframe tbody tr th:only-of-type {\n",
       "        vertical-align: middle;\n",
       "    }\n",
       "\n",
       "    .dataframe tbody tr th {\n",
       "        vertical-align: top;\n",
       "    }\n",
       "\n",
       "    .dataframe thead th {\n",
       "        text-align: right;\n",
       "    }\n",
       "</style>\n",
       "<table border=\"1\" class=\"dataframe\">\n",
       "  <thead>\n",
       "    <tr style=\"text-align: right;\">\n",
       "      <th></th>\n",
       "      <th>class_value</th>\n",
       "      <th>frequency</th>\n",
       "      <th>relative_frequency</th>\n",
       "      <th>cumulative_frequency</th>\n",
       "    </tr>\n",
       "    <tr>\n",
       "      <th>class</th>\n",
       "      <th></th>\n",
       "      <th></th>\n",
       "      <th></th>\n",
       "      <th></th>\n",
       "    </tr>\n",
       "  </thead>\n",
       "  <tbody>\n",
       "    <tr>\n",
       "      <th>0~10</th>\n",
       "      <td>5</td>\n",
       "      <td>0</td>\n",
       "      <td>0.00</td>\n",
       "      <td>0.00</td>\n",
       "    </tr>\n",
       "    <tr>\n",
       "      <th>10~20</th>\n",
       "      <td>15</td>\n",
       "      <td>0</td>\n",
       "      <td>0.00</td>\n",
       "      <td>0.00</td>\n",
       "    </tr>\n",
       "    <tr>\n",
       "      <th>20~30</th>\n",
       "      <td>25</td>\n",
       "      <td>0</td>\n",
       "      <td>0.00</td>\n",
       "      <td>0.00</td>\n",
       "    </tr>\n",
       "    <tr>\n",
       "      <th>30~40</th>\n",
       "      <td>35</td>\n",
       "      <td>2</td>\n",
       "      <td>0.04</td>\n",
       "      <td>0.04</td>\n",
       "    </tr>\n",
       "    <tr>\n",
       "      <th>40~50</th>\n",
       "      <td>45</td>\n",
       "      <td>8</td>\n",
       "      <td>0.16</td>\n",
       "      <td>0.20</td>\n",
       "    </tr>\n",
       "    <tr>\n",
       "      <th>50~60</th>\n",
       "      <td>55</td>\n",
       "      <td>16</td>\n",
       "      <td>0.32</td>\n",
       "      <td>0.52</td>\n",
       "    </tr>\n",
       "    <tr>\n",
       "      <th>60~70</th>\n",
       "      <td>65</td>\n",
       "      <td>18</td>\n",
       "      <td>0.36</td>\n",
       "      <td>0.88</td>\n",
       "    </tr>\n",
       "    <tr>\n",
       "      <th>70~80</th>\n",
       "      <td>75</td>\n",
       "      <td>6</td>\n",
       "      <td>0.12</td>\n",
       "      <td>1.00</td>\n",
       "    </tr>\n",
       "    <tr>\n",
       "      <th>80~90</th>\n",
       "      <td>85</td>\n",
       "      <td>0</td>\n",
       "      <td>0.00</td>\n",
       "      <td>1.00</td>\n",
       "    </tr>\n",
       "    <tr>\n",
       "      <th>90~100</th>\n",
       "      <td>95</td>\n",
       "      <td>0</td>\n",
       "      <td>0.00</td>\n",
       "      <td>1.00</td>\n",
       "    </tr>\n",
       "  </tbody>\n",
       "</table>\n",
       "</div>"
      ],
      "text/plain": [
       "        class_value  frequency  relative_frequency  cumulative_frequency\n",
       "class                                                                   \n",
       "0~10              5          0                0.00                  0.00\n",
       "10~20            15          0                0.00                  0.00\n",
       "20~30            25          0                0.00                  0.00\n",
       "30~40            35          2                0.04                  0.04\n",
       "40~50            45          8                0.16                  0.20\n",
       "50~60            55         16                0.32                  0.52\n",
       "60~70            65         18                0.36                  0.88\n",
       "70~80            75          6                0.12                  1.00\n",
       "80~90            85          0                0.00                  1.00\n",
       "90~100           95          0                0.00                  1.00"
      ]
     },
     "execution_count": 45,
     "metadata": {},
     "output_type": "execute_result"
    }
   ],
   "source": [
    "freq_dist_df['class_value'] = class_value\n",
    "freq_dist_df['relative_frequency'] = rel_freq #상대도수\n",
    "freq_dist_df['cumulative_frequency'] = cum_rel_freq\n",
    "freq_dist_df = freq_dist_df[['class_value', 'frequency', 'relative_frequency', 'cumulative_frequency']]\n",
    "freq_dist_df"
   ]
  },
  {
   "cell_type": "code",
   "execution_count": 46,
   "id": "957cf300",
   "metadata": {
    "scrolled": true
   },
   "outputs": [
    {
     "data": {
      "text/plain": [
       "65"
      ]
     },
     "execution_count": 46,
     "metadata": {},
     "output_type": "execute_result"
    }
   ],
   "source": [
    "# 최빈값 (데이터프레임에서 최빈값 뽑는 법)\n",
    "freq_dist_df.loc[freq_dist_df.frequency.idxmax(),'class_value']\n",
    "# 프리퀀시에서 가장 큰 행, classvalue는 열이죠, 18이 여기서 나오잖아?\n",
    "# 그것의 열의 값이 65니까 65가 나오겠죠?\n"
   ]
  },
  {
   "cell_type": "markdown",
   "id": "93bdeb92",
   "metadata": {},
   "source": [
    "freq,_ = np.histogram(e_scores, bins=10, range=(0,100))  이거랑\n",
    "\n",
    "\n",
    "freq,_,_=plt.hist(e_scores, bins=10,range=(0,100))\n",
    "\n",
    "두 코드가 다르구나,,, 그랫구나,,,,\n",
    "\n",
    "2번 언더스코어 하나만 하면 오류뜨면서 돌아감\n",
    "\n"
   ]
  },
  {
   "cell_type": "markdown",
   "id": "8fe81dd1",
   "metadata": {},
   "source": [
    "두 식은 모두 히스토그램을 생성하는 데 사용됩니다.\n",
    "\n",
    "첫 번째 식에서는 NumPy의 np.histogram() 함수를 사용하여 주어진 데이터(e_scores)의 히스토그램을 계산합니다. 함수는 먼저 데이터를 주어진 범위(range)와 구간(bins)으로 나눕니다. 각 구간에 속한 데이터의 개수를 계산하여 freq 배열에 저장하고, 구간 정보를 담은 bins 배열을 반환합니다. 이때 반환된 bins 배열은 freq 배열보다 하나 더 큰 크기를 가집니다. 두 번째 반환값인 _는 bins 배열과 같은 값을 반환하며, 이를 무시하기 위해 _ 변수에 할당합니다.\n",
    "\n",
    "두 번째 식에서는 matplotlib 라이브러리의 plt.hist() 함수를 사용하여 데이터의 히스토그램을 그립니다. 이 함수는 먼저 np.histogram() 함수와 같이 주어진 데이터를 구간으로 나누어 각 구간에 속한 데이터의 개수를 계산합니다. 그런 다음 이를 시각화하여 히스토그램을 그립니다. bins 매개변수는 데이터를 나눌 구간의 개수를 지정하며, range 매개변수는 데이터의 범위를 지정합니다. 반환값으로는 구간별 빈도수를 담은 freq 배열, 구간 정보를 담은 bins 배열, 각 구간에 해당하는 경계 값을 담은 patches 객체가 반환됩니다. 이때 _ 변수는 반환값 중에서 빈도수와 경계 값을 사용하지 않기 때문에, _ 변수에 할당하여 무시합니다.\n",
    "\n",
    "따라서 두 식 모두 데이터의 분포를 시각화하는 방법이지만, 첫 번째 식은 히스토그램을 계산하는 함수이고, 두 번째 식은 계산된 히스토그램을 시각화하는 함수입니다."
   ]
  },
  {
   "cell_type": "code",
   "execution_count": 47,
   "id": "cf840487",
   "metadata": {
    "scrolled": true
   },
   "outputs": [
    {
     "data": {
      "image/png": "[encoded data removed]",
      "text/plain": [
       "<Figure size 1000x600 with 1 Axes>"
      ]
     },
     "metadata": {},
     "output_type": "display_data"
    }
   ],
   "source": [
    "# 히스토그램: 도수분포표를 막대그래프로 표현\n",
    "import matplotlib.pyplot as plt\n",
    "plt.figure(figsize=(10,6))\n",
    "\n",
    "\n",
    "freq,_,_ = plt.hist(e_scores,bins=10,range=(0,100))\n",
    "plt.xlabel('score')\n",
    "plt.ylabel('person number')\n",
    "plt.xticks(np.linspace(0,100,10+1)) # 눈금\n",
    "plt.yticks(np.arange(0,freq.max()+1))\n",
    "\n",
    "\n",
    "plt.show()"
   ]
  },
  {
   "cell_type": "markdown",
   "id": "ef679286",
   "metadata": {},
   "source": [
    "plt.xticks(np.linspace(0,100,10+1))는 plt.xticks() 함수를 이용하여 x축에 표시될 눈금의 위치와 라벨을 설정하는 코드입니다. np.linspace(0,100,10+1)는 0부터 100까지의 범위에서 10+1개의 구간으로 나눈 값을 생성하는 NumPy 함수입니다. 따라서 plt.xticks(np.linspace(0,100,10+1))는 x축의 범위를 0부터 100까지 10+1개의 구간으로 나눈 값을 눈금으로 사용하겠다는 의미입니다. 예를 들어, 0, 10, 20, ..., 90, 100의 값을 눈금으로 사용하게 됩니다."
   ]
  },
  {
   "cell_type": "markdown",
   "id": "6ce65bcf",
   "metadata": {},
   "source": [
    "plt.yticks(np.arange(0,freq.max()+1))는 y축에 표시될 눈금의 위치와 라벨을 설정하는 코드입니다. np.arange(0,freq.max()+1)는 0부터 freq의 최댓값까지 1씩 증가하는 값을 생성하는 NumPy 함수입니다. 따라서 plt.yticks(np.arange(0,freq.max()+1))는 y축의 범위를 0부터 freq의 최댓값까지 1씩 증가하는 값으로 나눈 값을 눈금으로 사용하겠다는 의미입니다. 예를 들어, freq의 최댓값이 10이라면 0, 1, 2, ..., 10의 값을 눈금으로 사용하게 됩니다."
   ]
  },
  {
   "cell_type": "markdown",
   "id": "b8cf9135",
   "metadata": {},
   "source": [
    "### 과제\n",
    "클래스별 빈도를 나타내는 히스토그램에 추가하여 누적상대도수(y축 왼쪽이라고 설명하셨는데 오른쪽인듯..)를 꺽은선그래프로 표현하세요."
   ]
  },
  {
   "cell_type": "code",
   "execution_count": 48,
   "id": "efd75ee1",
   "metadata": {},
   "outputs": [
    {
     "data": {
      "image/png": "[encoded data removed]",
      "text/plain": [
       "<Figure size 1000x600 with 1 Axes>"
      ]
     },
     "metadata": {},
     "output_type": "display_data"
    }
   ],
   "source": [
    "# 선생님 과제 수정본\n",
    "# 아래 상대도수를 나타내는 히스토그램에 추가하여 누적 상대도수(y축 왼쪽)을 꺾은선 그래프로 표현하세요\n",
    "\n",
    "fig = plt.figure(figsize=(10, 6))\n",
    "ax1 = fig.add_subplot(111)\n",
    "\n",
    "weights = np.ones_like(e_scores) / len(e_scores) # 가중치 구하는거\n",
    "rel_freq, _, _ = ax1.hist(e_scores, bins=25,range=(0, 100), weights=weights)\n",
    "ax1.set_xlabel('score')\n",
    "ax1.set_ylabel('relative frequency')\n",
    "ax1.set_xticks(np.linspace(0, 100, 25+1))\n",
    "plt.show()"
   ]
  },
  {
   "cell_type": "code",
   "execution_count": 49,
   "id": "34a83e50",
   "metadata": {},
   "outputs": [
    {
     "data": {
      "image/png": "[encoded data removed]",
      "text/plain": [
       "<Figure size 1000x600 with 2 Axes>"
      ]
     },
     "metadata": {},
     "output_type": "display_data"
    }
   ],
   "source": [
    "# 슬기\n",
    "fig = plt.figure(figsize=(10, 6))\n",
    "ax1 = fig.add_subplot(111)\n",
    "\n",
    "weights = np.ones_like(e_scores) / len(e_scores)\n",
    "rel_freq, _, _ = ax1.hist(e_scores, bins=25, range=(0, 100), weights=weights)\n",
    "ax1.set_xlabel('score')\n",
    "ax1.set_ylabel('relative frequency')\n",
    "ax1.set_xticks(np.linspace(0, 100, 25+1))\n",
    "\n",
    "cum_rel_freq = np.cumsum(rel_freq)\n",
    "ax2 = ax1.twinx()\n",
    "ax2.plot(np.linspace(0, 100, 25), cum_rel_freq, color='green', linewidth=2)\n",
    "ax2.set_ylabel('cumulative relative frequency')\n",
    "plt.show()"
   ]
  },
  {
   "cell_type": "code",
   "execution_count": 51,
   "id": "997b29fd",
   "metadata": {},
   "outputs": [
    {
     "ename": "KeyError",
     "evalue": "'cumulative_freqency'",
     "output_type": "error",
     "traceback": [
      "\u001b[1;31m---------------------------------------------------------------------------\u001b[0m",
      "\u001b[1;31mKeyError\u001b[0m                                  Traceback (most recent call last)",
      "\u001b[1;32m~\\anaconda3\\lib\\site-packages\\pandas\\core\\indexes\\base.py\u001b[0m in \u001b[0;36mget_loc\u001b[1;34m(self, key, method, tolerance)\u001b[0m\n\u001b[0;32m   3628\u001b[0m             \u001b[1;32mtry\u001b[0m\u001b[1;33m:\u001b[0m\u001b[1;33m\u001b[0m\u001b[1;33m\u001b[0m\u001b[0m\n\u001b[1;32m-> 3629\u001b[1;33m                 \u001b[1;32mreturn\u001b[0m \u001b[0mself\u001b[0m\u001b[1;33m.\u001b[0m\u001b[0m_engine\u001b[0m\u001b[1;33m.\u001b[0m\u001b[0mget_loc\u001b[0m\u001b[1;33m(\u001b[0m\u001b[0mcasted_key\u001b[0m\u001b[1;33m)\u001b[0m\u001b[1;33m\u001b[0m\u001b[1;33m\u001b[0m\u001b[0m\n\u001b[0m\u001b[0;32m   3630\u001b[0m             \u001b[1;32mexcept\u001b[0m \u001b[0mKeyError\u001b[0m \u001b[1;32mas\u001b[0m \u001b[0merr\u001b[0m\u001b[1;33m:\u001b[0m\u001b[1;33m\u001b[0m\u001b[1;33m\u001b[0m\u001b[0m\n",
      "\u001b[1;32m~\\anaconda3\\lib\\site-packages\\pandas\\_libs\\index.pyx\u001b[0m in \u001b[0;36mpandas._libs.index.IndexEngine.get_loc\u001b[1;34m()\u001b[0m\n",
      "\u001b[1;32m~\\anaconda3\\lib\\site-packages\\pandas\\_libs\\index.pyx\u001b[0m in \u001b[0;36mpandas._libs.index.IndexEngine.get_loc\u001b[1;34m()\u001b[0m\n",
      "\u001b[1;32mpandas\\_libs\\hashtable_class_helper.pxi\u001b[0m in \u001b[0;36mpandas._libs.hashtable.PyObjectHashTable.get_item\u001b[1;34m()\u001b[0m\n",
      "\u001b[1;32mpandas\\_libs\\hashtable_class_helper.pxi\u001b[0m in \u001b[0;36mpandas._libs.hashtable.PyObjectHashTable.get_item\u001b[1;34m()\u001b[0m\n",
      "\u001b[1;31mKeyError\u001b[0m: 'cumulative_freqency'",
      "\nThe above exception was the direct cause of the following exception:\n",
      "\u001b[1;31mKeyError\u001b[0m                                  Traceback (most recent call last)",
      "\u001b[1;32m~\\AppData\\Local\\Temp\\ipykernel_9640\\3666546588.py\u001b[0m in \u001b[0;36m<module>\u001b[1;34m\u001b[0m\n\u001b[0;32m     13\u001b[0m \u001b[0max2\u001b[0m\u001b[1;33m=\u001b[0m\u001b[0mplt\u001b[0m\u001b[1;33m.\u001b[0m\u001b[0mtwinx\u001b[0m\u001b[1;33m(\u001b[0m\u001b[1;33m)\u001b[0m    \u001b[1;31m# y축 분리된 그래프 따로 만들어서 합치기, X를 그대로 활용하겠다.\u001b[0m\u001b[1;33m\u001b[0m\u001b[1;33m\u001b[0m\u001b[0m\n\u001b[0;32m     14\u001b[0m \u001b[0mx\u001b[0m\u001b[1;33m=\u001b[0m\u001b[0mnp\u001b[0m\u001b[1;33m.\u001b[0m\u001b[0mlinspace\u001b[0m\u001b[1;33m(\u001b[0m\u001b[1;36m0\u001b[0m\u001b[1;33m,\u001b[0m \u001b[1;36m100\u001b[0m\u001b[1;33m,\u001b[0m \u001b[1;36m10\u001b[0m\u001b[1;33m)\u001b[0m\u001b[1;33m\u001b[0m\u001b[1;33m\u001b[0m\u001b[0m\n\u001b[1;32m---> 15\u001b[1;33m \u001b[0my\u001b[0m\u001b[1;33m=\u001b[0m\u001b[0mfreq_dist_df\u001b[0m\u001b[1;33m[\u001b[0m\u001b[1;34m'cumulative_freqency'\u001b[0m\u001b[1;33m]\u001b[0m\u001b[1;33m\u001b[0m\u001b[1;33m\u001b[0m\u001b[0m\n\u001b[0m\u001b[0;32m     16\u001b[0m \u001b[0max2\u001b[0m\u001b[1;33m.\u001b[0m\u001b[0mplot\u001b[0m\u001b[1;33m(\u001b[0m\u001b[0mx\u001b[0m\u001b[1;33m,\u001b[0m\u001b[0my\u001b[0m\u001b[1;33m,\u001b[0m \u001b[0mcolor\u001b[0m\u001b[1;33m=\u001b[0m\u001b[1;34m'red'\u001b[0m\u001b[1;33m,\u001b[0m \u001b[0mmarker\u001b[0m\u001b[1;33m=\u001b[0m\u001b[1;34m'o'\u001b[0m\u001b[1;33m,\u001b[0m \u001b[0mmarkersize\u001b[0m\u001b[1;33m=\u001b[0m\u001b[1;36m4\u001b[0m\u001b[1;33m)\u001b[0m\u001b[1;33m\u001b[0m\u001b[1;33m\u001b[0m\u001b[0m\n\u001b[0;32m     17\u001b[0m \u001b[1;33m\u001b[0m\u001b[0m\n",
      "\u001b[1;32m~\\anaconda3\\lib\\site-packages\\pandas\\core\\frame.py\u001b[0m in \u001b[0;36m__getitem__\u001b[1;34m(self, key)\u001b[0m\n\u001b[0;32m   3503\u001b[0m             \u001b[1;32mif\u001b[0m \u001b[0mself\u001b[0m\u001b[1;33m.\u001b[0m\u001b[0mcolumns\u001b[0m\u001b[1;33m.\u001b[0m\u001b[0mnlevels\u001b[0m \u001b[1;33m>\u001b[0m \u001b[1;36m1\u001b[0m\u001b[1;33m:\u001b[0m\u001b[1;33m\u001b[0m\u001b[1;33m\u001b[0m\u001b[0m\n\u001b[0;32m   3504\u001b[0m                 \u001b[1;32mreturn\u001b[0m \u001b[0mself\u001b[0m\u001b[1;33m.\u001b[0m\u001b[0m_getitem_multilevel\u001b[0m\u001b[1;33m(\u001b[0m\u001b[0mkey\u001b[0m\u001b[1;33m)\u001b[0m\u001b[1;33m\u001b[0m\u001b[1;33m\u001b[0m\u001b[0m\n\u001b[1;32m-> 3505\u001b[1;33m             \u001b[0mindexer\u001b[0m \u001b[1;33m=\u001b[0m \u001b[0mself\u001b[0m\u001b[1;33m.\u001b[0m\u001b[0mcolumns\u001b[0m\u001b[1;33m.\u001b[0m\u001b[0mget_loc\u001b[0m\u001b[1;33m(\u001b[0m\u001b[0mkey\u001b[0m\u001b[1;33m)\u001b[0m\u001b[1;33m\u001b[0m\u001b[1;33m\u001b[0m\u001b[0m\n\u001b[0m\u001b[0;32m   3506\u001b[0m             \u001b[1;32mif\u001b[0m \u001b[0mis_integer\u001b[0m\u001b[1;33m(\u001b[0m\u001b[0mindexer\u001b[0m\u001b[1;33m)\u001b[0m\u001b[1;33m:\u001b[0m\u001b[1;33m\u001b[0m\u001b[1;33m\u001b[0m\u001b[0m\n\u001b[0;32m   3507\u001b[0m                 \u001b[0mindexer\u001b[0m \u001b[1;33m=\u001b[0m \u001b[1;33m[\u001b[0m\u001b[0mindexer\u001b[0m\u001b[1;33m]\u001b[0m\u001b[1;33m\u001b[0m\u001b[1;33m\u001b[0m\u001b[0m\n",
      "\u001b[1;32m~\\anaconda3\\lib\\site-packages\\pandas\\core\\indexes\\base.py\u001b[0m in \u001b[0;36mget_loc\u001b[1;34m(self, key, method, tolerance)\u001b[0m\n\u001b[0;32m   3629\u001b[0m                 \u001b[1;32mreturn\u001b[0m \u001b[0mself\u001b[0m\u001b[1;33m.\u001b[0m\u001b[0m_engine\u001b[0m\u001b[1;33m.\u001b[0m\u001b[0mget_loc\u001b[0m\u001b[1;33m(\u001b[0m\u001b[0mcasted_key\u001b[0m\u001b[1;33m)\u001b[0m\u001b[1;33m\u001b[0m\u001b[1;33m\u001b[0m\u001b[0m\n\u001b[0;32m   3630\u001b[0m             \u001b[1;32mexcept\u001b[0m \u001b[0mKeyError\u001b[0m \u001b[1;32mas\u001b[0m \u001b[0merr\u001b[0m\u001b[1;33m:\u001b[0m\u001b[1;33m\u001b[0m\u001b[1;33m\u001b[0m\u001b[0m\n\u001b[1;32m-> 3631\u001b[1;33m                 \u001b[1;32mraise\u001b[0m \u001b[0mKeyError\u001b[0m\u001b[1;33m(\u001b[0m\u001b[0mkey\u001b[0m\u001b[1;33m)\u001b[0m \u001b[1;32mfrom\u001b[0m \u001b[0merr\u001b[0m\u001b[1;33m\u001b[0m\u001b[1;33m\u001b[0m\u001b[0m\n\u001b[0m\u001b[0;32m   3632\u001b[0m             \u001b[1;32mexcept\u001b[0m \u001b[0mTypeError\u001b[0m\u001b[1;33m:\u001b[0m\u001b[1;33m\u001b[0m\u001b[1;33m\u001b[0m\u001b[0m\n\u001b[0;32m   3633\u001b[0m                 \u001b[1;31m# If we have a listlike key, _check_indexing_error will raise\u001b[0m\u001b[1;33m\u001b[0m\u001b[1;33m\u001b[0m\u001b[0m\n",
      "\u001b[1;31mKeyError\u001b[0m: 'cumulative_freqency'"
     ]
    },
    {
     "data": {
      "image/png": "[encoded data removed]",
      "text/plain": [
       "<Figure size 1000x600 with 2 Axes>"
      ]
     },
     "metadata": {},
     "output_type": "display_data"
    }
   ],
   "source": [
    "# 나영씨\n",
    "# 과제(1): 클래스별 빈도를 나타내는 히스토그램에 누적상대도수(cumulative_freqency)를\n",
    "# (y축 오른쪽에 누적상대도수, 왼쪽엔 그냥 값)추가하여 꺾은 선 그래프로 표현\n",
    "\n",
    "plt.figure(figsize=(10,6))\n",
    "freq, _, _ = plt.hist(e_scores, bins=10, range=(0,100))\n",
    "\n",
    "plt.xlabel('score')\n",
    "plt.ylabel('person number')\n",
    "plt.xticks(np.linspace(0, 100, 10+1))\n",
    "plt.yticks(np.arange(0, freq.max()+1))\n",
    "\n",
    "ax2=plt.twinx()    # y축 분리된 그래프 따로 만들어서 합치기, X를 그대로 활용하겠다.\n",
    "x=np.linspace(0, 100, 10)\n",
    "y=freq_dist_df['cumulative_freqency']\n",
    "ax2.plot(x,y, color='red', marker='o', markersize=4)\n",
    "\n",
    "plt.show()"
   ]
  },
  {
   "cell_type": "code",
   "execution_count": 113,
   "id": "89c2c7f6",
   "metadata": {
    "scrolled": true
   },
   "outputs": [
    {
     "data": {
      "image/png": "[encoded data removed]",
      "text/plain": [
       "<Figure size 500x600 with 1 Axes>"
      ]
     },
     "metadata": {},
     "output_type": "display_data"
    }
   ],
   "source": [
    "# box plot\n",
    "import warnings\n",
    "warnings.filterwarnings('ignore')\n",
    "\n",
    "plt.figure(figsize=(5,6))\n",
    "plt.boxplot(e_scores, labels=['english'])\n",
    "plt.show()"
   ]
  },
  {
   "cell_type": "markdown",
   "id": "35f57127",
   "metadata": {},
   "source": [
    "### 과제2\n",
    "타이타닉 데이터셋에서 age, pclass, fare, sex, embarked 칼럼 중 2개를 선택하여 각 칼럼의 특징을 설명하고 종속변수인 survived와의 관계를 기술하세요.\n",
    "\n",
    "- 각 컬럼에 대한 전처리 후 기초 통계량, 시각화를 통한 분포 및 특징 탐색, 이상치 여부 탐색\n",
    "- 선택한 컬럼을 가장 잘 활용할 수 있는 형태로 변환"
   ]
  },
  {
   "cell_type": "markdown",
   "id": "ac219107",
   "metadata": {},
   "source": [
    "나영씨꺼 : 이상치 의심할만한게 많았지만 확인해보니 이상치가 아니었다. (age, fare)\n",
    "통계적으로 이상치라고 해서 다 삭제하거나 그런 건 아니다\n",
    "휴먼에러라던지.. 항상 가능성으로 두고 확인해봐야한다.\n",
    "\n",
    "- fare : 가격이 몰려있는 아래쪽부분을 더 펼쳐봐야 한다. 0~50사이가 대부분임을 확인했으니 로그변환을 해서 데이터의 순위는 왜곡하지 않으면서 자세하게 볼 수 있다."
   ]
  },
  {
   "cell_type": "markdown",
   "id": "78069023",
   "metadata": {},
   "source": [
    "#### 2차원 데이터"
   ]
  },
  {
   "cell_type": "code",
   "execution_count": 18,
   "id": "8f25810f",
   "metadata": {},
   "outputs": [
    {
     "data": {
      "text/html": [
       "<div>\n",
       "<style scoped>\n",
       "    .dataframe tbody tr th:only-of-type {\n",
       "        vertical-align: middle;\n",
       "    }\n",
       "\n",
       "    .dataframe tbody tr th {\n",
       "        vertical-align: top;\n",
       "    }\n",
       "\n",
       "    .dataframe thead th {\n",
       "        text-align: right;\n",
       "    }\n",
       "</style>\n",
       "<table border=\"1\" class=\"dataframe\">\n",
       "  <thead>\n",
       "    <tr style=\"text-align: right;\">\n",
       "      <th></th>\n",
       "      <th>english</th>\n",
       "      <th>mathematics</th>\n",
       "    </tr>\n",
       "    <tr>\n",
       "      <th>student number</th>\n",
       "      <th></th>\n",
       "      <th></th>\n",
       "    </tr>\n",
       "  </thead>\n",
       "  <tbody>\n",
       "    <tr>\n",
       "      <th>1</th>\n",
       "      <td>42</td>\n",
       "      <td>65</td>\n",
       "    </tr>\n",
       "    <tr>\n",
       "      <th>2</th>\n",
       "      <td>69</td>\n",
       "      <td>80</td>\n",
       "    </tr>\n",
       "    <tr>\n",
       "      <th>3</th>\n",
       "      <td>56</td>\n",
       "      <td>63</td>\n",
       "    </tr>\n",
       "    <tr>\n",
       "      <th>4</th>\n",
       "      <td>41</td>\n",
       "      <td>63</td>\n",
       "    </tr>\n",
       "    <tr>\n",
       "      <th>5</th>\n",
       "      <td>57</td>\n",
       "      <td>76</td>\n",
       "    </tr>\n",
       "  </tbody>\n",
       "</table>\n",
       "</div>"
      ],
      "text/plain": [
       "                english  mathematics\n",
       "student number                      \n",
       "1                    42           65\n",
       "2                    69           80\n",
       "3                    56           63\n",
       "4                    41           63\n",
       "5                    57           76"
      ]
     },
     "execution_count": 18,
     "metadata": {},
     "output_type": "execute_result"
    }
   ],
   "source": [
    "import numpy as np\n",
    "import pandas as pd\n",
    "df = pd.read_csv('./data/ch2_scores_em.csv', index_col='student number')\n",
    "df.head()"
   ]
  },
  {
   "cell_type": "code",
   "execution_count": 19,
   "id": "febe3afc",
   "metadata": {},
   "outputs": [
    {
     "data": {
      "text/html": [
       "<div>\n",
       "<style scoped>\n",
       "    .dataframe tbody tr th:only-of-type {\n",
       "        vertical-align: middle;\n",
       "    }\n",
       "\n",
       "    .dataframe tbody tr th {\n",
       "        vertical-align: top;\n",
       "    }\n",
       "\n",
       "    .dataframe thead th {\n",
       "        text-align: right;\n",
       "    }\n",
       "</style>\n",
       "<table border=\"1\" class=\"dataframe\">\n",
       "  <thead>\n",
       "    <tr style=\"text-align: right;\">\n",
       "      <th></th>\n",
       "      <th>english</th>\n",
       "      <th>mathematics</th>\n",
       "    </tr>\n",
       "    <tr>\n",
       "      <th>student</th>\n",
       "      <th></th>\n",
       "      <th></th>\n",
       "    </tr>\n",
       "  </thead>\n",
       "  <tbody>\n",
       "    <tr>\n",
       "      <th>A</th>\n",
       "      <td>42</td>\n",
       "      <td>65</td>\n",
       "    </tr>\n",
       "    <tr>\n",
       "      <th>B</th>\n",
       "      <td>69</td>\n",
       "      <td>80</td>\n",
       "    </tr>\n",
       "    <tr>\n",
       "      <th>C</th>\n",
       "      <td>56</td>\n",
       "      <td>63</td>\n",
       "    </tr>\n",
       "    <tr>\n",
       "      <th>D</th>\n",
       "      <td>41</td>\n",
       "      <td>63</td>\n",
       "    </tr>\n",
       "    <tr>\n",
       "      <th>E</th>\n",
       "      <td>57</td>\n",
       "      <td>76</td>\n",
       "    </tr>\n",
       "    <tr>\n",
       "      <th>F</th>\n",
       "      <td>48</td>\n",
       "      <td>60</td>\n",
       "    </tr>\n",
       "    <tr>\n",
       "      <th>G</th>\n",
       "      <td>65</td>\n",
       "      <td>81</td>\n",
       "    </tr>\n",
       "    <tr>\n",
       "      <th>H</th>\n",
       "      <td>49</td>\n",
       "      <td>66</td>\n",
       "    </tr>\n",
       "    <tr>\n",
       "      <th>I</th>\n",
       "      <td>65</td>\n",
       "      <td>78</td>\n",
       "    </tr>\n",
       "    <tr>\n",
       "      <th>J</th>\n",
       "      <td>58</td>\n",
       "      <td>82</td>\n",
       "    </tr>\n",
       "  </tbody>\n",
       "</table>\n",
       "</div>"
      ],
      "text/plain": [
       "         english  mathematics\n",
       "student                      \n",
       "A             42           65\n",
       "B             69           80\n",
       "C             56           63\n",
       "D             41           63\n",
       "E             57           76\n",
       "F             48           60\n",
       "G             65           81\n",
       "H             49           66\n",
       "I             65           78\n",
       "J             58           82"
      ]
     },
     "execution_count": 19,
     "metadata": {},
     "output_type": "execute_result"
    }
   ],
   "source": [
    "e_scores = np.array(df['english'])[:10]\n",
    "m_scores = np.array(df['mathematics'])[:10]\n",
    "\n",
    "scores_df = pd.DataFrame({'english':e_scores, 'mathematics':m_scores},\n",
    "                        index=pd.Index(list('ABCDEFGHIJ'),name='student'))\n",
    "scores_df"
   ]
  },
  {
   "cell_type": "code",
   "execution_count": 20,
   "id": "9f189d32",
   "metadata": {},
   "outputs": [
    {
     "data": {
      "text/html": [
       "<div>\n",
       "<style scoped>\n",
       "    .dataframe tbody tr th:only-of-type {\n",
       "        vertical-align: middle;\n",
       "    }\n",
       "\n",
       "    .dataframe tbody tr th {\n",
       "        vertical-align: top;\n",
       "    }\n",
       "\n",
       "    .dataframe thead th {\n",
       "        text-align: right;\n",
       "    }\n",
       "</style>\n",
       "<table border=\"1\" class=\"dataframe\">\n",
       "  <thead>\n",
       "    <tr style=\"text-align: right;\">\n",
       "      <th></th>\n",
       "      <th>english</th>\n",
       "      <th>mathematics</th>\n",
       "      <th>english_deviation</th>\n",
       "      <th>mathematics_deviation</th>\n",
       "    </tr>\n",
       "    <tr>\n",
       "      <th>student</th>\n",
       "      <th></th>\n",
       "      <th></th>\n",
       "      <th></th>\n",
       "      <th></th>\n",
       "    </tr>\n",
       "  </thead>\n",
       "  <tbody>\n",
       "    <tr>\n",
       "      <th>A</th>\n",
       "      <td>42</td>\n",
       "      <td>65</td>\n",
       "      <td>-13.0</td>\n",
       "      <td>-6.4</td>\n",
       "    </tr>\n",
       "    <tr>\n",
       "      <th>B</th>\n",
       "      <td>69</td>\n",
       "      <td>80</td>\n",
       "      <td>14.0</td>\n",
       "      <td>8.6</td>\n",
       "    </tr>\n",
       "    <tr>\n",
       "      <th>C</th>\n",
       "      <td>56</td>\n",
       "      <td>63</td>\n",
       "      <td>1.0</td>\n",
       "      <td>-8.4</td>\n",
       "    </tr>\n",
       "    <tr>\n",
       "      <th>D</th>\n",
       "      <td>41</td>\n",
       "      <td>63</td>\n",
       "      <td>-14.0</td>\n",
       "      <td>-8.4</td>\n",
       "    </tr>\n",
       "    <tr>\n",
       "      <th>E</th>\n",
       "      <td>57</td>\n",
       "      <td>76</td>\n",
       "      <td>2.0</td>\n",
       "      <td>4.6</td>\n",
       "    </tr>\n",
       "    <tr>\n",
       "      <th>F</th>\n",
       "      <td>48</td>\n",
       "      <td>60</td>\n",
       "      <td>-7.0</td>\n",
       "      <td>-11.4</td>\n",
       "    </tr>\n",
       "    <tr>\n",
       "      <th>G</th>\n",
       "      <td>65</td>\n",
       "      <td>81</td>\n",
       "      <td>10.0</td>\n",
       "      <td>9.6</td>\n",
       "    </tr>\n",
       "    <tr>\n",
       "      <th>H</th>\n",
       "      <td>49</td>\n",
       "      <td>66</td>\n",
       "      <td>-6.0</td>\n",
       "      <td>-5.4</td>\n",
       "    </tr>\n",
       "    <tr>\n",
       "      <th>I</th>\n",
       "      <td>65</td>\n",
       "      <td>78</td>\n",
       "      <td>10.0</td>\n",
       "      <td>6.6</td>\n",
       "    </tr>\n",
       "    <tr>\n",
       "      <th>J</th>\n",
       "      <td>58</td>\n",
       "      <td>82</td>\n",
       "      <td>3.0</td>\n",
       "      <td>10.6</td>\n",
       "    </tr>\n",
       "  </tbody>\n",
       "</table>\n",
       "</div>"
      ],
      "text/plain": [
       "         english  mathematics  english_deviation  mathematics_deviation\n",
       "student                                                                \n",
       "A             42           65              -13.0                   -6.4\n",
       "B             69           80               14.0                    8.6\n",
       "C             56           63                1.0                   -8.4\n",
       "D             41           63              -14.0                   -8.4\n",
       "E             57           76                2.0                    4.6\n",
       "F             48           60               -7.0                  -11.4\n",
       "G             65           81               10.0                    9.6\n",
       "H             49           66               -6.0                   -5.4\n",
       "I             65           78               10.0                    6.6\n",
       "J             58           82                3.0                   10.6"
      ]
     },
     "execution_count": 20,
     "metadata": {},
     "output_type": "execute_result"
    }
   ],
   "source": [
    "# 공분산\n",
    "# 공분산이 양수인 경우 한 변수가 증가할 때 다른 변수도 증가하는 경향이 있으며, \n",
    "# 음수인 경우 한 변수가 증가할 때 다른 변수는 감소하는 경향이 있습니다. \n",
    "# 공분산이 0에 가까운 경우 두 변수 사이에는 거의 상관관계가 없다고 볼 수 있습니다.\n",
    "\n",
    "summary_df = scores_df.copy()\n",
    "summary_df['english_deviation'] = summary_df.english - summary_df.english.mean()\n",
    "summary_df['mathematics_deviation'] = summary_df.mathematics - summary_df.mathematics.mean()\n",
    "summary_df #과목별 편차 까쥐"
   ]
  },
  {
   "cell_type": "code",
   "execution_count": 21,
   "id": "47c2c788",
   "metadata": {},
   "outputs": [
    {
     "data": {
      "text/html": [
       "<div>\n",
       "<style scoped>\n",
       "    .dataframe tbody tr th:only-of-type {\n",
       "        vertical-align: middle;\n",
       "    }\n",
       "\n",
       "    .dataframe tbody tr th {\n",
       "        vertical-align: top;\n",
       "    }\n",
       "\n",
       "    .dataframe thead th {\n",
       "        text-align: right;\n",
       "    }\n",
       "</style>\n",
       "<table border=\"1\" class=\"dataframe\">\n",
       "  <thead>\n",
       "    <tr style=\"text-align: right;\">\n",
       "      <th></th>\n",
       "      <th>english</th>\n",
       "      <th>mathematics</th>\n",
       "      <th>english_deviation</th>\n",
       "      <th>mathematics_deviation</th>\n",
       "      <th>product of deviation</th>\n",
       "    </tr>\n",
       "    <tr>\n",
       "      <th>student</th>\n",
       "      <th></th>\n",
       "      <th></th>\n",
       "      <th></th>\n",
       "      <th></th>\n",
       "      <th></th>\n",
       "    </tr>\n",
       "  </thead>\n",
       "  <tbody>\n",
       "    <tr>\n",
       "      <th>A</th>\n",
       "      <td>42</td>\n",
       "      <td>65</td>\n",
       "      <td>-13.0</td>\n",
       "      <td>-6.4</td>\n",
       "      <td>83.2</td>\n",
       "    </tr>\n",
       "    <tr>\n",
       "      <th>B</th>\n",
       "      <td>69</td>\n",
       "      <td>80</td>\n",
       "      <td>14.0</td>\n",
       "      <td>8.6</td>\n",
       "      <td>120.4</td>\n",
       "    </tr>\n",
       "    <tr>\n",
       "      <th>C</th>\n",
       "      <td>56</td>\n",
       "      <td>63</td>\n",
       "      <td>1.0</td>\n",
       "      <td>-8.4</td>\n",
       "      <td>-8.4</td>\n",
       "    </tr>\n",
       "    <tr>\n",
       "      <th>D</th>\n",
       "      <td>41</td>\n",
       "      <td>63</td>\n",
       "      <td>-14.0</td>\n",
       "      <td>-8.4</td>\n",
       "      <td>117.6</td>\n",
       "    </tr>\n",
       "    <tr>\n",
       "      <th>E</th>\n",
       "      <td>57</td>\n",
       "      <td>76</td>\n",
       "      <td>2.0</td>\n",
       "      <td>4.6</td>\n",
       "      <td>9.2</td>\n",
       "    </tr>\n",
       "    <tr>\n",
       "      <th>F</th>\n",
       "      <td>48</td>\n",
       "      <td>60</td>\n",
       "      <td>-7.0</td>\n",
       "      <td>-11.4</td>\n",
       "      <td>79.8</td>\n",
       "    </tr>\n",
       "    <tr>\n",
       "      <th>G</th>\n",
       "      <td>65</td>\n",
       "      <td>81</td>\n",
       "      <td>10.0</td>\n",
       "      <td>9.6</td>\n",
       "      <td>96.0</td>\n",
       "    </tr>\n",
       "    <tr>\n",
       "      <th>H</th>\n",
       "      <td>49</td>\n",
       "      <td>66</td>\n",
       "      <td>-6.0</td>\n",
       "      <td>-5.4</td>\n",
       "      <td>32.4</td>\n",
       "    </tr>\n",
       "    <tr>\n",
       "      <th>I</th>\n",
       "      <td>65</td>\n",
       "      <td>78</td>\n",
       "      <td>10.0</td>\n",
       "      <td>6.6</td>\n",
       "      <td>66.0</td>\n",
       "    </tr>\n",
       "    <tr>\n",
       "      <th>J</th>\n",
       "      <td>58</td>\n",
       "      <td>82</td>\n",
       "      <td>3.0</td>\n",
       "      <td>10.6</td>\n",
       "      <td>31.8</td>\n",
       "    </tr>\n",
       "  </tbody>\n",
       "</table>\n",
       "</div>"
      ],
      "text/plain": [
       "         english  mathematics  english_deviation  mathematics_deviation  \\\n",
       "student                                                                   \n",
       "A             42           65              -13.0                   -6.4   \n",
       "B             69           80               14.0                    8.6   \n",
       "C             56           63                1.0                   -8.4   \n",
       "D             41           63              -14.0                   -8.4   \n",
       "E             57           76                2.0                    4.6   \n",
       "F             48           60               -7.0                  -11.4   \n",
       "G             65           81               10.0                    9.6   \n",
       "H             49           66               -6.0                   -5.4   \n",
       "I             65           78               10.0                    6.6   \n",
       "J             58           82                3.0                   10.6   \n",
       "\n",
       "         product of deviation  \n",
       "student                        \n",
       "A                        83.2  \n",
       "B                       120.4  \n",
       "C                        -8.4  \n",
       "D                       117.6  \n",
       "E                         9.2  \n",
       "F                        79.8  \n",
       "G                        96.0  \n",
       "H                        32.4  \n",
       "I                        66.0  \n",
       "J                        31.8  "
      ]
     },
     "execution_count": 21,
     "metadata": {},
     "output_type": "execute_result"
    }
   ],
   "source": [
    "summary_df['product of deviation'] = summary_df['english_deviation']*summary_df['mathematics_deviation']\n",
    "summary_df"
   ]
  },
  {
   "cell_type": "code",
   "execution_count": 22,
   "id": "5885662b",
   "metadata": {},
   "outputs": [
    {
     "data": {
      "text/plain": [
       "86.0"
      ]
     },
     "execution_count": 22,
     "metadata": {},
     "output_type": "execute_result"
    }
   ],
   "source": [
    "np.var(scores_df.english)"
   ]
  },
  {
   "cell_type": "code",
   "execution_count": 23,
   "id": "882d762d",
   "metadata": {},
   "outputs": [
    {
     "data": {
      "text/plain": [
       "62.8"
      ]
     },
     "execution_count": 23,
     "metadata": {},
     "output_type": "execute_result"
    }
   ],
   "source": [
    "summary_df['product of deviation'].mean()"
   ]
  },
  {
   "cell_type": "code",
   "execution_count": 24,
   "id": "72a6d34c",
   "metadata": {},
   "outputs": [
    {
     "data": {
      "text/plain": [
       "array([[95.55555556, 69.77777778],\n",
       "       [69.77777778, 76.04444444]])"
      ]
     },
     "execution_count": 24,
     "metadata": {},
     "output_type": "execute_result"
    }
   ],
   "source": [
    "np.cov(e_scores,m_scores) # 행렬로 나옴 (영어의 분산/공분산\n",
    "#                                        공분산/ 수학의 분산)"
   ]
  },
  {
   "cell_type": "code",
   "execution_count": 25,
   "id": "21bc1428",
   "metadata": {},
   "outputs": [
    {
     "data": {
      "text/plain": [
       "array([[86.  , 62.8 ],\n",
       "       [62.8 , 68.44]])"
      ]
     },
     "execution_count": 25,
     "metadata": {},
     "output_type": "execute_result"
    }
   ],
   "source": [
    "np.cov(e_scores,m_scores,ddof=0)"
   ]
  },
  {
   "cell_type": "code",
   "execution_count": 26,
   "id": "73f0ea64",
   "metadata": {},
   "outputs": [
    {
     "data": {
      "text/plain": [
       "array([[95.55555556, 69.77777778],\n",
       "       [69.77777778, 76.04444444]])"
      ]
     },
     "execution_count": 26,
     "metadata": {},
     "output_type": "execute_result"
    }
   ],
   "source": [
    "# n-1로 나눔\n",
    "np.cov(e_scores,m_scores,ddof=1) #default"
   ]
  },
  {
   "cell_type": "code",
   "execution_count": null,
   "id": "ccb1bab3",
   "metadata": {},
   "outputs": [],
   "source": [
    "공분산은 방향은 아는데 얼만큼 상관이 있는지 모른다 -> 상관계수 필요!\n",
    "표준편차로 나눠줘야 함.(영표편x수표편)"
   ]
  },
  {
   "cell_type": "code",
   "execution_count": 130,
   "id": "0e8fc52e",
   "metadata": {},
   "outputs": [
    {
     "data": {
      "text/plain": [
       "0.8185692341186713"
      ]
     },
     "execution_count": 130,
     "metadata": {},
     "output_type": "execute_result"
    }
   ],
   "source": [
    "# 상관계수\n",
    "np.cov(e_scores,m_scores,ddof=0)[0,1] / (np.std(e_scores)*np.std(m_scores))"
   ]
  },
  {
   "cell_type": "code",
   "execution_count": 131,
   "id": "4517d8ee",
   "metadata": {},
   "outputs": [
    {
     "data": {
      "text/plain": [
       "array([[1.        , 0.81856923],\n",
       "       [0.81856923, 1.        ]])"
      ]
     },
     "execution_count": 131,
     "metadata": {},
     "output_type": "execute_result"
    }
   ],
   "source": [
    "np.corrcoef(e_scores,m_scores)"
   ]
  },
  {
   "cell_type": "code",
   "execution_count": 132,
   "id": "1845daae",
   "metadata": {
    "scrolled": true
   },
   "outputs": [
    {
     "data": {
      "text/html": [
       "<div>\n",
       "<style scoped>\n",
       "    .dataframe tbody tr th:only-of-type {\n",
       "        vertical-align: middle;\n",
       "    }\n",
       "\n",
       "    .dataframe tbody tr th {\n",
       "        vertical-align: top;\n",
       "    }\n",
       "\n",
       "    .dataframe thead th {\n",
       "        text-align: right;\n",
       "    }\n",
       "</style>\n",
       "<table border=\"1\" class=\"dataframe\">\n",
       "  <thead>\n",
       "    <tr style=\"text-align: right;\">\n",
       "      <th></th>\n",
       "      <th>english</th>\n",
       "      <th>mathematics</th>\n",
       "    </tr>\n",
       "  </thead>\n",
       "  <tbody>\n",
       "    <tr>\n",
       "      <th>english</th>\n",
       "      <td>1.000000</td>\n",
       "      <td>0.818569</td>\n",
       "    </tr>\n",
       "    <tr>\n",
       "      <th>mathematics</th>\n",
       "      <td>0.818569</td>\n",
       "      <td>1.000000</td>\n",
       "    </tr>\n",
       "  </tbody>\n",
       "</table>\n",
       "</div>"
      ],
      "text/plain": [
       "              english  mathematics\n",
       "english      1.000000     0.818569\n",
       "mathematics  0.818569     1.000000"
      ]
     },
     "execution_count": 132,
     "metadata": {},
     "output_type": "execute_result"
    }
   ],
   "source": [
    "scores_df.corr()"
   ]
  },
  {
   "cell_type": "markdown",
   "id": "edecb9be",
   "metadata": {},
   "source": [
    "### 과제3\n",
    "타이타닉 데이터셋에서 age, pclass, fare, sex, embarked 컬럼 중 2개의 쌍을 선택하여 공분산 행렬및 상관계수 행렬을 각각 구하여 비교하세요."
   ]
  },
  {
   "cell_type": "markdown",
   "id": "8e037218",
   "metadata": {},
   "source": [
    "여기서는 연속형이 없기 때문에 빈도분석을 해야한다.\n",
    "pclass 와 fare -> 두 개는 숫자가 의미를 가지는 상관관계를 가진다.\n",
    "p: 범주형이면서 숫자가 의미를 가진다 (1,2,3)\n",
    "f: 요금으로서 숫자의 크기가 있다.\n"
   ]
  },
  {
   "cell_type": "markdown",
   "id": "43bad7c8",
   "metadata": {},
   "source": [
    "#### 2차원 데이터의 시각화"
   ]
  },
  {
   "cell_type": "code",
   "execution_count": 58,
   "id": "c8b2d106",
   "metadata": {},
   "outputs": [
    {
     "data": {
      "image/png": "[encoded data removed]",
      "text/plain": [
       "<Figure size 600x400 with 1 Axes>"
      ]
     },
     "metadata": {},
     "output_type": "display_data"
    }
   ],
   "source": [
    "# 영어, 수학 점수로 산점도 그리기\n",
    "import matplotlib.pyplot as plt\n",
    "e_scores = np.array(df.english)\n",
    "m_scores = np.array(df.mathematics)\n",
    "\n",
    "plt.figure(figsize=(6,4))\n",
    "plt.scatter(e_scores, m_scores)\n",
    "plt.xlabel('English')\n",
    "plt.ylabel('Mathematics')\n",
    "plt.show()"
   ]
  },
  {
   "cell_type": "code",
   "execution_count": 63,
   "id": "ca57d3b3",
   "metadata": {
    "scrolled": true
   },
   "outputs": [
    {
     "data": {
      "text/plain": [
       "<AxesSubplot:xlabel='english', ylabel='mathematics'>"
      ]
     },
     "execution_count": 63,
     "metadata": {},
     "output_type": "execute_result"
    },
    {
     "data": {
      "image/png": "[encoded data removed]",
      "text/plain": [
       "<Figure size 600x400 with 1 Axes>"
      ]
     },
     "metadata": {},
     "output_type": "display_data"
    }
   ],
   "source": [
    "import seaborn as sns\n",
    "plt.figure(figsize=(6,4))\n",
    "sns.regplot(data=df, x='english', y='mathematics')"
   ]
  },
  {
   "cell_type": "code",
   "execution_count": null,
   "id": "ffdbc7f5",
   "metadata": {},
   "outputs": [],
   "source": [
    "# 회귀직선 구하기(지금은 참고만!)\n",
    "poly_fit = np.polyfit(e_scores,_m_scores,1)\n",
    "poly_1d = np.poly\n",
    " 마저적기"
   ]
  },
  {
   "cell_type": "code",
   "execution_count": 68,
   "id": "71e2ff35",
   "metadata": {
    "scrolled": true
   },
   "outputs": [
    {
     "data": {
      "image/png": "[encoded data removed]",
      "text/plain": [
       "<Figure size 600x400 with 1 Axes>"
      ]
     },
     "metadata": {},
     "output_type": "display_data"
    }
   ],
   "source": [
    "# sns.boxplot(data=df, x='english', y='mathematics') 이상하게 나옴\n",
    "plt.figure(figsize=(6,4))\n",
    "plt.boxplot([e_scores,m_scores])\n",
    "plt.show()\n",
    "# 두 개의 변수를 동시에 봐서 한 눈에 비교 가능하다(전반적으로 수학이 더 높다. 분포도가 비슷하다)"
   ]
  },
  {
   "cell_type": "markdown",
   "id": "f14b5587",
   "metadata": {},
   "source": [
    "#### 과제1\n",
    "english와 math 2차원데이터간의 관계를 파악할 수 있는 시각화를 수행하세요.\n",
    "히스토그램 -> subplot 사용"
   ]
  },
  {
   "cell_type": "code",
   "execution_count": null,
   "id": "fbf9a1d6",
   "metadata": {},
   "outputs": [],
   "source": []
  },
  {
   "cell_type": "code",
   "execution_count": 71,
   "id": "30cecc81",
   "metadata": {},
   "outputs": [
    {
     "data": {
      "text/plain": [
       "<AxesSubplot:>"
      ]
     },
     "execution_count": 71,
     "metadata": {},
     "output_type": "execute_result"
    },
    {
     "data": {
      "image/png": "[encoded data removed]",
      "text/plain": [
       "<Figure size 500x500 with 2 Axes>"
      ]
     },
     "metadata": {},
     "output_type": "display_data"
    }
   ],
   "source": [
    "# 히트맵\n",
    "plt.figure(figsize=(5,5))\n",
    "sns.heatmap(df[['english', 'mathematics']].corr(),annot=True)\n",
    "\n",
    "# 위와 비교해보니 결과의 차이 발견.\n",
    "# [:10] 때문이었음!"
   ]
  },
  {
   "cell_type": "code",
   "execution_count": null,
   "id": "efc61493",
   "metadata": {},
   "outputs": [],
   "source": []
  },
  {
   "cell_type": "code",
   "execution_count": null,
   "id": "b531bb34",
   "metadata": {},
   "outputs": [],
   "source": []
  },
  {
   "cell_type": "code",
   "execution_count": null,
   "id": "ade82eb3",
   "metadata": {},
   "outputs": [],
   "source": []
  },
  {
   "cell_type": "code",
   "execution_count": null,
   "id": "2d677aba",
   "metadata": {},
   "outputs": [],
   "source": []
  },
  {
   "cell_type": "code",
   "execution_count": null,
   "id": "ad705a0c",
   "metadata": {},
   "outputs": [],
   "source": []
  },
  {
   "cell_type": "code",
   "execution_count": null,
   "id": "f5c5d8df",
   "metadata": {},
   "outputs": [],
   "source": []
  },
  {
   "cell_type": "code",
   "execution_count": null,
   "id": "9d2bbfda",
   "metadata": {},
   "outputs": [],
   "source": []
  },
  {
   "cell_type": "code",
   "execution_count": null,
   "id": "30df9e7e",
   "metadata": {},
   "outputs": [],
   "source": []
  },
  {
   "cell_type": "code",
   "execution_count": null,
   "id": "dc355d5f",
   "metadata": {},
   "outputs": [],
   "source": []
  },
  {
   "cell_type": "code",
   "execution_count": null,
   "id": "91f6c809",
   "metadata": {},
   "outputs": [],
   "source": []
  },
  {
   "cell_type": "code",
   "execution_count": null,
   "id": "fb22665d",
   "metadata": {},
   "outputs": [],
   "source": []
  },
  {
   "cell_type": "code",
   "execution_count": null,
   "id": "b79df5b0",
   "metadata": {},
   "outputs": [],
   "source": []
  }
 ],
 "metadata": {
  "kernelspec": {
   "display_name": "Python 3 (ipykernel)",
   "language": "python",
   "name": "python3"
  },
  "language_info": {
   "codemirror_mode": {
    "name": "ipython",
    "version": 3
   },
   "file_extension": ".py",
   "mimetype": "text/x-python",
   "name": "python",
   "nbconvert_exporter": "python",
   "pygments_lexer": "ipython3",
   "version": "3.9.13"
  }
 },
 "nbformat": 4,
 "nbformat_minor": 5
}
