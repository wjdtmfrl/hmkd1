{
 "cells": [
  {
   "cell_type": "markdown",
   "id": "ab3d36c2",
   "metadata": {},
   "source": [
    "3/13"
   ]
  },
  {
   "cell_type": "markdown",
   "id": "f6df7db5",
   "metadata": {},
   "source": [
    "#### Python in detail"
   ]
  },
  {
   "cell_type": "markdown",
   "id": "b196dfae",
   "metadata": {},
   "source": [
    "- 표현식(값을 나타내는 간단한 코드) >> 문장 >> 프로그램\n",
    "- 연산자: 변수간의 어떠한 기능을 하게 하는 것.\n",
    "- 프로그래밍 언어에서 이름을 붙일 때 사용하는 단어 : 식별자 (ex 변수, 함수)\n",
    "- 함수는 변수와 메소드로 구성된다."
   ]
  },
  {
   "cell_type": "code",
   "execution_count": null,
   "id": "0c1296d7",
   "metadata": {},
   "outputs": [],
   "source": [
    "# f'' 로 표현하기.\n",
    "# ' %s ' %(string)\n",
    "\n",
    "name = '박서진'\n",
    "a = '2'\n",
    "b = '7'\n",
    "c = 20\n",
    "d = 7\n",
    "\n",
    "print(f'저의 이름은 {name}이고 나이는 {a+b}입니다.')\n",
    "print('저의 이름은 %s이고 나이는 %s입니다.' %(name, c+d))"
   ]
  },
  {
   "cell_type": "code",
   "execution_count": null,
   "id": "e7922492",
   "metadata": {},
   "outputs": [],
   "source": [
    "!python -V   #파이썬 버전 확인"
   ]
  },
  {
   "cell_type": "code",
   "execution_count": null,
   "id": "bb3811fb",
   "metadata": {},
   "outputs": [],
   "source": [
    "a=10\n",
    "b=30\n",
    "c= a+b\n",
    "\n",
    "print(c)\n",
    "print(f'합은 {c}입니다.')"
   ]
  },
  {
   "cell_type": "code",
   "execution_count": null,
   "id": "80e1c210",
   "metadata": {},
   "outputs": [],
   "source": [
    "n = '애플'\n",
    "c = '스티븐잡스'\n",
    "\n",
    "print(f'{n}은 {c}가 만들었다.')"
   ]
  },
  {
   "cell_type": "markdown",
   "id": "f5f0a02b",
   "metadata": {},
   "source": [
    "#### 표현식(Expression)\n",
    "- 파이썬을 포함한 프로그램 언어는 '표현식(expresstion)'과 '문장(statement)'이라는 것으로 구성\n",
    "- '표현식(expression)'은 간단하게 '식'이라고 부르기도 하는데요, 하나 이상의 값으로 표현될 수 있는 코드를 의미한다.\n",
    "- 프로그램 언어에서 숫자나 문자 또는 수학의 사칙연산과 같은 것들이 표현식인 것입니다. 이것들은 그 자체만으로 어떠한 값을 갖는다고 평가\n",
    "- 숫자, 문자 그리고 사칙연산 이외에도 이후에 보게 될 '함수 호출(반환되는 값)', '변수 이름과 같은 식별자' 등도 표현식에 포함"
   ]
  },
  {
   "cell_type": "markdown",
   "id": "08b3f82a",
   "metadata": {},
   "source": [
    "100 >> 숫자 100은 100이라는 숫자로 값을 가지므로 표현식\n",
    "100+200 >> 100+200은 사칙연산으로 인해 300이라는 값을 가지므로 표현식\n",
    "\"hello, python\" >> 문자열로 \"hello, python\"이라는 값을 가지므로 표현식\n",
    "\n",
    "(더하기)+ >> +는 자체만으로 어떠한 값도 가지지 않기 때문에 표현식이 아님\n",
    "\n",
    "(빼기)- >> -도 위와 동일한 이유로 표현식이 아님"
   ]
  },
  {
   "cell_type": "markdown",
   "id": "1e61cb79",
   "metadata": {},
   "source": [
    "#### 문장(Statement)\n",
    "- '문장(statement)'은 하나 이상의 표현식이 모인 것으로 프로그래밍에서는 실행 가능한 최소의 독립적인 코드 조각\n",
    "- 문장은 단독적으로 컴파일러가 이해하고 실행할 수 있음\n",
    "- 파이썬 코드의 한 줄, 또는 블록으로 된 것들을 하나의 문장이라고 할 수 있음\n",
    "- 문장이 모여 하나의 '프로그램(program)'이 된다.\n",
    "- 표현식이 모여 문장이 되고, 문장이 모여 프로그램이 되는 것"
   ]
  },
  {
   "cell_type": "code",
   "execution_count": null,
   "id": "592739ab",
   "metadata": {},
   "outputs": [],
   "source": [
    "word = \"python\" # 하나의 문장입니다. \n",
    "a = 100 + 700 # 또 다른 하나의 문장입니다.\n",
    "\n",
    "if a > 500: # 이 두 줄은 if문이라고 해서 블록을 이루는 하나의 문장이 됩니다.\n",
    "    print(word)"
   ]
  },
  {
   "cell_type": "markdown",
   "id": "a7dabb11",
   "metadata": {},
   "source": [
    ";(세미콜론) --> 여러 표현식들을 한 줄에 쓸 수 있게 해준다. "
   ]
  },
  {
   "cell_type": "markdown",
   "id": "7607c0fb",
   "metadata": {},
   "source": [
    "#### 키워드(keyword)\n",
    "- '키워드(keyword)'는 각 프로그램 언어에서 특정 용도로 사용하기 위해 만들어진 특별한 의미를 가지는 예약된 단어\n",
    "- 프로그래밍 언어에서 사용자가 '변수'나 '함수' 등의 이름을 정할 때 키워드를 사용할 수 없다. \n",
    "- 키워드로 쓰이는 단어는 프로그램을 작성할 때 그 용도가 아니면 사용을 할 수 없기 때문에 어떤 단어가 키워드로 쓰이는지 알아야 함."
   ]
  },
  {
   "cell_type": "code",
   "execution_count": null,
   "id": "f1db42b3",
   "metadata": {},
   "outputs": [],
   "source": [
    "import keyword\n",
    "print(keyword.kwlist)"
   ]
  },
  {
   "cell_type": "code",
   "execution_count": null,
   "id": "6a4a7486",
   "metadata": {},
   "outputs": [],
   "source": [
    "and = 1\n",
    "# 예약어는 변수로 사용할 수 없다. (invalid syntax:파이썬에서 쓰지 않는 문법.)"
   ]
  },
  {
   "cell_type": "markdown",
   "id": "16725109",
   "metadata": {},
   "source": [
    "식별자 기본 규칙 : 식별자는 코드 내의 변수, 함수 혹은 속성을 식별하는 문자열 / 프로그램 언어에서 변수 함수 클래스 모듈 등 다른 객체를 표현하기 위해 사용한다.\n",
    "\n",
    "- 키워드를 사용하면 안 된다.\n",
    "- 특수문자는 언더바(_)만 사용한다.\n",
    "- 숫자로 시작하면 안 된다.\n",
    "- 공백을 포함할 수 없다."
   ]
  },
  {
   "cell_type": "markdown",
   "id": "0f7c0b5d",
   "metadata": {},
   "source": [
    "https://bibi6666667.tistory.com/277\n",
    "\n",
    "==> 파이썬은 snake_case와 CamelCase를 모두 사용\n",
    "\n",
    "- itemlist iten_list itemList\n",
    "- loginstatus login_status loginStatus\n",
    "- 캐멀 케이스(대문자로 시작)클래스\n",
    "- 스네이크 케이스(소문자로 시작) 뒤에 ()가 있다 -> 함수\n",
    "- 스네이크 케이스(소문자로 시작) 뒤에 ()가 없다 -> 변수"
   ]
  },
  {
   "cell_type": "markdown",
   "id": "eec95e3a",
   "metadata": {},
   "source": [
    "#### 주석(Comment)\n",
    "- 주석(comment)은 프로그램에 영향을 주지 않는 것으로 프로그램을 실행할 경우 무시되는 코드 영역\n",
    "- 주석은 보통 코드에서 중요한 부분에 대한 설명을 하기 위해 사용\n",
    "- 테스트 중에 잠시 필요하지 않은 코드 조각을 실행하고 싶지 않을 때 해당 부분을 주석으로 처리"
   ]
  },
  {
   "cell_type": "markdown",
   "id": "d7a8011b",
   "metadata": {},
   "source": [
    "= <- 값을 대입한다.// \n",
    "True값(불린값)도 대입할 수 있다.//\n",
    "문자로 구성된 data도 대입할 수 있다.\n",
    "\n",
    "정수, 실수, 불린값, 문자, 문자로 구성된 문자열 가능한~!"
   ]
  },
  {
   "cell_type": "code",
   "execution_count": null,
   "id": "a1c04df4",
   "metadata": {},
   "outputs": [],
   "source": [
    "# 변수에 값이 대입된다\n",
    "\n",
    "number = 1\n",
    "number + 2   # <- 대입한 건 아님!!!!!\n",
    "print(number,type(number))\n",
    "number = 'one'\n",
    "print(number,type(number))"
   ]
  },
  {
   "cell_type": "markdown",
   "id": "9dffe297",
   "metadata": {},
   "source": [
    "#### 자료형\n",
    "- 자료형 또는 데이터 타입이란 숫자, 문자 등과 같이 여러 종류의 데이터를 구분하기 위한 분류\n",
    "- 파이썬의 자료형은 크게 숫자(numbers), 시퀀스(sequence), 매핑(mapping) 등으로 나눌 수 있다.\n",
    "- 파이썬의 기본 자료형\n",
    "  - 수치형 \n",
    "    - 정수형 : int는 정수(integer)를 나타낸다. 양의 정수와 음의 정수, 숫자 0 (0도 정수로 친다.)\n",
    "    - 실수형 : float는 원래 부동소수점수(floating-point number)를 가리키는데, 지금은 단순히 소수점 이하를 표현할 수 있는 수이다.\n",
    "    - 복소수형 : 복소수를 complex로 나타내고 제곱하면 -1이 되는 수 i를 ‘허수(imaginary number)’라고 하는데 허수 i를 j로 표현\n",
    "  - 시퀀스 : 문자열(str), 리스트(list), 튜플(tuple), 사용자 정의 클래스가 시퀀스에 속한다. for 문에서 사용할 수 있는 것들이 바로 시퀀스 (순서가 있음)\n",
    "    - 문자열 : 문자를 한 줄로 표현하며 문자열 인덱스를 이용해 문자열의 일부를 복사\n",
    "    - 리스트 : 대괄호([ ])로 감싸 주고 각 요솟값은 쉼표(,)로 구분\n",
    "    - 튜플 : 튜플은 ( )으로 둘러싸고 각 요솟값은 쉼표(,)로 구분\n",
    "  - 매핑\n",
    "    - 사전 : 딕셔너리(dict)는 키(key)와 값(value)의 짝으로 이뤄지는데 이런 것을 매핑\n",
    "  - 집합 : 집합을 표현하는 세트(set) (중복 허용하지 않고 순서가 없음 -> 시퀀스가 아니다)\n",
    "  - 블린 : 참, 거짓을 표현 (진리값)"
   ]
  },
  {
   "cell_type": "code",
   "execution_count": null,
   "id": "ef9b6dad",
   "metadata": {},
   "outputs": [],
   "source": [
    "# 자료형 출력\n",
    "a = 200\n",
    "msg = 'I love Python'\n",
    "list_data = ['a', 'b', 'c']\n",
    "dict_data = {'a':97, 'b':98}\n",
    "print(a)\n",
    "print(msg)\n",
    "print(list_data)\n",
    "print(list_data[0])\n",
    "print(dict_data)\n",
    "print(dict_data['a'])"
   ]
  },
  {
   "cell_type": "markdown",
   "id": "5e174441",
   "metadata": {},
   "source": [
    "#### 시퀀스 자료 인덱싱\n",
    "- 시퀀스 자료 인덱스는 0부터 시작하며 음수 인덱스(-1)도 가능\n",
    "- 슬라이싱은 \\[시작 인덱스:끝 인덱스:스텝\\]으로 표현하며 스텝은 생략할 수 있음\n",
    "    => [0:10]이면 0~9까지\n",
    "- 자료형이 같은 시퀀스 자료를 순서있게 연결할 수 있다."
   ]
  },
  {
   "cell_type": "code",
   "execution_count": null,
   "id": "86580539",
   "metadata": {},
   "outputs": [],
   "source": [
    "strdata = 'Time is money'\n",
    "listdata = [1,2,[1,2,3]]\n",
    "\n",
    "print(strdata[5])   #공백도 한 자리로 포함!\n",
    "print(strdata[-2])   #음수 인덱스일 때에는 0부터 시작하는게 아니라 -1, -2로 세야 한다.\n",
    "print(listdata[0])\n",
    "print(listdata[-1])\n",
    "print(listdata[2][1])"
   ]
  },
  {
   "cell_type": "code",
   "execution_count": null,
   "id": "9354d4ad",
   "metadata": {},
   "outputs": [],
   "source": [
    "# 슬라이싱을 이용하여 아래와 같이 출력하세요.\n",
    "\n",
    "strdata = 'Time is money!!'\n",
    "\n",
    "ime\n",
    "Time is\n",
    "oney!!\n",
    "Time is mone\n",
    "y!!\n",
    "Time is money!!\n",
    "Tm smny!"
   ]
  },
  {
   "cell_type": "code",
   "execution_count": null,
   "id": "5d922ce6",
   "metadata": {},
   "outputs": [],
   "source": [
    "strdata = 'Time is money!!'\n",
    "\n",
    "print(strdata[1:4])\n",
    "print(strdata[0:7])\n",
    "print(strdata[9:])\n",
    "print(strdata[0:-3])\n",
    "print(strdata[12:])\n",
    "print(strdata)\n",
    "print(strdata[0::2])"
   ]
  },
  {
   "cell_type": "code",
   "execution_count": null,
   "id": "c309b93e",
   "metadata": {},
   "outputs": [],
   "source": [
    "# 시퀀스 자료 연결(+)을 이용하여 아래와 같이 출력하세요\n",
    "strdata1 = 'I love'; strdata2 = 'Python'; strdata3 = 'you'\n",
    "listdata1 = [1, 2, 3]; listdata2 = [4, 5, 6]\n",
    "\n",
    "print(strdata1+ ' ' + strdata2)\n",
    "print(strdata1+ ' ' + strdata3)\n",
    "print(listdata1 + listdata2)"
   ]
  },
  {
   "cell_type": "code",
   "execution_count": null,
   "id": "2fc845dc",
   "metadata": {},
   "outputs": [],
   "source": [
    "artist = '빅뱅'\n",
    "sing = '뱅'\n",
    "\n",
    "print(f'{artist}이 부르는 {sing * 3}')"
   ]
  },
  {
   "cell_type": "code",
   "execution_count": null,
   "id": "d2d8f471",
   "metadata": {},
   "outputs": [],
   "source": [
    "strdata1= 'i love python'\n",
    "strdata2 = '나는 파이썬을 사랑합니다'\n",
    "listdata = ['a', 'b', 'c', strdata1, strdata2]\n",
    "print(len(strdata1))\n",
    "print(len(strdata2))\n",
    "print(len(listdata))\n",
    "print(len(listdata[3]))"
   ]
  },
  {
   "cell_type": "code",
   "execution_count": null,
   "id": "7ea1319c",
   "metadata": {},
   "outputs": [],
   "source": [
    "# listdata에 5,4가 각각 포함되어있는지에 대해 불린값으로 반환하는 코드를 작성하세요.\n",
    "listdata=[1,2,3,4]\n",
    "print(5 in listdata) ; print(4 in listdata)"
   ]
  },
  {
   "cell_type": "code",
   "execution_count": null,
   "id": "47ee808d",
   "metadata": {},
   "outputs": [],
   "source": [
    "# strdata 'c', 1이 각각 포함되어있는지에 대해 불린값으로 반환하는 코드를 작성하세요.\n",
    "strdata = 'abcde'\n",
    "\n",
    "print('c' in strdata); print('1' in strdata)"
   ]
  },
  {
   "cell_type": "markdown",
   "id": "223348c1",
   "metadata": {},
   "source": [
    "2진수,8진수,16진수의 모든것\n",
    "https://itbeginner2020.tistory.com/17\n",
    "\n",
    "2진수, 8진수, 16진수의 데이터 표현 방법\n",
    "우리가 프로그래밍을 하면서 변수에 어떤 값을 저장할 때 10진수는 일상적 표현을 그대로 대입한다.\n",
    "\n",
    "예를들어 15를 저장하고 싶다면 int a= 15; 와 같이 15라는 숫자를 그대로 대입하면 된다.\n",
    "\n",
    "하지만 2진수, 8진수, 16진수는 표현법이 따로 정해져있다.\n",
    "\n",
    "\n",
    "2진수는 대입하고자 하는 값 앞에 0b를 붙인다. (숫자0과 영문자b)\n",
    "\n",
    "8진수는 대입하고자 하는 값 앞에 0 을 붙인다. (숫자0 영문자o)\n",
    "\n",
    "16진수는 대입하고자 하는 값 앞에 0x 를 붙인다. (숫자0과 영문자x)\n",
    "\n",
    "아래의 예시를 보자. 변수 a,b,c,d 는 모두 10진수 122 이라는 값을 저장하는 코드이다.\n",
    "\n",
    "122는\n",
    "\n",
    "2진수로 1111010\n",
    "8진수로 172\n",
    "16진수로 7A 이다."
   ]
  },
  {
   "cell_type": "code",
   "execution_count": null,
   "id": "b6f679ea",
   "metadata": {},
   "outputs": [],
   "source": [
    "int_data = 10\n",
    "bin_data = 0b10\n",
    "oct_data = 0o10\n",
    "hex_data = 0x10\n",
    "print(int_data)\n",
    "print(bin_data)\n",
    "print(oct_data)\n",
    "print(hex_data)"
   ]
  },
  {
   "cell_type": "code",
   "execution_count": null,
   "id": "d7356c02",
   "metadata": {
    "scrolled": true
   },
   "outputs": [],
   "source": [
    "# 사칙연산 - 실수형 자료\n",
    "f1 = 1.0\n",
    "f2 = 3.14\n",
    "f3 = 1.56e3 # 1.56 x 10의 3승\n",
    "f4 = -7e-5 # -7x 10의 -5승\n",
    "f5 = -0.7e-4 # -0.7x 10의 -4승\n",
    "f6= 999999999\n",
    "print(f1)\n",
    "print(f2)\n",
    "print(f3)\n",
    "print(f4)\n",
    "print(f5)\n",
    "\n",
    "# t = ('{:.5f}'.format(f5))\n",
    "print('{:.5f}'.format(f5))   #실수로 표현\n",
    "print('{:,.0f}'.format(f6))\n",
    "\n",
    "y = 3.141952\n",
    "f'{y:0.4f}' #소수점 4자리까지 표현, f:float\n",
    "print('{:0.4f}'.format(y))"
   ]
  },
  {
   "cell_type": "code",
   "execution_count": null,
   "id": "7d2c144f",
   "metadata": {},
   "outputs": [],
   "source": [
    "y = 3.141952\n",
    "f'{y:0.4f}'"
   ]
  },
  {
   "cell_type": "code",
   "execution_count": null,
   "id": "90251695",
   "metadata": {},
   "outputs": [],
   "source": [
    "y = 3.141952\n",
    "print('{:0.4f}'.format(y))"
   ]
  },
  {
   "cell_type": "code",
   "execution_count": null,
   "id": "90f183cc",
   "metadata": {},
   "outputs": [],
   "source": [
    "print(-7/100000)\n",
    "print(-0.7/10000)"
   ]
  },
  {
   "cell_type": "code",
   "execution_count": null,
   "id": "9aaf2ec1",
   "metadata": {},
   "outputs": [],
   "source": [
    "# 실수형 자료와 정수형 자료 연산 결과\n",
    "# -> 연산 되는데 실수형이 범위가 더 크므로 실수형으로 결과 나옴\n",
    "\n",
    "i=2 ; f=3.0\n",
    "print(i+f)"
   ]
  },
  {
   "cell_type": "code",
   "execution_count": null,
   "id": "efc3d99b",
   "metadata": {},
   "outputs": [],
   "source": [
    "# 정렬 (sort)\n",
    "b = [4,8,5,4,8,4,3,9,1,9]\n",
    "\n",
    "b.sort()\n",
    "print(b)\n",
    "\n",
    "# 내림차순\n",
    "b.sort(reverse=True)\n",
    "print(b)"
   ]
  },
  {
   "cell_type": "code",
   "execution_count": null,
   "id": "cc183464",
   "metadata": {},
   "outputs": [],
   "source": [
    "# 정렬 (sorted) -> 특정변수(b_d)에다 반영해야 함.\n",
    "\n",
    "b = [4,8,5,4,8,4,3,9,1,9]\n",
    "\n",
    "b_d = sorted (b, reverse=True)\n",
    "print(b_d)\n",
    "\n",
    "# sorted쓰면 원래 리스트는 변화가 없음, 원본 유지한 채 sort한 걸 쓰고싶다면 sorted\n",
    "# sort는 원래 리스트가 변화가 되므로 자체가 변화된 걸 쓰고싶다면 sort"
   ]
  },
  {
   "cell_type": "markdown",
   "id": "e3a934fb",
   "metadata": {},
   "source": [
    "#### True와 False\n",
    "- 파이썬에서 참과 거짓을 나타내는 상수. True는 1, False는 0의 값을 가짐\n",
    "- 조건을 판단해서 그 조건이 참이면 True, 거짓이면 False를 return"
   ]
  },
  {
   "cell_type": "code",
   "execution_count": null,
   "id": "4627d07f",
   "metadata": {},
   "outputs": [],
   "source": [
    "# 관계 연산자\n",
    "x=1 ; y=2\n",
    "str1='abd'; str2='python'\n",
    "\n",
    "print(x==y)\n",
    "print(x!=y)\n",
    "print(str1 == str2)\n",
    "print(str2=='python')\n",
    "print(str1<str2)"
   ]
  },
  {
   "cell_type": "markdown",
   "id": "82d00489",
   "metadata": {},
   "source": [
    "#### 파이썬에서 들여쓰기 \n",
    "- 파이썬에는 실행 코드 부분을 묶어주는 {} 괄호가 없다.\n",
    "- 대신 들여쓰기(indentation)로 {}를 대신한다.\n",
    "- 제어문이나 함수이름, 클래스 이름 뒤에 콜론(':')으로 제어문, 함수이름, 클래스 이름의 끝을 표시하며 ':' 다음에 실행 코드를 작성"
   ]
  },
  {
   "cell_type": "code",
   "execution_count": null,
   "id": "6738d3e3",
   "metadata": {},
   "outputs": [],
   "source": [
    "# 클래스 ==> 들여쓰기 필~수\n",
    "class Sum:   #객체를 만들어서 obj에 넣으면 기능을 쓸 수 있다. \n",
    "    def sum(self,n1,n2):   #n1과 n2는 매개변수, 이 값을 인자값으로 받아서 return한다.\n",
    "        return n1+n2   #클래스 하위에 있는 걸 메소드라고 한다.\n",
    "\n",
    "obj = Sum()\n",
    "obj.sum(1,1)"
   ]
  },
  {
   "cell_type": "code",
   "execution_count": 1,
   "id": "5a595259",
   "metadata": {},
   "outputs": [
    {
     "name": "stdout",
     "output_type": "stream",
     "text": [
      "2\n",
      "2\n",
      "4\n"
     ]
    }
   ],
   "source": [
    "# 객체를 쓴다는 건? 20p\n",
    "\n",
    "# 클래스\n",
    "class SumMul:\n",
    "    def sum(self,n1,n2):\n",
    "        return n1+n2\n",
    "    def mul(self,n1,n2):\n",
    "        return n1+n2\n",
    "\n",
    "obj1 = SumMul()\n",
    "print(obj1.sum(1,1))\n",
    "print(obj1.mul(1,1))\n",
    "\n",
    "obj2 = SumMul()\n",
    "print(obj2.mul(2,2))"
   ]
  },
  {
   "cell_type": "markdown",
   "id": "558937e6",
   "metadata": {},
   "source": [
    "self의 역할: \n",
    " 지금까지 봤던 클래스 안에 있던 self에 대해 찾아보니  \"인스턴스 자신\", \"그 시점의 자신\", \"메소드의 임의의 인수\"등 다양하게 부르고 있었다. 그러나 클래스의 구성을 취득할 때에 정형의 구문으로써 기억해두면 괜찮은 것 같다"
   ]
  },
  {
   "cell_type": "markdown",
   "id": "696f7d33",
   "metadata": {},
   "source": [
    "#### 이스케이프 문자\n",
    "- 키보드로 입력하기 어려운 기호 등을 나타낸다.\n",
    "- \\로 시작, \\n 줄바꾸기, \\t 탭, \\enter 줄계속, \\\\\\ '\\\\' 기호 자체"
   ]
  },
  {
   "cell_type": "code",
   "execution_count": null,
   "id": "5effe119",
   "metadata": {},
   "outputs": [],
   "source": [
    "print('내게로\\n난 네게로')\n",
    "\n",
    "print('내게로\\t난 네게로')\n",
    "\n",
    "print('내게로 \\\n",
    "난 네게로')    # \\enter같은 줄로 줄 계속\n",
    "\n",
    "print('내게로 \\'난\\' 네게로')   #나타내려는 따옴표 바로 앞에 \\붙이기"
   ]
  },
  {
   "cell_type": "markdown",
   "id": "9ba73142",
   "metadata": {},
   "source": [
    "#### 문자열 포멧\n",
    "- % operator 사용 : % 연산자를 사용하려면 %(VAR_NAME)TYPE 형식으로 적어주며 VAR_NAME 은 바인딩할 변수명을 TYPE 은 변수의 유형을 적어준다.\n",
    "- str.format : str.format() 은 파이썬 표현식 값을 바인딩할 부분을 중괄호 {} 로 표시하고 .format() 뒤에 바인딩할 값을 기술해 준다.\n",
    "- f-string : 문자열에 f 나 F 접두사를 붙이고 표현식을 {expr} 형식으로 작성하면 출력 문자열이 파이썬 표현식의 값으로 바뀐다."
   ]
  },
  {
   "cell_type": "code",
   "execution_count": null,
   "id": "8a3d1ecb",
   "metadata": {},
   "outputs": [],
   "source": [
    "# % operator 사용\n",
    "\n",
    "print('%(num)d, %(float)f, %(string)s' % {'num':3, 'float':3, 'string': 'hello'})"
   ]
  },
  {
   "cell_type": "code",
   "execution_count": null,
   "id": "1efdc488",
   "metadata": {},
   "outputs": [],
   "source": [
    "num=5\n",
    "print('%d%%'%num)   #%%는 %로 표기됨"
   ]
  },
  {
   "cell_type": "code",
   "execution_count": null,
   "id": "0b6118fa",
   "metadata": {},
   "outputs": [],
   "source": [
    "txt1 ='자바'; txt2='파이썬'\n",
    "num1=5 ; num2=10\n",
    "\n",
    "print('나는 %s보다 %s에 더 익숙합니다.' %(txt1, txt2))\n",
    "print('%s는 %s보다 %d배 더 익숙합니다.' %(txt1, txt2,num1))"
   ]
  },
  {
   "cell_type": "code",
   "execution_count": null,
   "id": "7bfe2547",
   "metadata": {},
   "outputs": [],
   "source": [
    "# str.format\n",
    "print('We are the {} who say \"{}!\"'.format(\"knights\",\"Ni\"))"
   ]
  },
  {
   "cell_type": "code",
   "execution_count": null,
   "id": "dbca724c",
   "metadata": {},
   "outputs": [],
   "source": [
    "# f - string\n",
    "table = {'Tom':1234, 'Jack' : 5678, 'Eddie':2873}\n",
    "for name, phone in table.items():\n",
    "    print(f'{name:6} ==> {phone:10d}')   #칸 6개, 10개"
   ]
  },
  {
   "cell_type": "code",
   "execution_count": null,
   "id": "cba7e0f3",
   "metadata": {},
   "outputs": [],
   "source": [
    "d={'name':'홍길동', 'age':30}\n",
    "f'나의 이름은 {d[\"name\"]}이고 나이는 {d[\"age\"]}이다.ㅋ'\n",
    "# 키 값으로 뽑기"
   ]
  },
  {
   "cell_type": "markdown",
   "id": "3da25c54",
   "metadata": {},
   "source": [
    "#### 제어문\n",
    "- 조건문(if문) : \\~하면 \\~해라\n",
    "- 반복문(for, while) : 많은 일들을 반복해야 할 때\n",
    "\n",
    "제어문, 조건문, 반복문 : https://velog.io/@osdsoonhyun/%ED%8C%8C%EC%9D%B4%EC%8D%AC-%EC%A0%9C%EC%96%B4%EB%AC%B8"
   ]
  },
  {
   "cell_type": "code",
   "execution_count": null,
   "id": "4b30fc59",
   "metadata": {},
   "outputs": [],
   "source": [
    "# if문\n",
    "listdata = ['a','b','c']\n",
    "\n",
    "if 'a' in listdata:\n",
    "    print('a가 listdata에 있습니다.')\n",
    "if 'b' in listdata:\n",
    "    print('b가 listdata에 있습니다.')\n",
    "if 'c' in listdata:\n",
    "    print('c가 listdata에 있습니다.')"
   ]
  },
  {
   "cell_type": "code",
   "execution_count": 4,
   "id": "9fc3f8d2",
   "metadata": {},
   "outputs": [
    {
     "name": "stdout",
     "output_type": "stream",
     "text": [
      "a가 listdata에 있습니다.\n",
      "['a', 'b', 'c']\n"
     ]
    }
   ],
   "source": [
    "# if else 문\n",
    "listdata = ['a','b','c']\n",
    "\n",
    "if 'a' in listdata:\n",
    "    print('a가 listdata에 있습니다.')\n",
    "    print(listdata)\n",
    "else:\n",
    "    print('a가 listdata에 없습니다.')\n"
   ]
  },
  {
   "cell_type": "code",
   "execution_count": null,
   "id": "62681fae",
   "metadata": {},
   "outputs": [],
   "source": [
    "# 돈이 잇으면 택시를 타고 없ㅂ으면 걸어간다.\n",
    "\n",
    "pocket = ['money', 'cellphone']\n",
    "\n",
    "if 'money' in pocket:\n",
    "    print('택시를 탄다.')\n",
    "else:\n",
    "    print('걸어간다')\n"
   ]
  },
  {
   "cell_type": "code",
   "execution_count": null,
   "id": "c7b024b2",
   "metadata": {},
   "outputs": [],
   "source": [
    "# 제어문 - if elif else\n",
    "# '수입과 지출 금액을 비교하여 수입이 많으면 저축증가, 반대면 빚이증가, 같으면 현상유지 출력'\n",
    "\n",
    "i=5,000,000\n",
    "e=5,000,000\n",
    "\n",
    "if i>e:\n",
    "    print('저축증가')   #조건을 만족하면 빠져나가서 나머지에서 아래 조건문 실행\n",
    "elif i<e:\n",
    "    print('빚이증가')   #조건이 많을 때 elif를 여러 번 쓰면 됨.\n",
    "else:\n",
    "    print('현상유지')"
   ]
  },
  {
   "cell_type": "code",
   "execution_count": null,
   "id": "4e7e707e",
   "metadata": {
    "scrolled": true
   },
   "outputs": [],
   "source": [
    "# 조건부 표현식\n",
    "\n",
    "score=70\n",
    "if score>=60:\n",
    "    message = 'success'\n",
    "else:\n",
    "    message = 'failure'\n",
    "    \n",
    "print(message)"
   ]
  },
  {
   "cell_type": "code",
   "execution_count": null,
   "id": "5ef4fc2b",
   "metadata": {},
   "outputs": [],
   "source": [
    "# 다른 언어의 3항 연산자 : (조건문이 참인 경우) if (조건문) else (조건문이 거짓인 경우)\n",
    "# message = 'success' if score >= 60 else 'failure'\n",
    "# print(message)\n",
    "\n",
    "score =50\n",
    "'success' if score >= 60 else 'failure'"
   ]
  },
  {
   "cell_type": "markdown",
   "id": "d0da0f02",
   "metadata": {},
   "source": [
    "for문의 범위로 사용되는 것은 시퀀스 자료형 또는 반복 가능한 자료이어야 한다.\n",
    "- 문자열, 리스트나 튜플, 사전(시퀀스는 아니지만 반복가능하다), range(), 그 외 반복 가능한 객체"
   ]
  },
  {
   "cell_type": "code",
   "execution_count": null,
   "id": "a2d08d79",
   "metadata": {},
   "outputs": [],
   "source": [
    "str = 'abcde'\n",
    "for i in str:\n",
    "    print(i,end=' ')"
   ]
  },
  {
   "cell_type": "code",
   "execution_count": null,
   "id": "b59baf78",
   "metadata": {},
   "outputs": [],
   "source": [
    "scope = [1,2,3,4,5]\n",
    "for x in scope:\n",
    "    print(x,end = '')"
   ]
  },
  {
   "cell_type": "markdown",
   "id": "6fa0dbda",
   "metadata": {},
   "source": [
    "복습 여기서부터!!!!!1"
   ]
  },
  {
   "cell_type": "code",
   "execution_count": null,
   "id": "bbf43167",
   "metadata": {},
   "outputs": [],
   "source": [
    "d = {'a':97, 'b':98, 'c':99}\n",
    "\n",
    "for key in d:\n",
    "    print(d[key])"
   ]
  },
  {
   "cell_type": "markdown",
   "id": "2e42a71c",
   "metadata": {},
   "source": [
    "- for 반복문에서 continue를 만나면 그 다음 반복실행으로 넘어가며\n",
    "- break를 만나면 for 반복문을 완전히 벗어난다."
   ]
  },
  {
   "cell_type": "code",
   "execution_count": null,
   "id": "706f7939",
   "metadata": {},
   "outputs": [],
   "source": [
    "# for else ~ : for 구문이 모두 실행된 후 뒤에 뭔갈 더 하고싶을 때. \n",
    "# for 구문 모두 실행 후 else 뒤의 실행 코드가 실행됨.\n",
    "\n",
    "scope = [1,2,3]\n",
    "for x in scope:\n",
    "    print(x)\n",
    "#    break\n",
    "else:\n",
    "    print('perfect')"
   ]
  },
  {
   "cell_type": "code",
   "execution_count": null,
   "id": "fba9efb7",
   "metadata": {},
   "outputs": [],
   "source": [
    "#  while ~ continue ~ break : for는 특정 범위에서 while은 특정 조건에서 코드를 반복수행\n",
    "# 1~20 사이의 정수에서 10보다 작은 홀수만 출력\n",
    "\n",
    "a=0\n",
    "while a <20:\n",
    "    a+=1\n",
    "    if a % 2 ==0:\n",
    "        continue # while로 올라간다.\n",
    "    if a >= 10:\n",
    "        break # while을 벗어난다.\n",
    "    print(a,end=' ')"
   ]
  },
  {
   "cell_type": "code",
   "execution_count": null,
   "id": "0506ca9c",
   "metadata": {},
   "outputs": [],
   "source": [
    "# while : 참일 때 무한반복\n",
    "# 정수 1부터 n까지 더할 때 그 합이 1000보다 커지게 되는 n과 합을 구하시오.\n",
    "\n",
    "x=1\n",
    "sum=0  #합 0으로 초기화\n",
    "\n",
    "while 1:    #0=false  1=true(2도 가능하긴 한데 통상적으로 1 사용.)\n",
    "    sum=sum+x\n",
    "    if sum>1000:\n",
    "        print(x)\n",
    "        print(sum)\n",
    "        break\n",
    "    x=x+1\n"
   ]
  },
  {
   "cell_type": "code",
   "execution_count": null,
   "id": "84baf3bb",
   "metadata": {},
   "outputs": [],
   "source": [
    "# 1~1000 정수중 3의 배수의 합\n",
    "\n",
    "i=0\n",
    "sum=0\n",
    "\n",
    "while i < 1000:\n",
    "    i += 1\n",
    "    if i %3 ==0:\n",
    "        sum = sum + i\n",
    "        \n",
    "print(sum)"
   ]
  },
  {
   "cell_type": "code",
   "execution_count": null,
   "id": "127d5aba",
   "metadata": {},
   "outputs": [],
   "source": [
    "# 5~95 합 구하기.\n",
    "\n",
    "num=1\n",
    "sum=0\n",
    "\n",
    "while num <= 100:\n",
    "    if (num >=5 and num <= 95):\n",
    "        sum += num\n",
    "    num += 1\n",
    "    \n",
    "print(sum)\n"
   ]
  },
  {
   "cell_type": "markdown",
   "id": "bd9072f0",
   "metadata": {},
   "source": [
    "3/14"
   ]
  },
  {
   "cell_type": "code",
   "execution_count": null,
   "id": "1c27367f",
   "metadata": {},
   "outputs": [],
   "source": [
    "함수"
   ]
  },
  {
   "cell_type": "code",
   "execution_count": null,
   "id": "3d780912",
   "metadata": {},
   "outputs": [],
   "source": [
    "# 짝수와 짝수를 입력하면 곱한 값을 출력하고 홀수와 홀수를 입력하면 덧셈 값을 출력하고 그외는 \n",
    "# 다시 입력하라는 메시지를 출력하세요.\n",
    "\n",
    "x = int(input())\n",
    "y = int(input())\n",
    "\n",
    "if (x % 2 == 0) & (y % 2 == 0):\n",
    "    print(x * y)\n",
    "elif (x % 2 == 1) & (y % 2 == 1):\n",
    "    print(x + y)\n",
    "else:\n",
    "    print('다시 입력해 주세요')"
   ]
  },
  {
   "cell_type": "code",
   "execution_count": null,
   "id": "254d2156",
   "metadata": {},
   "outputs": [],
   "source": [
    "# \"10/20/30/40/50\"을 '/'을 기준으로 자르세요.\n",
    "a = \"10/20/30/40/50\"\n",
    "b = \"10,20,30,40,50\"\n",
    "print(a.split(\"/\"))\n",
    "b.split(\",\")"
   ]
  },
  {
   "cell_type": "code",
   "execution_count": null,
   "id": "8c004591",
   "metadata": {},
   "outputs": [],
   "source": [
    "# [과제] 1부터 100까지 아래와 같이 2개의 수를 곱해서 가장 큰 수를 구하세요.\n",
    "# 1*99, 2*98 ...99*1\n",
    "\n",
    "n = 1\n",
    "result = 0\n",
    "while n<=100:\n",
    "    a = n*(100-n)\n",
    "    if a>result:\n",
    "        result = a\n",
    "    n+=1\n",
    "print(result)"
   ]
  },
  {
   "cell_type": "code",
   "execution_count": null,
   "id": "6ae6fdf7",
   "metadata": {},
   "outputs": [],
   "source": [
    "n = 1\n",
    "result = 0\n",
    "while n<=100:\n",
    "    a = n*(100-n)\n",
    "    if a>result:\n",
    "        result = a\n",
    "        n+=1\n",
    "    else:\n",
    "        n+=1\n",
    "        continue\n",
    "print(result)"
   ]
  },
  {
   "cell_type": "code",
   "execution_count": null,
   "id": "bc895030",
   "metadata": {},
   "outputs": [],
   "source": [
    "def findBiggestOne():\n",
    "    biggestNum = 0\n",
    "    for i,j in zip(range(1,100), range(99,0,-1)):\n",
    "        if i*j > biggestNum:\n",
    "            biggestNum = i*j\n",
    "    return biggestNum\n",
    "\n",
    "\n",
    "print(findBiggestOne())"
   ]
  },
  {
   "cell_type": "code",
   "execution_count": null,
   "id": "a4c6d5fe",
   "metadata": {},
   "outputs": [],
   "source": [
    "# [과제_0309_1] [    ]을 채워서 아래의 출력과 같이 출력하세요.\n",
    "# 출력 :\n",
    "# numbers = [1,2,3,4,5,6,7,8,9]\n",
    "# output = [[], [], []]\n",
    "\n",
    "# [[1,4,7],[2,5,8],[3,6,9]]   -> 인덱스 번호 -1 을 3으로 나눴을 때 나머지 끼리 분류"
   ]
  },
  {
   "cell_type": "code",
   "execution_count": null,
   "id": "9ff534b9",
   "metadata": {},
   "outputs": [],
   "source": [
    "numbers = [1,2,3,4,5,6,7,8,9]\n",
    "output = [[],[],[]]\n",
    "\n",
    "for number in numbers:\n",
    "    output[(number-1)%3].append(number)\n",
    "print(output)"
   ]
  },
  {
   "cell_type": "markdown",
   "id": "8f072ec2",
   "metadata": {},
   "source": [
    "python random 모듈\n",
    "\n",
    "https://nittaku.tistory.com/443"
   ]
  },
  {
   "cell_type": "code",
   "execution_count": null,
   "id": "6e00216a",
   "metadata": {},
   "outputs": [],
   "source": [
    "import numpy as np\n",
    "np.random.seed(0) # sample 고정\n",
    "num = np.random.randint(20,size=20)\n",
    "num"
   ]
  },
  {
   "cell_type": "code",
   "execution_count": null,
   "id": "05f17759",
   "metadata": {},
   "outputs": [],
   "source": [
    "# [과제] 사용자가 입력한 게임 회수만큼 로또 번호를 출력하는 프로그램을 작성하세요.(중복 처리)\n",
    "import random\n",
    "\n",
    "num = input(\"게임 수 : \")\n",
    "\n",
    "for i in range(0, int(num)):\n",
    "    lotto = random.sample(range(1, 46), 6)\n",
    "    lotto.sort()\n",
    "    print(lotto)"
   ]
  },
  {
   "cell_type": "code",
   "execution_count": null,
   "id": "5a670651",
   "metadata": {},
   "outputs": [],
   "source": [
    "import random\n",
    "\n",
    "name = ['김나영','김동완','김예슬','김용훈','김태현','남동연','박서진','박주경', '손아','옥유리', '옥주리',\n",
    "         '윤예은','윤정현','이승주','임수현','장인혁', '정슬기','한나영','조차선','이지연','김성호','오윤택','최정인']\n",
    "li = []\n",
    "num = int(input('입력> '))\n",
    "p = random.sample(range(len(name)),num)\n",
    "\n",
    "for i in p:\n",
    "    li.append(name[i])\n",
    "\n",
    "print(li)"
   ]
  },
  {
   "cell_type": "code",
   "execution_count": null,
   "id": "56a70488",
   "metadata": {},
   "outputs": [],
   "source": [
    "import random\n",
    "\n",
    "name = ['김나영','김동완','김예슬','김용훈','김태현','남동연','박서진','박주경', '손아','옥유리', '옥주리',\n",
    "         '윤예은','윤정현','이승주','임수현','장인혁', '정슬기','한나영','조차선','이지연','김성호','오윤택','최정인']\n",
    "print(len(name))\n",
    "num = 5\n",
    "random.sample(range(23),num)"
   ]
  },
  {
   "cell_type": "markdown",
   "id": "4ba39f24",
   "metadata": {},
   "source": [
    "위 설명)\n",
    "23개중에 5개를 뽑아서 (p) -> 리스트에서 각각의 i를 넣어준다.\n",
    "그걸 li[]에 넣어서 이름으로 출력함"
   ]
  },
  {
   "cell_type": "code",
   "execution_count": null,
   "id": "ac1cbe27",
   "metadata": {},
   "outputs": [],
   "source": [
    "# [과제] 남녀 파트너 정해주기 프로그램을 작성하세요(5개 커플)\n",
    "import random\n",
    "random.shuffle()"
   ]
  },
  {
   "cell_type": "code",
   "execution_count": null,
   "id": "761fa55c",
   "metadata": {},
   "outputs": [],
   "source": [
    "import random\n",
    "male=['남자1호','남자2호','남자3호','남자4호','남자5호']\n",
    "female=['여자1호','여자2호','여자3호','여자4호','여자5호']\n",
    "couple=[]\n",
    "for i in range(5):\n",
    "    random.shuffle(male)\n",
    "    random.shuffle(female)\n",
    "    c=[male[0],female[0]]\n",
    "    couple.append(c)\n",
    "    del male[0]\n",
    "    del female[0]\n",
    "print((couple))"
   ]
  },
  {
   "cell_type": "code",
   "execution_count": null,
   "id": "c3303fdb",
   "metadata": {},
   "outputs": [],
   "source": [
    "# 입력받은 문자열의 각 문자를 그 다음 문자로 변경하여 출력하세요.\n",
    "# 입력 abcde -> 출력 bcdea\n",
    "# join 함수(붙여주기)\n",
    "# a추가하고 맨 앞 a삭제\n",
    "\n",
    "str = \"abcde\"\n",
    "lst = list(str)\n",
    "print(lst)\n",
    "lst.append(lst[0])\n",
    "lst.remove(lst[0])\n",
    "str = ''.join(lst)\n",
    "str"
   ]
  },
  {
   "cell_type": "code",
   "execution_count": null,
   "id": "f29d03fa",
   "metadata": {},
   "outputs": [],
   "source": [
    "# [과제] Player가 3승할 때까지 계속 진행되는 가위바위보 게임 프로그램을 작성하세요.\n",
    "# 게임을 Player와 컴퓨터가 진행\n",
    "\n",
    "import numpy as np\n",
    "\n",
    "cnt = 0\n",
    "rsp = ['가위', '바위', '보']\n",
    "\n",
    "print(\"가위 바위 보 게임입니다. 3승할 때까지 계속 진행됩니다!\")\n",
    "print(\"그 전에 게임을 종료하고 싶다면 E를 입력해주세요.\")\n",
    "\n",
    "while cnt < 3:\n",
    "    print()\n",
    "    pl = input(\"무엇을 낼까요? (가위/바위/보) > \")\n",
    "    if(pl=='E'): break\n",
    "    elif(pl not in rsp):\n",
    "        print(\"[가위] [바위] [보] 중 하나를 내주세요!\")\n",
    "        continue\n",
    "    pc = rsp[np.random.randint(3)]\n",
    "    print(f'컴퓨터 > {pc}')\n",
    "    \n",
    "    if(pl=='가위'):\n",
    "        if(pc=='바위'):\n",
    "            print(\"졌습니다. 다시 한 번 게임을 시작합니다!\")\n",
    "            continue\n",
    "        elif(pc=='보'):\n",
    "            print(\"게임에서 이겼습니다. 축하합니다!\")\n",
    "            cnt+=1\n",
    "            continue\n",
    "            \n",
    "    elif(pl=='바위'):\n",
    "        if(pc=='보'):\n",
    "            print(\"졌습니다. 다시 한 번 게임을 시작합니다!\")\n",
    "            continue\n",
    "        elif(pc=='가위'):\n",
    "            print(\"게임에서 이겼습니다. 축하합니다!\")\n",
    "            cnt+=1\n",
    "            continue\n",
    "            \n",
    "    elif(pl=='보'):\n",
    "        if(pc=='가위'):\n",
    "            print(\"졌습니다. 다시 한 번 게임을 시작합니다!\")\n",
    "            continue\n",
    "        elif(pc=='바위'):\n",
    "            print(\"게임에서 이겼습니다. 축하합니다!\")\n",
    "            cnt+=1\n",
    "            continue\n",
    "            \n",
    "    print(\"비겼습니다. 다시 한 번 게임을 시작합니다!\")\n",
    "    \n",
    "print(\"게임을 종료합니다. 수고하셨습니다.\")"
   ]
  },
  {
   "cell_type": "code",
   "execution_count": null,
   "id": "b2d422b0",
   "metadata": {},
   "outputs": [],
   "source": [
    "# 컴퓨터가 랜덤하게 생성하는 숫자 맞추기 게임 프로그램을 작성하세요\n",
    "import numpy as np\n",
    "while(1):\n",
    "    s_e=input(\"게임을 하시겠습니까?[y/n]: \")\n",
    "\n",
    "    if(s_e==\"y\"):\n",
    "        anser= np.random.randint(0,10)\n",
    "        while(a != anser):\n",
    "            a=int(input(\"숫자를 입력하세요(0~10): \"))\n",
    "            if(a>anser):\n",
    "                print(\"down\")\n",
    "            elif(a<anser):\n",
    "                print(\"up\")\n",
    "            else:\n",
    "                print(\"범위 안의 숫자를 입력해주세요.\")\n",
    "        print(\"정답입니다.\")\n",
    "    else:\n",
    "        print(\"게임을 종료합니다.\")\n",
    "        break"
   ]
  },
  {
   "cell_type": "markdown",
   "id": "b1d4b482",
   "metadata": {},
   "source": [
    "#### 함수\n",
    "- 특정 목적을 가진 독립된 코드 집합\n",
    "  - 두 수를 입력받아 더한 값을 계산하는 코드\n",
    "  - 더한 값을 계산하는 코드가 프로그램 여러 곳에서 사용된다고 할 때 이 부분만을 따로 구성하여 재사용하면 효율화할 수 있음\n",
    "- 사용자 함수는 def로 시작하여 정의"
   ]
  },
  {
   "cell_type": "code",
   "execution_count": null,
   "id": "55a7e1ce",
   "metadata": {},
   "outputs": [],
   "source": [
    "def add_number(n1,n2):\n",
    "    ret=n1+n2\n",
    "    return ret\n",
    "\n",
    "def add_txt(t1,t2):\n",
    "    print(t1+t2)\n",
    "    \n",
    "a1=add_number(10,15)\n",
    "print(a1)\n",
    "\n",
    "t1='하이루 '\n",
    "t2='방가방가'\n",
    "add_txt(t1,t2)"
   ]
  },
  {
   "cell_type": "code",
   "execution_count": null,
   "id": "db604573",
   "metadata": {},
   "outputs": [],
   "source": [
    "# 함수인자 :기본적으로 인자 순서에 대응되는 값을 함수코드에 대입\n",
    "\n",
    "def add_txt(t1,t2='파이썬'):   #t2 기본값을 대입한 기본 인자는 마지막에 위치해야 함.\n",
    "    print(t1+ ':' +t2)\n",
    "    \n",
    "add_txt('베스트')    # t1은 베스트, t2는 기본값이 대입.\n",
    "add_txt(t2='대한민국', t1='1등')   # 키워드 인자에 의한 값 전달, 인자의 순서는 무시"
   ]
  },
  {
   "cell_type": "code",
   "execution_count": null,
   "id": "4652605d",
   "metadata": {},
   "outputs": [],
   "source": [
    "def func1(*args):   # 인자의 개수가 불분명한 경우 가변인자 사용, args는 함수 내부에서 튜플로 처리\n",
    "    print(args)\n",
    "    \n",
    "def func2(width, height, **kwargs):   # 키워드 인자(자체)가 불명확한 경우 **kwargs사용, 함수 내부에서 사전으로 처리\n",
    "    print(kwargs)\n",
    "    \n",
    "func1() #빈 튜플 ()이 출력됨.\n",
    "func1(3,5,1,5,8)\n",
    "func2(10,20) # 빈 사전{}이 출력됨. kwargs를 안 받았으니까 빈 사전으로 나옴, print(width, heightm kwargs)하면 잘 나옴!!\n",
    "func2(10,20,depth=50, color='blue')\n"
   ]
  },
  {
   "cell_type": "code",
   "execution_count": null,
   "id": "a9392172",
   "metadata": {},
   "outputs": [],
   "source": [
    "def func2(width, height, **kwargs):\n",
    "    return width, height, kwargs\n",
    "\n",
    "func2(10,20,depth=50, color='blue')"
   ]
  },
  {
   "cell_type": "code",
   "execution_count": null,
   "id": "6a3c925b",
   "metadata": {},
   "outputs": [],
   "source": [
    "# add_mul함수를 정의하여 1,2,3,4,5를 입력값으로 적용하여 덧셈, 곱셈 연산을 수행하세요.\n",
    "\n",
    "def add_mul(choice, *args):\n",
    "    if choice == '+':\n",
    "        result = 0\n",
    "        for i in args:\n",
    "            result += i\n",
    "        return result\n",
    "    elif choice == '*':\n",
    "        result=1   #곱셈이니까 1해야 함, 0하면 안돼~~~~~~~~~~!\n",
    "        for i in args:\n",
    "            result*=i\n",
    "        return result\n",
    "    else:\n",
    "        print('수행할 수 없는 연산입니다.')\n",
    "        \n",
    "# add_mul('+', 1,2,3,4,5)\n",
    "add_mul('*', 1,2,3,4,5)"
   ]
  },
  {
   "cell_type": "markdown",
   "id": "049db5ea",
   "metadata": {},
   "source": [
    "#### 지역변수와 전역변수\n",
    "- 지역변수는 함수 내부에서만 유효하고 \n",
    "- 전역변수는 코드 전반에 걸쳐 유효\n",
    "- 함수의 인자는 지역변수"
   ]
  },
  {
   "cell_type": "markdown",
   "id": "33c4fe6f",
   "metadata": {},
   "source": [
    "#### 함수 리턴값 : return\n",
    "- 함수는 한 개 이상의 값을 리턴할 수 있으며 리턴값이 없을 수도 있다. (print 함수 명령에 의해 값을 반환하는 것.)\n",
    "- 리턴 값이 여러 개인 경우에는 튜플로 리턴값을 만들어 리턴"
   ]
  },
  {
   "cell_type": "markdown",
   "id": "610168ba",
   "metadata": {},
   "source": [
    "원화표시 두 개 (\\\\)를 /로 대신 가능함"
   ]
  },
  {
   "cell_type": "markdown",
   "id": "405f200f",
   "metadata": {},
   "source": [
    "#### 파이썬 패키지,  모듈, 함수, 클래스\n",
    "- 코드 작성 시 이미 만들어져 있는 함수들을 활용하면 보다 효율적이고 빠르게 개발 가능\n",
    "- 이미 만들어져 있고 안정성이 검증된 함수들을 성격에 맞게 하나의 파이썬 파일에 묶어 만들어 놓을 것을 모듈이라 함\n",
    "- 외부 모듈에 있는 함수들을 활용하려면 이 모듈을 먼저 가져와서 사용해야 하는데 이것을 모듈을 임포트한다고 한다.\n",
    "- 파이썬 모듈이 하나의 파이썬 파일이라면 패키지는 디렉토리로 볼 수 있다.\n",
    "\n",
    "패키지\n",
    "1. 라이브러리라고도 부름\n",
    "2. 특정 기능과 관련된 여러 모듈을 한 그룹으로 묶은 것\n",
    "3. 패키지 안에 서브패키지가 있을 수도 있다.\n",
    "4. import (패키지/모듈) from (패키지/모듈) import (서브패키지/모듈(더 하위단위의 모듈을 import))\n",
    "   \n",
    "모듈\n",
    "1. 여러 기능들이 뭉쳐진 하나의 .py파일\n",
    "2. 함수, 클래스, 변수 등 포함\n",
    "3. import 모듈\n",
    "\n",
    "함수\n",
    "1. 하나의 기능을 가진 코드의 집합\n",
    "2. 함수를 사용한다 = 함수를 호출한다\n",
    "3. 함수 사용 형태: 함수( )\n",
    "   - 필요한 경우 () 안에 매개변수 또는 옵션(인자값이 있어도 되고 없어도 된다.)\n",
    "4. 종류\n",
    "   - 내장 함수(built in function)\n",
    "   - 외장 함수: import 해주어야 함\n",
    "   \n",
    "클래스   \n",
    "- 파이썬은 객체 지향 언어로, 클래스를 기반으로 객체를 만들어 사용한다.\n",
    "- 한 파이썬 파일(. py) 내에서 \"class class명():\"을 통해 클래스 선언"
   ]
  },
  {
   "cell_type": "code",
   "execution_count": null,
   "id": "09c8cee1",
   "metadata": {},
   "outputs": [],
   "source": [
    "# time 모듈\n",
    "\n",
    "import time\n",
    "\n",
    "print('5초간 프로그램을 정지합니다.')\n",
    "time.sleep(5) #time에 sleep이라는 함수가 있어요.\n",
    "print('5초가 지나갔습니다.')"
   ]
  },
  {
   "cell_type": "code",
   "execution_count": null,
   "id": "2d3046e0",
   "metadata": {},
   "outputs": [],
   "source": [
    "# 사용자 작성 모듈\n",
    "\n",
    "with open('mymodule.py','w') as f:\n",
    "    f.write(\n",
    "'''\n",
    "def add_text(t1,t2):\n",
    "    return t1+':'+t2\n",
    "def reverse(x,y,z):\n",
    "    return z,y,x\n",
    "''')"
   ]
  },
  {
   "cell_type": "code",
   "execution_count": null,
   "id": "9ec01a22",
   "metadata": {
    "scrolled": true
   },
   "outputs": [],
   "source": [
    "with open('mymodule.py','r') as f:\n",
    "    data=f.read()\n",
    "    print(data)\n",
    "    \n",
    "# => 모듈이 되었다."
   ]
  },
  {
   "cell_type": "code",
   "execution_count": null,
   "id": "9adc34cd",
   "metadata": {
    "scrolled": true
   },
   "outputs": [],
   "source": [
    "import mymodule\n",
    "\n",
    "ret1 = mymodule.add_text('정슬기','짱이야')\n",
    "print(ret1)"
   ]
  },
  {
   "cell_type": "code",
   "execution_count": null,
   "id": "32cbd4d6",
   "metadata": {},
   "outputs": [],
   "source": [
    "ret2 = mymodule.reverse(1,2,3)\n",
    "print(ret2)"
   ]
  },
  {
   "cell_type": "code",
   "execution_count": null,
   "id": "4ed1ee6f",
   "metadata": {},
   "outputs": [],
   "source": [
    "# 클래스 (클래스 변수 var, 클래스 안에 함수 만들 수 있다. 그게 def //\n",
    "# 객체필요함 obj -> 클래스에서 만들어진 *객체*를 인스턴스라고 함.)\n",
    "\n",
    "class MyClass:\n",
    "    var = '안녕하세요.'\n",
    "    def sayHello(self):\n",
    "        print(self.var)   # <- def~ 마지막까지 '메소드'\n",
    "        \n",
    "obj = MyClass()   # myclass 인스턴트 객체 생성\n",
    "\n",
    "print(obj.var)    #객체 쓰기\n",
    "print(obj.sayHello())   #메소드 쓰기\n",
    "\n",
    "#none -> print(self.var)의 반환값이 없어서 나옴"
   ]
  },
  {
   "cell_type": "code",
   "execution_count": null,
   "id": "64dc66cb",
   "metadata": {},
   "outputs": [],
   "source": [
    "# 패키지\n",
    "\n",
    "!pip list\n",
    "\n",
    "# !pip install pandas    <-없으면 설치"
   ]
  },
  {
   "cell_type": "markdown",
   "id": "538b4485",
   "metadata": {},
   "source": [
    "https://pandas.pydata.org/docs/reference/api/pandas.DataFrame.info.html\n",
    "\n",
    "도큐먼트임, input-output, general function, series, data program, **data frame"
   ]
  },
  {
   "cell_type": "code",
   "execution_count": null,
   "id": "c4b2992b",
   "metadata": {},
   "outputs": [],
   "source": [
    "import pandas as pd\n",
    "\n",
    "df1 = pd.DataFrame({'a': [1, 2, 3], 'b': [4,5,6], 'c': [7,8,9]})\n",
    "df1"
   ]
  },
  {
   "cell_type": "code",
   "execution_count": null,
   "id": "48622a30",
   "metadata": {},
   "outputs": [],
   "source": [
    "import numpy as np\n",
    "\n",
    "df2 = pd.DataFrame(np.array([[1, 2, 3], [4, 5, 6], [7, 8, 9]]),\n",
    "                   columns=['a', 'b', 'c'])\n",
    "df2"
   ]
  },
  {
   "cell_type": "code",
   "execution_count": null,
   "id": "8e6902ab",
   "metadata": {},
   "outputs": [],
   "source": [
    "data = np.array([(1, 2, 3), (4, 5, 6), (7, 8, 9)])\n",
    "\n",
    "df3 = pd.DataFrame(data, columns=['a', 'b', 'c'])\n",
    "df3"
   ]
  },
  {
   "cell_type": "markdown",
   "id": "7117665b",
   "metadata": {},
   "source": [
    "3/15"
   ]
  },
  {
   "cell_type": "code",
   "execution_count": null,
   "id": "3af57071",
   "metadata": {},
   "outputs": [],
   "source": [
    "# arr 리스트가 없어도 되는 이유 -> 이미 컴터에 값 저장돼있음 ㅅㄱ\n",
    "def even(arr):\n",
    "    result=[]\n",
    "    for i in arr:\n",
    "        if i>0:\n",
    "            result.append(i)\n",
    "    return result\n",
    "print(even(arr))"
   ]
  },
  {
   "cell_type": "code",
   "execution_count": null,
   "id": "1a5fc067",
   "metadata": {},
   "outputs": [],
   "source": [
    "# 입력으로 들어오는 모든 수의 평균값을 계산해주는 함수를 작성한 후 1,2,3을 입력한 결과를 출력하세요.\n",
    "def sum(mun):\n",
    "    print(f\"합: {eval(mun)}\")    #입력된 문자열이 연산이 가능한 형태면 연산해 줌\n",
    "    print(f\"평균: {(eval(mun)/len(mun.split('+'))):0.2f}\")\n",
    "\n",
    "###################################################\n",
    "\n",
    "mun=input(\"평균값을 구할 숫자를 모두 입력해주세요(콤마로 구분): \")\n",
    "mun_n=mun.replace(',','+')    #1,2,3 -> 1+2+3\n",
    "\n",
    "sum(mun_n)\n"
   ]
  },
  {
   "cell_type": "code",
   "execution_count": null,
   "id": "52c0d4a0",
   "metadata": {},
   "outputs": [],
   "source": [
    "def average(*args):\n",
    "    x=0\n",
    "    for i in args:\n",
    "        x=(x+i)\n",
    "    result=x/len(args) \n",
    "    return result\n",
    "\n",
    "r=average(1,2,3)    \n",
    "print(r)"
   ]
  },
  {
   "cell_type": "code",
   "execution_count": null,
   "id": "1fcc4ffe",
   "metadata": {},
   "outputs": [],
   "source": [
    "def avg(*args):\n",
    "    x=0\n",
    "    for i in args:\n",
    "        x=x+i\n",
    "    result=x/len(args)\n",
    "    return result\n",
    "\n",
    "r=avg(1,2,3)\n",
    "print(r)"
   ]
  },
  {
   "cell_type": "code",
   "execution_count": null,
   "id": "8b4e6832",
   "metadata": {},
   "outputs": [],
   "source": [
    "# 동일한 사용자 함수를 만들어서 1~100까지 합과 200~300의 합을 구하세요.\n",
    "# sg-위의 사용자함수랑 똑같이 만들어서 1~100, 200~300까지 범위를지정한다음에 함수 쓰려고 했음.\n",
    "def summ(*args):\n",
    "    x=0\n",
    "    for i in args:\n",
    "        a= x+i\n",
    "    return a\n",
    "\n",
    "if o>0:\n",
    "    for j in o<101:\n",
    "print(j)\n",
    "\n",
    "r=summ()\n",
    "print(r)"
   ]
  },
  {
   "cell_type": "code",
   "execution_count": null,
   "id": "2c0b5e6f",
   "metadata": {},
   "outputs": [],
   "source": [
    "# 김나영님\n",
    "def sum(first, end):\n",
    "    result=0\n",
    "    for i in range(first,end+1):\n",
    "        result+=i\n",
    "    return result\n",
    "\n",
    "print(sum(100,200))   #n~m 사이의 합 구하기\n",
    "print(sum(200,300))"
   ]
  },
  {
   "cell_type": "code",
   "execution_count": null,
   "id": "0dc0c34b",
   "metadata": {},
   "outputs": [],
   "source": [
    "import numpy as np\n",
    "\n",
    "np.arange(1,101)"
   ]
  },
  {
   "cell_type": "code",
   "execution_count": null,
   "id": "bab22afb",
   "metadata": {},
   "outputs": [],
   "source": [
    "import numpy as np\n",
    "\n",
    "np.arange(200,301)"
   ]
  },
  {
   "cell_type": "code",
   "execution_count": null,
   "id": "5a4f44e2",
   "metadata": {},
   "outputs": [],
   "source": [
    "# 선생님 <<내가 원하던 답~~~~~~~~~~~!!\n",
    "\n",
    "import numpy as np\n",
    "def sum(*args):\n",
    "    sum=0\n",
    "    for i in args:\n",
    "        sum += i\n",
    "    return sum\n",
    "\n",
    "print(sum(1,   2,   3,   4,   5,   6,   7,   8,   9,  10,  11,  12,  13,\n",
    "        14,  15,  16,  17,  18,  19,  20,  21,  22,  23,  24,  25,  26,\n",
    "        27,  28,  29,  30,  31,  32,  33,  34,  35,  36,  37,  38,  39,\n",
    "        40,  41,  42,  43,  44,  45,  46,  47,  48,  49,  50,  51,  52,\n",
    "        53,  54,  55,  56,  57,  58,  59,  60,  61,  62,  63,  64,  65,\n",
    "        66,  67,  68,  69,  70,  71,  72,  73,  74,  75,  76,  77,  78,\n",
    "        79,  80,  81,  82,  83,  84,  85,  86,  87,  88,  89,  90,  91,\n",
    "        92,  93,  94,  95,  96,  97,  98,  99, 100))\n",
    "\n",
    "print(sum(200, 201, 202, 203, 204, 205, 206, 207, 208, 209, 210, 211, 212,\n",
    "       213, 214, 215, 216, 217, 218, 219, 220, 221, 222, 223, 224, 225,\n",
    "       226, 227, 228, 229, 230, 231, 232, 233, 234, 235, 236, 237, 238,\n",
    "       239, 240, 241, 242, 243, 244, 245, 246, 247, 248, 249, 250, 251,\n",
    "       252, 253, 254, 255, 256, 257, 258, 259, 260, 261, 262, 263, 264,\n",
    "       265, 266, 267, 268, 269, 270, 271, 272, 273, 274, 275, 276, 277,\n",
    "       278, 279, 280, 281, 282, 283, 284, 285, 286, 287, 288, 289, 290,\n",
    "       291, 292, 293, 294, 295, 296, 297, 298, 299, 300))"
   ]
  },
  {
   "cell_type": "markdown",
   "id": "1d65f2ac",
   "metadata": {},
   "source": [
    "#### sort, sorted 모두 key, reverse 매개변수를 갖고 있다.\n",
    "- reverse : 기본값은 reverse=False(오름차순), reverse=True를 매개변수로 입력하면 내림차순으로 정렬\n",
    "- key : 정렬을 목적으로 하는 함수를 값으로 넣는다. lambda를 이용할 수 있고 key 값을 기준으로 정렬되고 기본값은 오름차순"
   ]
  },
  {
   "cell_type": "code",
   "execution_count": null,
   "id": "8dbac7b9",
   "metadata": {},
   "outputs": [],
   "source": [
    "#[과제] strings를 다양한 문자가 포함된 순서로 정렬하세요.\n",
    "strings = ['a', 'ca', 'bar', 'aaaa', 'ababa'] \n",
    "strings.sort(key = lambda x:len(set(x)))\n",
    "strings[::-1]"
   ]
  },
  {
   "cell_type": "code",
   "execution_count": null,
   "id": "5ede7860",
   "metadata": {},
   "outputs": [],
   "source": [
    "#[과제] strings를 다양한 문자가 포함된 순서로 정렬하세요.\n",
    "strings = ['a', 'ca', 'bar', 'aaaa', 'ababa'] \n",
    "\n",
    "strings.sort(key = lambda x:len(set(x)))\n",
    "strings[::-1]"
   ]
  },
  {
   "cell_type": "code",
   "execution_count": null,
   "id": "a65ac03b",
   "metadata": {},
   "outputs": [],
   "source": [
    "#[과제] strings를 다양한 문자가 포함된 순서로 정렬하세요.\n",
    "# -> 튜플은 소트 적용이 안 됨 리스트해야함.\n",
    "# 'tuple' object has no attribute 'sort'\n",
    "strings = ('a', 'ca', 'bar', 'aaaa', 'ababa')\n",
    "strings.sort(key = lambda x:len(set(x)))"
   ]
  },
  {
   "cell_type": "code",
   "execution_count": null,
   "id": "7ce7e3e3",
   "metadata": {},
   "outputs": [],
   "source": [
    "# 튜플일 때 문제풀이\n",
    "\n",
    "strings = ('a', 'ca', 'bar', 'aaaa', 'ababa')\n",
    "s_list=list(strings)\n",
    "s_list.sort(key=lambda x:len(set(x)))     #기본 정렬(오름차순)\n",
    "\n",
    "print(s_list[::-1])     #거꾸로 출력(내림차순으로 나오게)"
   ]
  },
  {
   "cell_type": "code",
   "execution_count": null,
   "id": "05b792e0",
   "metadata": {},
   "outputs": [],
   "source": [
    "#[과제]  url에서 *호스트 도메인*을 추출하여 출력하세요.\n",
    "# split 기준으로 자르면 된다. 인덱스 숫자 2가 도메인.\n",
    "url = 'http://news.naver.com/main/read.nhn?mode=LSD&mid=shm&sid1=105&oid=028&aid=0002334601'\n",
    "\n",
    "x=url.split('/')\n",
    "x[2]"
   ]
  },
  {
   "cell_type": "code",
   "execution_count": null,
   "id": "8a82b59d",
   "metadata": {},
   "outputs": [],
   "source": [
    "#[과제] url에서 쿼리문을 추출하여 출력하세요.\n",
    "# url에서 '?'뒤에 표시되는 문자열을 쿼리 문자열이라고 하며 변수=값 사이 &로 구분되어 나열된다.\n",
    "url = 'http://news.naver.com/main/read.nhn?mode=LSD&mid=shm&sid1=105&oid=028&aid=0002334601'\n",
    "\n",
    "do=url.find('?')\n",
    "print(do)   #35 \n",
    "\n",
    "print(url[do+1])  #우리가 출력하려고 하는 건 '?' 다음이므로 +1\n",
    "\n",
    "qr=[]\n",
    "qr=url[do+1:].split('&')\n",
    "print(qr)"
   ]
  },
  {
   "cell_type": "code",
   "execution_count": null,
   "id": "f591e3ac",
   "metadata": {
    "scrolled": true
   },
   "outputs": [],
   "source": [
    "tmp = url.split('?')\n",
    "queries = tmp[1].split('&')\n",
    "for query in queries:\n",
    "    print(query)"
   ]
  },
  {
   "cell_type": "code",
   "execution_count": null,
   "id": "2871f9f6",
   "metadata": {
    "scrolled": true
   },
   "outputs": [],
   "source": [
    "tmp = url.split('?')\n",
    "queries = tmp[1].split('&')\n",
    "print(queries)"
   ]
  },
  {
   "cell_type": "markdown",
   "id": "b2f1d680",
   "metadata": {},
   "source": [
    "날짜심화~ (기본 3/8)"
   ]
  },
  {
   "cell_type": "markdown",
   "id": "9a12b045",
   "metadata": {},
   "source": [
    "#### 날짜 처리\n",
    "- time — 시간 액세스와 변환\n",
    "\n",
    "- 현재 timestamp 얻기 : time 모듈의 time() 함수는 현재 Unix timestamp을 소수로 리턴하는데요. 정수부는 초단위이고, 소수부는 마이크로(micro) 초단위 입니다.\n",
    "\n",
    "https://www.daleseo.com/python-time/\n",
    "\n",
    "https://docs.python.org/ko/3/library/time.html\n",
    "\n",
    "포맷 코드 표<BR>\n",
    "포맷코드\t설명\t예<BR>\n",
    "%a\t요일 줄임말\tSun, Mon, ... Sat<BR>\n",
    "%A\t요일\tSunday, Monday, ..., Saturday<BR>\n",
    "%w\t요일을 숫자로 표시, 월요일일요일, 06\t0, 1, ..., 6<BR>\n",
    "%d\t일\t01, 02, ..., 31<BR>\n",
    "%b\t월 줄임말\tJan, Feb, ..., Dec<BR>\n",
    "%B\t월\tJanuary, February, …, December<BR>\n",
    "%m\t숫자 월\t01, 02, ..., 12<BR>\n",
    "%y\t두 자릿수 연도\t01, 02, ..., 99<BR>\n",
    "%Y\t네 자릿수 연도\t0001, 0002, ..., 2017, 2018, 9999<BR>\n",
    "%H\t시간(24시간)\t00, 01, ..., 23<BR> \n",
    "%I\t시간(12시간)\t01, 02, ..., 12<BR> \n",
    "%p\tAM, PM\tAM, PM<BR>\n",
    "%M\t분\t00, 01, ..., 59<BR>\n",
    "%S\t초\t00, 01, ..., 59<BR>\n",
    "%Z\t시간대\t대한민국 표준시<BR>\n",
    "%j\t1월 1일부터 경과한 일수\t001, 002, ..., 366<BR>\n",
    "%U\t1년중 주차, 월요일이 한 주의 시작으로\t00, 01, ..., 53<BR>\n",
    "%W\t1년중 주차, 월요일이 한 주의 시작으로\t00, 01, ..., 53<BR>\n",
    "%c\t날짜, 요일, 시간을 출력, 현재 시간대 기준\tSat May 19 11:14:27 2018<BR>\n",
    "%x\t날짜를 출력, 현재 시간대 기준\t05/19/18<BR>\n",
    "%X\t시간을 출력, 현재 시간대 기준\t'11:44:22'"
   ]
  },
  {
   "cell_type": "code",
   "execution_count": null,
   "id": "33eee984",
   "metadata": {},
   "outputs": [],
   "source": [
    "from time import time\n",
    "time()"
   ]
  },
  {
   "cell_type": "code",
   "execution_count": null,
   "id": "7ff081b7",
   "metadata": {},
   "outputs": [],
   "source": [
    "import time\n",
    "time.time()\n",
    "\n",
    "# 1678846262.4675112 <- timestamp(소수형태)"
   ]
  },
  {
   "cell_type": "code",
   "execution_count": null,
   "id": "3480fad6",
   "metadata": {},
   "outputs": [],
   "source": [
    "import time\n",
    "t=time.localtime(1678846262.4675112)\n",
    "print(t)\n",
    "time.asctime(t) #날짜와 시간을 알아보기 쉬운 형태로 출력"
   ]
  },
  {
   "cell_type": "code",
   "execution_count": null,
   "id": "e3c94a7b",
   "metadata": {},
   "outputs": [],
   "source": [
    "# ctime\n",
    "\n",
    "from time import ctime\n",
    "ctime(1678846262.4675112)"
   ]
  },
  {
   "cell_type": "code",
   "execution_count": null,
   "id": "a8240e9e",
   "metadata": {},
   "outputs": [],
   "source": [
    "# 현재 날짜와 시간을 \"Mon Dec 28 22:02:17 2020\" 포멧으로 출력하세요.\n",
    "\n",
    "import time\n",
    "t= time.localtime()\n",
    "time.asctime(t)"
   ]
  },
  {
   "cell_type": "code",
   "execution_count": null,
   "id": "66ba69fa",
   "metadata": {},
   "outputs": [],
   "source": [
    "#타임에서 타임을 가져와서 소수형태로 되어있는 것을 str형태로 바꿔주기\n",
    "import time\n",
    "t=time.time()\n",
    "\n",
    "print(t,type(t))\n",
    "\n",
    "s=str(t)\n",
    "print(s, type(s))  #문자로 바꾸기"
   ]
  },
  {
   "cell_type": "markdown",
   "id": "f3bb5f0d",
   "metadata": {},
   "source": [
    "gmtime(), localtime() 함수 : timestamp를 struct_time 객체로 변환"
   ]
  },
  {
   "cell_type": "code",
   "execution_count": null,
   "id": "410711e6",
   "metadata": {},
   "outputs": [],
   "source": [
    "from time import gmtime, localtime\n",
    "\n",
    "print(gmtime(1678846262.4675112))\n",
    "localtime(1678846262.4675112)"
   ]
  },
  {
   "cell_type": "code",
   "execution_count": null,
   "id": "151a2f43",
   "metadata": {},
   "outputs": [],
   "source": [
    "# 소수를 보기 쉽게 변환하기\n",
    "t=ctime(1678846262.4675112)\n",
    "\n",
    "print(t)"
   ]
  },
  {
   "cell_type": "code",
   "execution_count": null,
   "id": "9b93ff66",
   "metadata": {},
   "outputs": [],
   "source": [
    "# 현재 날짜와 시간을 \"Mon Dec 28 22:02:17 2020\" 포멧으로 출력하세요 (두 가지 방식; 씨타임, 에이에스씨타임)\n",
    "\n",
    "import time\n",
    "t=time.time()\n",
    "print(ctime(t))\n",
    "\n",
    "t1=time.localtime()\n",
    "print(t1)\n",
    "print(time.asctime(t1))"
   ]
  },
  {
   "cell_type": "code",
   "execution_count": null,
   "id": "a752a321",
   "metadata": {},
   "outputs": [],
   "source": [
    "# 현재 시간을 년-월 시:분:초 로 출력하세요.\n",
    "\n",
    "import time\n",
    "from datetime import datetime\n",
    "t = time.time()\n",
    "d = datetime.fromtimestamp(t)  #timestamp -> datetime\n",
    "s = d.strftime('%Y-%m-%d %X')  #datetime -> str\n",
    "s"
   ]
  },
  {
   "cell_type": "code",
   "execution_count": null,
   "id": "1de49ee6",
   "metadata": {},
   "outputs": [],
   "source": [
    "# timestamp -> datetime\n",
    "머 적어놓기"
   ]
  },
  {
   "cell_type": "code",
   "execution_count": null,
   "id": "930a4605",
   "metadata": {},
   "outputs": [],
   "source": [
    "# timestamp을 가져와서 datetime으로 변환하고 strftime으로 변환하는 것\n",
    "\n",
    "from datetime import datetime\n",
    "t=time.time() \n",
    "print(t)\n",
    "d=datetime.fromtimestamp(t)\n",
    "print(d)\n",
    "s=d.strftime('%Y-%m-%d %X')\n",
    "print(s)"
   ]
  },
  {
   "cell_type": "code",
   "execution_count": null,
   "id": "d53019f3",
   "metadata": {},
   "outputs": [],
   "source": [
    "# 그냥 바로 datetime으로 가져오면 바로 strf로 변환 가능함.\n",
    "\n",
    "from datetime import datetime\n",
    "s= datetime.now()\n",
    "print(s,type(s))\n",
    "\n",
    "s1= s.strftime('%Y-%m-%d %X')\n",
    "print(s1,type(s1))"
   ]
  },
  {
   "cell_type": "code",
   "execution_count": null,
   "id": "68b796a3",
   "metadata": {},
   "outputs": [],
   "source": [
    "#  str -> datetime  포맷넣어줘야함(%...)\n",
    "\n",
    "from datetime import datetime\n",
    "s='2023-01-01 11:11:11'\n",
    "print(s,type(s))\n",
    "\n",
    "d= datetime.strptime(s,'%Y-%m-%d %X')\n",
    "print(d,type(d))"
   ]
  },
  {
   "cell_type": "code",
   "execution_count": null,
   "id": "e4f57595",
   "metadata": {},
   "outputs": [],
   "source": [
    "#  str -> datetime -> timestamp (타임튜플로 바꿔줘야 함.)\n",
    "\n",
    "s='2023-01-01 11:11:11'\n",
    "timestamp = time.mktime(datetime.strptime(s,'%Y-%m-%d %X').timetuple())\n",
    "print(timestamp,type(timestamp))"
   ]
  },
  {
   "cell_type": "code",
   "execution_count": null,
   "id": "84ad6540",
   "metadata": {},
   "outputs": [],
   "source": [
    "# datetime -> timestamp\n",
    "\n",
    "d= datetime.today()\n",
    "print(d,type(d))\n",
    "\n",
    "timestamp=time.mktime(datetime.strptime(s,'%Y-%m-%d %X').timetuple())\n",
    "print(timestamp,type(timestamp))"
   ]
  },
  {
   "cell_type": "code",
   "execution_count": null,
   "id": "39e8a339",
   "metadata": {},
   "outputs": [],
   "source": [
    "# 올 해 경과된 날짜 수를 계산하세요.\n",
    "\n",
    "import time\n",
    "t = time.localtime()   #지금 시간 뽑기\n",
    "print(t)\n",
    "start_day = '%d-01-01' %t.tm_year  #시작하는 날짜. %d는 올해 년도 받음\n",
    "elabsed_day = t.tm_yday #지나온 날짜\n",
    "\n",
    "print(f'오늘은 {start_day} 이후 {elabsed_day}일째 되는 날 입니다.')\n"
   ]
  },
  {
   "cell_type": "code",
   "execution_count": null,
   "id": "587ed5cd",
   "metadata": {},
   "outputs": [],
   "source": [
    "# 현재 요일을 \"2022-06-06 오늘은 토요일입니다.\" 와 같은 형식으로 출력하세요.\n",
    "\n",
    "import time\n",
    "t= time.localtime()\n",
    "today='%d-%d-%d'%(t.tm_year, t.tm_mon, t.tm_mday)\n",
    "weekdays=['월','화','수','목','금','토','일']\n",
    "day=weekdays[t.tm_wday]\n",
    "\n",
    "print(f'{today} 오늘은 {day}요일입니다.')"
   ]
  },
  {
   "cell_type": "code",
   "execution_count": null,
   "id": "fe499caf",
   "metadata": {},
   "outputs": [],
   "source": [
    "# 1000밀리초=1초\n",
    "# 과제) 1에서 백만까지 더하는데 걸리는 프로그램 실행 시간을 밀리초(ms)단위로 구하세요.(1000밀리초(ms) = 1초)\n",
    "\n",
    "from datetime import time\n",
    "\n",
    "start=datetime.now()\n",
    "print(start)\n",
    "print('1에서 백만까지 더합니다.')\n",
    "ret=0\n",
    "for i in range(1000000):\n",
    "    ret += 1\n",
    "print('1에서 백만까지 더한 결과: %d' %ret)\n",
    "end = datetime.now()\n",
    "\n",
    "elabsed= end - start\n",
    "print('총 계산 시간: ', end=' '); print(elabsed)\n",
    "elabsed_ms=int(elabsed.total_seconds()*1000)\n",
    "print('총 계산 시간: %dms' %elabsed_ms)"
   ]
  },
  {
   "cell_type": "markdown",
   "id": "419cc443",
   "metadata": {},
   "source": [
    "예외 처리 방법\n",
    "\n",
    "- try + except try : 에러가 발생할 것 같은, 예외처리를 하고 싶은 곳을 찾아서 try 구문에 코드를 작성합니다.\n",
    "except : 에러가 발생했을 때 처리할 코드를 작성합니다.\n",
    "- try + except + else else 는 에러가 발생하지 않았을때 거치는 구문입니다. else만 단독으로 try + else 는 불가능합니다. except 가 있어야 합니다.\n",
    "- try + finally finally 는 에러가 발생해도, 발생하지 않아도 무조건 거치는 구문입니다.except. 없이 try + finally 만 사용한다면 에러가 발생한 후에 finally 구문까지만 실행이 되고 프로그램이 중간에 죽게 됩니다.\n",
    "- try + except + finally\n",
    "except 구문을 추가하고 finally 구문도 있음\n",
    "- try + except + else + finally\n",
    "try (해당 구문 안에서 에러 발생 시 처리 가능 - 필수)\n",
    "except (에러 발생시 수행 - 선택이지만 에러를 처리하려면 필수)\n",
    "else (에러 없을 때 수행 - 선택이지만 except 없이는 올 수 없음)\n",
    "finally (에러가 있거나 없거나 상관없이 항상 수행 - 선택)"
   ]
  },
  {
   "cell_type": "code",
   "execution_count": null,
   "id": "2438a426",
   "metadata": {},
   "outputs": [],
   "source": [
    "# try except else finally\n",
    "\n",
    "list = ['a','b','c','d']\n",
    "\n",
    "try:\n",
    "    print(list[3])\n",
    "except:\n",
    "    print('예외가 발생했습니다.')\n",
    "else:\n",
    "    print('정상 작동중')\n",
    "finally:\n",
    "    print('실행 완료되었습니다.')"
   ]
  },
  {
   "cell_type": "code",
   "execution_count": null,
   "id": "2c28a4af",
   "metadata": {},
   "outputs": [],
   "source": [
    "while True:\n",
    "    try :\n",
    "        x = int(input(''))\n",
    "\n",
    "    except :\n",
    "        print('정수를 입력해 주세요')\n",
    "    \n",
    "    else :\n",
    "        print('잘 입력하셨습니다')\n",
    "        break\n",
    "    \n",
    "    finally :\n",
    "        print('==================')"
   ]
  },
  {
   "cell_type": "markdown",
   "id": "768d248a",
   "metadata": {},
   "source": [
    "3/16"
   ]
  },
  {
   "cell_type": "markdown",
   "id": "0b791d7b",
   "metadata": {},
   "source": [
    "함수응용 -> 새 파일"
   ]
  },
  {
   "cell_type": "code",
   "execution_count": null,
   "id": "50d2231e",
   "metadata": {},
   "outputs": [],
   "source": []
  },
  {
   "cell_type": "code",
   "execution_count": null,
   "id": "a1e8da9b",
   "metadata": {},
   "outputs": [],
   "source": []
  },
  {
   "cell_type": "code",
   "execution_count": null,
   "id": "3179f648",
   "metadata": {},
   "outputs": [],
   "source": []
  },
  {
   "cell_type": "code",
   "execution_count": null,
   "id": "ede33734",
   "metadata": {},
   "outputs": [],
   "source": []
  },
  {
   "cell_type": "code",
   "execution_count": null,
   "id": "1b13809f",
   "metadata": {},
   "outputs": [],
   "source": []
  },
  {
   "cell_type": "code",
   "execution_count": null,
   "id": "64a7feec",
   "metadata": {},
   "outputs": [],
   "source": []
  },
  {
   "cell_type": "code",
   "execution_count": null,
   "id": "bb1890ec",
   "metadata": {},
   "outputs": [],
   "source": []
  },
  {
   "cell_type": "code",
   "execution_count": null,
   "id": "f906ad12",
   "metadata": {},
   "outputs": [],
   "source": []
  },
  {
   "cell_type": "code",
   "execution_count": null,
   "id": "006eb270",
   "metadata": {},
   "outputs": [],
   "source": []
  }
 ],
 "metadata": {
  "kernelspec": {
   "display_name": "Python 3 (ipykernel)",
   "language": "python",
   "name": "python3"
  },
  "language_info": {
   "codemirror_mode": {
    "name": "ipython",
    "version": 3
   },
   "file_extension": ".py",
   "mimetype": "text/x-python",
   "name": "python",
   "nbconvert_exporter": "python",
   "pygments_lexer": "ipython3",
   "version": "3.9.13"
  }
 },
 "nbformat": 4,
 "nbformat_minor": 5
}
