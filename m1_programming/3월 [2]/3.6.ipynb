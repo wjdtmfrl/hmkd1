{
 "cells": [
  {
   "cell_type": "code",
   "execution_count": 2,
   "id": "6528249f",
   "metadata": {},
   "outputs": [
    {
     "name": "stdout",
     "output_type": "stream",
     "text": [
      "3이 있습니다.\n"
     ]
    }
   ],
   "source": [
    "print(\"3이 있습니다.\")"
   ]
  },
  {
   "cell_type": "code",
   "execution_count": 3,
   "id": "d83abec2",
   "metadata": {},
   "outputs": [
    {
     "name": "stdout",
     "output_type": "stream",
     "text": [
      "3이 있습니다.\n"
     ]
    }
   ],
   "source": [
    "if 3 in [1,2,3,4]: print(\"3이 있습니다.\")"
   ]
  },
  {
   "cell_type": "code",
   "execution_count": 6,
   "id": "614687c4",
   "metadata": {},
   "outputs": [
    {
     "name": "stdout",
     "output_type": "stream",
     "text": [
      "10\n",
      "2\n",
      "12\n",
      "20\n",
      "5.0\n",
      "0\n",
      "5\n",
      "8\n"
     ]
    }
   ],
   "source": [
    "a=10\n",
    "b=2\n",
    "c=a+b\n",
    "d=a*b\n",
    "e=a/b\n",
    "f=a%b\n",
    "g=a//b\n",
    "h=2**3\n",
    "\n",
    "print(a)\n",
    "print(b)\n",
    "print(c)\n",
    "print(d)\n",
    "print(e)\n",
    "print(f)\n",
    "print(g)\n",
    "print(h)"
   ]
  },
  {
   "cell_type": "code",
   "execution_count": 7,
   "id": "74e4257c",
   "metadata": {},
   "outputs": [
    {
     "ename": "TypeError",
     "evalue": "can only concatenate str (not \"int\") to str",
     "output_type": "error",
     "traceback": [
      "\u001b[1;31m---------------------------------------------------------------------------\u001b[0m",
      "\u001b[1;31mTypeError\u001b[0m                                 Traceback (most recent call last)",
      "\u001b[1;32m~\\AppData\\Local\\Temp\\ipykernel_4484\\4059914816.py\u001b[0m in \u001b[0;36m<module>\u001b[1;34m\u001b[0m\n\u001b[0;32m      1\u001b[0m \u001b[0mstring\u001b[0m \u001b[1;33m=\u001b[0m \u001b[1;34m\"문자열\"\u001b[0m\u001b[1;33m\u001b[0m\u001b[1;33m\u001b[0m\u001b[0m\n\u001b[0;32m      2\u001b[0m \u001b[0mnumber\u001b[0m \u001b[1;33m=\u001b[0m \u001b[1;36m273\u001b[0m\u001b[1;33m\u001b[0m\u001b[1;33m\u001b[0m\u001b[0m\n\u001b[1;32m----> 3\u001b[1;33m \u001b[0mstring\u001b[0m \u001b[1;33m+\u001b[0m \u001b[0mnumber\u001b[0m\u001b[1;33m\u001b[0m\u001b[1;33m\u001b[0m\u001b[0m\n\u001b[0m",
      "\u001b[1;31mTypeError\u001b[0m: can only concatenate str (not \"int\") to str"
     ]
    }
   ],
   "source": [
    "string = \"문자열\"\n",
    "number = 273\n",
    "string + number"
   ]
  },
  {
   "cell_type": "code",
   "execution_count": 8,
   "id": "300a28b4",
   "metadata": {},
   "outputs": [
    {
     "name": "stdout",
     "output_type": "stream",
     "text": [
      "<class 'str'>\n"
     ]
    },
    {
     "data": {
      "text/plain": [
       "int"
      ]
     },
     "execution_count": 8,
     "metadata": {},
     "output_type": "execute_result"
    }
   ],
   "source": [
    "print(type(string))\n",
    "type(number)\n"
   ]
  },
  {
   "cell_type": "code",
   "execution_count": 9,
   "id": "ff81dc3d",
   "metadata": {},
   "outputs": [
    {
     "name": "stdout",
     "output_type": "stream",
     "text": [
      "100\n"
     ]
    },
    {
     "data": {
      "text/plain": [
       "int"
      ]
     },
     "execution_count": 9,
     "metadata": {},
     "output_type": "execute_result"
    }
   ],
   "source": [
    "a=10\n",
    "a='문자'\n",
    "a=100\n",
    "print(a)\n",
    "type(a)"
   ]
  },
  {
   "cell_type": "code",
   "execution_count": 30,
   "id": "aa943665",
   "metadata": {},
   "outputs": [
    {
     "data": {
      "text/plain": [
       "200"
      ]
     },
     "execution_count": 30,
     "metadata": {},
     "output_type": "execute_result"
    }
   ],
   "source": [
    "num = 10\n",
    "num += 10\n",
    "# num = 10 + num ==> 20\n",
    "num *= 10\n",
    "# num = 20 *10 ==> 200\n",
    "num"
   ]
  },
  {
   "cell_type": "code",
   "execution_count": 26,
   "id": "75c8eaa9",
   "metadata": {
    "scrolled": true
   },
   "outputs": [
    {
     "data": {
      "text/plain": [
       "'나는 파이썬을 좋아한다.'"
      ]
     },
     "execution_count": 26,
     "metadata": {},
     "output_type": "execute_result"
    }
   ],
   "source": [
    "a=\"나는 \"\n",
    "b=\"파이썬을 \"\n",
    "c=\"좋아한다.\"\n",
    "\n",
    "a + b + c\n",
    "\n",
    "#숫자는 연산을 하지만 문자는 그냥 붙여준다."
   ]
  },
  {
   "cell_type": "code",
   "execution_count": 28,
   "id": "d9e264aa",
   "metadata": {},
   "outputs": [
    {
     "data": {
      "text/plain": [
       "'파이썬 3.8'"
      ]
     },
     "execution_count": 28,
     "metadata": {},
     "output_type": "execute_result"
    }
   ],
   "source": [
    "a = \"파이썬 \"\n",
    "b = '3.8'\n",
    "\n",
    "a+b\n",
    "\n",
    "#숫자지만 따옴표 처리하여 문자로 인식. -> 붙일 수 있다."
   ]
  },
  {
   "cell_type": "code",
   "execution_count": 32,
   "id": "4f871399",
   "metadata": {},
   "outputs": [
    {
     "name": "stdout",
     "output_type": "stream",
     "text": [
      "인사말을 입력하세요: 이병건이요~\n"
     ]
    },
    {
     "data": {
      "text/plain": [
       "'이병건이요~'"
      ]
     },
     "execution_count": 32,
     "metadata": {},
     "output_type": "execute_result"
    }
   ],
   "source": [
    "# 사용자 입력\n",
    "input('인사말을 입력하세요: ')"
   ]
  },
  {
   "cell_type": "code",
   "execution_count": 35,
   "id": "9431660a",
   "metadata": {},
   "outputs": [
    {
     "name": "stdout",
     "output_type": "stream",
     "text": [
      "숫자를 입력하세요: 8\n",
      "8\n"
     ]
    },
    {
     "data": {
      "text/plain": [
       "str"
      ]
     },
     "execution_count": 35,
     "metadata": {},
     "output_type": "execute_result"
    }
   ],
   "source": [
    "num = input(\"숫자를 입력하세요: \")\n",
    "#input은 문자열로 취급한다. ==> string으로 나옴.\n",
    "print(num)\n",
    "type(num)"
   ]
  },
  {
   "cell_type": "code",
   "execution_count": 38,
   "id": "aa6a8cec",
   "metadata": {},
   "outputs": [
    {
     "name": "stdout",
     "output_type": "stream",
     "text": [
      "숫자를 입력하세요.5\n",
      "숫자를 입력하세요.5\n",
      "55\n"
     ]
    }
   ],
   "source": [
    "num1 = input('숫자를 입력하세요.')\n",
    "num2 = input('숫자를 입력하세요.')\n",
    "print (num1+num2)"
   ]
  },
  {
   "cell_type": "code",
   "execution_count": 40,
   "id": "13b77ca1",
   "metadata": {},
   "outputs": [
    {
     "name": "stdout",
     "output_type": "stream",
     "text": [
      "숫자를 입력하세요.5\n",
      "숫자를 입력하세요.6\n",
      "11\n"
     ]
    }
   ],
   "source": [
    "num1 = input('숫자를 입력하세요.')\n",
    "num1_n=int(num1)\n",
    "num2 = input('숫자를 입력하세요.')\n",
    "num2_n=int(num2)\n",
    "print (num1_n+num2_n)"
   ]
  },
  {
   "cell_type": "code",
   "execution_count": 44,
   "id": "8fa393c8",
   "metadata": {},
   "outputs": [
    {
     "name": "stdout",
     "output_type": "stream",
     "text": [
      "숫자를 입력하세요.3\n",
      "숫자를 입력하세요.3.3\n",
      "6.3\n"
     ]
    }
   ],
   "source": [
    "# Q. 3과 3.3을 입력하고 숫자 연산을 수행하여 6.3을 출력하세요.\n",
    "\n",
    "num1 = input('숫자를 입력하세요.')\n",
    "num1_n=int(num1)\n",
    "num2 = input('숫자를 입력하세요.')\n",
    "num2_n=float(num2)\n",
    "print (num1_n+num2_n)\n",
    "\n",
    "#실수변형 float !!!!!"
   ]
  },
  {
   "cell_type": "code",
   "execution_count": 48,
   "id": "0ee8f25c",
   "metadata": {},
   "outputs": [
    {
     "name": "stdout",
     "output_type": "stream",
     "text": [
      "5252.273\n"
     ]
    }
   ],
   "source": [
    "# Q. a = 52와 b = 52.273일 때, a+b는 5252.273으로 출력되도록 a와 b를 문자열 자료형으로 변환하세요.\n",
    "\n",
    "a=52\n",
    "b=52.273\n",
    "print(str(a)+str(b))"
   ]
  },
  {
   "cell_type": "code",
   "execution_count": 52,
   "id": "0cb940d9",
   "metadata": {},
   "outputs": [
    {
     "name": "stdout",
     "output_type": "stream",
     "text": [
      "python's value is great.\n"
     ]
    }
   ],
   "source": [
    "# 문자열 : \"\", '', \"\"\"\"\"\", ''''''\n",
    "\n",
    "p1 = \"python's value is great.\"\n",
    "# p2 = 'python's value is great.'\n",
    "\n",
    "\n",
    "print(p1)"
   ]
  },
  {
   "cell_type": "code",
   "execution_count": 54,
   "id": "945386b3",
   "metadata": {},
   "outputs": [
    {
     "name": "stdout",
     "output_type": "stream",
     "text": [
      "\"python is valuable\" he says.\n"
     ]
    }
   ],
   "source": [
    "q1 = '\"python is valuable\" he says.'\n",
    "print(q1)"
   ]
  },
  {
   "cell_type": "code",
   "execution_count": 55,
   "id": "d8cd72e8",
   "metadata": {},
   "outputs": [
    {
     "name": "stdout",
     "output_type": "stream",
     "text": [
      "python's value is great.\n"
     ]
    }
   ],
   "source": [
    "q2 = 'python\\'s value is great.'\n",
    "print(q2)\n",
    "\n",
    "# '앞에 역슬래쉬(\\)붙여주기. 문자로 처리함. ==> 이스케이프 문자"
   ]
  },
  {
   "cell_type": "code",
   "execution_count": 61,
   "id": "1d5ab627",
   "metadata": {},
   "outputs": [
    {
     "name": "stdout",
     "output_type": "stream",
     "text": [
      "Once you study data analysis\n",
      "You need Python\n"
     ]
    }
   ],
   "source": [
    "# w1 = \"Once you study data analysis\\nYou need Python\"\n",
    "# print(w1)\n",
    "# w2 = '''Once you study data analysis\\nYou need Python'''\n",
    "# print(w2)\n",
    "w3 = \"\"\"Once you study data analysis\\nYou need Python\"\"\"\n",
    "print(w3)\n"
   ]
  },
  {
   "cell_type": "code",
   "execution_count": 63,
   "id": "cb273e88",
   "metadata": {},
   "outputs": [
    {
     "name": "stdout",
     "output_type": "stream",
     "text": [
      "\"what a wonderful world!\"\"\n",
      "he said loudly\n"
     ]
    }
   ],
   "source": [
    "string = '''\"what a wonderful world!\"\"\\nhe said loudly'''\n",
    "print(string)\n"
   ]
  },
  {
   "cell_type": "code",
   "execution_count": 64,
   "id": "cd2ec38d",
   "metadata": {},
   "outputs": [
    {
     "name": "stdout",
     "output_type": "stream",
     "text": [
      "Python is easy to learn\n",
      "PythonPythonPython\n",
      "====================\n"
     ]
    }
   ],
   "source": [
    "# 문자열 연산\n",
    "\n",
    "a1 = 'Python'\n",
    "a2 = ' is easy to learn'\n",
    "print (a1+a2)\n",
    "print (a1*3)\n",
    "print (\"=\" *20)"
   ]
  },
  {
   "cell_type": "code",
   "execution_count": 70,
   "id": "a34e91d7",
   "metadata": {},
   "outputs": [
    {
     "name": "stdout",
     "output_type": "stream",
     "text": [
      "[1, 'a', 'abc', [1, 2, 3, 4, 5], ['a', 'b', 'c']]\n"
     ]
    }
   ],
   "source": [
    "# 자료형 List\n",
    "# 자료형은 []로 표시하며 []안의 요소를 콤마로 구분하여 순서있게 나열. (파이썬에는 배열이 없음.)\n",
    "\n",
    "list1 = [1,2,3,4,5]\n",
    "list2 = ['a','b','c']\n",
    "list3 = [1,'a','abc',[1,2,3,4,5],['a','b','c']]\n",
    "print (list3)\n"
   ]
  },
  {
   "cell_type": "code",
   "execution_count": 73,
   "id": "533310ce",
   "metadata": {},
   "outputs": [
    {
     "data": {
      "text/plain": [
       "[1, 2, 3, 4, 5]"
      ]
     },
     "execution_count": 73,
     "metadata": {},
     "output_type": "execute_result"
    }
   ],
   "source": [
    "#인덱싱 : 0부터 시작\n",
    "\n",
    "list1 = [1,2,3,4,5]\n",
    "# list1[4] ==> 5\n",
    "\n",
    "list1[:]\n",
    "# :는 전체 의미"
   ]
  },
  {
   "cell_type": "code",
   "execution_count": 76,
   "id": "bf912bb5",
   "metadata": {},
   "outputs": [
    {
     "name": "stdout",
     "output_type": "stream",
     "text": [
      "abc\n",
      "5\n",
      "b\n"
     ]
    }
   ],
   "source": [
    "list3 = [1,'a','abc',[1,2,3,4,5],['a','b','c']]\n",
    "print(list3[2])\n",
    "print(list3[3][4])\n",
    "# 3번째의 4번째 값\n",
    "print(list3[4][1])"
   ]
  },
  {
   "cell_type": "code",
   "execution_count": 78,
   "id": "23eae3bd",
   "metadata": {},
   "outputs": [
    {
     "name": "stdout",
     "output_type": "stream",
     "text": [
      "[1, 1, 2, 3, 4, 5, 6, 7, 8, 9]\n",
      "['a', 'a', 'c']\n",
      "['a', 'c']\n"
     ]
    }
   ],
   "source": [
    "# 리스트 수정 / 삭제 (인덱싱 사용)\n",
    "\n",
    "a = [0,1,2,3,4,5,6,7,8,9]\n",
    "b = ['a', 'b', 'c']\n",
    "a[0] =1\n",
    "b[1]='a'\n",
    "\n",
    "print(a)\n",
    "print(b)\n",
    "\n",
    "del b[1]\n",
    "print(b)"
   ]
  },
  {
   "cell_type": "code",
   "execution_count": 79,
   "id": "c0cc039e",
   "metadata": {},
   "outputs": [
    {
     "name": "stdout",
     "output_type": "stream",
     "text": [
      "[0, 1, 2, 3, 4, 5, 6, 7, 8, 9, 'a', 'b', 'c']\n"
     ]
    },
    {
     "data": {
      "text/plain": [
       "[0, 1, 2, 3, 4, 5, 6, 7, 8, 9, 'a', 'b', 1]"
      ]
     },
     "execution_count": 79,
     "metadata": {},
     "output_type": "execute_result"
    }
   ],
   "source": [
    "a = [0,1,2,3,4,5,6,7,8,9]\n",
    "b = ['a', 'b', 'c']\n",
    "c=a+b\n",
    "print(c)\n",
    "c[-1] =1\n",
    "c"
   ]
  },
  {
   "cell_type": "code",
   "execution_count": 80,
   "id": "4f10a33e",
   "metadata": {},
   "outputs": [
    {
     "data": {
      "text/plain": [
       "[0, 1, 2, 3, 4, 5, 6, 7, 8, 9, 'a', 2, 1]"
      ]
     },
     "execution_count": 80,
     "metadata": {},
     "output_type": "execute_result"
    }
   ],
   "source": [
    "c[-2]=2\n",
    "c"
   ]
  },
  {
   "cell_type": "code",
   "execution_count": 2,
   "id": "4a894ccd",
   "metadata": {},
   "outputs": [
    {
     "name": "stdout",
     "output_type": "stream",
     "text": [
      "[1, 2, 3, 4]\n",
      "[4, 3, 2, 1]\n",
      "[4, 3, 2, 1]\n"
     ]
    }
   ],
   "source": [
    "# 정렬(기본_오름차순)\n",
    "b = [2,4,1,3]\n",
    "b.sort()\n",
    "print(b)\n",
    "\n",
    "# 내림차순\n",
    "b_d = sorted(b, reverse= True)\n",
    "print(b_d)\n",
    "\n",
    "b.reverse()\n",
    "print(b)\n"
   ]
  },
  {
   "cell_type": "code",
   "execution_count": null,
   "id": "cd239576",
   "metadata": {},
   "outputs": [],
   "source": [
    "# 정렬_내림차순으로 변환\n",
    "s = [1,1,2,3,4,5,6,7,8,9,2,1]\n",
    "\n",
    "s.sort()\n",
    "print(s)\n",
    "\n",
    "s_d = sorted(s, reverse= True)\n",
    "print(s_d)\n",
    "\n",
    "s.reverse()\n",
    "print(s)"
   ]
  },
  {
   "cell_type": "code",
   "execution_count": 87,
   "id": "342a1f59",
   "metadata": {},
   "outputs": [
    {
     "name": "stdout",
     "output_type": "stream",
     "text": [
      "2\n"
     ]
    }
   ],
   "source": [
    "# 인덱스 위치 반환\n",
    "\n",
    "c = [1,2,3,1,5]\n",
    "print(c.index(3)) #3의 인덱스 위치"
   ]
  },
  {
   "cell_type": "code",
   "execution_count": 89,
   "id": "5e7c7642",
   "metadata": {},
   "outputs": [
    {
     "data": {
      "text/plain": [
       "array([92, 49, 64, 77, 12])"
      ]
     },
     "execution_count": 89,
     "metadata": {},
     "output_type": "execute_result"
    }
   ],
   "source": [
    "# numpy를 np로 쓰겠다.(축약)\n",
    "# randint = 랜덤하게 정수를 뽑겠다.(중복숫자 나올 수 있음.)\n",
    "\n",
    "import numpy as np\n",
    "\n",
    "np.random.randint(100,size=5)  #size = 개수"
   ]
  },
  {
   "cell_type": "code",
   "execution_count": 3,
   "id": "0f953c1e",
   "metadata": {},
   "outputs": [
    {
     "name": "stdout",
     "output_type": "stream",
     "text": [
      "[26, 6, 95, 68, 53, 51, 38, 10, 26, 59, 69, 12, 13, 9, 23, 68, 47, 6, 31, 82, 38, 82, 36, 41, 36, 19, 48, 56, 3, 19, 59, 18, 67, 44, 63, 33, 59, 60, 19, 4, 81, 27, 90, 59, 67, 51, 89, 80, 53, 98, 70, 36, 73, 81, 98, 71, 74, 98, 7, 36, 4, 89, 45, 9, 19, 0, 64, 48, 2, 60, 1, 16, 84, 17, 37, 49, 65, 28, 27, 83, 99, 16, 76, 9, 62, 50, 81, 89, 76, 67, 23, 29, 97, 92, 89, 81, 51, 94, 74, 73]\n",
      "100\n"
     ]
    },
    {
     "data": {
      "text/plain": [
       "70"
      ]
     },
     "execution_count": 3,
     "metadata": {},
     "output_type": "execute_result"
    }
   ],
   "source": [
    "# tolist() : 리스트로 변환\n",
    "\n",
    "import numpy as np\n",
    "\n",
    "c = np.random.randint(100,size=100).tolist()\n",
    "print(c)\n",
    "print(len(c))\n",
    "c.index(1) #1의 인덱스.항상 바뀜(항상 랜덤)"
   ]
  },
  {
   "cell_type": "code",
   "execution_count": 92,
   "id": "5bc43820",
   "metadata": {},
   "outputs": [
    {
     "name": "stdout",
     "output_type": "stream",
     "text": [
      "2\n"
     ]
    }
   ],
   "source": [
    "# 개수 반환\n",
    "c=[1,1,3,3,3,5,5]\n",
    "\n",
    "print(c.count(5))"
   ]
  },
  {
   "cell_type": "code",
   "execution_count": 98,
   "id": "6cdfe78e",
   "metadata": {},
   "outputs": [
    {
     "name": "stdout",
     "output_type": "stream",
     "text": [
      "[1, 2, 3, 4, 5]\n",
      "[1, 2, 3, 4, 5, 6]\n",
      "[5, 1, 2, 3, 4, 5, 6]\n",
      "[5, 1, 2, 3, 4, 5, 6, 7]\n"
     ]
    },
    {
     "data": {
      "text/plain": [
       "8"
      ]
     },
     "execution_count": 98,
     "metadata": {},
     "output_type": "execute_result"
    }
   ],
   "source": [
    "# 리스트 확장\n",
    "\n",
    "h = [1,2,3]\n",
    "h.extend([4,5])\n",
    "print(h)\n",
    "\n",
    "# 추가\n",
    "h.append(6)\n",
    "print(h)\n",
    "h.insert(0,5)\n",
    "print(h)\n",
    "h.insert(10,7)   # => 10번째 수 없으니까 걍 마지막으로 7이 들어감.\n",
    "print(h)\n",
    "len(h)"
   ]
  },
  {
   "cell_type": "code",
   "execution_count": 122,
   "id": "4ab92eda",
   "metadata": {},
   "outputs": [
    {
     "name": "stdout",
     "output_type": "stream",
     "text": [
      "[0, 2, 4, 6, 8]\n",
      "[1, 3, 5, 7, 9]\n",
      "[2, 1, 0]\n"
     ]
    }
   ],
   "source": [
    "# Q. list = [0,1,2,3,4,5,6,7,8,9]에서 아래와 같이 출력하세요.\n",
    "\n",
    "list = [0,1,2,3,4,5,6,7,8,9]\n",
    "\n",
    "# [0,2,4,6,8] \n",
    "# [1,3,5,7,9]\n",
    "# [2,1,0]\n",
    "\n",
    "print(list[0::2])\n",
    "print(list[1::2])\n",
    "\n",
    "list=[0,1,2,3,4,5,6,7,8,9]\n",
    "list.reverse()\n",
    "print(list[7:])    #선생님이 뭐 더 적어주셨는데 난 에러떠서 그냥 대화방에 나온걸로 함.ㅋ"
   ]
  },
  {
   "cell_type": "code",
   "execution_count": 126,
   "id": "f08cca21",
   "metadata": {},
   "outputs": [
    {
     "data": {
      "text/plain": [
       "[1, 3, 5, 7, 9]"
      ]
     },
     "execution_count": 126,
     "metadata": {},
     "output_type": "execute_result"
    }
   ],
   "source": [
    "list=[0,1,2,3,4,5,6,7,8,9]\n",
    "list[::2] # 2를 주면 하나씩 건너뛰는거고 3을 주면 0.3.6.9 이렇게 나옴.\n",
    "# :: -> 끝까지"
   ]
  },
  {
   "cell_type": "code",
   "execution_count": 124,
   "id": "f0c8f1ec",
   "metadata": {},
   "outputs": [
    {
     "data": {
      "text/plain": [
       "[2, 1, 0]"
      ]
     },
     "execution_count": 124,
     "metadata": {},
     "output_type": "execute_result"
    }
   ],
   "source": [
    "list[2::-1]"
   ]
  },
  {
   "cell_type": "code",
   "execution_count": null,
   "id": "b800eb44",
   "metadata": {},
   "outputs": [],
   "source": [
    "# >> 과제 : list1에서 다음을 수행하세요. <<\n",
    "\n",
    "# 1. 33을 출력 *0\n",
    "# 2. 82를 리스트에 추가 0\n",
    "# 3. 82의 갯수를 구하기 0\n",
    "# 4. 87의 인덱스 구하기 0\n",
    "# 5. 인덱스 3에서 10까지의 값을 출력하고 list2에 내림차순 정렬하기 *0\n",
    "# 6. 39를 11로 변경 *0\n",
    "# 7. [69,45,58] 출력 0\n",
    "# 8. 짝수 인덱스의 값으로 구성된 리스트 출력하기 0\n",
    "# 9. 인덱스가 가장 큰 수를 삭제하기 0\n",
    "# 10. 인덱스*번호*가 3,5인 값으로 사칙연산하기 0\n",
    "\n",
    "list1 = [58,45,69,19,4,87,29,13,39,15,54,[8,33,11],27,49,63,98,22,82]"
   ]
  },
  {
   "cell_type": "markdown",
   "id": "3e6a8f28",
   "metadata": {},
   "source": [
    "#### 3/7 이어붙"
   ]
  },
  {
   "cell_type": "code",
   "execution_count": null,
   "id": "0057d467",
   "metadata": {},
   "outputs": [],
   "source": [
    "# >> 과제 : list1에서 다음을 수행하세요. <<\n",
    "\n",
    "# 1. 33을 출력\n",
    "# 2. 82를 리스트에 추가\n",
    "# 3. 82의 갯수를 구하기\n",
    "# 4. 87의 인덱스 구하기\n",
    "# 5. 인덱스 3에서 10까지의 값을 출력하고 list2에 내림차순 정렬하기\n",
    "# 6. 39를 11로 변경\n",
    "# 7. [69,45,58] 출력\n",
    "# 8. 짝수 인덱스의 값으로 구성된 리스트 출력하기\n",
    "# 9. 인덱스가 가장 큰 수를 삭제하기\n",
    "# 10. 인덱스*번호*가 3,5인 값으로 사칙연산하기\n",
    "\n",
    "list1 = [58,45,69,19,4,87,29,13,39,15,54,[8,33,11],27,49,63,98,22,82]\n",
    "\n",
    "list1 = [58,45,69,19,4,87,29,13,39,15,54,[8,33,11],27,49,63,98,22,82]\n",
    "\n",
    "print(list1[11][1])\n",
    "\n",
    "list1 = [58,45,69,19,4,87,29,13,39,15,54,[8,33,11],27,49,63,98,22,82]\n",
    "# 2. 82를 리스트에 추가\n",
    "\n",
    "list1.append(82)\n",
    "print(list1)\n",
    "\n",
    "list1 = [58,45,69,19,4,87,29,13,39,15,54,[8,33,11],27,49,63,98,22,82]\n",
    "# 3. 82의 갯수를 구하기\n",
    "\n",
    "list1.count(82)\n",
    "\n",
    "list1 = [58,45,69,19,4,87,29,13,39,15,54,[8,33,11],27,49,63,98,22,82]\n",
    "# 4. 87의 인덱스 구하기\n",
    "\n",
    "list1.index(87)\n",
    "\n",
    "list1 = [58,45,69,19,4,87,29,13,39,15,54,[8,33,11],27,49,63,98,22,82]\n",
    "# 5. 인덱스 3에서 10까지의 값을 출력하고 list2에 내림차순 정렬하기\n",
    "\n",
    "# print(list1[3:10])\n",
    "\n",
    "# list2 = sorted(list1, reverse= True)\n",
    "# print(list2)\n",
    "\n",
    "\n",
    "list2 = list1[3:11]           #끝날때는 그 앞에까지라 3~11 이렇게 끊어야 함.\n",
    "list2.sort()\n",
    "list2.reverse()\n",
    "print(list2)\n",
    "\n",
    "list1 = [58,45,69,19,4,87,29,13,39,15,54,[8,33,11],27,49,63,98,22,82]\n",
    "# 6. 39를 11로 변경\n",
    "\n",
    "a = list1.index(39)\n",
    "list1[a] = 11\n",
    "print(list1)\n",
    "\n",
    "list1 = [58,45,69,19,4,87,29,13,39,15,54,[8,33,11],27,49,63,98,22,82]\n",
    "# 7. [69,45,58] 출력\n",
    "\n",
    "print(list1[2::-1])\n",
    "\n",
    "list1 = [58,45,69,19,4,87,29,13,39,15,54,[8,33,11],27,49,63,98,22,82]\n",
    "# 8. 짝수 인덱스의 값으로 구성된 리스트 출력하기\n",
    "\n",
    "print(list1[0::2])\n",
    "\n",
    "list1 = [58,45,69,19,4,87,29,13,39,15,54,[8,33,11],27,49,63,98,22,82]\n",
    "# 9. 인덱스가 가장 큰 수를 삭제하기\n",
    "\n",
    "del list1[-1]\n",
    "print(list1)\n",
    "\n",
    "list1 = [58,45,69,19,4,87,29,13,39,15,54,[8,33,11],27,49,63,98,22,82]\n",
    "# 10. 인덱스*번호*가 3,5인 값으로 사칙연산하기\n",
    "\n",
    "a=list1[3]\n",
    "b=list1[5]\n",
    "\n",
    "print(a+b)\n",
    "print(a-b)\n",
    "print(a*b)\n",
    "print(a/b)\n",
    "\n",
    "## 3/7 수업내용\n",
    "\n",
    "### 튜플\n",
    "\n",
    "tuple1 = (1,2,3,4,5)\n",
    "tuple2 = ('a','b','c')\n",
    "tuple3 = (1,'a','abc',[1,2,3,4,5],['a','b','c'])\n",
    "\n",
    "print(tuple1[:])\n",
    "print(tuple3[2])\n",
    "print(tuple3[3][4])\n",
    "print(tuple3[4][1])\n",
    "\n",
    "list1 = [1,2,3,4,5]\n",
    "\n",
    "print(list1)\n",
    "list1[0] =6\n",
    "print(list1)\n",
    "\n",
    "tuple1=(1,2,3,4,5)\n",
    "tuple[0]=6\n",
    "\n",
    "# 자료가 변경되지 않아야 하는 경우에 튜플을 사용한다.\n",
    "# 수정 및 삭제는 오류로 뜸.\n",
    "\n",
    "t1=(1,) #1개의 요소만 가질 때에는 요소 뒤에 콤마(,)붙여야 함.\n",
    "print(t1)\n",
    "print(type(t1))\n",
    "\n",
    "t2 = 1,2,3\n",
    "print(t2)\n",
    "print(t2*3) #연산 가능\n",
    "\n",
    "t3=t1+t2\n",
    "print(t3)\n",
    "\n",
    "t4=(1)\n",
    "print(t4)\n",
    "print(type(t4)) #콤마없으면 정수로 처리됨.\n",
    "\n",
    "### 자료형 - 사전 (키와 값을 하나의 요소로 하는 순서가 없는 집합, 인덱스 없음.)\n",
    "\n",
    "d1 = {'a':1, 'b':2, 'c':3}\n",
    "print(d1['a']) #인덱싱을 하기 위해 키값을 넣는다.\n",
    "d1['b'] = 5\n",
    "print(d1)\n",
    "d1['d']=4\n",
    "print(d1)\n",
    "print(len(d1))\n",
    "\n",
    "print(d1.keys()) #키\n",
    "print(d1.values()) #값\n",
    "print(d1.items()) #키와 값을 한 번에 (한 쌍으로) 뽑아줌.\n",
    "\n",
    "c1 = {'삼각김밥':700, '컵라면':1500, '감동란':2500}\n",
    "print(c1.keys())\n",
    "print(c1.values())\n",
    "print(c1.items())\n",
    "\n",
    "# 슈퍼스타 k2 top 6 순위\n",
    "\n",
    "c2 = {'허각':1, '존박':2, '장재인':3, '강승윤':4, '김지수':5, '김은비':6}\n",
    "print(c2.keys())\n",
    "print(c2.values())\n",
    "print(c2.items())\n",
    "\n",
    "name=input('이름를 입력하세요: ',)\n",
    "phone=int(input('전화번호를 입력하세요: ')) \n",
    "birth=int(input('생일를 입력하세요: '))\n",
    "d2 = {'name': name, 'phone': phone, 'birth': birth}\n",
    "print(d2)\n",
    "\n",
    "# 자료형 - 집합 set (중복을 허용하지 않으며 순서가 없다.)\n",
    "\n",
    "s1 = set([1,2,5,4,3])\n",
    "s2 = set('HELLO')\n",
    "print(s1)\n",
    "print(s2)\n",
    "\n",
    "# 집합은 인덱싱으로 값을 얻을 수 없으며, 필요시 *리스트나 *튜플로 변환 후 인덱싱\n",
    "\n",
    "l1 = list(s1)\n",
    "print(l1)\n",
    "print(l1[1])\n",
    "\n",
    "l2 = list(s2)\n",
    "print(l2)\n",
    "print(l2[1])\n",
    "\n",
    "# Q. s1, s2의 합집합과 교집합을 각각 리스트로 출력하세요.\n",
    "# 합집합(s1 | s2) => or (shift+\\), 교집합(s1&s2) => and(앤퍼센트)\n",
    "\n",
    "s1 = set([1,2,3,4,5,6])\n",
    "s2 = set([4,5,6,7,8,9])\n",
    "\n",
    "print(list(s1|s2))\n",
    "print(list(s1&s2))\n",
    "\n",
    "# 들여쓰기 (안 하면 에러남)\n",
    "\n",
    "li=['a','b','c']\n",
    "if 'a' in li:  #조건이 끝나면 : 찍어주기\n",
    "    print('a가 li에 있습니다.')\n",
    "else:\n",
    "    print('a가 li에 없습니다.')\n",
    "\n",
    "# 문자열 포맷 (f포맷)\n",
    "\n",
    "name = '홍길순'\n",
    "age = 22\n",
    "f'나의 이름은 {name}이고 나이는 {age}이다.ㅋ'\n",
    "\n",
    "d={'name':'홍길동', 'age':30}\n",
    "f'나의 이름은 {d[\"name\"]}이고 나이는 {d[\"age\"]}이다.ㅋ'\n",
    "\n",
    "\n",
    "name=\"정슬기\"\n",
    "color=\"파란색\"\n",
    "\n",
    "f'저의 이름은 {name}이고, 좋아하는 색은 {color}입니다.'\n",
    "\n",
    "y = 3.141952\n",
    "f'{y:0.4f}' #소수점 4자리까지 표현, f:float\n",
    "\n",
    "\n",
    "f'{y:10.4f}' #총 자리수 10, 소수점 4 표현.\n",
    "\n",
    "# 포멧함수\n",
    "\n",
    "f1 = \"{}선수가 {}등 입니다.\".format('홍길동',1)\n",
    "f2 = \"%s선수가 %d등 입니다.\"%(\"홍길동\",1)\n",
    "\n",
    "print(f1)\n",
    "print(f2)\n",
    "\n",
    "# 아래와 같이 출력하세요\n",
    "\n",
    "num1=12345\n",
    "print(num1)\n",
    "print(f'{num1:10.0f}')\n",
    "\n",
    "num2=12.3456789\n",
    "print(num2)\n",
    "print(f'{num2:16.3f}')\n",
    "\n",
    "# 제어문 - if elif else\n",
    "# '수입과 지출 금액을 비교하여 수입이 많으면 저축증가, 반대면 빚이증가, 같으면 현상유지 출력'\n",
    "\n",
    "i=5,000,000\n",
    "e=5,000,000\n",
    "\n",
    "if i>e:\n",
    "    print('저축증가')   #조건을 만족하면 빠져나가서 나머지에서 아래 조건문 실행\n",
    "elif i<e:\n",
    "    print('빚이증가')   #조건이 많을 때 elif를 여러 번 쓰면 됨.\n",
    "else:\n",
    "    print('현상유지')\n",
    "\n",
    "# for 반복문\n",
    "\n",
    "numbers = [5,25,6,20,7,25]  #을 나열해라\n",
    "    \n",
    "# print(numbers[0])\n",
    "# print(numbers[1])\n",
    "# print(numbers[2])\n",
    "# print(numbers[3])\n",
    "# print(numbers[4])\n",
    "# print(numbers[5]) ... 의 사태를 막기 위해 for 반복문을 씁니다.\n",
    "\n",
    "for n in numbers:         #number n호환 가능\n",
    "    print(number,end='♡')\n",
    "\n",
    "\n",
    "import numpy as np\n",
    "num = np.arange(10).tolist()\n",
    "for n in num:\n",
    "    print(n)\n",
    "\n",
    "\n",
    "import numpy as np\n",
    "num = np.arange(5).tolist()\n",
    "for n in num:\n",
    "    print(\"왜\")\n",
    "\n",
    "# for continue break\n",
    "# 1~10 범위의 정수에서 1부터 5까지만 출력하세요\n",
    "\n",
    "for i in range(1,11):\n",
    "    print(i,end=' ')\n",
    "    if i<5:             # print가 위에 있어서 5는 출력이 됨.(4-> 컨티뉴해서 5 출력 이후 break)\n",
    "        continue\n",
    "    else:\n",
    "        break\n",
    "\n",
    "# number 리스트에서 15.20.25를 출력하세요 (for, if 조건 사용 필수)\n",
    "\n",
    "# numbers=[5,15,6,20,7,25]\n",
    "\n",
    "# for n in numbers:\n",
    "    \n",
    "# if num > 10:\n",
    "#          print(n)\n",
    "# else:\n",
    "#     break\n",
    "\n",
    "\n",
    "numbers=[5,15,6,20,7,25]\n",
    "\n",
    "for number in numbers:\n",
    "    if number>10:\n",
    "        print(number,end=\" \")\n",
    "    else:\n",
    "        continue\n",
    "\n",
    "# numbers=[5,15,6,20,7,25]\n",
    "# li=[15,20,25]\n",
    "\n",
    "# for number in numbers:\n",
    "#     if number in li:\n",
    "#         print(number,end=' ')  \n",
    "        \n",
    "        \n",
    "# numbers = [5,15,6,20,7,25]\n",
    "# i = 0\n",
    "# for number in numbers:\n",
    "#     i += 1\n",
    "#     if i%2 == 1:\n",
    "#         continue\n",
    "#     else:\n",
    "#         print(number, end=\" \")     #짝수번\n",
    "\n",
    "\n",
    "# while : 참일 때 무한반복\n",
    "# 정수 1부터 n까지 더할 때 그 합이 1000보다 커지게 되는 n과 합을 구하시오.\n",
    "\n",
    "x=1\n",
    "sum=0  #합 0으로 초기화\n",
    "\n",
    "while 1:    #0=false  1=true(츄르..?. 2도 가능하긴 한데 통상적으로 1 사용.)\n",
    "    sum=sum+x\n",
    "    if sum>1000:\n",
    "        print(x)\n",
    "        print(sum)\n",
    "        break\n",
    "    x=x+1\n",
    "\n",
    "\n",
    "# while 문을 사용해 1부터 1000까지의 정수 중 3의 배수의 합을 구하세요.\n",
    "\n",
    "# x=1\n",
    "# sum=0\n",
    "\n",
    "# while x<1000:\n",
    "#     if x%3==0:\n",
    "#         print(x)\n",
    "#         break\n",
    "\n",
    "#     x=x+1\n",
    "\n",
    "i = 1\n",
    "sum = 0\n",
    "while i < 1001:\n",
    "    if i%3 ==0:\n",
    "        sum = sum+i\n",
    "    i += 1\n",
    "print(sum)\n",
    "\n",
    "# 1부터 100까지의 정수 중 5에서 95까지의 합을 구하세요.\n",
    "\n",
    "# x=1\n",
    "# sum=0\n",
    "# while x<100:\n",
    "#     sum=sum+x\n",
    "#     if x<5:\n",
    "#         break\n",
    "#     else:\n",
    "#         print(sum)\n",
    "    \n",
    "# x=x+1\n",
    "\n",
    "\n",
    "i = 0\n",
    "sum = 0\n",
    "while i < 101:\n",
    "    i += 1\n",
    "    if i > 4:\n",
    "        if i < 96: #ifif문, 조건 중복가능\n",
    "            sum = sum + i\n",
    "print(sum)\n",
    "\n",
    "# 5를 2로 나누었을 때의 몫과 나머지를 구하세요.\n",
    "\n",
    "# i=5\n",
    "# x=2\n",
    "# y=i/x\n",
    "# z=i%x\n",
    "\n",
    "# print(y)\n",
    "# print(z)\n",
    "\n",
    "\n",
    "a = 5//2\n",
    "b = 5%2\n",
    "\n",
    "print(\"5를 2로 나누었을 때의 몫은 %s, 나머지는 %s입니다.\"%(a,b))\n",
    "\n",
    "# 101의 3승을 구하세요.\n",
    "\n",
    "print(101**3)\n",
    "\n",
    "# python과 3,8,3을 합쳐서 python 3.8.3으로 출력하세요.\n",
    "a='python '\n",
    "b='3.8.3'\n",
    "\n",
    "print(a+b)\n",
    "\n",
    "# 5의 3승을 3으로 나누었을 때의 나머지를 복합대입연산자를 이용해서 구하세요.\n",
    "\n",
    "# i=5**3\n",
    "# print(i%3)\n",
    "\n",
    "print((5**3)%3)\n",
    "\n",
    "# Q. 아래와 같이 출력되도록 하세요.\n",
    "\n",
    "# 이름이 무엇인가요? kevin / 제 이름은 kevin입니다.\n",
    "\n",
    "# name='kevin'\n",
    "\n",
    "# print(f'이름이 무엇인가요? {name}')\n",
    "# print(f'제 이름은 {name}입니다.')\n",
    "\n",
    "name=input('이름이 무엇인가요?: ',)\n",
    "f'제 이름은 {name}입니다.'\n",
    "\n",
    "#Q.숫자 세 개를 입력해서 첫 번째 숫자를 두 번째 숫자에 승한뒤 세 번째 숫자로 나누었을 때 몫을 구하세요.\n",
    "\n",
    "x=int(input(\"숫자 3개를 입력하세요: \"))\n",
    "y=int(input())\n",
    "z=int(input())\n",
    "\n",
    "print(x**y//z)\n",
    "\n",
    "### 3/7 과제\n",
    "\n",
    "- while문을 사용해 1부터 1000까지의 정수 중 3과 5의 공배수의 합을 구해보세요.\n",
    "- 1부터 5까지 입력해서 12345를 출력하세요.\n",
    "- [0,1,2,3,4,5,6,7,8,9,'a','b','c']에서 9와 'a'를 삭제 후 리스트로 출력하세요.\n",
    "- [0,1,2,3,4,5,6,7,8,'b','c']에서 'c'를 삭제 후 출력하세요.\n",
    "- [4,8,5,4,8,4,3,9,1,9]를 내림차순으로 정렬하세요.\n",
    "- format함수를 이용해서 다음과 같은 형식으로 현재날짜/시간을 출력하세요.\n",
    "\" 2021년 12월 29일 15시 47분 30초 \"\n",
    "- 현재 시각을 오전과 오후로 구분하는 프로그램을 작성하세요.\n",
    "- 정수를 입력하면 홀수 짝수를 판별하는 프로그램을 작성하세요.\n",
    "\n",
    "1. 계절 구분 프로그램\n",
    "- 각 계절별 출력 멘트는 계절에 맞게 창작.\n",
    "- if 조건문으로 datetime 모듈을 import해서 datetime.now 함수를 사용해서 작성.\n",
    "\n",
    "2. 커피 자판기 프로그램\n",
    "- 시나리오: 자판기 커피 재고 5잔, 커피 1잔 가격 300원, 재고 범위 내에서 300원 이상 돈을 넣으면 거스름돈과 커피를 주고 그렇지 않으면 반환하며 재고가 소진되면 안내멘트 출력.\n",
    "- 각 케이스 별 멘트 출력은 상황에 맞게 창작.\n",
    "- while if elif else 제어문을 사용하여 작성.\n",
    "\n",
    "\n",
    "# while문을 사용해 1부터 1000까지의 정수 중 3과 5의 공배수의 합을 구해보세요.\n",
    "\n",
    "i=0\n",
    "sum=0\n",
    "while i<1001:\n",
    "    i=i+1\n",
    "    if i%3==0 and i%5==0:\n",
    "        sum=sum+i\n",
    "        \n",
    "print(sum)\n",
    "\n",
    "# 드디어 뭔가 답이 나왔다... 난 저게 오답이어도 너무 행복할 것 같아. 1000까지니까 1001로!!\n",
    "\n",
    "# 오답 아니고 정답 나왔음.^^ 나는 짱\n",
    "\n",
    "# 1부터 5까지 입력해서 12345를 출력하세요.\n",
    "\n",
    "x=int(input(\"1을 입력하세요: \"))\n",
    "y=int(input(\"2를 입력하세요: \"))\n",
    "z=int(input(\"3을 입력하세요: \"))\n",
    "a=int(input(\"4를 입력하세요: \"))\n",
    "b=int(input(\"5를 입력하세요: \"))\n",
    "print(x,y,z,a,b)\n",
    "\n",
    "# print(\"1부터 5까지 입력해 주세요.\")\n",
    "# a = input()\n",
    "# b = input()\n",
    "# c = input()\n",
    "# d = input()\n",
    "# e = input()\n",
    "# print(a+b+c+d+e)\n",
    "\n",
    "# [0,1,2,3,4,5,6,7,8,9,'a','b','c']에서 9와 'a'를 삭제 후 리스트로 출력하세요.\n",
    "\n",
    "list1=[0,1,2,3,4,5,6,7,8,9,'a','b','c']\n",
    "\n",
    "del list1[9:11]\n",
    "print(list1)\n",
    "\n",
    "# list = [0,1,2,3,4,5,6,7,8,9,'a','b','c'] \n",
    "# list.remove (9)\n",
    "# list.remove ('a')\n",
    "# print(list)\n",
    "\n",
    "# list = [0,1,2,3,4,5,6,7,8,9, 'a','b','c']\n",
    "# del list[9]\n",
    "# del list[9]\n",
    "# # print(list)\n",
    "\n",
    "# [0,1,2,3,4,5,6,7,8,'b','c']에서 'c'를 삭제 후 출력하세요.\n",
    "\n",
    "list1=[0,1,2,3,4,5,6,7,8,9,'a','b','c']\n",
    "del list1[-1]\n",
    "print(list1)\n",
    "\n",
    "# [4,8,5,4,8,4,3,9,1,9]를 내림차순으로 정렬하세요.\n",
    "\n",
    "li=[4,8,5,4,8,4,3,9,1,9]\n",
    "\n",
    "li.sort()\n",
    "li.reverse()\n",
    "print(li)\n",
    "\n",
    "# h=[4,8,5,4,8,4,3,9,1,9]\n",
    "# i=sorted(h, reverse=True)\n",
    "# print(i)\n",
    "\n",
    "# format함수를 이용해서 다음과 같은 형식으로 현재날짜/시간을 출력하세요.\n",
    "# \" 2021년 12월 29일 15시 47분 30초 \"\n",
    "\n",
    "year=2021\n",
    "month=12\n",
    "day=29\n",
    "time=15\n",
    "minu=47\n",
    "sec=30\n",
    "\n",
    "f'{year}년 {month}월 {day}일 {time}시 {minu}분 {sec}초'\n",
    "\n",
    "# f1 = \"{}년 {}월 {}일 {}시 {}분 {}초\".format(2021,12,29,15,47,30)\n",
    "# print(f1)\n",
    "\n",
    "# ======================\n",
    "\n",
    "import datetime as dt\n",
    "\n",
    "ct = dt.datetime.now()\n",
    "print(f'{ct.year}년 {ct.month}월 {ct.day}일 {ct.hour}시 {ct.minute}분 {ct.second}초')\n",
    "\n",
    "# ======================\n",
    "\n",
    "# import datetime\n",
    "# now=datetime.datetime.now()\n",
    "# y,mo,d,h,m,s=now.year,now.month,now.day,now.hour,now.minute,now.second\n",
    "\n",
    "# print(f\"오늘 날짜는 {mo}월 {d}일입니다. 현재 시각은 {h}시 {m}분 {s}초입니다.\")\n",
    "\n",
    "# 현재 시각을 오전과 오후로 구분하는 프로그램을 작성하세요.\n",
    "\n",
    "time=10\n",
    "\n",
    "if time < 12 and time >= 0:\n",
    "    print(\"오전입니다.\")\n",
    "elif time >= 12 and time < 24:\n",
    "    print(\"오후입니다.\")\n",
    "else:\n",
    "    print(\"시각을 입력하십시오\")\n",
    "    \n",
    "# from datetime import datetime\n",
    "\n",
    "# now = datetime.now()\n",
    "# if now.hour < 12:\n",
    "#     print(\"현재 오전입니다\")\n",
    "# else:\n",
    "#     print(\"현재 오후입니다.\")\n",
    "\n",
    "\n",
    "# 정수를 입력하면 홀수 짝수를 판별하는 프로그램을 작성하세요.\n",
    "\n",
    "i=int(input(\"정수를 입력해주세요.\"))\n",
    "\n",
    "if i%2==0:\n",
    "    print(\"짝수입니다.\")\n",
    "else:\n",
    "    print(\"홀수입니다.\")\n",
    "    \n",
    "\n",
    "# 1. 계절 구분 프로그램\n",
    "# - 각 계절별 출력 멘트는 계절에 맞게 창작.\n",
    "# - if 조건문으로 datetime 모듈을 import해서 datetime.now 함수를 사용해서 작성.\n",
    "\n",
    "\n",
    "\n",
    "# 2. 커피 자판기 프로그램\n",
    "# - 시나리오: 자판기 커피 재고 5잔, 커피 1잔 가격 300원, 재고 범위 내에서 300원 이상 돈을 넣으면 거스름돈과 커피를 주고 그렇지 않으면 반환하며 재고가 소진되면 안내멘트 출력.\n",
    "# - 각 케이스 별 멘트 출력은 상황에 맞게 창작.\n",
    "# - while if elif else 제어문을 사용하여 작성.\n",
    "\n",
    "coffee=5\n",
    "while True:\n",
    "    money = int(input('돈을 넣어주세요.: '))\n",
    "    if money==300:\n",
    "        print('커피 드립니다.')\n",
    "        coffee=coffee-1\n",
    "    elif money>300:\n",
    "        print('거스름돈 %d원, 커피 드립니다.'%(money-300))\n",
    "        coffee=coffee-1\n",
    "    else:\n",
    "        print('돈 반환. 커피를 드리지 않습니다.')\n",
    "    if coffee ==0:\n",
    "        print('커피가 다 떨어졌습니다.')\n",
    "        break\n",
    "\n",
    "# 도전과제) 우리반의 발표자를 무작위로 선정하는 프로그램을 작성하세요.\n",
    "# hmkd1 = ['김나영','김동완','김예슬','김용훈','김태현','남동연','박서진','박주경',\n",
    "# '손아','옥유리', '옥주리','윤예은','윤정현','이승주','임수현','장인혁', \n",
    "# '정슬기','한나영','조차선','이지연','김성호','오윤택','최정인']\n",
    "\n",
    "hmkd1 = ['김나영','김동완','김예슬','김용훈','김태현','남동연','박서진','박주경','손아','옥유리','옥주리','윤예은','윤정현','이승주','임수현','장인혁','정슬기','한나영','조차선','이지연','김성호','오윤택','최정인']\n",
    "\n",
    "#n=int(input('발표 몇명?'))\n",
    "#rd=random.sample(range(0,23),n)\n",
    "\n",
    "#for i in rd:\n",
    "#    print(hmkd1[i], end=' ')\n",
    "\n",
    "#안 되네\n",
    "    "
   ]
  },
  {
   "cell_type": "markdown",
   "id": "7cf39bce",
   "metadata": {},
   "source": [
    "#### 3/8 이어붙"
   ]
  }
 ],
 "metadata": {
  "kernelspec": {
   "display_name": "Python 3 (ipykernel)",
   "language": "python",
   "name": "python3"
  },
  "language_info": {
   "codemirror_mode": {
    "name": "ipython",
    "version": 3
   },
   "file_extension": ".py",
   "mimetype": "text/x-python",
   "name": "python",
   "nbconvert_exporter": "python",
   "pygments_lexer": "ipython3",
   "version": "3.9.13"
  }
 },
 "nbformat": 4,
 "nbformat_minor": 5
}
