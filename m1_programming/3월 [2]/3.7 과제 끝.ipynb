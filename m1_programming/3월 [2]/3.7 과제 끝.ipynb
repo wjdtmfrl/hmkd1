{
 "cells": [
  {
   "cell_type": "code",
   "execution_count": null,
   "id": "3d18de94",
   "metadata": {},
   "outputs": [],
   "source": [
    "# >> 과제 : list1에서 다음을 수행하세요. <<\n",
    "\n",
    "# 1. 33을 출력\n",
    "# 2. 82를 리스트에 추가\n",
    "# 3. 82의 갯수를 구하기\n",
    "# 4. 87의 인덱스 구하기\n",
    "# 5. 인덱스 3에서 10까지의 값을 출력하고 list2에 내림차순 정렬하기\n",
    "# 6. 39를 11로 변경\n",
    "# 7. [69,45,58] 출력\n",
    "# 8. 짝수 인덱스의 값으로 구성된 리스트 출력하기\n",
    "# 9. 인덱스가 가장 큰 수를 삭제하기\n",
    "# 10. 인덱스*번호*가 3,5인 값으로 사칙연산하기\n",
    "\n",
    "list1 = [58,45,69,19,4,87,29,13,39,15,54,[8,33,11],27,49,63,98,22,82]"
   ]
  },
  {
   "cell_type": "code",
   "execution_count": 14,
   "id": "8834aa7a",
   "metadata": {},
   "outputs": [
    {
     "name": "stdout",
     "output_type": "stream",
     "text": [
      "33\n"
     ]
    }
   ],
   "source": [
    "list1 = [58,45,69,19,4,87,29,13,39,15,54,[8,33,11],27,49,63,98,22,82]\n",
    "\n",
    "print(list1[11][1])"
   ]
  },
  {
   "cell_type": "code",
   "execution_count": 16,
   "id": "b791ef33",
   "metadata": {},
   "outputs": [
    {
     "name": "stdout",
     "output_type": "stream",
     "text": [
      "[58, 45, 69, 19, 4, 87, 29, 13, 39, 15, 54, [8, 33, 11], 27, 49, 63, 98, 22, 82, 82]\n"
     ]
    }
   ],
   "source": [
    "list1 = [58,45,69,19,4,87,29,13,39,15,54,[8,33,11],27,49,63,98,22,82]\n",
    "# 2. 82를 리스트에 추가\n",
    "\n",
    "list1.append(82)\n",
    "print(list1)"
   ]
  },
  {
   "cell_type": "code",
   "execution_count": 17,
   "id": "6b5055a6",
   "metadata": {},
   "outputs": [
    {
     "data": {
      "text/plain": [
       "1"
      ]
     },
     "execution_count": 17,
     "metadata": {},
     "output_type": "execute_result"
    }
   ],
   "source": [
    "list1 = [58,45,69,19,4,87,29,13,39,15,54,[8,33,11],27,49,63,98,22,82]\n",
    "# 3. 82의 갯수를 구하기\n",
    "\n",
    "list1.count(82)"
   ]
  },
  {
   "cell_type": "code",
   "execution_count": 19,
   "id": "3478c96b",
   "metadata": {},
   "outputs": [
    {
     "data": {
      "text/plain": [
       "5"
      ]
     },
     "execution_count": 19,
     "metadata": {},
     "output_type": "execute_result"
    }
   ],
   "source": [
    "list1 = [58,45,69,19,4,87,29,13,39,15,54,[8,33,11],27,49,63,98,22,82]\n",
    "# 4. 87의 인덱스 구하기\n",
    "\n",
    "list1.index(87)"
   ]
  },
  {
   "cell_type": "code",
   "execution_count": 45,
   "id": "b3d77580",
   "metadata": {},
   "outputs": [
    {
     "name": "stdout",
     "output_type": "stream",
     "text": [
      "[87, 39, 29, 19, 15, 13, 4]\n"
     ]
    }
   ],
   "source": [
    "list1 = [58,45,69,19,4,87,29,13,39,15,54,[8,33,11],27,49,63,98,22,82]\n",
    "# 5. 인덱스 3에서 10까지의 값을 출력하고 list2에 내림차순 정렬하기\n",
    "\n",
    "# print(list1[3:10])\n",
    "\n",
    "# list2 = sorted(list1, reverse= True)\n",
    "# print(list2)\n",
    "\n",
    "\n",
    "list2 = list1[3:11]           #끝날때는 그 앞에까지라 3~11 이렇게 끊어야 함.\n",
    "list2.sort()\n",
    "list2.reverse()\n",
    "print(list2)"
   ]
  },
  {
   "cell_type": "code",
   "execution_count": 46,
   "id": "cb9292c0",
   "metadata": {},
   "outputs": [
    {
     "name": "stdout",
     "output_type": "stream",
     "text": [
      "[58, 45, 69, 19, 4, 87, 29, 13, 11, 15, 54, [8, 33, 11], 27, 49, 63, 98, 22, 82]\n"
     ]
    }
   ],
   "source": [
    "list1 = [58,45,69,19,4,87,29,13,39,15,54,[8,33,11],27,49,63,98,22,82]\n",
    "# 6. 39를 11로 변경\n",
    "\n",
    "a = list1.index(39)\n",
    "list1[a] = 11\n",
    "print(list1)"
   ]
  },
  {
   "cell_type": "code",
   "execution_count": 47,
   "id": "73ff3cac",
   "metadata": {},
   "outputs": [
    {
     "name": "stdout",
     "output_type": "stream",
     "text": [
      "[69, 45, 58]\n"
     ]
    }
   ],
   "source": [
    "list1 = [58,45,69,19,4,87,29,13,39,15,54,[8,33,11],27,49,63,98,22,82]\n",
    "# 7. [69,45,58] 출력\n",
    "\n",
    "print(list1[2::-1])"
   ]
  },
  {
   "cell_type": "code",
   "execution_count": 48,
   "id": "9491de79",
   "metadata": {},
   "outputs": [
    {
     "name": "stdout",
     "output_type": "stream",
     "text": [
      "[58, 69, 4, 29, 39, 54, 27, 63, 22]\n"
     ]
    }
   ],
   "source": [
    "list1 = [58,45,69,19,4,87,29,13,39,15,54,[8,33,11],27,49,63,98,22,82]\n",
    "# 8. 짝수 인덱스의 값으로 구성된 리스트 출력하기\n",
    "\n",
    "print(list1[0::2])"
   ]
  },
  {
   "cell_type": "code",
   "execution_count": 49,
   "id": "6448d024",
   "metadata": {},
   "outputs": [
    {
     "name": "stdout",
     "output_type": "stream",
     "text": [
      "[58, 45, 69, 19, 4, 87, 29, 13, 39, 15, 54, [8, 33, 11], 27, 49, 63, 98, 22]\n"
     ]
    }
   ],
   "source": [
    "list1 = [58,45,69,19,4,87,29,13,39,15,54,[8,33,11],27,49,63,98,22,82]\n",
    "# 9. 인덱스가 가장 큰 수를 삭제하기\n",
    "\n",
    "del list1[-1]\n",
    "print(list1)"
   ]
  },
  {
   "cell_type": "code",
   "execution_count": 51,
   "id": "e35b6df5",
   "metadata": {},
   "outputs": [
    {
     "name": "stdout",
     "output_type": "stream",
     "text": [
      "106\n",
      "-68\n",
      "1653\n",
      "0.21839080459770116\n"
     ]
    }
   ],
   "source": [
    "list1 = [58,45,69,19,4,87,29,13,39,15,54,[8,33,11],27,49,63,98,22,82]\n",
    "# 10. 인덱스*번호*가 3,5인 값으로 사칙연산하기\n",
    "\n",
    "a=list1[3]\n",
    "b=list1[5]\n",
    "\n",
    "print(a+b)\n",
    "print(a-b)\n",
    "print(a*b)\n",
    "print(a/b)"
   ]
  },
  {
   "cell_type": "markdown",
   "id": "e0ca0332",
   "metadata": {},
   "source": [
    "## 3/7 수업내용"
   ]
  },
  {
   "cell_type": "markdown",
   "id": "5681090f",
   "metadata": {},
   "source": [
    "### 튜플"
   ]
  },
  {
   "cell_type": "code",
   "execution_count": 53,
   "id": "9f447818",
   "metadata": {},
   "outputs": [
    {
     "name": "stdout",
     "output_type": "stream",
     "text": [
      "(1, 2, 3, 4, 5)\n",
      "abc\n",
      "5\n",
      "b\n"
     ]
    }
   ],
   "source": [
    "tuple1 = (1,2,3,4,5)\n",
    "tuple2 = ('a','b','c')\n",
    "tuple3 = (1,'a','abc',[1,2,3,4,5],['a','b','c'])\n",
    "\n",
    "print(tuple1[:])\n",
    "print(tuple3[2])\n",
    "print(tuple3[3][4])\n",
    "print(tuple3[4][1])"
   ]
  },
  {
   "cell_type": "code",
   "execution_count": 54,
   "id": "4b1b0966",
   "metadata": {},
   "outputs": [
    {
     "name": "stdout",
     "output_type": "stream",
     "text": [
      "[1, 2, 3, 4, 5]\n",
      "[6, 2, 3, 4, 5]\n"
     ]
    }
   ],
   "source": [
    "list1 = [1,2,3,4,5]\n",
    "\n",
    "print(list1)\n",
    "list1[0] =6\n",
    "print(list1)"
   ]
  },
  {
   "cell_type": "code",
   "execution_count": 60,
   "id": "7dbb4c22",
   "metadata": {},
   "outputs": [
    {
     "ename": "TypeError",
     "evalue": "'type' object does not support item assignment",
     "output_type": "error",
     "traceback": [
      "\u001b[1;31m---------------------------------------------------------------------------\u001b[0m",
      "\u001b[1;31mTypeError\u001b[0m                                 Traceback (most recent call last)",
      "\u001b[1;32m~\\AppData\\Local\\Temp\\ipykernel_9828\\3023189904.py\u001b[0m in \u001b[0;36m<module>\u001b[1;34m\u001b[0m\n\u001b[0;32m      1\u001b[0m \u001b[0mtuple1\u001b[0m\u001b[1;33m=\u001b[0m\u001b[1;33m(\u001b[0m\u001b[1;36m1\u001b[0m\u001b[1;33m,\u001b[0m\u001b[1;36m2\u001b[0m\u001b[1;33m,\u001b[0m\u001b[1;36m3\u001b[0m\u001b[1;33m,\u001b[0m\u001b[1;36m4\u001b[0m\u001b[1;33m,\u001b[0m\u001b[1;36m5\u001b[0m\u001b[1;33m)\u001b[0m\u001b[1;33m\u001b[0m\u001b[1;33m\u001b[0m\u001b[0m\n\u001b[1;32m----> 2\u001b[1;33m \u001b[0mtuple\u001b[0m\u001b[1;33m[\u001b[0m\u001b[1;36m0\u001b[0m\u001b[1;33m]\u001b[0m\u001b[1;33m=\u001b[0m\u001b[1;36m6\u001b[0m\u001b[1;33m\u001b[0m\u001b[1;33m\u001b[0m\u001b[0m\n\u001b[0m\u001b[0;32m      3\u001b[0m \u001b[1;32mdel\u001b[0m \u001b[0mlist\u001b[0m\u001b[1;33m[\u001b[0m\u001b[1;36m1\u001b[0m\u001b[1;33m]\u001b[0m\u001b[1;33m\u001b[0m\u001b[1;33m\u001b[0m\u001b[0m\n\u001b[0;32m      4\u001b[0m \u001b[1;33m\u001b[0m\u001b[0m\n\u001b[0;32m      5\u001b[0m \u001b[1;31m# 자료가 변경되지 않아야 하는 경우에 튜플을 사용한다.\u001b[0m\u001b[1;33m\u001b[0m\u001b[1;33m\u001b[0m\u001b[0m\n",
      "\u001b[1;31mTypeError\u001b[0m: 'type' object does not support item assignment"
     ]
    }
   ],
   "source": [
    "tuple1=(1,2,3,4,5)\n",
    "tuple[0]=6\n",
    "\n",
    "# 자료가 변경되지 않아야 하는 경우에 튜플을 사용한다.\n",
    "# 수정 및 삭제는 오류로 뜸."
   ]
  },
  {
   "cell_type": "code",
   "execution_count": 63,
   "id": "4d8646a8",
   "metadata": {},
   "outputs": [
    {
     "name": "stdout",
     "output_type": "stream",
     "text": [
      "(1,)\n",
      "<class 'tuple'>\n",
      "(1, 2, 3)\n",
      "(1, 2, 3, 1, 2, 3, 1, 2, 3)\n",
      "(1, 1, 2, 3)\n",
      "1\n",
      "<class 'int'>\n"
     ]
    }
   ],
   "source": [
    "t1=(1,) #1개의 요소만 가질 때에는 요소 뒤에 콤마(,)붙여야 함.\n",
    "print(t1)\n",
    "print(type(t1))\n",
    "\n",
    "t2 = 1,2,3\n",
    "print(t2)\n",
    "print(t2*3) #연산 가능\n",
    "\n",
    "t3=t1+t2\n",
    "print(t3)\n",
    "\n",
    "t4=(1)\n",
    "print(t4)\n",
    "print(type(t4)) #콤마없으면 정수로 처리됨."
   ]
  },
  {
   "cell_type": "markdown",
   "id": "e4f63a86",
   "metadata": {},
   "source": [
    "### 자료형 - 사전 (키와 값을 하나의 요소로 하는 순서가 없는 집합, 인덱스 없음.)"
   ]
  },
  {
   "cell_type": "code",
   "execution_count": 2,
   "id": "c3b86689",
   "metadata": {},
   "outputs": [
    {
     "name": "stdout",
     "output_type": "stream",
     "text": [
      "1\n",
      "{'a': 1, 'b': 5, 'c': 3}\n",
      "{'a': 1, 'b': 5, 'c': 3, 'd': 4}\n",
      "4\n"
     ]
    }
   ],
   "source": [
    "d1 = {'a':1, 'b':2, 'c':3}\n",
    "print(d1['a']) #인덱싱을 하기 위해 키값을 넣는다.\n",
    "d1['b'] = 5\n",
    "print(d1)\n",
    "d1['d']=4\n",
    "print(d1)\n",
    "print(len(d1))"
   ]
  },
  {
   "cell_type": "code",
   "execution_count": 65,
   "id": "e4cfba34",
   "metadata": {},
   "outputs": [
    {
     "name": "stdout",
     "output_type": "stream",
     "text": [
      "dict_keys(['a', 'b', 'c'])\n",
      "dict_values([1, 5, 3])\n",
      "dict_items([('a', 1), ('b', 5), ('c', 3)])\n"
     ]
    }
   ],
   "source": [
    "print(d1.keys()) #키\n",
    "print(d1.values()) #값\n",
    "print(d1.items()) #키와 값을 한 번에 (한 쌍으로) 뽑아줌."
   ]
  },
  {
   "cell_type": "code",
   "execution_count": 66,
   "id": "05de4767",
   "metadata": {},
   "outputs": [
    {
     "name": "stdout",
     "output_type": "stream",
     "text": [
      "dict_keys(['삼각김밥', '컵라면', '감동란'])\n",
      "dict_values([700, 1500, 2500])\n",
      "dict_items([('삼각김밥', 700), ('컵라면', 1500), ('감동란', 2500)])\n"
     ]
    }
   ],
   "source": [
    "c1 = {'삼각김밥':700, '컵라면':1500, '감동란':2500}\n",
    "print(c1.keys())\n",
    "print(c1.values())\n",
    "print(c1.items())"
   ]
  },
  {
   "cell_type": "code",
   "execution_count": 68,
   "id": "23e04f4a",
   "metadata": {},
   "outputs": [
    {
     "name": "stdout",
     "output_type": "stream",
     "text": [
      "dict_keys(['허각', '존박', '장재인', '강승윤', '김지수', '김은비'])\n",
      "dict_values([1, 2, 3, 4, 5, 6])\n",
      "dict_items([('허각', 1), ('존박', 2), ('장재인', 3), ('강승윤', 4), ('김지수', 5), ('김은비', 6)])\n"
     ]
    }
   ],
   "source": [
    "# 슈퍼스타 k2 top 6 순위\n",
    "\n",
    "c2 = {'허각':1, '존박':2, '장재인':3, '강승윤':4, '김지수':5, '김은비':6}\n",
    "print(c2.keys())\n",
    "print(c2.values())\n",
    "print(c2.items())"
   ]
  },
  {
   "cell_type": "code",
   "execution_count": 71,
   "id": "4c693077",
   "metadata": {},
   "outputs": [
    {
     "name": "stdout",
     "output_type": "stream",
     "text": [
      "이름를 입력하세요: ㅇㅇㅇ\n",
      "전화번호를 입력하세요: 555\n",
      "생일를 입력하세요: 1018\n",
      "{'name': 'ㅇㅇㅇ', 'phone': 555, 'birth': 1018}\n"
     ]
    }
   ],
   "source": [
    "name=input('이름를 입력하세요: ',)\n",
    "phone=int(input('전화번호를 입력하세요: ')) \n",
    "birth=int(input('생일를 입력하세요: '))\n",
    "d2 = {'name': name, 'phone': phone, 'birth': birth}\n",
    "print(d2)"
   ]
  },
  {
   "cell_type": "code",
   "execution_count": 44,
   "id": "3965c0f1",
   "metadata": {},
   "outputs": [
    {
     "name": "stdout",
     "output_type": "stream",
     "text": [
      "{1, 2, 3, 4, 5}\n",
      "{'O', 'E', 'L', 'H'}\n"
     ]
    }
   ],
   "source": [
    "# 자료형 - 집합 set (중복을 허용하지 않으며 순서가 없다.)\n",
    "\n",
    "s1 = set([1,2,5,4,3])\n",
    "s2 = set('HELLO')\n",
    "print(s1)\n",
    "print(s2)"
   ]
  },
  {
   "cell_type": "code",
   "execution_count": 73,
   "id": "0b7f9390",
   "metadata": {},
   "outputs": [
    {
     "name": "stdout",
     "output_type": "stream",
     "text": [
      "[1, 2, 3, 4, 5]\n",
      "2\n",
      "['L', 'H', 'E', 'O']\n",
      "H\n"
     ]
    }
   ],
   "source": [
    "# 집합은 인덱싱으로 값을 얻을 수 없으며, 필요시 *리스트나 *튜플로 변환 후 인덱싱\n",
    "\n",
    "l1 = list(s1)\n",
    "print(l1)\n",
    "print(l1[1])\n",
    "\n",
    "l2 = list(s2)\n",
    "print(l2)\n",
    "print(l2[1])"
   ]
  },
  {
   "cell_type": "code",
   "execution_count": 74,
   "id": "9b74f5f8",
   "metadata": {},
   "outputs": [
    {
     "name": "stdout",
     "output_type": "stream",
     "text": [
      "[1, 2, 3, 4, 5, 6, 7, 8, 9]\n",
      "[4, 5, 6]\n"
     ]
    }
   ],
   "source": [
    "# Q. s1, s2의 합집합과 교집합을 각각 리스트로 출력하세요.\n",
    "# 합집합(s1 | s2) => or (shift+\\), 교집합(s1&s2) => and(앤퍼센트)\n",
    "\n",
    "s1 = set([1,2,3,4,5,6])\n",
    "s2 = set([4,5,6,7,8,9])\n",
    "\n",
    "print(list(s1|s2))\n",
    "print(list(s1&s2))"
   ]
  },
  {
   "cell_type": "code",
   "execution_count": 77,
   "id": "aa014131",
   "metadata": {},
   "outputs": [
    {
     "name": "stdout",
     "output_type": "stream",
     "text": [
      "a가 li에 있습니다.\n"
     ]
    }
   ],
   "source": [
    "# 들여쓰기 (안 하면 에러남)\n",
    "\n",
    "li=['a','b','c']\n",
    "if 'a' in li:  #조건이 끝나면 : 찍어주기\n",
    "    print('a가 li에 있습니다.')\n",
    "else:\n",
    "    print('a가 li에 없습니다.')"
   ]
  },
  {
   "cell_type": "code",
   "execution_count": 79,
   "id": "e6208dcd",
   "metadata": {},
   "outputs": [
    {
     "data": {
      "text/plain": [
       "'나의 이름은 홍길순이고 나이는 22이다.ㅋ'"
      ]
     },
     "execution_count": 79,
     "metadata": {},
     "output_type": "execute_result"
    }
   ],
   "source": [
    "# 문자열 포맷 (f포맷)\n",
    "\n",
    "name = '홍길순'\n",
    "age = 22\n",
    "f'나의 이름은 {name}이고 나이는 {age}이다.ㅋ'"
   ]
  },
  {
   "cell_type": "code",
   "execution_count": 82,
   "id": "60123da2",
   "metadata": {},
   "outputs": [
    {
     "data": {
      "text/plain": [
       "'나의 이름은 홍길동이고 나이는 30이다.ㅋ'"
      ]
     },
     "execution_count": 82,
     "metadata": {},
     "output_type": "execute_result"
    }
   ],
   "source": [
    "d={'name':'홍길동', 'age':30}\n",
    "f'나의 이름은 {d[\"name\"]}이고 나이는 {d[\"age\"]}이다.ㅋ'\n"
   ]
  },
  {
   "cell_type": "code",
   "execution_count": 87,
   "id": "744e4553",
   "metadata": {},
   "outputs": [
    {
     "data": {
      "text/plain": [
       "'저의 이름은 정슬기이고, 좋아하는 색은 파란색입니다.'"
      ]
     },
     "execution_count": 87,
     "metadata": {},
     "output_type": "execute_result"
    }
   ],
   "source": [
    "name=\"정슬기\"\n",
    "color=\"파란색\"\n",
    "\n",
    "f'저의 이름은 {name}이고, 좋아하는 색은 {color}입니다.'"
   ]
  },
  {
   "cell_type": "code",
   "execution_count": 88,
   "id": "34abdf99",
   "metadata": {},
   "outputs": [
    {
     "data": {
      "text/plain": [
       "'3.1420'"
      ]
     },
     "execution_count": 88,
     "metadata": {},
     "output_type": "execute_result"
    }
   ],
   "source": [
    "y = 3.141952\n",
    "f'{y:0.4f}' #소수점 4자리까지 표현, f:float\n"
   ]
  },
  {
   "cell_type": "code",
   "execution_count": 89,
   "id": "9e6c88b6",
   "metadata": {},
   "outputs": [
    {
     "data": {
      "text/plain": [
       "'    3.1420'"
      ]
     },
     "execution_count": 89,
     "metadata": {},
     "output_type": "execute_result"
    }
   ],
   "source": [
    "f'{y:10.4f}' #총 자리수 10, 소수점 4 표현."
   ]
  },
  {
   "cell_type": "code",
   "execution_count": 92,
   "id": "eed2cb23",
   "metadata": {},
   "outputs": [
    {
     "name": "stdout",
     "output_type": "stream",
     "text": [
      "홍길동선수가 1등 입니다.\n",
      "홍길동선수가 1등 입니다.\n"
     ]
    }
   ],
   "source": [
    "# 포멧함수\n",
    "\n",
    "f1 = \"{}선수가 {}등 입니다.\".format('홍길동',1)\n",
    "f2 = \"%s선수가 %d등 입니다.\"%(\"홍길동\",1)\n",
    "\n",
    "print(f1)\n",
    "print(f2)"
   ]
  },
  {
   "cell_type": "code",
   "execution_count": 94,
   "id": "f4d219bc",
   "metadata": {
    "scrolled": true
   },
   "outputs": [
    {
     "name": "stdout",
     "output_type": "stream",
     "text": [
      "12345\n",
      "     12345\n",
      "12.3456789\n",
      "          12.346\n"
     ]
    }
   ],
   "source": [
    "# 아래와 같이 출력하세요\n",
    "\n",
    "num1=12345\n",
    "print(num1)\n",
    "print(f'{num1:10.0f}')\n",
    "\n",
    "num2=12.3456789\n",
    "print(num2)\n",
    "print(f'{num2:16.3f}')"
   ]
  },
  {
   "cell_type": "code",
   "execution_count": 95,
   "id": "2790e8bd",
   "metadata": {},
   "outputs": [
    {
     "name": "stdout",
     "output_type": "stream",
     "text": [
      "현상유지\n"
     ]
    }
   ],
   "source": [
    "# 제어문 - if elif else\n",
    "# '수입과 지출 금액을 비교하여 수입이 많으면 저축증가, 반대면 빚이증가, 같으면 현상유지 출력'\n",
    "\n",
    "i=5,000,000\n",
    "e=5,000,000\n",
    "\n",
    "if i>e:\n",
    "    print('저축증가')   #조건을 만족하면 빠져나가서 나머지에서 아래 조건문 실행\n",
    "elif i<e:\n",
    "    print('빚이증가')   #조건이 많을 때 elif를 여러 번 쓰면 됨.\n",
    "else:\n",
    "    print('현상유지')"
   ]
  },
  {
   "cell_type": "code",
   "execution_count": 98,
   "id": "14fab832",
   "metadata": {},
   "outputs": [
    {
     "name": "stdout",
     "output_type": "stream",
     "text": [
      "5♡25♡6♡20♡7♡25♡"
     ]
    }
   ],
   "source": [
    "# for 반복문\n",
    "\n",
    "numbers = [5,25,6,20,7,25]  #을 나열해라\n",
    "    \n",
    "# print(numbers[0])\n",
    "# print(numbers[1])\n",
    "# print(numbers[2])\n",
    "# print(numbers[3])\n",
    "# print(numbers[4])\n",
    "# print(numbers[5]) ... 의 사태를 막기 위해 for 반복문을 씁니다.\n",
    "\n",
    "for n in numbers:         #number n호환 가능\n",
    "    print(number,end='♡')\n"
   ]
  },
  {
   "cell_type": "code",
   "execution_count": 102,
   "id": "91b2b66d",
   "metadata": {},
   "outputs": [
    {
     "name": "stdout",
     "output_type": "stream",
     "text": [
      "0\n",
      "1\n",
      "2\n",
      "3\n",
      "4\n",
      "5\n",
      "6\n",
      "7\n",
      "8\n",
      "9\n"
     ]
    }
   ],
   "source": [
    "import numpy as np\n",
    "num = np.arange(10).tolist()\n",
    "for n in num:\n",
    "    print(n)\n"
   ]
  },
  {
   "cell_type": "code",
   "execution_count": 108,
   "id": "0c8f9b0d",
   "metadata": {},
   "outputs": [
    {
     "name": "stdout",
     "output_type": "stream",
     "text": [
      "왜\n",
      "왜\n",
      "왜\n",
      "왜\n",
      "왜\n"
     ]
    }
   ],
   "source": [
    "import numpy as np\n",
    "num = np.arange(5).tolist()\n",
    "for n in num:\n",
    "    print(\"왜\")"
   ]
  },
  {
   "cell_type": "code",
   "execution_count": 110,
   "id": "6f3a54ba",
   "metadata": {},
   "outputs": [
    {
     "name": "stdout",
     "output_type": "stream",
     "text": [
      "1 2 3 4 5 "
     ]
    }
   ],
   "source": [
    "# for continue break\n",
    "# 1~10 범위의 정수에서 1부터 5까지만 출력하세요\n",
    "\n",
    "for i in range(1,11):\n",
    "    print(i,end=' ')\n",
    "    if i<5:             # print가 위에 있어서 5는 출력이 됨.(4-> 컨티뉴해서 5 출력 이후 break)\n",
    "        continue\n",
    "    else:\n",
    "        break"
   ]
  },
  {
   "cell_type": "code",
   "execution_count": 127,
   "id": "36ff87df",
   "metadata": {},
   "outputs": [
    {
     "name": "stdout",
     "output_type": "stream",
     "text": [
      "15 20 25 "
     ]
    }
   ],
   "source": [
    "# number 리스트에서 15.20.25를 출력하세요 (for, if 조건 사용 필수)\n",
    "\n",
    "# numbers=[5,15,6,20,7,25]\n",
    "\n",
    "# for n in numbers:\n",
    "    \n",
    "# if num > 10:\n",
    "#          print(n)\n",
    "# else:\n",
    "#     break\n",
    "\n",
    "\n",
    "numbers=[5,15,6,20,7,25]\n",
    "\n",
    "for number in numbers:\n",
    "    if number>10:\n",
    "        print(number,end=\" \")\n",
    "    else:\n",
    "        continue\n",
    "\n",
    "# numbers=[5,15,6,20,7,25]\n",
    "# li=[15,20,25]\n",
    "\n",
    "# for number in numbers:\n",
    "#     if number in li:\n",
    "#         print(number,end=' ')  \n",
    "        \n",
    "        \n",
    "# numbers = [5,15,6,20,7,25]\n",
    "# i = 0\n",
    "# for number in numbers:\n",
    "#     i += 1\n",
    "#     if i%2 == 1:\n",
    "#         continue\n",
    "#     else:\n",
    "#         print(number, end=\" \")     #짝수번\n"
   ]
  },
  {
   "cell_type": "code",
   "execution_count": 129,
   "id": "eeb79204",
   "metadata": {},
   "outputs": [
    {
     "name": "stdout",
     "output_type": "stream",
     "text": [
      "45\n",
      "1035\n"
     ]
    }
   ],
   "source": [
    "# while : 참일 때 무한반복\n",
    "# 정수 1부터 n까지 더할 때 그 합이 1000보다 커지게 되는 n과 합을 구하시오.\n",
    "\n",
    "x=1\n",
    "sum=0  #합 0으로 초기화\n",
    "\n",
    "while 1:    #0=false  1=true(츄르..?. 2도 가능하긴 한데 통상적으로 1 사용.)\n",
    "    sum=sum+x\n",
    "    if sum>1000:\n",
    "        print(x)\n",
    "        print(sum)\n",
    "        break\n",
    "    x=x+1\n"
   ]
  },
  {
   "cell_type": "code",
   "execution_count": 3,
   "id": "c7ccb34a",
   "metadata": {},
   "outputs": [
    {
     "name": "stdout",
     "output_type": "stream",
     "text": [
      "166833\n"
     ]
    }
   ],
   "source": [
    "# while 문을 사용해 1부터 1000까지의 정수 중 3의 배수의 합을 구하세요.\n",
    "\n",
    "# x=1\n",
    "# sum=0\n",
    "\n",
    "# while x<1000:\n",
    "#     if x%3==0:\n",
    "#         print(x)\n",
    "#         break\n",
    "\n",
    "#     x=x+1\n",
    "\n",
    "i = 1\n",
    "sum = 0\n",
    "while i < 1001:\n",
    "    if i%3 ==0:\n",
    "        sum = sum+i\n",
    "    i += 1\n",
    "print(sum)"
   ]
  },
  {
   "cell_type": "code",
   "execution_count": 14,
   "id": "8630b9f9",
   "metadata": {},
   "outputs": [
    {
     "name": "stdout",
     "output_type": "stream",
     "text": [
      "4550\n"
     ]
    }
   ],
   "source": [
    "# 1부터 100까지의 정수 중 5에서 95까지의 합을 구하세요.\n",
    "\n",
    "# x=1\n",
    "# sum=0\n",
    "# while x<100:\n",
    "#     sum=sum+x\n",
    "#     if x<5:\n",
    "#         break\n",
    "#     else:\n",
    "#         print(sum)\n",
    "    \n",
    "# x=x+1\n",
    "\n",
    "\n",
    "i = 0\n",
    "sum = 0\n",
    "while i < 101:\n",
    "    i += 1\n",
    "    if i > 4:\n",
    "        if i < 96: #ifif문, 조건 중복가능\n",
    "            sum = sum + i\n",
    "print(sum)"
   ]
  },
  {
   "cell_type": "code",
   "execution_count": 15,
   "id": "a2c68c97",
   "metadata": {},
   "outputs": [
    {
     "name": "stdout",
     "output_type": "stream",
     "text": [
      "5를 2로 나누었을 때의 몫은 2, 나머지는 1입니다.\n"
     ]
    }
   ],
   "source": [
    "# 5를 2로 나누었을 때의 몫과 나머지를 구하세요.\n",
    "\n",
    "# i=5\n",
    "# x=2\n",
    "# y=i/x\n",
    "# z=i%x\n",
    "\n",
    "# print(y)\n",
    "# print(z)\n",
    "\n",
    "\n",
    "a = 5//2\n",
    "b = 5%2\n",
    "\n",
    "print(\"5를 2로 나누었을 때의 몫은 %s, 나머지는 %s입니다.\"%(a,b))"
   ]
  },
  {
   "cell_type": "code",
   "execution_count": 16,
   "id": "7adb19e3",
   "metadata": {},
   "outputs": [
    {
     "name": "stdout",
     "output_type": "stream",
     "text": [
      "1030301\n"
     ]
    }
   ],
   "source": [
    "# 101의 3승을 구하세요.\n",
    "\n",
    "print(101**3)"
   ]
  },
  {
   "cell_type": "code",
   "execution_count": 18,
   "id": "14605772",
   "metadata": {},
   "outputs": [
    {
     "name": "stdout",
     "output_type": "stream",
     "text": [
      "python 3.8.3\n"
     ]
    }
   ],
   "source": [
    "# python과 3,8,3을 합쳐서 python 3.8.3으로 출력하세요.\n",
    "a='python '\n",
    "b='3.8.3'\n",
    "\n",
    "print(a+b)"
   ]
  },
  {
   "cell_type": "code",
   "execution_count": 20,
   "id": "04410c67",
   "metadata": {},
   "outputs": [
    {
     "name": "stdout",
     "output_type": "stream",
     "text": [
      "2\n"
     ]
    }
   ],
   "source": [
    "# 5의 3승을 3으로 나누었을 때의 나머지를 복합대입연산자를 이용해서 구하세요.\n",
    "\n",
    "# i=5**3\n",
    "# print(i%3)\n",
    "\n",
    "print((5**3)%3)"
   ]
  },
  {
   "cell_type": "code",
   "execution_count": 40,
   "id": "039d7bc5",
   "metadata": {},
   "outputs": [
    {
     "name": "stdout",
     "output_type": "stream",
     "text": [
      "이름이 무엇인가요?: kevin\n"
     ]
    },
    {
     "data": {
      "text/plain": [
       "'제 이름은 kevin입니다.'"
      ]
     },
     "execution_count": 40,
     "metadata": {},
     "output_type": "execute_result"
    }
   ],
   "source": [
    "# Q. 아래와 같이 출력되도록 하세요.\n",
    "\n",
    "# 이름이 무엇인가요? kevin / 제 이름은 kevin입니다.\n",
    "\n",
    "# name='kevin'\n",
    "\n",
    "# print(f'이름이 무엇인가요? {name}')\n",
    "# print(f'제 이름은 {name}입니다.')\n",
    "\n",
    "name=input('이름이 무엇인가요?: ',)\n",
    "f'제 이름은 {name}입니다.'"
   ]
  },
  {
   "cell_type": "code",
   "execution_count": 42,
   "id": "12ffcc62",
   "metadata": {},
   "outputs": [
    {
     "name": "stdout",
     "output_type": "stream",
     "text": [
      "숫자 3개를 입력하세요: 5\n",
      "3\n",
      "9\n",
      "13\n"
     ]
    }
   ],
   "source": [
    "#Q.숫자 세 개를 입력해서 첫 번째 숫자를 두 번째 숫자에 승한뒤 세 번째 숫자로 나누었을 때 몫을 구하세요.\n",
    "\n",
    "x=int(input(\"숫자 3개를 입력하세요: \"))\n",
    "y=int(input())\n",
    "z=int(input())\n",
    "\n",
    "print(x**y//z)"
   ]
  },
  {
   "cell_type": "markdown",
   "id": "28bd7a14",
   "metadata": {},
   "source": [
    "### 3/7 과제\n",
    "\n",
    "- while문을 사용해 1부터 1000까지의 정수 중 3과 5의 공배수의 합을 구해보세요.\n",
    "- 1부터 5까지 입력해서 12345를 출력하세요.\n",
    "- [0,1,2,3,4,5,6,7,8,9,'a','b','c']에서 9와 'a'를 삭제 후 리스트로 출력하세요.\n",
    "- [0,1,2,3,4,5,6,7,8,'b','c']에서 'c'를 삭제 후 출력하세요.\n",
    "- [4,8,5,4,8,4,3,9,1,9]를 내림차순으로 정렬하세요.\n",
    "- format함수를 이용해서 다음과 같은 형식으로 현재날짜/시간을 출력하세요.\n",
    "\" 2021년 12월 29일 15시 47분 30초 \"\n",
    "- 현재 시각을 오전과 오후로 구분하는 프로그램을 작성하세요.\n",
    "- 정수를 입력하면 홀수 짝수를 판별하는 프로그램을 작성하세요.\n",
    "\n",
    "1. 계절 구분 프로그램\n",
    "- 각 계절별 출력 멘트는 계절에 맞게 창작.\n",
    "- if 조건문으로 datetime 모듈을 import해서 datetime.now 함수를 사용해서 작성.\n",
    "\n",
    "2. 커피 자판기 프로그램\n",
    "- 시나리오: 자판기 커피 재고 5잔, 커피 1잔 가격 300원, 재고 범위 내에서 300원 이상 돈을 넣으면 거스름돈과 커피를 주고 그렇지 않으면 반환하며 재고가 소진되면 안내멘트 출력.\n",
    "- 각 케이스 별 멘트 출력은 상황에 맞게 창작.\n",
    "- while if elif else 제어문을 사용하여 작성.\n"
   ]
  },
  {
   "cell_type": "code",
   "execution_count": 1,
   "id": "65350846",
   "metadata": {},
   "outputs": [
    {
     "name": "stdout",
     "output_type": "stream",
     "text": [
      "33165\n"
     ]
    }
   ],
   "source": [
    "# while문을 사용해 1부터 1000까지의 정수 중 3과 5의 공배수의 합을 구해보세요.\n",
    "\n",
    "i=0\n",
    "sum=0\n",
    "while i<1001:\n",
    "    i=i+1\n",
    "    if i%3==0 and i%5==0:\n",
    "        sum=sum+i\n",
    "        \n",
    "print(sum)\n",
    "\n",
    "# 드디어 뭔가 답이 나왔다... 난 저게 오답이어도 너무 행복할 것 같아. 1000까지니까 1001로!!\n",
    "\n",
    "# 오답 아니고 정답 나왔음.^^ 나는 짱"
   ]
  },
  {
   "cell_type": "code",
   "execution_count": 58,
   "id": "5c28aff6",
   "metadata": {},
   "outputs": [
    {
     "name": "stdout",
     "output_type": "stream",
     "text": [
      "1을 입력하세요: 1\n",
      "2를 입력하세요: 2\n",
      "3을 입력하세요: 3\n",
      "4를 입력하세요: 4\n",
      "5를 입력하세요: 5\n",
      "1 2 3 4 5\n"
     ]
    }
   ],
   "source": [
    "# 1부터 5까지 입력해서 12345를 출력하세요.\n",
    "\n",
    "x=int(input(\"1을 입력하세요: \"))\n",
    "y=int(input(\"2를 입력하세요: \"))\n",
    "z=int(input(\"3을 입력하세요: \"))\n",
    "a=int(input(\"4를 입력하세요: \"))\n",
    "b=int(input(\"5를 입력하세요: \"))\n",
    "print(x,y,z,a,b)\n",
    "\n",
    "# print(\"1부터 5까지 입력해 주세요.\")\n",
    "# a = input()\n",
    "# b = input()\n",
    "# c = input()\n",
    "# d = input()\n",
    "# e = input()\n",
    "# print(a+b+c+d+e)"
   ]
  },
  {
   "cell_type": "code",
   "execution_count": 3,
   "id": "ea9d7a56",
   "metadata": {},
   "outputs": [
    {
     "name": "stdout",
     "output_type": "stream",
     "text": [
      "[0, 1, 2, 3, 4, 5, 6, 7, 8, 'b', 'c']\n"
     ]
    }
   ],
   "source": [
    "# [0,1,2,3,4,5,6,7,8,9,'a','b','c']에서 9와 'a'를 삭제 후 리스트로 출력하세요.\n",
    "\n",
    "list1=[0,1,2,3,4,5,6,7,8,9,'a','b','c']\n",
    "\n",
    "del list1[9:11]\n",
    "print(list1)\n",
    "\n",
    "# list = [0,1,2,3,4,5,6,7,8,9,'a','b','c'] \n",
    "# list.remove (9)\n",
    "# list.remove ('a')\n",
    "# print(list)\n",
    "\n",
    "# list = [0,1,2,3,4,5,6,7,8,9, 'a','b','c']\n",
    "# del list[9]\n",
    "# del list[9]\n",
    "# # print(list)"
   ]
  },
  {
   "cell_type": "code",
   "execution_count": 12,
   "id": "4db08093",
   "metadata": {},
   "outputs": [
    {
     "name": "stdout",
     "output_type": "stream",
     "text": [
      "[0, 1, 2, 3, 4, 5, 6, 7, 8, 9, 'a', 'b']\n"
     ]
    }
   ],
   "source": [
    "# [0,1,2,3,4,5,6,7,8,'b','c']에서 'c'를 삭제 후 출력하세요.\n",
    "\n",
    "list1=[0,1,2,3,4,5,6,7,8,9,'a','b','c']\n",
    "del list1[-1]\n",
    "print(list1)"
   ]
  },
  {
   "cell_type": "code",
   "execution_count": 16,
   "id": "b63dbcd5",
   "metadata": {},
   "outputs": [
    {
     "name": "stdout",
     "output_type": "stream",
     "text": [
      "[9, 9, 8, 8, 5, 4, 4, 4, 3, 1]\n"
     ]
    }
   ],
   "source": [
    "# [4,8,5,4,8,4,3,9,1,9]를 내림차순으로 정렬하세요.\n",
    "\n",
    "li=[4,8,5,4,8,4,3,9,1,9]\n",
    "\n",
    "li.sort()\n",
    "li.reverse()\n",
    "print(li)\n",
    "\n",
    "# h=[4,8,5,4,8,4,3,9,1,9]\n",
    "# i=sorted(h, reverse=True)\n",
    "# print(i)"
   ]
  },
  {
   "cell_type": "code",
   "execution_count": 5,
   "id": "077dba1c",
   "metadata": {},
   "outputs": [
    {
     "name": "stdout",
     "output_type": "stream",
     "text": [
      "오늘 날짜는 3월 8일입니다. 현재 시각은 9시 22분 49초입니다.\n"
     ]
    }
   ],
   "source": [
    "# format함수를 이용해서 다음과 같은 형식으로 현재날짜/시간을 출력하세요.\n",
    "# \" 2021년 12월 29일 15시 47분 30초 \"\n",
    "\n",
    "year=2021\n",
    "month=12\n",
    "day=29\n",
    "time=15\n",
    "minu=47\n",
    "sec=30\n",
    "\n",
    "f'{year}년 {month}월 {day}일 {time}시 {minu}분 {sec}초'\n",
    "\n",
    "# f1 = \"{}년 {}월 {}일 {}시 {}분 {}초\".format(2021,12,29,15,47,30)\n",
    "# print(f1)\n",
    "\n",
    "# ======================\n",
    "\n",
    "import datetime as dt\n",
    "\n",
    "ct = dt.datetime.now()\n",
    "print(f'{ct.year}년 {ct.month}월 {ct.day}일 {ct.hour}시 {ct.minute}분 {ct.second}초')\n",
    "\n",
    "# ======================\n",
    "\n",
    "# import datetime\n",
    "# now=datetime.datetime.now()\n",
    "# y,mo,d,h,m,s=now.year,now.month,now.day,now.hour,now.minute,now.second\n",
    "\n",
    "# print(f\"오늘 날짜는 {mo}월 {d}일입니다. 현재 시각은 {h}시 {m}분 {s}초입니다.\")"
   ]
  },
  {
   "cell_type": "code",
   "execution_count": 26,
   "id": "34f8b0fc",
   "metadata": {},
   "outputs": [
    {
     "name": "stdout",
     "output_type": "stream",
     "text": [
      "오전입니다.\n"
     ]
    }
   ],
   "source": [
    "# 현재 시각을 오전과 오후로 구분하는 프로그램을 작성하세요.\n",
    "\n",
    "time=10\n",
    "\n",
    "if time < 12 and time >= 0:\n",
    "    print(\"오전입니다.\")\n",
    "elif time >= 12 and time < 24:\n",
    "    print(\"오후입니다.\")\n",
    "else:\n",
    "    print(\"시각을 입력하십시오\")\n",
    "    \n",
    "# from datetime import datetime\n",
    "\n",
    "# now = datetime.now()\n",
    "# if now.hour < 12:\n",
    "#     print(\"현재 오전입니다\")\n",
    "# else:\n",
    "#     print(\"현재 오후입니다.\")\n"
   ]
  },
  {
   "cell_type": "code",
   "execution_count": 7,
   "id": "bd11b761",
   "metadata": {},
   "outputs": [
    {
     "name": "stdout",
     "output_type": "stream",
     "text": [
      "정수를 입력해주세요.0\n",
      "짝수입니다.\n"
     ]
    }
   ],
   "source": [
    "# 정수를 입력하면 홀수 짝수를 판별하는 프로그램을 작성하세요.\n",
    "\n",
    "i=int(input(\"정수를 입력해주세요.\"))\n",
    "\n",
    "if i%2==0:\n",
    "    print(\"짝수입니다.\")\n",
    "else:\n",
    "    print(\"홀수입니다.\")\n",
    "    "
   ]
  },
  {
   "cell_type": "code",
   "execution_count": 4,
   "id": "5c84a8f2",
   "metadata": {},
   "outputs": [
    {
     "name": "stdout",
     "output_type": "stream",
     "text": [
      "2023년 3월 8일 9시 21분 32초\n"
     ]
    }
   ],
   "source": [
    "# 1. 계절 구분 프로그램\n",
    "# - 각 계절별 출력 멘트는 계절에 맞게 창작.\n",
    "# - if 조건문으로 datetime 모듈을 import해서 datetime.now 함수를 사용해서 작성.\n",
    "\n"
   ]
  },
  {
   "cell_type": "code",
   "execution_count": null,
   "id": "0fcfbfc2",
   "metadata": {},
   "outputs": [],
   "source": [
    "# 2. 커피 자판기 프로그램\n",
    "# - 시나리오: 자판기 커피 재고 5잔, 커피 1잔 가격 300원, 재고 범위 내에서 300원 이상 돈을 넣으면 거스름돈과 커피를 주고 그렇지 않으면 반환하며 재고가 소진되면 안내멘트 출력.\n",
    "# - 각 케이스 별 멘트 출력은 상황에 맞게 창작.\n",
    "# - while if elif else 제어문을 사용하여 작성.\n",
    "\n",
    "coffee=5\n",
    "while True:\n",
    "    money = int(input('돈을 넣어주세요.: '))\n",
    "    if money==300:\n",
    "        print('커피 드립니다.')\n",
    "        coffee=coffee-1\n",
    "    elif money>300:\n",
    "        print('거스름돈 %d원, 커피 드립니다.'%(money-300))\n",
    "        coffee=coffee-1\n",
    "    else:\n",
    "        print('돈 반환. 커피를 드리지 않습니다.')\n",
    "    if coffee ==0:\n",
    "        print('커피가 다 떨어졌습니다.')\n",
    "        break"
   ]
  },
  {
   "cell_type": "code",
   "execution_count": 45,
   "id": "29796656",
   "metadata": {},
   "outputs": [],
   "source": [
    "# 도전과제) 우리반의 발표자를 무작위로 선정하는 프로그램을 작성하세요.\n",
    "# hmkd1 = ['김나영','김동완','김예슬','김용훈','김태현','남동연','박서진','박주경',\n",
    "# '손아','옥유리', '옥주리','윤예은','윤정현','이승주','임수현','장인혁', \n",
    "# '정슬기','한나영','조차선','이지연','김성호','오윤택','최정인']"
   ]
  },
  {
   "cell_type": "code",
   "execution_count": 16,
   "id": "feeadaf2",
   "metadata": {},
   "outputs": [
    {
     "name": "stdout",
     "output_type": "stream",
     "text": [
      "발표 몇명?3\n"
     ]
    },
    {
     "ename": "NameError",
     "evalue": "name 'random' is not defined",
     "output_type": "error",
     "traceback": [
      "\u001b[1;31m---------------------------------------------------------------------------\u001b[0m",
      "\u001b[1;31mNameError\u001b[0m                                 Traceback (most recent call last)",
      "\u001b[1;32m~\\AppData\\Local\\Temp\\ipykernel_4760\\4277077033.py\u001b[0m in \u001b[0;36m<module>\u001b[1;34m\u001b[0m\n\u001b[0;32m      2\u001b[0m \u001b[1;33m\u001b[0m\u001b[0m\n\u001b[0;32m      3\u001b[0m \u001b[0mn\u001b[0m\u001b[1;33m=\u001b[0m\u001b[0mint\u001b[0m\u001b[1;33m(\u001b[0m\u001b[0minput\u001b[0m\u001b[1;33m(\u001b[0m\u001b[1;34m'발표 몇명?'\u001b[0m\u001b[1;33m)\u001b[0m\u001b[1;33m)\u001b[0m\u001b[1;33m\u001b[0m\u001b[1;33m\u001b[0m\u001b[0m\n\u001b[1;32m----> 4\u001b[1;33m \u001b[0mrd\u001b[0m\u001b[1;33m=\u001b[0m\u001b[0mrandom\u001b[0m\u001b[1;33m.\u001b[0m\u001b[0msample\u001b[0m\u001b[1;33m(\u001b[0m\u001b[0mrange\u001b[0m\u001b[1;33m(\u001b[0m\u001b[1;36m0\u001b[0m\u001b[1;33m,\u001b[0m\u001b[1;36m23\u001b[0m\u001b[1;33m)\u001b[0m\u001b[1;33m,\u001b[0m\u001b[0mn\u001b[0m\u001b[1;33m)\u001b[0m\u001b[1;33m\u001b[0m\u001b[1;33m\u001b[0m\u001b[0m\n\u001b[0m\u001b[0;32m      5\u001b[0m \u001b[1;33m\u001b[0m\u001b[0m\n\u001b[0;32m      6\u001b[0m \u001b[1;32mfor\u001b[0m \u001b[0mi\u001b[0m \u001b[1;32min\u001b[0m \u001b[0mrd\u001b[0m\u001b[1;33m:\u001b[0m\u001b[1;33m\u001b[0m\u001b[1;33m\u001b[0m\u001b[0m\n",
      "\u001b[1;31mNameError\u001b[0m: name 'random' is not defined"
     ]
    }
   ],
   "source": [
    "hmkd1 = ['김나영','김동완','김예슬','김용훈','김태현','남동연','박서진','박주경','손아','옥유리','옥주리','윤예은','윤정현','이승주','임수현','장인혁','정슬기','한나영','조차선','이지연','김성호','오윤택','최정인']\n",
    "\n",
    "#n=int(input('발표 몇명?'))\n",
    "#rd=random.sample(range(0,23),n)\n",
    "\n",
    "#for i in rd:\n",
    "#    print(hmkd1[i], end=' ')\n",
    "\n",
    "#안 되네\n",
    "    "
   ]
  }
 ],
 "metadata": {
  "kernelspec": {
   "display_name": "Python 3 (ipykernel)",
   "language": "python",
   "name": "python3"
  },
  "language_info": {
   "codemirror_mode": {
    "name": "ipython",
    "version": 3
   },
   "file_extension": ".py",
   "mimetype": "text/x-python",
   "name": "python",
   "nbconvert_exporter": "python",
   "pygments_lexer": "ipython3",
   "version": "3.9.13"
  }
 },
 "nbformat": 4,
 "nbformat_minor": 5
}
