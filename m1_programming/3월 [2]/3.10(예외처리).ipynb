{
 "cells": [
  {
   "cell_type": "markdown",
   "id": "31247153",
   "metadata": {},
   "source": [
    "https://blog.naver.com/jh_jh_se/222920153745"
   ]
  },
  {
   "cell_type": "markdown",
   "id": "cd5a1e9a",
   "metadata": {},
   "source": [
    "#### ♪♬구문오류♪♬"
   ]
  },
  {
   "cell_type": "code",
   "execution_count": null,
   "id": "e187a134",
   "metadata": {
    "scrolled": true
   },
   "outputs": [],
   "source": [
    "# 구문오류:\n",
    "# 예외 또는 런타임 오류:\n",
    "# SyntaxError\n",
    "\n",
    "print('예외를 강제로 발생!)"
   ]
  },
  {
   "cell_type": "code",
   "execution_count": null,
   "id": "cf38327a",
   "metadata": {},
   "outputs": [],
   "source": [
    "# (입력받은 값을 int로 변경해야하는데 r은 변경 불가.)\n",
    "# ValueError : 유효하지 않은 숫자나 문자\n",
    "# 프로그램이 멈추므로 그래도 돌아갈 수 있게 예외처리를 해줘야 함."
   ]
  },
  {
   "cell_type": "code",
   "execution_count": null,
   "id": "f13b0f92",
   "metadata": {},
   "outputs": [],
   "source": [
    "# 정수를 입력하지 않은 경우 예외 발생 \n",
    "\n",
    "num_input = int(input('정수입력> '))\n",
    "print('원의 반지름: ',num_input)"
   ]
  },
  {
   "cell_type": "code",
   "execution_count": null,
   "id": "1a2450a7",
   "metadata": {},
   "outputs": [],
   "source": [
    "# 조건문으로 예외 처리\n",
    "user_input = input('정수 입력> ')\n",
    "if user_input.isdigit():\n",
    "    num_input = int(user_input)\n",
    "    print('원의 반지름:',num_input)\n",
    "else:\n",
    "    print('정수를 입력하지 않았습니다.')"
   ]
  },
  {
   "cell_type": "code",
   "execution_count": null,
   "id": "780e3dea",
   "metadata": {},
   "outputs": [],
   "source": [
    "# param=1\n",
    "print('안녕하세요')\n",
    "print(param)  #변수로 지정이 되어서 에러"
   ]
  },
  {
   "cell_type": "markdown",
   "id": "de2eeea7",
   "metadata": {},
   "source": [
    "#### 예외 처리 방법"
   ]
  },
  {
   "cell_type": "markdown",
   "id": "178231c6",
   "metadata": {},
   "source": [
    "- 프로그램이 실행되는 동안 오류가 발생하면 프로그램이 더 이상 진행할 수 없는 상태가 됨. => 예외\n",
    "\n",
    "- 예외가 발생해도 프로그램을 중단하지 않고 예외에 대한 적절한 처리를 하여 프로그램을 계속 진행하도록 하는 구문이 try ~ except 이다.\n",
    "\n",
    "- 구문오류는 해당사항 아님."
   ]
  },
  {
   "cell_type": "code",
   "execution_count": null,
   "id": "658d8d87",
   "metadata": {},
   "outputs": [],
   "source": [
    "try:\n",
    "    print('안녕하세요')\n",
    "    print(param)\n",
    "except:\n",
    "    print('예외발생')    #프로그램이 중단되지 않고 예외발생이라는 결과를 내보냄."
   ]
  },
  {
   "cell_type": "code",
   "execution_count": null,
   "id": "6c7901b1",
   "metadata": {},
   "outputs": [],
   "source": [
    "# 추가 예시\n",
    "arr = ['p','h','o','n','e']\n",
    "try:\n",
    "    print(arr[4])\n",
    "except:\n",
    "    print('0~4')"
   ]
  },
  {
   "cell_type": "code",
   "execution_count": 6,
   "id": "1180d881",
   "metadata": {},
   "outputs": [
    {
     "name": "stdout",
     "output_type": "stream",
     "text": [
      "안녕하세요\n",
      "예외없음\n"
     ]
    }
   ],
   "source": [
    "try:\n",
    "    print('안녕하세요')\n",
    "except:\n",
    "    print('예외발생')\n",
    "else:\n",
    "    print('예외없음')"
   ]
  },
  {
   "cell_type": "code",
   "execution_count": null,
   "id": "1651c721",
   "metadata": {},
   "outputs": [],
   "source": [
    "# 추가 예시\n",
    "arr = ['p','h','o','n','e']\n",
    "try:\n",
    "    print(arr[4])\n",
    "except:\n",
    "    print('0~4')\n",
    "else:\n",
    "    print('good job')"
   ]
  },
  {
   "cell_type": "markdown",
   "id": "7c9cca28",
   "metadata": {},
   "source": [
    "try finally는 오류나면 그대로 중간에 죽어서 except 넣어야 한다."
   ]
  },
  {
   "cell_type": "code",
   "execution_count": 7,
   "id": "6548cc31",
   "metadata": {},
   "outputs": [
    {
     "name": "stdout",
     "output_type": "stream",
     "text": [
      "안녕하세요\n",
      "예외발생\n",
      "무조건 실행하는 코드\n"
     ]
    }
   ],
   "source": [
    "try:\n",
    "    print('안녕하세요')\n",
    "    print(param)\n",
    "except:\n",
    "    print('예외발생') # <--param 때문에\n",
    "finally:\n",
    "    print('무조건 실행하는 코드')   # 예외 없더라도 무조건 실행됨."
   ]
  },
  {
   "cell_type": "code",
   "execution_count": null,
   "id": "4162441a",
   "metadata": {},
   "outputs": [],
   "source": [
    "# try except else finally\n",
    "\n",
    "print('==program start')\n",
    "\n",
    "write down~~~~~~~~~~~!"
   ]
  },
  {
   "cell_type": "code",
   "execution_count": null,
   "id": "29906691",
   "metadata": {},
   "outputs": [],
   "source": [
    "# 코드에서 예외 발생 내용을 확인하고자 하는 경우 처리방법\n",
    "# Exception as e: 에러 정보를 결과값으로 출력해준다.\n",
    "\n",
    "try:\n",
    "    print(param)\n",
    "except Exception as e:\n",
    "    print(e)"
   ]
  },
  {
   "cell_type": "code",
   "execution_count": null,
   "id": "bf6a2750",
   "metadata": {
    "scrolled": true
   },
   "outputs": [],
   "source": [
    "# 개신기함 하지만 함부로 실행금지\n",
    "import time\n",
    "count = 1\n",
    "try:\n",
    "    while True:\n",
    "        print(count)\n",
    "        count += 1\n",
    "        time.sleep(3.5)   #지정해주는 시간만큼 멈춘다.\n",
    "except Keyboardinterrupt:  #예외처리 안 하면 에러납니당. 무한 while\n",
    "#     keyboardinterrupt도 에러이름\n",
    "    print('사용자에 의해 프로그램이 중단되었습니다.')"
   ]
  },
  {
   "cell_type": "code",
   "execution_count": null,
   "id": "8d5f221c",
   "metadata": {},
   "outputs": [],
   "source": [
    "# 개신기함 하지만 함부로 실행금지\n",
    "import time\n",
    "count =1\n",
    "try:\n",
    "    \n",
    "    while True:\n",
    "        print(count)\n",
    "        count+=1\n",
    "        time.sleep(3)\n",
    "        \n",
    "except keyboardinterrupt:\n",
    "    print('사용자에 의해 중단되었습니다.')"
   ]
  },
  {
   "cell_type": "code",
   "execution_count": null,
   "id": "65914bd3",
   "metadata": {},
   "outputs": [],
   "source": [
    "# 리스트 ['52','273','32,'문자','103']에서 숫자부분만 출력하세요(예외처리 수행)"
   ]
  },
  {
   "cell_type": "code",
   "execution_count": null,
   "id": "9af9dd9b",
   "metadata": {},
   "outputs": [],
   "source": [
    "list_input=['52','273','32','문자','103']\n",
    "list_num=[]\n",
    "for i in list_input:\n",
    "    try:\n",
    "        int(i)\n",
    "        list_num.append(i)\n",
    "    except:\n",
    "        pass\n",
    "print(list_num)"
   ]
  },
  {
   "cell_type": "code",
   "execution_count": 1,
   "id": "b72f8628",
   "metadata": {},
   "outputs": [
    {
     "ename": "ValueError",
     "evalue": "invalid literal for int() with base 10: '문자'",
     "output_type": "error",
     "traceback": [
      "\u001b[1;31m---------------------------------------------------------------------------\u001b[0m",
      "\u001b[1;31mValueError\u001b[0m                                Traceback (most recent call last)",
      "\u001b[1;32m~\\AppData\\Local\\Temp\\ipykernel_12648\\408932019.py\u001b[0m in \u001b[0;36m<module>\u001b[1;34m\u001b[0m\n\u001b[0;32m      4\u001b[0m \u001b[0mlist_num\u001b[0m\u001b[1;33m=\u001b[0m\u001b[1;33m[\u001b[0m\u001b[1;33m]\u001b[0m\u001b[1;33m\u001b[0m\u001b[1;33m\u001b[0m\u001b[0m\n\u001b[0;32m      5\u001b[0m \u001b[1;32mfor\u001b[0m \u001b[0mi\u001b[0m \u001b[1;32min\u001b[0m \u001b[0mlist_input\u001b[0m\u001b[1;33m:\u001b[0m\u001b[1;33m\u001b[0m\u001b[1;33m\u001b[0m\u001b[0m\n\u001b[1;32m----> 6\u001b[1;33m     \u001b[0mint\u001b[0m\u001b[1;33m(\u001b[0m\u001b[0mi\u001b[0m\u001b[1;33m)\u001b[0m\u001b[1;33m\u001b[0m\u001b[1;33m\u001b[0m\u001b[0m\n\u001b[0m\u001b[0;32m      7\u001b[0m     \u001b[0mlist_num\u001b[0m\u001b[1;33m.\u001b[0m\u001b[0mappend\u001b[0m\u001b[1;33m(\u001b[0m\u001b[0mi\u001b[0m\u001b[1;33m)\u001b[0m\u001b[1;33m\u001b[0m\u001b[1;33m\u001b[0m\u001b[0m\n\u001b[0;32m      8\u001b[0m \u001b[0mprint\u001b[0m\u001b[1;33m(\u001b[0m\u001b[0mlist_num\u001b[0m\u001b[1;33m)\u001b[0m\u001b[1;33m\u001b[0m\u001b[1;33m\u001b[0m\u001b[0m\n",
      "\u001b[1;31mValueError\u001b[0m: invalid literal for int() with base 10: '문자'"
     ]
    }
   ],
   "source": [
    "# 설명\n",
    "\n",
    "list_input=['52','273','32','문자','103']\n",
    "list_num=[]\n",
    "for i in list_input:\n",
    "    int(i)\n",
    "    list_num.append(i)\n",
    "print(list_num)"
   ]
  },
  {
   "cell_type": "code",
   "execution_count": 5,
   "id": "674f1877",
   "metadata": {},
   "outputs": [
    {
     "name": "stdout",
     "output_type": "stream",
     "text": [
      "정수 입력> 1\n",
      "정수\n"
     ]
    }
   ],
   "source": [
    "# 정수를 입력하면 '정수', 아니라면 '정수 아님' 을 출력하세요.\n",
    "\n",
    "try:\n",
    "    num_input = int(input('정수 입력> '))\n",
    "except:\n",
    "    print('정수 아님, 정수입력하세요')\n",
    "else:\n",
    "    print('정수')"
   ]
  },
  {
   "cell_type": "code",
   "execution_count": null,
   "id": "22643c4a",
   "metadata": {},
   "outputs": [],
   "source": [
    "# 정수를 입력하면 '입력정수 > 예외발생하지 않음 > 프로그램 종료'\n",
    "# 정수가 아니면 '입력값 > 정수 아님 > 프로그램 종료' 순서대로 출력하세요."
   ]
  },
  {
   "cell_type": "code",
   "execution_count": null,
   "id": "be0c7072",
   "metadata": {
    "scrolled": true
   },
   "outputs": [],
   "source": [
    "try:\n",
    "    n=int(input('정수입력> '))\n",
    "except:\n",
    "    print('정수 아님')\n",
    "else:\n",
    "    print(n)\n",
    "    print('예외 발생하지 않음')\n",
    "finally:\n",
    "    print('프로그램 종료')"
   ]
  },
  {
   "cell_type": "code",
   "execution_count": null,
   "id": "98383dcf",
   "metadata": {},
   "outputs": [],
   "source": [
    "try:\n",
    "    n=int(input('정수를 입력하세요.'))\n",
    "except:\n",
    "    print('정수가 아닙니다.')\n",
    "else:\n",
    "    print(n)\n",
    "    print('예외가 발생하지 않았습니다.')\n",
    "    \n",
    "finally:\n",
    "    print('프로그램을 종료합니다.')"
   ]
  },
  {
   "cell_type": "code",
   "execution_count": null,
   "id": "ec401343",
   "metadata": {},
   "outputs": [],
   "source": []
  },
  {
   "cell_type": "code",
   "execution_count": null,
   "id": "8a68b824",
   "metadata": {},
   "outputs": [],
   "source": []
  },
  {
   "cell_type": "code",
   "execution_count": null,
   "id": "4b44b7b1",
   "metadata": {},
   "outputs": [],
   "source": []
  }
 ],
 "metadata": {
  "kernelspec": {
   "display_name": "Python 3 (ipykernel)",
   "language": "python",
   "name": "python3"
  },
  "language_info": {
   "codemirror_mode": {
    "name": "ipython",
    "version": 3
   },
   "file_extension": ".py",
   "mimetype": "text/x-python",
   "name": "python",
   "nbconvert_exporter": "python",
   "pygments_lexer": "ipython3",
   "version": "3.9.13"
  }
 },
 "nbformat": 4,
 "nbformat_minor": 5
}
