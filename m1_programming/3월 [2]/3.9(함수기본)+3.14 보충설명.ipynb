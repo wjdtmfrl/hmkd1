{
 "cells": [
  {
   "cell_type": "markdown",
   "id": "ee14ff46",
   "metadata": {},
   "source": [
    "#### ♪♬함수♪♬"
   ]
  },
  {
   "cell_type": "markdown",
   "id": "a3cf7fba",
   "metadata": {},
   "source": [
    "#### 지역변수와 전역변수\n",
    "- 지역변수는 함수 내부에서만 유효하고 \n",
    "- 전역변수는 코드 전반에 걸쳐 유효\n",
    "- 함수의 인자는 지역변수"
   ]
  },
  {
   "cell_type": "code",
   "execution_count": 31,
   "id": "28999666",
   "metadata": {},
   "outputs": [
    {
     "name": "stdout",
     "output_type": "stream",
     "text": [
      "1\n"
     ]
    }
   ],
   "source": [
    "# 함수 안에서 선언된 변수의 효력 범위\n",
    "# 함수 안에서 사용하는 매개변수는 \n",
    "# 함수 밖의 변수 이름과는 전혀 상관 없다.\n",
    "\n",
    "a=1  #전역변수\n",
    "\n",
    "def vartest(a):\n",
    "    a=a+1\n",
    "    \n",
    "print(a)"
   ]
  },
  {
   "cell_type": "code",
   "execution_count": 2,
   "id": "7f75e865",
   "metadata": {},
   "outputs": [
    {
     "name": "stdout",
     "output_type": "stream",
     "text": [
      "지역변수\n",
      "전역변수\n"
     ]
    }
   ],
   "source": [
    "strdata='전역변수'\n",
    "\n",
    "def func1():\n",
    "    strdata = '지역변수'\n",
    "    print(strdata)\n",
    "    \n",
    "func1()    # -> function을 실행시킨다  => 지역변수 출력\n",
    "\n",
    "print(strdata)"
   ]
  },
  {
   "cell_type": "code",
   "execution_count": 8,
   "id": "6a9dfb01",
   "metadata": {},
   "outputs": [
    {
     "name": "stdout",
     "output_type": "stream",
     "text": [
      "10\n"
     ]
    }
   ],
   "source": [
    "param=10\n",
    "def func2():\n",
    "    param =1\n",
    "    \n",
    "print(param)"
   ]
  },
  {
   "cell_type": "code",
   "execution_count": 32,
   "id": "54429c4e",
   "metadata": {},
   "outputs": [
    {
     "name": "stdout",
     "output_type": "stream",
     "text": [
      "None\n",
      "1\n"
     ]
    }
   ],
   "source": [
    "a=1  #전역변수\n",
    "\n",
    "def vartest(a):\n",
    "    a=a+1\n",
    "    \n",
    "print(vartest(a)) #return값이 없어서 none나옴\n",
    "print(a)"
   ]
  },
  {
   "cell_type": "markdown",
   "id": "5a144709",
   "metadata": {},
   "source": [
    "#### 함수 리턴값 : return\n",
    "- 함수는 한 개 이상의 값을 리턴할 수 있으며 리턴값이 없을 수도 있다.\n",
    "- 리턴 값이 여러 개인 경우에는 튜플로 리턴값을 만들어 리턴"
   ]
  },
  {
   "cell_type": "code",
   "execution_count": 54,
   "id": "c94b6d1d",
   "metadata": {},
   "outputs": [
    {
     "name": "stdout",
     "output_type": "stream",
     "text": [
      "2\n"
     ]
    }
   ],
   "source": [
    "# 함수 안에서 함수 밖의 변수를 변경하는 방법 - return 이용\n",
    "\n",
    "a=1 \n",
    "def vartest(a):\n",
    "    a=a+1\n",
    "    return a\n",
    "a= vartest(a)\n",
    "print(a)"
   ]
  },
  {
   "cell_type": "code",
   "execution_count": 34,
   "id": "0026531a",
   "metadata": {},
   "outputs": [
    {
     "name": "stdout",
     "output_type": "stream",
     "text": [
      "(3, 2, 1)\n",
      "c b a\n",
      "c\n",
      "b\n",
      "a\n"
     ]
    }
   ],
   "source": [
    "def reverse(x,y,z):\n",
    "    return z,y,x\n",
    "\n",
    "ret=reverse(1,2,3)\n",
    "print(ret)    #튜플!\n",
    "\n",
    "r1, r2, r3 = reverse('a','b','c')\n",
    "print(r1,r2,r3)   #역시 튜플\n",
    "print(r1);print(r2);print(r3)"
   ]
  },
  {
   "cell_type": "code",
   "execution_count": 62,
   "id": "81615b19",
   "metadata": {},
   "outputs": [],
   "source": [
    "# 같은 거\n",
    "def vartest(b):\n",
    "    b = b + 1\n",
    "    return b"
   ]
  },
  {
   "cell_type": "markdown",
   "id": "afb911b7",
   "metadata": {},
   "source": [
    "함수 내부에 있는 지역변수를 전역변수로 쓰려면? ==> global"
   ]
  },
  {
   "cell_type": "code",
   "execution_count": 1,
   "id": "d89b9ad8",
   "metadata": {},
   "outputs": [
    {
     "name": "stdout",
     "output_type": "stream",
     "text": [
      "50\n"
     ]
    }
   ],
   "source": [
    "param=10\n",
    "def func3():\n",
    "    global param\n",
    "    param = 50\n",
    "func3()\n",
    "\n",
    "\n",
    "print(param)"
   ]
  },
  {
   "cell_type": "code",
   "execution_count": 8,
   "id": "a0fc13dc",
   "metadata": {},
   "outputs": [
    {
     "name": "stdout",
     "output_type": "stream",
     "text": [
      "2\n"
     ]
    }
   ],
   "source": [
    "# global 명령을 이용하는 방법\n",
    "\n",
    "a=1  \n",
    "def vartest():\n",
    "    global a\n",
    "    a=a+1\n",
    "    \n",
    "vartest()\n",
    "print(a)"
   ]
  },
  {
   "cell_type": "code",
   "execution_count": 37,
   "id": "ab70c34d",
   "metadata": {
    "scrolled": true
   },
   "outputs": [
    {
     "name": "stdout",
     "output_type": "stream",
     "text": [
      "10\n"
     ]
    }
   ],
   "source": [
    "param = 10\n",
    "strdatd = '전역변수'\n",
    "\n",
    "def func1():\n",
    "    strdata='지역변수'\n",
    "    print(strdata)\n",
    "    \n",
    "def func2(param):\n",
    "    param=1\n",
    "    \n",
    "def func3():\n",
    "    global param\n",
    "    param = 50\n",
    "\n",
    "    \n",
    "#func1()\n",
    "#print(strdata)\n",
    "#print(param)\n",
    "func2(param)     #param 없어도 10나옴\n",
    "print(param)\n",
    "#func3()\n",
    "#print(param)"
   ]
  },
  {
   "cell_type": "markdown",
   "id": "06762690",
   "metadata": {},
   "source": [
    "==================================="
   ]
  },
  {
   "cell_type": "code",
   "execution_count": 4,
   "id": "93061413",
   "metadata": {},
   "outputs": [
    {
     "data": {
      "text/plain": [
       "'C:\\\\hmkd\\\\m1_programming'"
      ]
     },
     "execution_count": 4,
     "metadata": {},
     "output_type": "execute_result"
    }
   ],
   "source": [
    "# 현재 작업 폴더\n",
    "%pwd"
   ]
  },
  {
   "cell_type": "code",
   "execution_count": 35,
   "id": "d7aa3ce5",
   "metadata": {
    "scrolled": true
   },
   "outputs": [
    {
     "name": "stdout",
     "output_type": "stream",
     "text": [
      " C 드라이브의 볼륨에는 이름이 없습니다.\n",
      " 볼륨 일련 번호: 2A1A-EA7A\n",
      "\n",
      " C:\\hmkd\\m1_programming 디렉터리\n",
      "\n",
      "2023-03-14  오후 02:23    <DIR>          .\n",
      "2023-03-14  오후 02:23    <DIR>          ..\n",
      "2023-03-14  오후 02:07    <DIR>          .ipynb_checkpoints\n",
      "2023-03-13  오전 09:06            19,014 3.10(예외처리).ipynb\n",
      "2023-03-13  오후 04:37            40,961 3.7 과제 끝.ipynb\n",
      "2023-03-11  오후 03:30            35,131 3.7.ipynb\n",
      "2023-03-14  오후 01:57            16,364 3.8.ipynb\n",
      "2023-03-14  오후 02:23            48,460 3.9(함수기본)+3.14 보충설명.ipynb\n",
      "2023-03-09  오후 05:40               589 3월 넷째 주.ipynb\n",
      "2023-03-14  오후 02:21            56,644 3월 셋째 주.ipynb\n",
      "2023-03-09  오후 03:43                18 foo txt\n",
      "2023-03-10  오후 03:18               261 hello.txt\n",
      "2023-03-10  오후 03:11                11 hello2 txt\n",
      "2023-03-10  오후 03:09               348 hi.txt\n",
      "2023-03-06  오후 02:16             5,279 p1_기초.ipynb\n",
      "2023-03-10  오후 05:14            21,179 practice(3.6).ipynb\n",
      "2023-03-10  오후 12:02            12,656 program_ex2.ipynb\n",
      "2023-03-10  오후 12:05             8,812 program_ex3.ipynb\n",
      "2023-03-09  오후 04:36                40 test.txt\n",
      "2023-03-09  오후 03:30               441 test1.txt\n",
      "2023-03-09  오후 04:10                 0 test3.txt\n",
      "2023-03-09  오후 03:43               261 test_seul.txt\n",
      "2023-03-06  오후 04:58                72 Untitled.ipynb\n",
      "2023-03-07  오후 02:54                72 Untitled1.ipynb\n",
      "2023-03-14  오후 01:45            10,876 연습장.ipynb\n",
      "2023-03-14  오전 11:02             1,157 정슬기 프로젝트~~~~~.ipynb\n",
      "2023-03-13  오후 06:00            37,213 조각조각.ipynb\n",
      "              24개 파일             315,859 바이트\n",
      "               3개 디렉터리  67,827,036,160 바이트 남음\n"
     ]
    }
   ],
   "source": [
    "!dir"
   ]
  },
  {
   "cell_type": "markdown",
   "id": "d63084cd",
   "metadata": {},
   "source": [
    "#### 파일 입출력 (많이 연습하기)"
   ]
  },
  {
   "cell_type": "code",
   "execution_count": null,
   "id": "c4c21404",
   "metadata": {},
   "outputs": [],
   "source": [
    "# 파일 위치 변경하기\n",
    "\n",
    "import os\n",
    "os.chdir(#원하는 위치.':\\\\hmkd\\\\m1_programming')"
   ]
  },
  {
   "cell_type": "code",
   "execution_count": 36,
   "id": "f3f10480",
   "metadata": {},
   "outputs": [],
   "source": [
    "# 파일 읽고 쓰기\n",
    "f = open ('test1.txt','w') #옵션을 w로, write\n",
    "f.close()"
   ]
  },
  {
   "cell_type": "code",
   "execution_count": 5,
   "id": "55fbaaf3",
   "metadata": {},
   "outputs": [],
   "source": [
    "f = open ('test1.txt','w') \n",
    "for i in range(1,11):  #1부터 10까지 메모장 확인~!\n",
    "    data = '%d번째 줄입니다.\\n' %i\n",
    "    f.write(data)\n",
    "f.close()"
   ]
  },
  {
   "cell_type": "code",
   "execution_count": 11,
   "id": "e8b33368",
   "metadata": {},
   "outputs": [
    {
     "name": "stdout",
     "output_type": "stream",
     "text": [
      "1번째 줄입니다.\n",
      "\n"
     ]
    }
   ],
   "source": [
    "f = open ('test1.txt','r')\n",
    "line = f.readline()    #라인별로 한 줄씩 읽을 수 있다.\n",
    "print(line)\n",
    "f.close()"
   ]
  },
  {
   "cell_type": "code",
   "execution_count": 12,
   "id": "fea545d2",
   "metadata": {},
   "outputs": [
    {
     "name": "stdout",
     "output_type": "stream",
     "text": [
      "1번째 줄입니다.\n",
      "\n",
      "2번째 줄입니다.\n",
      "\n",
      "3번째 줄입니다.\n",
      "\n",
      "4번째 줄입니다.\n",
      "\n",
      "5번째 줄입니다.\n",
      "\n",
      "6번째 줄입니다.\n",
      "\n",
      "7번째 줄입니다.\n",
      "\n",
      "8번째 줄입니다.\n",
      "\n",
      "9번째 줄입니다.\n",
      "\n",
      "10번째 줄입니다.\n",
      "\n"
     ]
    }
   ],
   "source": [
    "f = open ('test1.txt','r')\n",
    "for i in range(10):\n",
    "    line = f.readline() \n",
    "    print(line)\n",
    "\n",
    "f.close()"
   ]
  },
  {
   "cell_type": "code",
   "execution_count": 14,
   "id": "3c4fae77",
   "metadata": {},
   "outputs": [
    {
     "name": "stdout",
     "output_type": "stream",
     "text": [
      "1번째 줄입니다.\n",
      "\n",
      "2번째 줄입니다.\n",
      "\n",
      "3번째 줄입니다.\n",
      "\n",
      "4번째 줄입니다.\n",
      "\n",
      "5번째 줄입니다.\n",
      "\n",
      "6번째 줄입니다.\n",
      "\n",
      "7번째 줄입니다.\n",
      "\n",
      "8번째 줄입니다.\n",
      "\n",
      "9번째 줄입니다.\n",
      "\n",
      "10번째 줄입니다.\n",
      "\n"
     ]
    }
   ],
   "source": [
    "# 10줄인 걸 모를 경우 while문 사용\n",
    "\n",
    "f = open ('test1.txt','r')\n",
    "while True:\n",
    "    line = f.readline()\n",
    "    if not line: break   #라인이 없으면 빠져나와라\n",
    "    print(line)\n",
    "f.close()"
   ]
  },
  {
   "cell_type": "code",
   "execution_count": 18,
   "id": "e8de8e07",
   "metadata": {},
   "outputs": [
    {
     "name": "stdout",
     "output_type": "stream",
     "text": [
      "1번째 줄입니다.\n",
      "2번째 줄입니다.\n",
      "3번째 줄입니다.\n",
      "4번째 줄입니다.\n",
      "5번째 줄입니다.\n",
      "6번째 줄입니다.\n",
      "7번째 줄입니다.\n",
      "8번째 줄입니다.\n",
      "9번째 줄입니다.\n",
      "10번째 줄입니다.\n",
      "\n"
     ]
    }
   ],
   "source": [
    "# f.read()는 파일 내용 전체를 문자열로 반환. read는 다 읽어줘요.\n",
    "f = open ('test1.txt','r')\n",
    "data = f.read()\n",
    "print(data)\n",
    "f.close()"
   ]
  },
  {
   "cell_type": "code",
   "execution_count": 21,
   "id": "3d8f1a47",
   "metadata": {},
   "outputs": [],
   "source": [
    "#  add\n",
    "f = open ('test1.txt','a') \n",
    "for i in range(11,16):\n",
    "    data = '%d번째 줄입니다.\\n' %i\n",
    "    f.write(data)\n",
    "\n",
    "f.close()"
   ]
  },
  {
   "cell_type": "code",
   "execution_count": 24,
   "id": "de450eff",
   "metadata": {},
   "outputs": [
    {
     "name": "stdout",
     "output_type": "stream",
     "text": [
      "1번째 줄입니다.\n",
      "2번째 줄입니다.\n",
      "3번째 줄입니다.\n",
      "4번째 줄입니다.\n",
      "5번째 줄입니다.\n",
      "6번째 줄입니다.\n",
      "7번째 줄입니다.\n",
      "8번째 줄입니다.\n",
      "9번째 줄입니다.\n",
      "10번째 줄입니다.\n",
      "11번째 줄입니다.\n",
      "12번째 줄입니다.\n",
      "13번째 줄입니다.\n",
      "14번째 줄입니다.\n",
      "15번째 줄입니다.\n",
      "11번째 줄입니다.\n",
      "12번째 줄입니다.\n",
      "13번째 줄입니다.\n",
      "14번째 줄입니다.\n",
      "15번째 줄입니다.\n",
      "11번째 줄입니다.\n",
      "12번째 줄입니다.\n",
      "13번째 줄입니다.\n",
      "14번째 줄입니다.\n",
      "15번째 줄입니다.\n",
      "\n"
     ]
    }
   ],
   "source": [
    "f = open ('test1.txt','r') \n",
    "data = f.read()\n",
    "print(data)\n",
    "f.close()"
   ]
  },
  {
   "cell_type": "code",
   "execution_count": 41,
   "id": "83b72d0b",
   "metadata": {},
   "outputs": [],
   "source": [
    "# with문과 같이 사용 --> close 안 해도 자동으로 닫힘.\n",
    "\n",
    "with open ('foo txt','w') as f:\n",
    "    f.write('파이썬을 배웁시다.')"
   ]
  },
  {
   "cell_type": "code",
   "execution_count": 42,
   "id": "556dea44",
   "metadata": {},
   "outputs": [
    {
     "name": "stdout",
     "output_type": "stream",
     "text": [
      "파이썬을 배웁시다.\n"
     ]
    }
   ],
   "source": [
    "with open ('foo txt','r') as f:\n",
    "    data = f.read()\n",
    "    print(data)"
   ]
  },
  {
   "cell_type": "code",
   "execution_count": 46,
   "id": "f7708d0a",
   "metadata": {},
   "outputs": [],
   "source": [
    "with open('test2.txt','w') as f:\n",
    "    for i in range(1,11):\n",
    "        data = f'{i}번째 줄입니다.\\n'\n",
    "        f.write(data)"
   ]
  },
  {
   "cell_type": "code",
   "execution_count": 47,
   "id": "fe2197c6",
   "metadata": {},
   "outputs": [],
   "source": [
    "with open('test2.txt','a') as f:\n",
    "    for i in range(11,16):\n",
    "        data = f'{i}번째 줄입니다.\\n'\n",
    "        f.write(data)"
   ]
  },
  {
   "cell_type": "code",
   "execution_count": 48,
   "id": "e75325e6",
   "metadata": {},
   "outputs": [
    {
     "name": "stdout",
     "output_type": "stream",
     "text": [
      "1번째 줄입니다.\n",
      "2번째 줄입니다.\n",
      "3번째 줄입니다.\n",
      "4번째 줄입니다.\n",
      "5번째 줄입니다.\n",
      "6번째 줄입니다.\n",
      "7번째 줄입니다.\n",
      "8번째 줄입니다.\n",
      "9번째 줄입니다.\n",
      "10번째 줄입니다.\n",
      "11번째 줄입니다.\n",
      "12번째 줄입니다.\n",
      "13번째 줄입니다.\n",
      "14번째 줄입니다.\n",
      "15번째 줄입니다.\n",
      "\n"
     ]
    }
   ],
   "source": [
    "with open ('test2.txt','r') as f:\n",
    "    data =f.read()\n",
    "    print(data)"
   ]
  },
  {
   "cell_type": "markdown",
   "id": "1f8232e0",
   "metadata": {},
   "source": [
    "내장함수,외장함수\n",
    "\n",
    "https://codedrive.tistory.com/91"
   ]
  },
  {
   "cell_type": "code",
   "execution_count": 51,
   "id": "e5a1270b",
   "metadata": {},
   "outputs": [
    {
     "name": "stdout",
     "output_type": "stream",
     "text": [
      "3\n",
      "False\n",
      "True\n",
      "A\n"
     ]
    }
   ],
   "source": [
    "# 내장함수\n",
    "\n",
    "print(abs(-3))\n",
    "print(all([1,2,3,0]))  #x가 모두 참이면 true, 거짓이 하나라도 있으면 false\n",
    "print(any([1,2,3,0]))  #x가 하나라도 참이면 true, 모두 거짓이면 false\n",
    "print(chr(65))  #아스키코드를 문자로 변환"
   ]
  },
  {
   "cell_type": "code",
   "execution_count": 52,
   "id": "85e29727",
   "metadata": {},
   "outputs": [
    {
     "data": {
      "text/plain": [
       "7"
      ]
     },
     "execution_count": 52,
     "metadata": {},
     "output_type": "execute_result"
    }
   ],
   "source": [
    "sum=lambda a,b:a+b\n",
    "sum(3,4)"
   ]
  },
  {
   "cell_type": "code",
   "execution_count": 53,
   "id": "cc24740f",
   "metadata": {},
   "outputs": [
    {
     "name": "stdout",
     "output_type": "stream",
     "text": [
      "7\n",
      "12\n"
     ]
    }
   ],
   "source": [
    "myList = [lambda a,b:a+b, lambda a,b:a*b]\n",
    "print(myList[0](3,4))\n",
    "print(myList[1](3,4))"
   ]
  },
  {
   "cell_type": "code",
   "execution_count": 54,
   "id": "b8118690",
   "metadata": {},
   "outputs": [
    {
     "name": "stdout",
     "output_type": "stream",
     "text": [
      "7\n",
      "12\n",
      "8\n"
     ]
    }
   ],
   "source": [
    "myList = [lambda a,b:a+b, lambda a,b:a*b, lambda a,b: a**b]\n",
    "print(myList[0](3,4))\n",
    "print(myList[1](3,4))\n",
    "print(myList[2](2,3))"
   ]
  },
  {
   "cell_type": "code",
   "execution_count": 6,
   "id": "20007c3f",
   "metadata": {},
   "outputs": [
    {
     "name": "stdout",
     "output_type": "stream",
     "text": [
      "6\n",
      "3\n",
      "3\n"
     ]
    }
   ],
   "source": [
    "print(len('python'))\n",
    "print(len([1,2,3]))\n",
    "print(len([1,2,'a']))"
   ]
  },
  {
   "cell_type": "code",
   "execution_count": 7,
   "id": "a1970a51",
   "metadata": {},
   "outputs": [
    {
     "data": {
      "text/plain": [
       "[0, -1, -2, -3, -4, -5, -6, -7, -8, -9]"
      ]
     },
     "execution_count": 7,
     "metadata": {},
     "output_type": "execute_result"
    }
   ],
   "source": [
    "list(range(5))\n",
    "list(range(1,6))\n",
    "list(range(1,10,2))\n",
    "list(range(0,-10,-1))"
   ]
  },
  {
   "cell_type": "code",
   "execution_count": 57,
   "id": "523c310c",
   "metadata": {
    "scrolled": true
   },
   "outputs": [
    {
     "name": "stdout",
     "output_type": "stream",
     "text": [
      "(2, 1)\n"
     ]
    }
   ],
   "source": [
    "print(divmod(7,3))   #몫, 나머지"
   ]
  },
  {
   "cell_type": "code",
   "execution_count": 1,
   "id": "aea3d37a",
   "metadata": {},
   "outputs": [
    {
     "name": "stdout",
     "output_type": "stream",
     "text": [
      "(2, 1) <class 'tuple'>\n"
     ]
    }
   ],
   "source": [
    "a= divmod(7,3)\n",
    "print(a, type(a))"
   ]
  },
  {
   "cell_type": "code",
   "execution_count": 55,
   "id": "e123e0c2",
   "metadata": {},
   "outputs": [
    {
     "name": "stdout",
     "output_type": "stream",
     "text": [
      "0 james\n",
      "1 tom\n",
      "2 susan\n"
     ]
    }
   ],
   "source": [
    "# 순서가 있는 자료형을 입력으로 받아 인덱스 값을 포함한 enumerate 객체를 리턴\n",
    "\n",
    "for i, name in enumerate (['james','tom', 'susan']):\n",
    "    print(i,name)"
   ]
  },
  {
   "cell_type": "code",
   "execution_count": 62,
   "id": "16c92081",
   "metadata": {},
   "outputs": [
    {
     "name": "stdout",
     "output_type": "stream",
     "text": [
      "3\n"
     ]
    }
   ],
   "source": [
    "# 실행 가능한 문자열을 입력으로 받아 문자열을 실행한 결과값을 리턴\n",
    "# 숫자로 된 문자열을 입력받으면 연산해주게끔 하는게 eval\n",
    "\n",
    "print(eval('1+2'))"
   ]
  },
  {
   "cell_type": "code",
   "execution_count": 12,
   "id": "a4038808",
   "metadata": {},
   "outputs": [],
   "source": [
    "# 외장함수 : 전 세계 파이썬 사용자들이 만든 유용한 프로그램을 모아 놓은 파이썬 라이브러리. \n",
    "# 파이썬을 설치할 때 자동으로 설치\n",
    "# pickle은 객체의 형태를 유지하면서 파일에 저장하고 불러올 수 있게 하는 모듈\n",
    "# wb : 바이너리(binary.이진파일)로 쓴다. --> 메모장 확인하면 알아볼 수 없음, 메모리 적게 사용, 경제적 저장 \n",
    "# dump 함수\n",
    "# import pickle\n",
    "# f = open('test.txt','wb')\n",
    "# data = {1:'python',2:'you need'}\n",
    "# pickle.dump(data.f)\n",
    "# f.close\n",
    "\n",
    "import pickle\n",
    "f = open('test.txt', 'wb')\n",
    "data = {1:'python',2:'you need'}\n",
    "pickle.dump(data,f)\n",
    "f.close()"
   ]
  },
  {
   "cell_type": "code",
   "execution_count": 93,
   "id": "53d61950",
   "metadata": {},
   "outputs": [
    {
     "name": "stdout",
     "output_type": "stream",
     "text": [
      "{1: 'python', 2: 'you need'}\n"
     ]
    }
   ],
   "source": [
    "# 읽어올때는 load\n",
    "\n",
    "import pickle\n",
    "f = open('test.txt','rb')\n",
    "data = pickle.load(f)\n",
    "print(data)\n",
    "f.close()\n"
   ]
  },
  {
   "cell_type": "code",
   "execution_count": 66,
   "id": "84a03ae0",
   "metadata": {},
   "outputs": [
    {
     "data": {
      "text/plain": [
       "'C:\\\\Users\\\\hh\\\\anaconda3;C:\\\\Users\\\\hh\\\\anaconda3\\\\Library\\\\mingw-w64\\\\bin;C:\\\\Users\\\\hh\\\\anaconda3\\\\Library\\\\usr\\\\bin;C:\\\\Users\\\\hh\\\\anaconda3\\\\Library\\\\bin;C:\\\\Users\\\\hh\\\\anaconda3\\\\Scripts;D:\\\\app\\\\product\\\\11.2.0\\\\dbhome_1\\\\bin;C:\\\\WINDOWS\\\\system32;C:\\\\WINDOWS;C:\\\\WINDOWS\\\\System32\\\\Wbem;C:\\\\WINDOWS\\\\System32\\\\WindowsPowerShell\\\\v1.0\\\\;C:\\\\WINDOWS\\\\System32\\\\OpenSSH\\\\;C:\\\\Program Files\\\\Bandizip\\\\;C:\\\\Users\\\\hh\\\\anaconda3;C:\\\\Users\\\\hh\\\\anaconda3\\\\Library\\\\bin;C:\\\\Users\\\\hh\\\\anaconda3\\\\Library\\\\mingw-w64\\\\bin;C:\\\\Users\\\\hh\\\\anaconda3\\\\Scripts;D:\\\\AI_Class\\\\tools\\\\jdk-18.0.2\\\\;C:\\\\Users\\\\hh\\\\AppData\\\\Local\\\\Microsoft\\\\WindowsApps;D:\\\\AI_Class\\\\tools\\\\jdk-18.0.2\\\\bin;C:\\\\Users\\\\hh\\\\AppData\\\\Local\\\\Programs\\\\Microsoft VS Code\\\\bin;'"
      ]
     },
     "execution_count": 66,
     "metadata": {},
     "output_type": "execute_result"
    }
   ],
   "source": [
    "import os\n",
    "os.environ['PATH']"
   ]
  },
  {
   "cell_type": "code",
   "execution_count": 68,
   "id": "f0ccf1e7",
   "metadata": {},
   "outputs": [],
   "source": [
    "# 폴더변경 CHANGE DIRECTORY\n",
    "# os.chdir('C:~~~~~~~')"
   ]
  },
  {
   "cell_type": "code",
   "execution_count": 71,
   "id": "b0c69f63",
   "metadata": {},
   "outputs": [
    {
     "data": {
      "text/plain": [
       "'C:\\\\hmkd\\\\m1_programming'"
      ]
     },
     "execution_count": 71,
     "metadata": {},
     "output_type": "execute_result"
    }
   ],
   "source": [
    "os.getcwd()"
   ]
  },
  {
   "cell_type": "code",
   "execution_count": 72,
   "id": "f4e9454a",
   "metadata": {},
   "outputs": [
    {
     "name": "stdout",
     "output_type": "stream",
     "text": [
      " C 드라이브의 볼륨에는 이름이 없습니다.\n",
      " 볼륨 일련 번호: 2A1A-EA7A\n",
      "\n",
      " C:\\hmkd\\m1_programming 디렉터리\n",
      "\n",
      "2023-03-09  오후 04:13    <DIR>          .\n",
      "2023-03-09  오후 04:13    <DIR>          ..\n",
      "2023-03-09  오후 03:08    <DIR>          .ipynb_checkpoints\n",
      "2023-03-08  오후 05:01            40,775 3.7 과제 끝.ipynb\n",
      "2023-03-07  오후 05:40            35,049 3.7.ipynb\n",
      "2023-03-09  오후 03:22            13,546 3.8.ipynb\n",
      "2023-03-09  오후 04:13            17,903 3.9.ipynb\n",
      "2023-03-09  오후 03:43                18 foo txt\n",
      "2023-03-06  오후 02:16             5,279 p1_기초.ipynb\n",
      "2023-03-07  오후 03:54            21,159 practice(3.6).ipynb\n",
      "2023-03-09  오후 04:10                 0 test.txt\n",
      "2023-03-09  오후 03:30               441 test1.txt\n",
      "2023-03-09  오후 03:43               261 test2.txt\n",
      "2023-03-09  오후 04:10                 0 test3.txt\n",
      "2023-03-06  오후 04:58                72 Untitled.ipynb\n",
      "2023-03-07  오후 02:54                72 Untitled1.ipynb\n",
      "2023-03-09  오후 03:15            13,155 조각조각.ipynb\n",
      "              14개 파일             147,730 바이트\n",
      "               3개 디렉터리  68,061,822,976 바이트 남음\n"
     ]
    }
   ],
   "source": [
    "!dir"
   ]
  },
  {
   "cell_type": "code",
   "execution_count": 78,
   "id": "171b9ed9",
   "metadata": {},
   "outputs": [
    {
     "ename": "PermissionError",
     "evalue": "[WinError 32] 다른 프로세스가 파일을 사용 중이기 때문에 프로세스가 액세스 할 수 없습니다: 'test1.txt' -> 'test_seul.txt'",
     "output_type": "error",
     "traceback": [
      "\u001b[1;31m---------------------------------------------------------------------------\u001b[0m",
      "\u001b[1;31mPermissionError\u001b[0m                           Traceback (most recent call last)",
      "\u001b[1;32m~\\AppData\\Local\\Temp\\ipykernel_3292\\2132436719.py\u001b[0m in \u001b[0;36m<module>\u001b[1;34m\u001b[0m\n\u001b[0;32m      1\u001b[0m \u001b[1;32mimport\u001b[0m \u001b[0mos\u001b[0m\u001b[1;33m\u001b[0m\u001b[1;33m\u001b[0m\u001b[0m\n\u001b[1;32m----> 2\u001b[1;33m \u001b[0mos\u001b[0m\u001b[1;33m.\u001b[0m\u001b[0mrename\u001b[0m\u001b[1;33m(\u001b[0m\u001b[1;34m'test1.txt'\u001b[0m\u001b[1;33m,\u001b[0m\u001b[1;34m'test_seul.txt'\u001b[0m\u001b[1;33m)\u001b[0m\u001b[1;33m\u001b[0m\u001b[1;33m\u001b[0m\u001b[0m\n\u001b[0m\u001b[0;32m      3\u001b[0m \u001b[1;33m\u001b[0m\u001b[0m\n\u001b[0;32m      4\u001b[0m \u001b[1;33m\u001b[0m\u001b[0m\n\u001b[0;32m      5\u001b[0m \u001b[1;31m# ㅅㅂ\u001b[0m\u001b[1;33m\u001b[0m\u001b[1;33m\u001b[0m\u001b[0m\n",
      "\u001b[1;31mPermissionError\u001b[0m: [WinError 32] 다른 프로세스가 파일을 사용 중이기 때문에 프로세스가 액세스 할 수 없습니다: 'test1.txt' -> 'test_seul.txt'"
     ]
    }
   ],
   "source": [
    "import os\n",
    "os.rename('test1.txt','test_seul.txt')\n",
    "\n",
    "\n",
    "# ㅅㅂ"
   ]
  },
  {
   "cell_type": "code",
   "execution_count": 76,
   "id": "a3c76056",
   "metadata": {},
   "outputs": [
    {
     "name": "stdout",
     "output_type": "stream",
     "text": [
      " C 드라이브의 볼륨에는 이름이 없습니다.\n",
      " 볼륨 일련 번호: 2A1A-EA7A\n",
      "\n",
      " C:\\hmkd\\m1_programming 디렉터리\n",
      "\n",
      "2023-03-09  오후 04:16    <DIR>          .\n",
      "2023-03-09  오후 04:16    <DIR>          ..\n",
      "2023-03-09  오후 03:08    <DIR>          .ipynb_checkpoints\n",
      "2023-03-08  오후 05:01            40,775 3.7 과제 끝.ipynb\n",
      "2023-03-07  오후 05:40            35,049 3.7.ipynb\n",
      "2023-03-09  오후 03:22            13,546 3.8.ipynb\n",
      "2023-03-09  오후 04:15            21,238 3.9.ipynb\n",
      "2023-03-09  오후 03:43                18 foo txt\n",
      "2023-03-06  오후 02:16             5,279 p1_기초.ipynb\n",
      "2023-03-07  오후 03:54            21,159 practice(3.6).ipynb\n",
      "2023-03-09  오후 04:10                 0 test.txt\n",
      "2023-03-09  오후 03:30               441 test1.txt\n",
      "2023-03-09  오후 04:10                 0 test3.txt\n",
      "2023-03-09  오후 03:43               261 test_seul.txt\n",
      "2023-03-06  오후 04:58                72 Untitled.ipynb\n",
      "2023-03-07  오후 02:54                72 Untitled1.ipynb\n",
      "2023-03-09  오후 03:15            13,155 조각조각.ipynb\n",
      "              14개 파일             151,065 바이트\n",
      "               3개 디렉터리  68,061,392,896 바이트 남음\n"
     ]
    }
   ],
   "source": [
    "!dir"
   ]
  },
  {
   "cell_type": "code",
   "execution_count": 81,
   "id": "f4258dd7",
   "metadata": {},
   "outputs": [
    {
     "data": {
      "text/plain": [
       "['C:\\\\hmkd\\\\m1_programming\\\\test.txt',\n",
       " 'C:\\\\hmkd\\\\m1_programming\\\\test1.txt',\n",
       " 'C:\\\\hmkd\\\\m1_programming\\\\test3.txt',\n",
       " 'C:\\\\hmkd\\\\m1_programming\\\\test_seul.txt']"
      ]
     },
     "execution_count": 81,
     "metadata": {},
     "output_type": "execute_result"
    }
   ],
   "source": [
    "# glob()함수는 인자로 받은 패턴과 이름이 일치하는 모든 파일과 디렉토리의 리스트를 반환\n",
    "import glob\n",
    "glob.glob('C:\\\\hmkd\\\\m1_programming/*.txt')"
   ]
  },
  {
   "cell_type": "code",
   "execution_count": null,
   "id": "ed1b20b3",
   "metadata": {},
   "outputs": [],
   "source": [
    "#[과제] 내장함수를 이용해서 list = [0,1,2,3,4,5,6]에서 2를 삭제 후 출력하세요.(3가지 방법)"
   ]
  },
  {
   "cell_type": "code",
   "execution_count": 87,
   "id": "54d45af2",
   "metadata": {},
   "outputs": [
    {
     "name": "stdout",
     "output_type": "stream",
     "text": [
      "[0, 1, 3, 4, 5, 6]\n"
     ]
    }
   ],
   "source": [
    "list = [0,1,2,3,4,5,6]\n",
    "del list[2]\n",
    "print(list)"
   ]
  },
  {
   "cell_type": "code",
   "execution_count": 89,
   "id": "54b38604",
   "metadata": {},
   "outputs": [
    {
     "name": "stdout",
     "output_type": "stream",
     "text": [
      "[0, 1, 3, 4, 5, 6]\n"
     ]
    }
   ],
   "source": [
    "list = [0,1,2,3,4,5,6]\n",
    "removed = list.pop(2)\n",
    "print(list)"
   ]
  },
  {
   "cell_type": "code",
   "execution_count": 2,
   "id": "142f70a2",
   "metadata": {},
   "outputs": [
    {
     "name": "stdout",
     "output_type": "stream",
     "text": [
      "[0, 1, 3, 4, 5, 6]\n"
     ]
    }
   ],
   "source": [
    "list=[0,1,2,3,4,5,6]\n",
    "#del list[2] #인덱스\n",
    "list.remove(2) #값\n",
    "# list.pop(2) \n",
    "print(list)"
   ]
  },
  {
   "cell_type": "code",
   "execution_count": null,
   "id": "48aca680",
   "metadata": {},
   "outputs": [],
   "source": [
    "#[과제]  내장함수를 이용해서 list = [0,1,2,3,4,5,6]에서 모든 원소를 삭제 후 출력하세요."
   ]
  },
  {
   "cell_type": "code",
   "execution_count": 95,
   "id": "d9fa2f0a",
   "metadata": {},
   "outputs": [
    {
     "name": "stdout",
     "output_type": "stream",
     "text": [
      "[]\n"
     ]
    }
   ],
   "source": [
    "list = [0,1,2,3,4,5,6]\n",
    "del list[:]\n",
    "print(list)"
   ]
  },
  {
   "cell_type": "code",
   "execution_count": null,
   "id": "169f70ec",
   "metadata": {},
   "outputs": [],
   "source": [
    "#[과제]  람다함수와 적합한 내장함수를 사용하여 아래와 같이 출력하세요\n",
    "[1,2,3,4,5] -> [1,4,9,16,25]\n",
    "[1,2,3,4,5] -> [1,2]"
   ]
  },
  {
   "cell_type": "code",
   "execution_count": 1,
   "id": "a2a5a445",
   "metadata": {},
   "outputs": [],
   "source": [
    "# [1,2,3,4,5] -> [1,4,9,16,25]\n",
    "\n",
    "\n",
    "# d=[1,2,3,4,5]\n",
    "\n",
    "# list1=lambda a,b:a**b\n",
    "# print(list1(d,2))\n"
   ]
  },
  {
   "cell_type": "code",
   "execution_count": 10,
   "id": "f17f7b16",
   "metadata": {},
   "outputs": [
    {
     "name": "stdout",
     "output_type": "stream",
     "text": [
      "[1, 4, 9, 16, 25]\n",
      "[1, 2]\n"
     ]
    }
   ],
   "source": [
    "#람다함수와 적합한 내장함수를 사용해 출력\n",
    "\n",
    "list=[1,2,3,4,5]\n",
    "list_n=[]\n",
    "x=lambda a:a**2  \n",
    "\n",
    "for i in list:          # [1,2,3,4,5] -> [1,4,9,16,25]\n",
    "    list_n.append(x(i))\n",
    "    \n",
    "del(list[2:])           # [1,2,3,4,5] -> [1,2]\n",
    "\n",
    "print(list_n)         #함수호출\n",
    "print(list)"
   ]
  },
  {
   "cell_type": "code",
   "execution_count": 1,
   "id": "b53323ee",
   "metadata": {},
   "outputs": [
    {
     "name": "stdout",
     "output_type": "stream",
     "text": [
      "[1, 4, 9, 16, 25]\n",
      "[1, 2]\n"
     ]
    }
   ],
   "source": [
    "# 간편한 for문 (아직 안 배움)\n",
    "x=lambda a:a**2\n",
    "lst = [x(i)for i in range(1,6)]\n",
    "print(lst)\n",
    "\n",
    "lst2 = [1,2,3,4,5]\n",
    "filtered_list= filter(lambda a:(a<3),lst2)\n",
    "print(list(filtered_list))"
   ]
  },
  {
   "cell_type": "code",
   "execution_count": 6,
   "id": "27851133",
   "metadata": {},
   "outputs": [
    {
     "name": "stdout",
     "output_type": "stream",
     "text": [
      "1\n",
      "4\n",
      "9\n",
      "16\n",
      "25\n"
     ]
    }
   ],
   "source": [
    "list1=[1,2,3,4,5]   \n",
    "list2=lambda a:a**2\n",
    "\n",
    "for b in range(1,6):\n",
    "    print(list2(b))"
   ]
  },
  {
   "cell_type": "code",
   "execution_count": null,
   "id": "fcbe3fe3",
   "metadata": {},
   "outputs": [],
   "source": [
    "#[과제]  [1,-3,2,0,-5,6] 에서 양수만 필터링해서 출력하세요(내장함수, 사용자함수 각각 이용)"
   ]
  },
  {
   "cell_type": "code",
   "execution_count": 13,
   "id": "095415de",
   "metadata": {},
   "outputs": [
    {
     "name": "stdout",
     "output_type": "stream",
     "text": [
      "[1, 2, 6]\n",
      "[1, 2, 6]\n"
     ]
    }
   ],
   "source": [
    "list1 = [1,-3,2,0,-5,6]\n",
    "        \n",
    "print(list(filter(lambda x: x > 0, list1)))\n",
    "\n",
    "# ====================\n",
    "\n",
    "def even(arr):\n",
    "    result=[]\n",
    "    for i in arr:\n",
    "        if i>0:\n",
    "            result.append(i)\n",
    "    return result\n",
    "print(even([1,-3,2,0,-5,6]))"
   ]
  },
  {
   "cell_type": "code",
   "execution_count": 4,
   "id": "8bfd7a66",
   "metadata": {},
   "outputs": [],
   "source": [
    "#[과제] 내장함수를 이용하여 동일한 개수로 이루어진 자료형을 화살표 좌측에서 우측으로 변환하세요\n",
    "#[1,2,3],[4,5,6] -> [(1,4),(2,5),(3,6)]\n",
    "#[1,2,3],[4,5,6] [7,8,9] -> [(1,4,7),(2,5,8),(3,6,9)]\n",
    "#('abc','def') -> [('a','d'),('b','e'),('c','f')]"
   ]
  },
  {
   "cell_type": "code",
   "execution_count": 2,
   "id": "f106afab",
   "metadata": {},
   "outputs": [
    {
     "name": "stdout",
     "output_type": "stream",
     "text": [
      "[(1, 4), (2, 5), (3, 6)]\n",
      "[(1, 4, 7), (2, 5, 8), (3, 6, 9)]\n",
      "[('a', 'd'), ('b', 'e'), ('c', 'f')]\n"
     ]
    }
   ],
   "source": [
    "# 선생님\n",
    "a=[1,2,3]\n",
    "b=[4,5,6]\n",
    "c=[7,8,9]\n",
    "\n",
    "ab= list(zip([1,2,3],[4,5,6]))\n",
    "print(ab)\n",
    "\n",
    "abc = list(zip([1,2,3],[4,5,6],[7,8,9]))\n",
    "print(abc)\n",
    "alp1=list(zip('abc', 'def'))\n",
    "print(alp1)"
   ]
  },
  {
   "cell_type": "code",
   "execution_count": 12,
   "id": "4ce0e32c",
   "metadata": {},
   "outputs": [
    {
     "name": "stdout",
     "output_type": "stream",
     "text": [
      "[(1, 4, 7), (2, 5, 8), (3, 6, 9)]\n"
     ]
    }
   ],
   "source": [
    "# 김나영님\n",
    "\n",
    "lista=[[1,2,3],[4,5,6],[7,8,9]]\n",
    "listb=sum(lista,[])\n",
    "lista_n=[]\n",
    "\n",
    "for k in range(len(lista[0])):\n",
    "    tup1=tuple(listb[k::3])\n",
    "    lista_n.append(tup1)\n",
    "\n",
    "print(lista_n)"
   ]
  },
  {
   "cell_type": "code",
   "execution_count": 3,
   "id": "f348fc00",
   "metadata": {},
   "outputs": [
    {
     "name": "stdout",
     "output_type": "stream",
     "text": [
      "리스트에 몇개의 값을 넣을 것인가요?: 5\n",
      "1 번째로 넣고 싶은 문자를 입력해주세요(1번째 집합): 2\n",
      "1 번째로 넣고 싶은 문자를 입력해주세요(2번째 집합): 4\n",
      "2 번째로 넣고 싶은 문자를 입력해주세요(1번째 집합): 85\n",
      "2 번째로 넣고 싶은 문자를 입력해주세요(2번째 집합): 가\n",
      "3 번째로 넣고 싶은 문자를 입력해주세요(1번째 집합): 나\n",
      "3 번째로 넣고 싶은 문자를 입력해주세요(2번째 집합): ㅇㅇ\n",
      "4 번째로 넣고 싶은 문자를 입력해주세요(1번째 집합): ㅇ\n",
      "4 번째로 넣고 싶은 문자를 입력해주세요(2번째 집합): ㄴㄴ\n",
      "5 번째로 넣고 싶은 문자를 입력해주세요(1번째 집합): ㅎ\n",
      "5 번째로 넣고 싶은 문자를 입력해주세요(2번째 집합): ㅋ\n",
      "[('2', '4'), ('85', '가'), ('나', 'ㅇㅇ'), ('ㅇ', 'ㄴㄴ'), ('ㅎ', 'ㅋ')]\n"
     ]
    }
   ],
   "source": [
    "# 김동완님\n",
    "\n",
    "while 1:\n",
    "    try:\n",
    "        num = int(input(\"리스트에 몇개의 값을 넣을 것인가요?: \"))\n",
    "    except ValueError:\n",
    "        print(\"숫자가 아닙니다.\")\n",
    "    else:\n",
    "        break\n",
    "\n",
    "i = 0\n",
    "list1 = []\n",
    "list2 = []\n",
    "while i < num:\n",
    "    plus1 = input(f\"{i+1} 번째로 넣고 싶은 문자를 입력해주세요(1번째 집합): \")\n",
    "    plus2 = input(f\"{i+1} 번째로 넣고 싶은 문자를 입력해주세요(2번째 집합): \")\n",
    "    list1.append(plus1)\n",
    "    list2.append(plus2)\n",
    "    i += 1\n",
    "i = 0\n",
    "lastlist = []\n",
    "while i < num:\n",
    "    lastlist.append((list1[i],list2[i]))\n",
    "    i += 1\n",
    "\n",
    "print(lastlist)"
   ]
  },
  {
   "cell_type": "code",
   "execution_count": null,
   "id": "ecae8440",
   "metadata": {},
   "outputs": [],
   "source": [
    "#[과제] 입력으로 들어오는 모든 수의 평균 값을 계산해 주는 함수를 작성한 후 1,2,3을 입력한 결과를 출력하세요."
   ]
  },
  {
   "cell_type": "code",
   "execution_count": 3,
   "id": "01e0a11a",
   "metadata": {},
   "outputs": [
    {
     "name": "stdout",
     "output_type": "stream",
     "text": [
      "2.0\n"
     ]
    }
   ],
   "source": [
    "# 남동연님\n",
    "def average(*args):\n",
    "    x=0\n",
    "    for i in args:\n",
    "        x=(x+i)\n",
    "    result=x/len(args) \n",
    "    return result\n",
    "\n",
    "r=average(1,2,3)    \n",
    "print(r)"
   ]
  },
  {
   "cell_type": "code",
   "execution_count": 22,
   "id": "8fa86f27",
   "metadata": {},
   "outputs": [
    {
     "name": "stdout",
     "output_type": "stream",
     "text": [
      "평균값을 구할 숫자를 모두 입력해주세요(콤마로 구분): 1,2,3\n",
      "합: 6\n",
      "평균: 2.00\n"
     ]
    }
   ],
   "source": [
    "# 김나영님\n",
    "def sum(mun):\n",
    "    print(f\"합: {eval(mun)}\")    #입력된 문자열이 연산이 가능한 형태면 연산해 줌\n",
    "    print(f\"평균: {(eval(mun)/len(mun.split('+'))):0.2f}\")\n",
    "\n",
    "###################################################\n",
    "\n",
    "mun=input(\"평균값을 구할 숫자를 모두 입력해주세요(콤마로 구분): \")\n",
    "mun_n=mun.replace(',','+')    #1,2,3 -> 1+2+3\n",
    "\n",
    "sum(mun_n)"
   ]
  },
  {
   "cell_type": "markdown",
   "id": "fc1f58bd",
   "metadata": {},
   "source": [
    "sort, sorted 모두 key, reverse 매개변수를 갖고 있다.\n",
    "- reverse: 기본값은 reverse = False(오름차순), reverse=True를 매개변수로 입력하면 내림차순으로 정렬.\n",
    "- key: 정렬을 목적으로 하는 함수를 값으로 넣는다. lambda를 이용할 수 있고 key값을 기준으로 정렬됨, 기본은 오름차순"
   ]
  },
  {
   "cell_type": "code",
   "execution_count": 24,
   "id": "fece7b75",
   "metadata": {},
   "outputs": [],
   "source": [
    "#[과제] strings를 다양한 문자가 포함된 순서로 정렬하세요.\n",
    "strings = ['a', 'ca', 'bar', 'aaaa', 'ababa']   #문자수는 1,2,3,2,2\n",
    "# set 사용해야 함, 중복 허용 안 하니까...\n",
    "# 중복을 피하는 갯수, 기본값은 오름차순 -> 작은게 먼저 오는데 문제가 다양한 문자가 포함된-> reverse써야함.\n",
    "# 코드짜는 순서\n",
    "# lambda x:len(set(x))\n",
    "# key = lambda x:len(set(x))\n",
    "# sort(key = lambda x:len(set(x)))\n",
    "# strings.sort(key = lambda x:len(set(x)))"
   ]
  },
  {
   "cell_type": "code",
   "execution_count": 25,
   "id": "2e887015",
   "metadata": {},
   "outputs": [
    {
     "data": {
      "text/plain": [
       "['bar', 'ababa', 'ca', 'aaaa', 'a']"
      ]
     },
     "execution_count": 25,
     "metadata": {},
     "output_type": "execute_result"
    }
   ],
   "source": [
    "strings = ['a', 'ca', 'bar', 'aaaa', 'ababa'] \n",
    "strings.sort(key = lambda x:len(set(x)))   # set(x) 집합의 갯수를 key값으로 하겠다.\n",
    "\n",
    "strings[::-1]"
   ]
  },
  {
   "cell_type": "code",
   "execution_count": null,
   "id": "78de46c4",
   "metadata": {},
   "outputs": [],
   "source": [
    "#[과제] 튜플 형태인 strings를 다양한 문자가 포함된 순서로 정렬하세요, \n",
    "# -> 튜플은 소트 적용이 안 됨 리스트해야함.\n",
    "strings = ('a', 'ca', 'bar', 'aaaa', 'ababa')"
   ]
  },
  {
   "cell_type": "code",
   "execution_count": 31,
   "id": "0ffd56ae",
   "metadata": {},
   "outputs": [
    {
     "name": "stdout",
     "output_type": "stream",
     "text": [
      "['bar', 'ababa', 'ca', 'aaaa', 'a']\n"
     ]
    }
   ],
   "source": [
    "strings = ('a', 'ca', 'bar', 'aaaa', 'ababa')\n",
    "s_list=list(strings)\n",
    "s_list.sort(key=lambda x:len(set(x)))     #기본 정렬(오름차순)\n",
    "\n",
    "print(s_list[::-1])     #거꾸로 출력(내림차순으로 나오게)"
   ]
  },
  {
   "cell_type": "code",
   "execution_count": 94,
   "id": "14238876",
   "metadata": {},
   "outputs": [],
   "source": [
    "#[과제]  url에서 호스트 도메인을 추출하여 출력하세요.\n",
    "# split 기준으로 자르면 된다. 인덱스 숫자 2가 도메인.\n",
    "url = 'http://news.naver.com/main/read.nhn?mode=LSD&mid=shm&sid1=105&oid=028&aid=0002334601'"
   ]
  },
  {
   "cell_type": "code",
   "execution_count": null,
   "id": "0736baa3",
   "metadata": {},
   "outputs": [],
   "source": [
    "#[과제] url에서 쿼리문을 추출하여 출력하세요.\n",
    "# url에서 '?'뒤에 표시되는 문자열을 쿼리 문자열이라고 하며 변수=값 사이 &로 구분되어 나열된다.\n",
    "url = 'http://news.naver.com/main/read.nhn?mode=LSD&mid=shm&sid1=105&oid=028&aid=0002334601'"
   ]
  },
  {
   "cell_type": "code",
   "execution_count": 43,
   "id": "ab464d24",
   "metadata": {},
   "outputs": [
    {
     "name": "stdout",
     "output_type": "stream",
     "text": [
      "mode=LSD&mid=shm&sid1=105&oid=028&aid=0002334601\n",
      "['mode=LSD', 'mid=shm', 'sid1=105', 'oid=028', 'aid=0002334601']\n"
     ]
    }
   ],
   "source": [
    "do=url.find('?')\n",
    "print(url[do+1:])   #쿼리문 전체\n",
    "\n",
    "qr=[]\n",
    "qr=url[do+1:].split('&')   #각 '변수=값' 분리\n",
    "print(qr)"
   ]
  },
  {
   "cell_type": "code",
   "execution_count": 38,
   "id": "f915d1dd",
   "metadata": {},
   "outputs": [
    {
     "name": "stdout",
     "output_type": "stream",
     "text": [
      "mode=LSD\n",
      "mid=shm\n",
      "sid1=105\n",
      "oid=028\n",
      "aid=0002334601\n"
     ]
    }
   ],
   "source": [
    "url = 'http://news.naver.com/main/read.nhn?mode=LSD&mid=shm&sid1=105&oid=028&aid=0002334601'\n",
    "tmp = url.split('?')\n",
    "queries=tmp[1].split('&')\n",
    "for query in queries:\n",
    "    print(query)"
   ]
  }
 ],
 "metadata": {
  "kernelspec": {
   "display_name": "Python 3 (ipykernel)",
   "language": "python",
   "name": "python3"
  },
  "language_info": {
   "codemirror_mode": {
    "name": "ipython",
    "version": 3
   },
   "file_extension": ".py",
   "mimetype": "text/x-python",
   "name": "python",
   "nbconvert_exporter": "python",
   "pygments_lexer": "ipython3",
   "version": "3.9.13"
  }
 },
 "nbformat": 4,
 "nbformat_minor": 5
}
