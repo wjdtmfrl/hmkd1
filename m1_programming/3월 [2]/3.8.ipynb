{
 "cells": [
  {
   "cell_type": "markdown",
   "id": "65b2ddba",
   "metadata": {},
   "source": [
    "#### ♪♬날짜처리♪♬"
   ]
  },
  {
   "cell_type": "code",
   "execution_count": 44,
   "id": "d0450412",
   "metadata": {},
   "outputs": [],
   "source": [
    "#https://docs.python.org/ko/3/library/time.html"
   ]
  },
  {
   "cell_type": "code",
   "execution_count": 7,
   "id": "ed769086",
   "metadata": {},
   "outputs": [
    {
     "data": {
      "text/plain": [
       "'Mon Dec 28 22:02:17 2020'"
      ]
     },
     "execution_count": 7,
     "metadata": {},
     "output_type": "execute_result"
    }
   ],
   "source": [
    "# Q. 1609160537.371015를 'Mon Dec 28 22:02:17 2020'포멧으로 출력하세요.\n",
    "\n",
    "import time\n",
    "t= time.localtime(1609160537.371015)\n",
    "time.asctime(t)\n"
   ]
  },
  {
   "cell_type": "code",
   "execution_count": 67,
   "id": "6b3ba1d3",
   "metadata": {},
   "outputs": [
    {
     "name": "stdout",
     "output_type": "stream",
     "text": [
      "time.struct_time(tm_year=2023, tm_mon=3, tm_mday=8, tm_hour=17, tm_min=29, tm_sec=25, tm_wday=2, tm_yday=67, tm_isdst=0)\n",
      "Wed Mar  8 17:29:25 2023 \n",
      "Wed Mar  8 17:29:25 2023\n"
     ]
    }
   ],
   "source": [
    "# 현재 날짜와 시간을 \"Mon Dec 28 22:02:17 2020\" 포멧으로 출력하세요.\n",
    "\n",
    "import time\n",
    "t=time.localtime()\n",
    "print(t)\n",
    "print(\"%s \" % time.asctime(t))\n",
    "print(f'{time.asctime(t)}')\n"
   ]
  },
  {
   "cell_type": "code",
   "execution_count": 16,
   "id": "1fe6e978",
   "metadata": {},
   "outputs": [
    {
     "data": {
      "text/plain": [
       "'2023-03-08 11:29:59'"
      ]
     },
     "execution_count": 16,
     "metadata": {},
     "output_type": "execute_result"
    }
   ],
   "source": [
    "# 현재 시간을 년-월 시:분:초 로 출력하세요.\n",
    "\n",
    "import time\n",
    "from datetime import datetime\n",
    "t = time.time()\n",
    "d = datetime.fromtimestamp(t)\n",
    "s = d.strftime('%Y-%m-%d %X')\n",
    "s"
   ]
  },
  {
   "cell_type": "code",
   "execution_count": 15,
   "id": "81ff7b48",
   "metadata": {},
   "outputs": [
    {
     "name": "stdout",
     "output_type": "stream",
     "text": [
      "오늘은 2023-01-01 이후 68일째 되는 날 입니다.\n"
     ]
    }
   ],
   "source": [
    "# 올 해 경과된 날짜 수를 계산하세요.\n",
    "\n",
    "import time\n",
    "t = time.localtime()   #지금 시간 뽑기\n",
    "start_day = '%d-01-01' %t.tm_year  #시작하는 날짜. %d는 올해 년도 받음\n",
    "elabsed_day = t.tm_yday #지나온 날짜\n",
    "\n",
    "print(f'오늘은 {start_day} 이후 {elabsed_day}일째 되는 날 입니다.')\n"
   ]
  },
  {
   "cell_type": "code",
   "execution_count": 16,
   "id": "e8619311",
   "metadata": {},
   "outputs": [
    {
     "name": "stdout",
     "output_type": "stream",
     "text": [
      "오늘은 2023-01-01 이후 68일째 되는 날입니다.\n"
     ]
    }
   ],
   "source": [
    "# 올 해 경과된 날짜 수를 계산하세요.\n",
    "# 오늘은 2023-01-01 이후 ?일째 되는 날입니다. 의 형식으로 출력.\n",
    "\n",
    "import time\n",
    "t= time.localtime()\n",
    "\n",
    "start = '%d-01-01'%t.tm_year\n",
    "end = t.tm_yday\n",
    "\n",
    "print(f'오늘은 {start} 이후 {end}일째 되는 날입니다.')\n",
    "\n"
   ]
  },
  {
   "cell_type": "code",
   "execution_count": 34,
   "id": "8be7f0aa",
   "metadata": {},
   "outputs": [
    {
     "name": "stdout",
     "output_type": "stream",
     "text": [
      "2023-3-9 오늘은 목요일 입니다.\n"
     ]
    }
   ],
   "source": [
    "# 현재 요일을 \"2022-06-06 오늘은 토요일입니다.\" 와 같은 형식으로 출력하세요.\n",
    "# python document 사용 필요.\n",
    "import time\n",
    "\n",
    "weekdays =[\"월\",\"화\",\"수\",\"목\",\"금\",\"토\",\"일\"]  #요일 먼저 뽑기, 월요일이 0\n",
    "t = time.localtime()\n",
    "today = '%d-%d-%d' %(t.tm_year,t.tm_mon,t.tm_mday)\n",
    "week = weekdays[t.tm_wday]\n",
    "\n",
    "print(f'{today} 오늘은 {week}요일 입니다.')\n"
   ]
  },
  {
   "cell_type": "code",
   "execution_count": 35,
   "id": "bda727e3",
   "metadata": {},
   "outputs": [
    {
     "name": "stdout",
     "output_type": "stream",
     "text": [
      "2023-3-9 오늘은 목요일입니다.\n"
     ]
    }
   ],
   "source": [
    "# 현재 요일을 \"2022-06-06 오늘은 토요일입니다.\" 와 같은 형식으로 출력하세요.\n",
    "\n",
    "import time\n",
    "t= time.localtime()\n",
    "today='%d-%d-%d'%(t.tm_year, t.tm_mon, t.tm_mday)\n",
    "weekdays=['월','화','수','목','금','토','일']\n",
    "day=weekdays[t.tm_wday]\n",
    "\n",
    "print(f'{today} 오늘은 {day}요일입니다.')"
   ]
  },
  {
   "cell_type": "code",
   "execution_count": 14,
   "id": "39584b43",
   "metadata": {},
   "outputs": [
    {
     "name": "stdout",
     "output_type": "stream",
     "text": [
      "1678338176.1281579\n",
      "합계:1000000\n",
      "1678338176.3059883\n",
      "177.83045768737793\n",
      "runtime: 177.8305ms\n"
     ]
    }
   ],
   "source": [
    "# 1000밀리초=1초\n",
    "# 과제) 1에서 백만까지 더하는데 걸리는 프로그램 실행 시간을 밀리초(ms)단위로 구하세요.(1000밀리초(ms) = 1초)\n",
    "# 임수현님\n",
    "\n",
    "import time\n",
    "start =time.time()\n",
    "print(start)\n",
    "i=0\n",
    "sum=0\n",
    "while i < 1000000:\n",
    "    i+=1\n",
    "    sum+=1\n",
    "print(f'합계:{sum}')\n",
    "end = time.time()\n",
    "print(end)\n",
    "runtime = (end - start)*1000     #밀리초 구하려면 1000을 곱해야 함\n",
    "print(runtime)\n",
    "print(f'runtime:{runtime: .4f}ms')\n"
   ]
  },
  {
   "cell_type": "markdown",
   "id": "30c5931e",
   "metadata": {},
   "source": [
    "#### ♪♬함수♪♬"
   ]
  },
  {
   "cell_type": "markdown",
   "id": "a6626701",
   "metadata": {},
   "source": [
    "#### 인자와 return값 여부에 따른 함수 유형"
   ]
  },
  {
   "cell_type": "code",
   "execution_count": 41,
   "id": "09d2dee2",
   "metadata": {},
   "outputs": [
    {
     "name": "stdout",
     "output_type": "stream",
     "text": [
      "Hi!\n"
     ]
    }
   ],
   "source": [
    "#입력값이 없고 결과값만 있는 함수\n",
    "def say():              \n",
    "    return 'Hi!'       #return이 결과값\n",
    "\n",
    "a= say()\n",
    "print(a)"
   ]
  },
  {
   "cell_type": "code",
   "execution_count": 2,
   "id": "268c1b26",
   "metadata": {},
   "outputs": [
    {
     "name": "stdout",
     "output_type": "stream",
     "text": [
      "3,4의 합은 7입니다.\n",
      "None\n",
      "7\n"
     ]
    }
   ],
   "source": [
    "# 입력값이 있고 결과값이 없는 함수 (단순히 프린트만 하라는 함수)\n",
    "# 결과값은 오직 return 명령어로만 돌려 받을 수 있음!!!\n",
    "# add라는 매개변수를 줘야 결과값이 나옴.\n",
    "\n",
    "def add(a,b):\n",
    "    print(f'{a},{b}의 합은 {a+b}입니다.')\n",
    "\n",
    "# add(3,4) \n",
    "\n",
    "# 3,4의 합은 7입니다.라고 나온 건 결과값이 아님\n",
    "\n",
    "a=add(3,4)\n",
    "print(a)    #a에 반환을 하지 않는다 (return이 안 됨.)\n",
    "\n",
    "\n",
    "# =============\n",
    "\n",
    "\n",
    "def add(a,b):\n",
    "    return a+b\n",
    "a=add(3,4)\n",
    "print(a)"
   ]
  },
  {
   "cell_type": "code",
   "execution_count": 52,
   "id": "3ebe9cdf",
   "metadata": {},
   "outputs": [
    {
     "name": "stdout",
     "output_type": "stream",
     "text": [
      "Hi!\n"
     ]
    }
   ],
   "source": [
    "# 입력값도 없고 결과값도 없는 함수\n",
    "# 그냥 say라는 걸 입력하면 hi가 프린트 됨\n",
    "\n",
    "def say():\n",
    "    print('Hi!')\n",
    "    \n",
    "say()"
   ]
  },
  {
   "cell_type": "code",
   "execution_count": 31,
   "id": "f8f2d28c",
   "metadata": {
    "scrolled": true
   },
   "outputs": [
    {
     "data": {
      "text/plain": [
       "30"
      ]
     },
     "execution_count": 31,
     "metadata": {},
     "output_type": "execute_result"
    }
   ],
   "source": [
    "# 입력값도 있고 결과값도 있는 함수\n",
    "\n",
    "def max(a,b,c):\n",
    "    if a>b:\n",
    "        if a>c:\n",
    "            return a\n",
    "        elif a<c:\n",
    "            return c\n",
    "    if a<b:\n",
    "        if b>c:\n",
    "            return b\n",
    "        else:\n",
    "            return c\n",
    "\n",
    "# print(\"가장 큰 수는 %d입니다.\" %(max(20,1,30)))\n",
    "max(10,20,30)\n",
    "            "
   ]
  },
  {
   "cell_type": "code",
   "execution_count": 42,
   "id": "7d5dfbed",
   "metadata": {},
   "outputs": [
    {
     "name": "stdout",
     "output_type": "stream",
     "text": [
      "숫자1 : 5\n",
      "숫자2 : 2\n",
      "기호 : +\n",
      "7\n"
     ]
    }
   ],
   "source": [
    "def math(x, y, z):\n",
    "    if z == '*':\n",
    "        return x*y\n",
    "    elif z== '/':\n",
    "        return x/y\n",
    "    elif z== '+':\n",
    "        return x+y\n",
    "    elif z== '%':\n",
    "        return x%y\n",
    "    elif z== '^':\n",
    "        return x**y\n",
    "    elif z== '-':\n",
    "        return x-y\n",
    "    elif z== '//':\n",
    "        return x//y\n",
    "    else:\n",
    "        return\n",
    "\n",
    "print(math(int(input(\"숫자1 : \")), int(input(\"숫자2 : \")), input(\"기호 : \")))\n",
    "# math(10,2,'//')"
   ]
  },
  {
   "cell_type": "code",
   "execution_count": null,
   "id": "499da83a",
   "metadata": {},
   "outputs": [],
   "source": [
    "def com(a,b):\n",
    "    if a>b:\n",
    "        return f'{a} bigger than {b}'\n",
    "    elif a<b:\n",
    "        return f'{a} smaller than {b}'\n",
    "    else:\n",
    "        return f'{a} equal {b}'\n",
    "com(3,3)"
   ]
  },
  {
   "cell_type": "code",
   "execution_count": 1,
   "id": "85e9a35e",
   "metadata": {},
   "outputs": [
    {
     "data": {
      "text/plain": [
       "55"
      ]
     },
     "execution_count": 1,
     "metadata": {},
     "output_type": "execute_result"
    }
   ],
   "source": [
    "# input할 값의 갯수를 모를 때 *args 사용\n",
    "# 여러 개의 입력값을 받는 함수 만들기 (무슨 값을 받는지는 모름)\n",
    "# *args 처럼 입력변수명 앞에 *를 붙이면 입력값들을 전부 모아서 튜플로 만들어 준다.\n",
    "\n",
    "def add_many(*args):\n",
    "    add = 0\n",
    "    \n",
    "    for i in args:\n",
    "        add += i\n",
    "    return add\n",
    "\n",
    "\n",
    "add_many(1,2,3,4,5,6,7,8,9,10)\n"
   ]
  },
  {
   "cell_type": "code",
   "execution_count": 58,
   "id": "aad0b01f",
   "metadata": {},
   "outputs": [
    {
     "name": "stdout",
     "output_type": "stream",
     "text": [
      "(7, 12)\n"
     ]
    }
   ],
   "source": [
    "# 함수의 반환 값은 언제나 하나임~~~~~~~ => 결과 값으로 튜플 값 하나를 갖게 됨.\n",
    "\n",
    "def add_and_mul(a,b):\n",
    "    return a+b, a*b    #결과값이 두 개로 나오므로 튜플(하나로 묶어서)로 처리되어야 함.\n",
    "\n",
    "result = add_and_mul(3,4)\n",
    "print(result)\n"
   ]
  },
  {
   "cell_type": "code",
   "execution_count": 2,
   "id": "2fb2eba6",
   "metadata": {},
   "outputs": [
    {
     "data": {
      "text/plain": [
       "15"
      ]
     },
     "execution_count": 2,
     "metadata": {},
     "output_type": "execute_result"
    }
   ],
   "source": [
    "# add_mul() 함수를 정의하여 1,2,3,4,5를 입력값으로 적용하여 덧셈, 곱셈 연산을 수행하세요.\n",
    "# 연산의 방법을 선택할 수 있음.\n",
    "\n",
    "def add_mul(choice, *args):\n",
    "    if choice == \"+\":\n",
    "        result = 0\n",
    "        for i in args:\n",
    "            result += i\n",
    "        return result\n",
    "    elif choice == \"*\":\n",
    "        result = 1\n",
    "        for i in args:\n",
    "            result *= i\n",
    "        return result\n",
    "    else:\n",
    "        print('수행할 수 없는 연산입니다.')\n",
    "        \n",
    "add_mul('+', 1,2,3,4,5)      #=> 15가 나와야하는데 나는 5 나옴,,, 왜지?\n",
    "# add_mul('*',1,2,3,4,5)\n",
    "\n"
   ]
  },
  {
   "cell_type": "code",
   "execution_count": null,
   "id": "2aa1aec3",
   "metadata": {},
   "outputs": [],
   "source": []
  },
  {
   "cell_type": "code",
   "execution_count": 38,
   "id": "1d22afd3",
   "metadata": {},
   "outputs": [
    {
     "name": "stdout",
     "output_type": "stream",
     "text": [
      "-26\n",
      "0.0010416666666666667\n"
     ]
    }
   ],
   "source": [
    "# 과제) 뺄셈, 나눗셈 멀티 계산 함수를 작성\n",
    "# ('sub', 2,4,6,8,10)\n",
    "# ('div', 2,4,6,8,10)\n",
    "\n",
    "# def sub_div (choice,*args) :\n",
    "#     if choice == \"sub\":\n",
    "#         result =args[0]\n",
    "#         for i in args[1:]:\n",
    "#             result -= i\n",
    "#             return result\n",
    "#     elif choice ==\"div\":\n",
    "#         result = args[0]\n",
    "#         for i in args[1:]:\n",
    "#             if i ==0:\n",
    "#                 return print('error')\n",
    "#             result /= i\n",
    "#         return result\n",
    "    \n",
    "# print(sub_div('sub',2,4,6,8,10))\n",
    "# print(sub_div('div',2,4,6,8,10))\n",
    "\n",
    "def sub_div (choice, *args) :\n",
    "    if choice == \"sub\":\n",
    "        result = args[0]\n",
    "        for i in args[1:] : \n",
    "            result -= i\n",
    "        return result\n",
    "    elif choice == 'div':\n",
    "        result = args[0]\n",
    "        for i in args[1:] :\n",
    "            if i == 0:     #0으로 나누면 오류나니까 if문으로 처리\n",
    "                return print(\"오류\")\n",
    "            result /= i\n",
    "        return result\n",
    "#       return round (result,4)\n",
    "\n",
    "print(sub_div('sub', 2,4,6,8,10))\n",
    "print(sub_div('div', 2,4,6,8,10))\n"
   ]
  },
  {
   "cell_type": "code",
   "execution_count": 1,
   "id": "9c7d8514",
   "metadata": {},
   "outputs": [
    {
     "name": "stdout",
     "output_type": "stream",
     "text": [
      "[['남자1호', '여자1호'], ['남자4호', '여자5호'], ['남자3호', '여자4호'], ['남자5호', '여자3호'], ['남자2호', '여자2호']]\n"
     ]
    }
   ],
   "source": [
    "# 과제 2) 남녀 파트너 정해주기 프로그램을 작성하세요. (5개의 커플)\n",
    "\n",
    "# random.shuffle()\n",
    "import random\n",
    "male=['남자1호','남자2호','남자3호','남자4호','남자5호']\n",
    "female=['여자1호','여자2호','여자3호','여자4호','여자5호']\n",
    "couple=[]\n",
    "for i in range(5):\n",
    "    random.shuffle(male)\n",
    "    random.shuffle(female)\n",
    "    c=[male[0],female[0]]\n",
    "    couple.append(c)\n",
    "    del male[0]\n",
    "    del female[0]\n",
    "print((couple))\n"
   ]
  },
  {
   "cell_type": "code",
   "execution_count": 2,
   "id": "14c97025",
   "metadata": {},
   "outputs": [
    {
     "name": "stdout",
     "output_type": "stream",
     "text": [
      "커플1: 강동원 ♥️ 천우희\n",
      "커플2: 원 빈 ♥️ 한예슬\n",
      "커플3: 조인성 ♥️ 이나영\n",
      "커플4: 정우성 ♥️ 신민아\n",
      "커플5: 이광수 ♥️ 김혜수\n"
     ]
    }
   ],
   "source": [
    "male = ['정우성', '원 빈', '강동원', '조인성', '이광수']\n",
    "female = ['김혜수', '신민아', '이나영', '천우희', '한예슬']\n",
    "\n",
    "random.shuffle(male)\n",
    "random.shuffle(female)\n",
    "\n",
    "for i in range(0, 5):\n",
    "   print(f'커플{i+1}: {male[i]} ♥️ {female[i]}')"
   ]
  },
  {
   "cell_type": "code",
   "execution_count": null,
   "id": "2107bebc",
   "metadata": {},
   "outputs": [],
   "source": [
    "# 과제 3) 입력받은 문자열의 각 문자를 그 다음 문자로 변경하여 출력하세요.\n",
    "# 입력 abcde -> 출력 bcdea"
   ]
  },
  {
   "cell_type": "code",
   "execution_count": null,
   "id": "5ca79296",
   "metadata": {},
   "outputs": [],
   "source": [
    "# 과제 4) 음식점의 음식 주문가격 산출 프로그램을 자유롭게 작성하세요."
   ]
  },
  {
   "cell_type": "code",
   "execution_count": 65,
   "id": "5a615b60",
   "metadata": {},
   "outputs": [],
   "source": [
    "# (도전)과제 5) 플레이어가 3승할 때까지 계속 진행되는 가위바위보 게임 프로그램을 작성하세요.\n",
    "# 게임은 플레이어와 컴퓨터가 진행\n"
   ]
  },
  {
   "cell_type": "code",
   "execution_count": null,
   "id": "591497ec",
   "metadata": {},
   "outputs": [],
   "source": [
    "# (도전)과제 6) 컴퓨터가 랜덤하게 생성하는 숫자 맞추기 게임 프로그램을 작성하세요."
   ]
  }
 ],
 "metadata": {
  "kernelspec": {
   "display_name": "Python 3 (ipykernel)",
   "language": "python",
   "name": "python3"
  },
  "language_info": {
   "codemirror_mode": {
    "name": "ipython",
    "version": 3
   },
   "file_extension": ".py",
   "mimetype": "text/x-python",
   "name": "python",
   "nbconvert_exporter": "python",
   "pygments_lexer": "ipython3",
   "version": "3.9.13"
  }
 },
 "nbformat": 4,
 "nbformat_minor": 5
}
