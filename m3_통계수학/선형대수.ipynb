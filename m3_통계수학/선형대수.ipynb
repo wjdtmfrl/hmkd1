{
 "cells": [
  {
   "cell_type": "code",
   "execution_count": 9,
   "id": "e045a9b9",
   "metadata": {},
   "outputs": [
    {
     "data": {
      "text/html": [
       "<style>\n",
       ".output_wrapper, .output {\n",
       "    height:auto !important;\n",
       "    max-height:1000px;  /* 변경하고 싶은 크기 입력 */\n",
       "}\n",
       ".output_scroll {\n",
       "    box-shadow:none !important;\n",
       "    webkit-box-shadow:none !important;\n",
       "    }\n",
       "</style>\n"
      ],
      "text/plain": [
       "<IPython.core.display.HTML object>"
      ]
     },
     "metadata": {},
     "output_type": "display_data"
    }
   ],
   "source": [
    "%%html\n",
    "<style>\n",
    ".output_wrapper, .output {\n",
    "    height:auto !important;\n",
    "    max-height:1000px;  /* 변경하고 싶은 크기 입력 */\n",
    "}\n",
    ".output_scroll {\n",
    "    box-shadow:none !important;\n",
    "    webkit-box-shadow:none !important;\n",
    "    }\n",
    "</style>"
   ]
  },
  {
   "cell_type": "code",
   "execution_count": 115,
   "id": "93850a9b",
   "metadata": {},
   "outputs": [
    {
     "data": {
      "text/html": [
       "<style>.container { width:100% !important; }</style>"
      ],
      "text/plain": [
       "<IPython.core.display.HTML object>"
      ]
     },
     "metadata": {},
     "output_type": "display_data"
    }
   ],
   "source": [
    "from IPython.display import display, HTML\n",
    "display(HTML(\"<style>.container { width:100% !important; }</style>\"))"
   ]
  },
  {
   "cell_type": "markdown",
   "id": "23b73b9a",
   "metadata": {},
   "source": [
    "## 데이터와 행렬\n",
    "- 스칼라 : 숫자 하나만으로 이루어진 데이터\n",
    "- 벡터 : 여러 숫자가 특정한 순서대로 모여 있는 것을 의미. 하나의 벡터를 이루는 데이터 수가 n개이면 n차원 벡터라고 함(하나의 행 또는 칼럼이 벡터에 해당됨)\n",
    "- 열벡터는 열의 수가 1인 행렬\n",
    "- 하나의 데이터 레코드를 단독으로 벡터로 나타낼 때는 하나의 열로 나타내고, 복수의 데이터 레코드 집합을 행렬로 나타낼 때는 하나의 데이터 레코드를 하나의 행으로 표기한다. 이것은 데이터 분석에서 일반적인 관례이다.\n",
    "- 스칼라(하나의 숫자)와 벡터(방향↓→)도 수학적으로는 행렬에 속한다.\n",
    "- 스칼라는 열과 행의 수가 각각 1인 행렬이고 벡터는 열의 수가 1인 행렬이다.\n",
    "- 추가설명\n",
    "\n",
    "- 매트릭스, 데이터프레임에서 기본 틀이 행렬임.\n",
    "- 2차원과 2차원 벡터는 다르다... 2차원 벡터는 데이터수를 의미하는거임"
   ]
  },
  {
   "cell_type": "code",
   "execution_count": 1,
   "id": "6369f0e7",
   "metadata": {},
   "outputs": [
    {
     "name": "stdout",
     "output_type": "stream",
     "text": [
      "5.1\n",
      "[5.1 3.5 1.4 0.2]\n",
      "[5.1 4.9 4.7 4.6 5.  5.4 4.6 5.  4.4 4.9 5.4 4.8 4.8 4.3 5.8 5.7 5.4 5.1\n",
      " 5.7 5.1 5.4 5.1 4.6 5.1 4.8 5.  5.  5.2 5.2 4.7 4.8 5.4 5.2 5.5 4.9 5.\n",
      " 5.5 4.9 4.4 5.1 5.  4.5 4.4 5.  5.1 4.8 5.1 4.6 5.3 5.  7.  6.4 6.9 5.5\n",
      " 6.5 5.7 6.3 4.9 6.6 5.2 5.  5.9 6.  6.1 5.6 6.7 5.6 5.8 6.2 5.6 5.9 6.1\n",
      " 6.3 6.1 6.4 6.6 6.8 6.7 6.  5.7 5.5 5.5 5.8 6.  5.4 6.  6.7 6.3 5.6 5.5\n",
      " 5.5 6.1 5.8 5.  5.6 5.7 5.7 6.2 5.1 5.7 6.3 5.8 7.1 6.3 6.5 7.6 4.9 7.3\n",
      " 6.7 7.2 6.5 6.4 6.8 5.7 5.8 6.4 6.5 7.7 7.7 6.  6.9 5.6 7.7 6.3 6.7 7.2\n",
      " 6.2 6.1 6.4 7.2 7.4 7.9 6.4 6.3 6.1 7.7 6.3 6.4 6.  6.9 6.7 6.9 5.8 6.8\n",
      " 6.7 6.7 6.3 6.5 6.2 5.9]\n"
     ]
    }
   ],
   "source": [
    "from sklearn.datasets import load_iris\n",
    "\n",
    "iris=load_iris()\n",
    "x0 = iris.data[0,0]\n",
    "x1 = iris.data[0,:]\n",
    "x2 = iris.data[:,0]\n",
    "\n",
    "\n",
    "print(x0) # 스칼라형태\n",
    "print(x1) # 벡터형태, 하나의 행 (행벡터)\n",
    "print(x2) # 하나의 칼럼 (열벡터)"
   ]
  },
  {
   "cell_type": "code",
   "execution_count": 2,
   "id": "6a1958fa",
   "metadata": {},
   "outputs": [
    {
     "data": {
      "text/html": [
       "<div>\n",
       "<style scoped>\n",
       "    .dataframe tbody tr th:only-of-type {\n",
       "        vertical-align: middle;\n",
       "    }\n",
       "\n",
       "    .dataframe tbody tr th {\n",
       "        vertical-align: top;\n",
       "    }\n",
       "\n",
       "    .dataframe thead th {\n",
       "        text-align: right;\n",
       "    }\n",
       "</style>\n",
       "<table border=\"1\" class=\"dataframe\">\n",
       "  <thead>\n",
       "    <tr style=\"text-align: right;\">\n",
       "      <th></th>\n",
       "      <th>sepal length (cm)</th>\n",
       "      <th>sepal width (cm)</th>\n",
       "      <th>petal length (cm)</th>\n",
       "      <th>petal width (cm)</th>\n",
       "    </tr>\n",
       "  </thead>\n",
       "  <tbody>\n",
       "    <tr>\n",
       "      <th>0</th>\n",
       "      <td>5.1</td>\n",
       "      <td>3.5</td>\n",
       "      <td>1.4</td>\n",
       "      <td>0.2</td>\n",
       "    </tr>\n",
       "    <tr>\n",
       "      <th>1</th>\n",
       "      <td>4.9</td>\n",
       "      <td>3.0</td>\n",
       "      <td>1.4</td>\n",
       "      <td>0.2</td>\n",
       "    </tr>\n",
       "    <tr>\n",
       "      <th>2</th>\n",
       "      <td>4.7</td>\n",
       "      <td>3.2</td>\n",
       "      <td>1.3</td>\n",
       "      <td>0.2</td>\n",
       "    </tr>\n",
       "    <tr>\n",
       "      <th>3</th>\n",
       "      <td>4.6</td>\n",
       "      <td>3.1</td>\n",
       "      <td>1.5</td>\n",
       "      <td>0.2</td>\n",
       "    </tr>\n",
       "    <tr>\n",
       "      <th>4</th>\n",
       "      <td>5.0</td>\n",
       "      <td>3.6</td>\n",
       "      <td>1.4</td>\n",
       "      <td>0.2</td>\n",
       "    </tr>\n",
       "  </tbody>\n",
       "</table>\n",
       "</div>"
      ],
      "text/plain": [
       "   sepal length (cm)  sepal width (cm)  petal length (cm)  petal width (cm)\n",
       "0                5.1               3.5                1.4               0.2\n",
       "1                4.9               3.0                1.4               0.2\n",
       "2                4.7               3.2                1.3               0.2\n",
       "3                4.6               3.1                1.5               0.2\n",
       "4                5.0               3.6                1.4               0.2"
      ]
     },
     "execution_count": 2,
     "metadata": {},
     "output_type": "execute_result"
    }
   ],
   "source": [
    "import pandas as pd\n",
    "df = pd.DataFrame(iris.data,columns=iris.feature_names)\n",
    "df.head()"
   ]
  },
  {
   "cell_type": "code",
   "execution_count": 3,
   "id": "64b50b77",
   "metadata": {
    "scrolled": true
   },
   "outputs": [
    {
     "data": {
      "text/plain": [
       "dict_keys(['data', 'target', 'frame', 'target_names', 'DESCR', 'feature_names', 'filename', 'data_module'])"
      ]
     },
     "execution_count": 3,
     "metadata": {},
     "output_type": "execute_result"
    }
   ],
   "source": [
    "iris.keys()"
   ]
  },
  {
   "cell_type": "code",
   "execution_count": 4,
   "id": "1f5a6439",
   "metadata": {},
   "outputs": [
    {
     "data": {
      "text/plain": [
       "array(['setosa', 'versicolor', 'virginica'], dtype='<U10')"
      ]
     },
     "execution_count": 4,
     "metadata": {},
     "output_type": "execute_result"
    }
   ],
   "source": [
    "iris.target_names"
   ]
  },
  {
   "cell_type": "code",
   "execution_count": 5,
   "id": "1566a1ec",
   "metadata": {},
   "outputs": [
    {
     "data": {
      "text/html": [
       "<div>\n",
       "<style scoped>\n",
       "    .dataframe tbody tr th:only-of-type {\n",
       "        vertical-align: middle;\n",
       "    }\n",
       "\n",
       "    .dataframe tbody tr th {\n",
       "        vertical-align: top;\n",
       "    }\n",
       "\n",
       "    .dataframe thead th {\n",
       "        text-align: right;\n",
       "    }\n",
       "</style>\n",
       "<table border=\"1\" class=\"dataframe\">\n",
       "  <thead>\n",
       "    <tr style=\"text-align: right;\">\n",
       "      <th></th>\n",
       "      <th>sepal length (cm)</th>\n",
       "      <th>sepal width (cm)</th>\n",
       "      <th>petal length (cm)</th>\n",
       "      <th>petal width (cm)</th>\n",
       "      <th>target</th>\n",
       "    </tr>\n",
       "  </thead>\n",
       "  <tbody>\n",
       "    <tr>\n",
       "      <th>0</th>\n",
       "      <td>5.1</td>\n",
       "      <td>3.5</td>\n",
       "      <td>1.4</td>\n",
       "      <td>0.2</td>\n",
       "      <td>0</td>\n",
       "    </tr>\n",
       "    <tr>\n",
       "      <th>1</th>\n",
       "      <td>4.9</td>\n",
       "      <td>3.0</td>\n",
       "      <td>1.4</td>\n",
       "      <td>0.2</td>\n",
       "      <td>0</td>\n",
       "    </tr>\n",
       "    <tr>\n",
       "      <th>2</th>\n",
       "      <td>4.7</td>\n",
       "      <td>3.2</td>\n",
       "      <td>1.3</td>\n",
       "      <td>0.2</td>\n",
       "      <td>0</td>\n",
       "    </tr>\n",
       "    <tr>\n",
       "      <th>3</th>\n",
       "      <td>4.6</td>\n",
       "      <td>3.1</td>\n",
       "      <td>1.5</td>\n",
       "      <td>0.2</td>\n",
       "      <td>0</td>\n",
       "    </tr>\n",
       "    <tr>\n",
       "      <th>4</th>\n",
       "      <td>5.0</td>\n",
       "      <td>3.6</td>\n",
       "      <td>1.4</td>\n",
       "      <td>0.2</td>\n",
       "      <td>0</td>\n",
       "    </tr>\n",
       "  </tbody>\n",
       "</table>\n",
       "</div>"
      ],
      "text/plain": [
       "   sepal length (cm)  sepal width (cm)  petal length (cm)  petal width (cm)  \\\n",
       "0                5.1               3.5                1.4               0.2   \n",
       "1                4.9               3.0                1.4               0.2   \n",
       "2                4.7               3.2                1.3               0.2   \n",
       "3                4.6               3.1                1.5               0.2   \n",
       "4                5.0               3.6                1.4               0.2   \n",
       "\n",
       "   target  \n",
       "0       0  \n",
       "1       0  \n",
       "2       0  \n",
       "3       0  \n",
       "4       0  "
      ]
     },
     "execution_count": 5,
     "metadata": {},
     "output_type": "execute_result"
    }
   ],
   "source": [
    "import pandas as pd\n",
    "df = pd.DataFrame(iris.data,columns=iris.feature_names)\n",
    "df['target'] = iris.target\n",
    "df.head()"
   ]
  },
  {
   "cell_type": "code",
   "execution_count": 8,
   "id": "dedf28c6",
   "metadata": {},
   "outputs": [
    {
     "data": {
      "text/plain": [
       "0    50\n",
       "1    50\n",
       "2    50\n",
       "Name: target, dtype: int64"
      ]
     },
     "execution_count": 8,
     "metadata": {},
     "output_type": "execute_result"
    }
   ],
   "source": [
    "df.target.value_counts()"
   ]
  },
  {
   "cell_type": "code",
   "execution_count": 119,
   "id": "00c5dfdc",
   "metadata": {},
   "outputs": [
    {
     "data": {
      "text/plain": [
       "array([[5.1],\n",
       "       [3.5],\n",
       "       [1.4],\n",
       "       [0.2]])"
      ]
     },
     "execution_count": 119,
     "metadata": {},
     "output_type": "execute_result"
    }
   ],
   "source": [
    "# 넘파이를 사용한 벡터 표현 : 벡터를 열 개수가 하나인 2차원 배열로 표현.\n",
    "# 4차원 벡터, 2차원 배열 : 배열의 차원은 벡터의 차원과 다른 의미다.\n",
    "import numpy as np\n",
    "\n",
    "x1 = np.array([[5.1],\n",
    "             [3.5],\n",
    "             [1.4],\n",
    "             [0.2]])\n",
    "\n",
    "x1"
   ]
  },
  {
   "cell_type": "code",
   "execution_count": 197,
   "id": "9d2a4bd7",
   "metadata": {},
   "outputs": [
    {
     "data": {
      "text/plain": [
       "array([[5.1],\n",
       "       [3.5],\n",
       "       [1.4],\n",
       "       [0.2]])"
      ]
     },
     "execution_count": 197,
     "metadata": {},
     "output_type": "execute_result"
    }
   ],
   "source": [
    "import numpy as np\n",
    "\n",
    "x1 = np.array([[5.1],[3.5],[1.4],[0.2]])\n",
    "\n",
    "x1"
   ]
  },
  {
   "cell_type": "code",
   "execution_count": 120,
   "id": "645e3f68",
   "metadata": {},
   "outputs": [
    {
     "data": {
      "text/plain": [
       "array([5.1, 3.5, 1.4, 0.2])"
      ]
     },
     "execution_count": 120,
     "metadata": {},
     "output_type": "execute_result"
    }
   ],
   "source": [
    "# 넘파이는 1차원 배열 객체도 벡터로 인정\n",
    "x1 = np.array([5.1,3.5,1.4,0.2])\n",
    "x1"
   ]
  },
  {
   "cell_type": "markdown",
   "id": "76f99a9b",
   "metadata": {},
   "source": [
    "- 행렬 : 복수의 차원을 가지는 데이터 레코드가 다시 여러 개 있는 경우의 데이터를 합쳐서 표기한 것\n",
    "- 붓꽃 예에서 붓꽃 6 송이에 대해 꽃잎과 꽃받침 크기를 측정했다면 4차원 붓꽃 데이터가 6개. 4 x 6 = 24개의 실수 숫자가 있은 것이며 이 숫자 집합을 행렬로 나타낼 수 있다.\n",
    "- 벡터는 열의 수가 1인 행렬이라고 볼 수 있으므로 열벡터라고도 한다.\n",
    "- 데이터를 행렬로 묶어서 표시할 때는 붓꽃 하나에 대한 데이터 레코드, 즉 하나의 벡터가 열이 아닌 행으로 표시한다.\n",
    "- 하나의 데이터 레코드를 단독으로 벡터로 나타낼 때는 하나의 열로 나타내고 복수의 데이터 레코드 집합을 행렬로 나타낼 때는 하나의 데이터 레코드가 하나의 행으로 표기한다. 이것은 일관성이 없어 보이지만 다른 연산 시 필요하여 데이터 분석에서 쓰는 일반적인 관례임을 유의해야 함"
   ]
  },
  {
   "cell_type": "code",
   "execution_count": 121,
   "id": "7f121e6f",
   "metadata": {},
   "outputs": [
    {
     "data": {
      "text/plain": [
       "sepal length (cm)    5.1\n",
       "sepal width (cm)     3.5\n",
       "petal length (cm)    1.4\n",
       "petal width (cm)     0.2\n",
       "Name: 0, dtype: float64"
      ]
     },
     "execution_count": 121,
     "metadata": {},
     "output_type": "execute_result"
    }
   ],
   "source": [
    "#df.iloc[:,0] # 행을 뽑았지만 열로 표시되고\n",
    "df.iloc[0,:] # 열로 표시되는데 헷갈리지 마세용"
   ]
  },
  {
   "cell_type": "code",
   "execution_count": 198,
   "id": "ffd67ca3",
   "metadata": {},
   "outputs": [
    {
     "data": {
      "text/plain": [
       "0      5.1\n",
       "1      4.9\n",
       "2      4.7\n",
       "3      4.6\n",
       "4      5.0\n",
       "      ... \n",
       "145    6.7\n",
       "146    6.3\n",
       "147    6.5\n",
       "148    6.2\n",
       "149    5.9\n",
       "Name: sepal length (cm), Length: 150, dtype: float64"
      ]
     },
     "execution_count": 198,
     "metadata": {},
     "output_type": "execute_result"
    }
   ],
   "source": [
    "df.iloc[:,0] # 행을 뽑았지만 열로 표시되고"
   ]
  },
  {
   "cell_type": "code",
   "execution_count": 122,
   "id": "c0b8b67b",
   "metadata": {},
   "outputs": [
    {
     "data": {
      "text/plain": [
       "array([[11, 22, 33],\n",
       "       [21, 22, 23]])"
      ]
     },
     "execution_count": 122,
     "metadata": {},
     "output_type": "execute_result"
    }
   ],
   "source": [
    "a = np.array([[11,22,33],[21,22,23]])\n",
    "a"
   ]
  },
  {
   "cell_type": "code",
   "execution_count": 123,
   "id": "1026d2b0",
   "metadata": {},
   "outputs": [
    {
     "data": {
      "text/plain": [
       "array([[11, 21],\n",
       "       [22, 22],\n",
       "       [33, 23]])"
      ]
     },
     "execution_count": 123,
     "metadata": {},
     "output_type": "execute_result"
    }
   ],
   "source": [
    "a.T"
   ]
  },
  {
   "cell_type": "code",
   "execution_count": 124,
   "id": "7b68119f",
   "metadata": {},
   "outputs": [
    {
     "data": {
      "text/plain": [
       "array([[0.],\n",
       "       [0.],\n",
       "       [0.]])"
      ]
     },
     "execution_count": 124,
     "metadata": {},
     "output_type": "execute_result"
    }
   ],
   "source": [
    "# 영벡터\n",
    "np.zeros((3,1))"
   ]
  },
  {
   "cell_type": "code",
   "execution_count": 125,
   "id": "43adeab3",
   "metadata": {},
   "outputs": [
    {
     "data": {
      "text/plain": [
       "array([[1.],\n",
       "       [1.],\n",
       "       [1.]])"
      ]
     },
     "execution_count": 125,
     "metadata": {},
     "output_type": "execute_result"
    }
   ],
   "source": [
    "# 일벡터\n",
    "np.ones((3,1))"
   ]
  },
  {
   "cell_type": "code",
   "execution_count": 200,
   "id": "c1062e7c",
   "metadata": {},
   "outputs": [
    {
     "data": {
      "text/plain": [
       "array([[0, 1, 2],\n",
       "       [3, 4, 5],\n",
       "       [6, 7, 8]])"
      ]
     },
     "execution_count": 200,
     "metadata": {},
     "output_type": "execute_result"
    }
   ],
   "source": [
    "# 정방행렬\n",
    "np.full((3,3),1)\n",
    "np.arange(9).reshape(3,3)"
   ]
  },
  {
   "cell_type": "code",
   "execution_count": 127,
   "id": "d7684b60",
   "metadata": {},
   "outputs": [
    {
     "data": {
      "text/plain": [
       "array([[1, 0, 0],\n",
       "       [0, 2, 0],\n",
       "       [0, 0, 3]])"
      ]
     },
     "execution_count": 127,
     "metadata": {},
     "output_type": "execute_result"
    }
   ],
   "source": [
    "# 대각 정방행렬 - 주대각선 1,2,3\n",
    "np.diag([1,2,3])"
   ]
  },
  {
   "cell_type": "code",
   "execution_count": 128,
   "id": "1d747e35",
   "metadata": {},
   "outputs": [
    {
     "data": {
      "text/plain": [
       "array([[1., 0., 0., 0., 0.],\n",
       "       [0., 1., 0., 0., 0.],\n",
       "       [0., 0., 1., 0., 0.],\n",
       "       [0., 0., 0., 1., 0.],\n",
       "       [0., 0., 0., 0., 1.]])"
      ]
     },
     "execution_count": 128,
     "metadata": {},
     "output_type": "execute_result"
    }
   ],
   "source": [
    "np.eye(5)"
   ]
  },
  {
   "cell_type": "code",
   "execution_count": 129,
   "id": "c2f2ddad",
   "metadata": {},
   "outputs": [],
   "source": [
    "# 벡터와 벡터의 곱셈, 내적\n",
    "# 연산 원리\n",
    "from PIL import Image\n",
    "image = Image.open('내적.jpg')\n",
    "image.show()"
   ]
  },
  {
   "cell_type": "markdown",
   "id": "32574a47",
   "metadata": {},
   "source": [
    "<img src = '내적.jpg' STYLE='width 800px;'>"
   ]
  },
  {
   "cell_type": "markdown",
   "id": "90330e3c",
   "metadata": {},
   "source": [
    "이러한 연산을 통해 최적의 결과를 얻었을 경우 그 가중치들이 최적의 파라미터가 된다.\n",
    "그것이 모델이 된다~~~\n",
    "\n",
    "머신러닝 = 알고리즘\n",
    "딥러닝 = 네트워크, 딥러닝 알고리즘은 아님"
   ]
  },
  {
   "cell_type": "markdown",
   "id": "17b1c38f",
   "metadata": {},
   "source": [
    "내적(dot product)은 두 벡터 간의 연산으로, 두 벡터의 크기와 방향에 대한 정보를 이용하여 하나의 스칼라 값을 구하는 연산입니다.\n",
    "\n",
    "두 벡터 A와 B가 있을 때, A와 B의 내적은 A와 B의 각 요소별 곱셈의 합으로 계산됩니다. 이를 수식으로 나타내면 다음과 같습니다.\n",
    "\n",
    "A ∙ B = |A| × |B| × cos(θ)\n",
    "\n",
    "여기서 |A|와 |B|는 각각 A와 B의 크기이고, θ는 A와 B 사이의 각도입니다. 따라서 내적은 A와 B가 얼마나 비슷한 방향을 가지고 있는지를 나타냅니다. 예를 들어, A와 B가 완전히 같은 방향을 가지고 있다면 내적은 |A| × |B|가 됩니다. 반면에 A와 B가 직교하고 있다면 내적은 0이 됩니다.\n",
    "\n",
    "NumPy에서는 dot 함수를 사용하여 두 배열의 내적을 계산할 수 있습니다. 이때, 두 배열의 크기가 같아야 하며, 행렬의 내적을 계산할 때는 첫 번째 배열의 열 수와 두 번째 배열의 행 수가 같아야 합니다."
   ]
  },
  {
   "cell_type": "code",
   "execution_count": 54,
   "id": "8414bd96",
   "metadata": {},
   "outputs": [
    {
     "name": "stdout",
     "output_type": "stream",
     "text": [
      "[10 12 14 16 18]\n"
     ]
    }
   ],
   "source": [
    "x = np.array([10,11,12,13,14])\n",
    "y = np.array([0,1,2,3,4])\n",
    "print(x+y)"
   ]
  },
  {
   "cell_type": "code",
   "execution_count": 57,
   "id": "e0d7207b",
   "metadata": {},
   "outputs": [
    {
     "data": {
      "text/plain": [
       "array([[62, 45],\n",
       "       [49, 52]])"
      ]
     },
     "execution_count": 57,
     "metadata": {},
     "output_type": "execute_result"
    }
   ],
   "source": [
    "x1 = np.random.randint(30,50,size=(2,2))\n",
    "x2 = np.random.randint(20,30,size=(2,2))\n",
    "x3 = np.random.randint(10,20,size=(2,2))\n",
    "\n",
    "x1+x2-x3"
   ]
  },
  {
   "cell_type": "code",
   "execution_count": 58,
   "id": "95c15e6d",
   "metadata": {
    "scrolled": true
   },
   "outputs": [
    {
     "data": {
      "text/plain": [
       "array([0, 1, 2])"
      ]
     },
     "execution_count": 58,
     "metadata": {},
     "output_type": "execute_result"
    }
   ],
   "source": [
    "# 브로드캐스팅\n",
    "\n",
    "x1 = np.array([10,11,12])\n",
    "x1 -10"
   ]
  },
  {
   "cell_type": "code",
   "execution_count": 201,
   "id": "33209b33",
   "metadata": {},
   "outputs": [],
   "source": [
    "x1 = np.array([10,11,12])"
   ]
  },
  {
   "cell_type": "code",
   "execution_count": 204,
   "id": "d6a59823",
   "metadata": {},
   "outputs": [
    {
     "data": {
      "text/plain": [
       "array([30, 33, 36])"
      ]
     },
     "execution_count": 204,
     "metadata": {},
     "output_type": "execute_result"
    }
   ],
   "source": [
    "np.dot(3,x1)\n",
    "# NumPy에서 dot 함수는 두 배열의 내적(dot product)을 계산합니다"
   ]
  },
  {
   "cell_type": "code",
   "execution_count": 62,
   "id": "5980d99c",
   "metadata": {},
   "outputs": [
    {
     "name": "stdout",
     "output_type": "stream",
     "text": [
      "[[1]\n",
      " [2]\n",
      " [3]]\n",
      "[[4]\n",
      " [5]\n",
      " [6]]\n"
     ]
    }
   ],
   "source": [
    "# 넘파이에서 벡터와 행렬의 내적은 dot() 또는 @ 연산자로 계산\n",
    "\n",
    "x = np.array([[1],[2],[3]])\n",
    "y = np.array([[4],[5],[6]])\n",
    "print(x)\n",
    "print(y)"
   ]
  },
  {
   "cell_type": "code",
   "execution_count": 65,
   "id": "d0d11863",
   "metadata": {},
   "outputs": [
    {
     "name": "stdout",
     "output_type": "stream",
     "text": [
      "[[1 2 3]]\n",
      "[[4]\n",
      " [5]\n",
      " [6]]\n",
      "[[32]]\n",
      "[[32]]\n"
     ]
    }
   ],
   "source": [
    "print(x.T) # 열을 행으로 전치 시켜주고 나서 계산\n",
    "print(y)\n",
    "print(x.T@y)\n",
    "print(np.dot(x.T,y))\n",
    "\n",
    "\n",
    "# 1x3 3x1 형태로 만들어줘야 연산 가능\n",
    "# 3,3이 똑같아야 한다\n",
    "\n",
    "# 2x3, 3x2 결과는 2x2(abcd)로 나온다"
   ]
  },
  {
   "cell_type": "code",
   "execution_count": 68,
   "id": "4fe255aa",
   "metadata": {},
   "outputs": [
    {
     "name": "stdout",
     "output_type": "stream",
     "text": [
      "[[1 2 3]\n",
      " [4 5 6]]\n",
      "[[ 6 23]\n",
      " [-1  7]\n",
      " [ 8  9]]\n"
     ]
    },
    {
     "data": {
      "text/plain": [
       "array([[ 28,  64],\n",
       "       [ 67, 181]])"
      ]
     },
     "execution_count": 68,
     "metadata": {},
     "output_type": "execute_result"
    }
   ],
   "source": [
    "x = np.arange(1,7).reshape(2,3)\n",
    "y = np.array([[6,23],[-1,7],[8,9]])\n",
    "\n",
    "print(x)\n",
    "print(y)\n",
    "np.dot(x,y)\n",
    "x.dot(y)"
   ]
  },
  {
   "cell_type": "markdown",
   "id": "06f2aeb9",
   "metadata": {},
   "source": [
    "행렬곱\n",
    "\n",
    "- 앞 행렬의 열의 수가 뒤 행렬의 행의 수와 일치해야 한다.\n",
    "- 교환법칙이 성립하지 않는다. (A@B) vs (B@A)\n",
    "- 분배법칙은 성립한다. A@(B+C) vs A@B + A@C\n",
    "- 전치연산도 덧셈, 뺄셈에 대한 분배법칙이 성립된다.(A+B).T vs A.T + B.T\n",
    "- 전치 연산과 곱셈의 경우에는 분배법칙이 성립하지만 전치 연산이 분배되면서 곱셈의 순서가 바뀐다.(A@B).T vs B.T @ A.T"
   ]
  },
  {
   "cell_type": "markdown",
   "id": "df663bd2",
   "metadata": {},
   "source": [
    "#### 과제1\n",
    "앞에 언급한 5가지 사항들의 사례를 작성해서 의미를 확인하고 설명하세요."
   ]
  },
  {
   "cell_type": "code",
   "execution_count": 71,
   "id": "e1c07da2",
   "metadata": {},
   "outputs": [
    {
     "name": "stdout",
     "output_type": "stream",
     "text": [
      "[[1 2]\n",
      " [3 4]]\n",
      "[[1. 0.]\n",
      " [0. 1.]]\n",
      "[[1. 2.]\n",
      " [3. 4.]]\n",
      "[[1. 2.]\n",
      " [3. 4.]]\n"
     ]
    }
   ],
   "source": [
    "# 항등행렬의 곱셈\n",
    "# 어떤 수에 1을 곱하면 항상 1이 나오는 것과 같다.\n",
    "\n",
    "a = np.array([[1,2],[3,4]])\n",
    "i = np.eye(2)\n",
    "print(a)\n",
    "print(i)\n",
    "\n",
    "print(a@i)\n",
    "print(i@a)"
   ]
  },
  {
   "cell_type": "code",
   "execution_count": 73,
   "id": "c2fe5520",
   "metadata": {
    "collapsed": true
   },
   "outputs": [
    {
     "name": "stdout",
     "output_type": "stream",
     "text": [
      "[[0.3305785  0.30578512 0.3305785  ... 0.3966942  0.37190083 0.28512397]\n",
      " [0.32231405 0.32231405 0.29752067 ... 0.41322315 0.338843   0.2603306 ]\n",
      " [0.3264463  0.30991736 0.30578512 ... 0.40495867 0.36363637 0.27272728]\n",
      " ...\n",
      " [0.16115703 0.16528925 0.1570248  ... 0.14049587 0.1570248  0.16115703]\n",
      " [0.1570248  0.17768595 0.16115703 ... 0.14049587 0.1570248  0.1570248 ]\n",
      " [0.17768595 0.1694215  0.16528925 ... 0.1446281  0.15289256 0.15289256]] \n",
      "\n"
     ]
    },
    {
     "data": {
      "text/plain": [
       "Text(0.5, 1.0, 'image 1: $x_1$')"
      ]
     },
     "execution_count": 73,
     "metadata": {},
     "output_type": "execute_result"
    },
    {
     "data": {
      "image/png": "[encoded data removed]",
      "text/plain": [
       "<Figure size 640x480 with 1 Axes>"
      ]
     },
     "metadata": {},
     "output_type": "display_data"
    }
   ],
   "source": [
    "import matplotlib.pyplot as plt\n",
    "from sklearn.datasets import fetch_olivetti_faces\n",
    "faces = fetch_olivetti_faces()\n",
    "print(faces.images[6],'\\n')\n",
    "f,ax=plt.subplots(1,1)\n",
    "ax.imshow(faces.images[6],cmap=plt.cm.bone)\n",
    "ax.grid(False)\n",
    "ax.set_xticks([])\n",
    "ax.set_yticks([])\n",
    "ax.set_title('image 1: $x_1$')"
   ]
  },
  {
   "cell_type": "code",
   "execution_count": 74,
   "id": "f7925bd3",
   "metadata": {
    "collapsed": true
   },
   "outputs": [
    {
     "name": "stdout",
     "output_type": "stream",
     "text": [
      "[[0.5413223  0.58677685 0.6404959  ... 0.54545456 0.553719   0.55785125]\n",
      " [0.553719   0.61570245 0.6570248  ... 0.57438016 0.58264464 0.5785124 ]\n",
      " [0.5785124  0.6528926  0.677686   ... 0.57024795 0.60330576 0.59917355]\n",
      " ...\n",
      " [0.12809917 0.13636364 0.13636364 ... 0.09090909 0.11570248 0.10743801]\n",
      " [0.1322314  0.13636364 0.1322314  ... 0.09504132 0.11157025 0.10743801]\n",
      " [0.13636364 0.1322314  0.13636364 ... 0.09504132 0.11157025 0.11157025]] \n",
      "\n"
     ]
    },
    {
     "data": {
      "text/plain": [
       "Text(0.5, 1.0, 'image 1: $x_1$')"
      ]
     },
     "execution_count": 74,
     "metadata": {},
     "output_type": "execute_result"
    },
    {
     "data": {
      "image/png": "[encoded data removed]",
      "text/plain": [
       "<Figure size 640x480 with 1 Axes>"
      ]
     },
     "metadata": {},
     "output_type": "display_data"
    }
   ],
   "source": [
    "import matplotlib.pyplot as plt\n",
    "from sklearn.datasets import fetch_olivetti_faces\n",
    "faces = fetch_olivetti_faces()\n",
    "print(faces.images[10],'\\n')\n",
    "f,ax=plt.subplots(1,1)\n",
    "ax.imshow(faces.images[10],cmap=plt.cm.bone)\n",
    "ax.grid(False)\n",
    "ax.set_xticks([])\n",
    "ax.set_yticks([])\n",
    "ax.set_title('image 1: $x_1$')"
   ]
  },
  {
   "cell_type": "code",
   "execution_count": 75,
   "id": "11fa0d5e",
   "metadata": {
    "collapsed": true
   },
   "outputs": [
    {
     "data": {
      "image/png": "[encoded data removed]",
      "text/plain": [
       "<Figure size 640x480 with 3 Axes>"
      ]
     },
     "metadata": {},
     "output_type": "display_data"
    }
   ],
   "source": [
    "faces  = fetch_olivetti_faces()\n",
    "\n",
    "f,ax=plt.subplots(1,3)\n",
    "ax[0].imshow(faces.images[6],cmap=plt.cm.bone)\n",
    "ax[0].grid(False)\n",
    "ax[0].set_xticks([])\n",
    "ax[0].set_yticks([])\n",
    "ax[0].set_title('image 1: $x_1$')\n",
    "\n",
    "ax[1].imshow(faces.images[10],cmap=plt.cm.bone)\n",
    "ax[1].grid(False)\n",
    "ax[1].set_xticks([])\n",
    "ax[1].set_yticks([])\n",
    "ax[1].set_title('image 2: $x_2$')\n",
    "\n",
    "new_face = 0.7 * faces.images[6] + 0.3 * faces.images[10]\n",
    "ax[2].imshow(new_face,cmap=plt.cm.bone)\n",
    "ax[2].grid(False)\n",
    "ax[2].set_xticks([])\n",
    "ax[2].set_yticks([])\n",
    "ax[2].set_title('image 3: $0.7x_1=0.3x_2$')\n",
    "plt.show()"
   ]
  },
  {
   "cell_type": "markdown",
   "id": "1598b45b",
   "metadata": {},
   "source": [
    "#### 벡터의 norm이란 \n",
    "- 벡터의 크기를 측정하는 방법 중 하나입니다. 벡터의 norm은 일반적으로 벡터의 길이 또는 크기를 의미합니다. 벡터의 norm은 벡터의 요소에 대한 제곱 합의 제곱근으로 계산됩니다.\n",
    "\n",
    "만약, 벡터 $x = (x_1, x_2, ..., x_n)$ 이 있다면, $x$의 norm은 다음과 같이 정의됩니다.\n",
    "\n",
    "$$||x|| = \\sqrt{x_1^2 + x_2^2 + \\cdots + x_n^2}$$\n",
    "\n",
    "여기서 $||x||$는 벡터 $x$의 norm을 나타냅니다.\n",
    "\n",
    "- 벡터의 norm은 다음과 같은 성질을 가지고 있습니다.\n",
    "\n",
    "  - $||x|| \\geq 0$ (벡터의 norm은 항상 0 이상입니다.)\n",
    "  - $||x|| = 0$ if and only if $x = \\mathbf{0}$ (벡터의 norm이 0일 경우, 해당 벡터는 영 벡터입니다.)\n",
    "  - $||ax|| = |a| \\cdot ||x||$ (스칼라 $a$에 대해 벡터 $x$의 norm은 $a$의 절댓값과 $x$의 norm의 곱과 같습니다.)\n",
    "  - $||x+y|| \\leq ||x|| + ||y||$ (두 벡터의 합의 norm은 각 벡터의 norm의 합보다 작거나 같습니다. 이를 삼각 부등식이라고 합니다.)\n",
    "  - 벡터의 norm은 선형 대수학에서 매우 중요한 개념이며, 벡터 공간에서 거리와 관련된 개념을 다룰 때 자주 사용됩니다.\n",
    "\n",
    "- 위 4가지 성질을 만족하기만 하면 놈이라고 할 수 있는데, 많이 사용되는 놈은 다음 세 가지이다. 놈을 구별하기 위하여 아래 첨자를 사용하고, $||x||_1을 1-놈, ||x||_2 를 2-놈, ||x||_\\infty를 3-놈$이라고 한다.\n",
    "- 1-놈은 벡터 x의 성분의 절대값을 모두 더한 것으로, 2-놈은 벡터의 기하학적 길이로, $\\infty-놈$은 벡터 성분 중에서 크기가 제일 큰 값으로 정의한다.\n",
    "- p = 2인 경우가 가장 많이 쓰이므로 p값 표기가 없는 경우 p=2인 프로베니우스 놈을 사용한다.\n",
    "\n",
    "https://bskyvision.com/825  \n",
    "https://pasus.tistory.com/34"
   ]
  },
  {
   "cell_type": "code",
   "execution_count": 77,
   "id": "6514724c",
   "metadata": {
    "scrolled": true
   },
   "outputs": [
    {
     "data": {
      "text/plain": [
       "array([[-4, -3, -2],\n",
       "       [-1,  0,  1],\n",
       "       [ 2,  3,  4]])"
      ]
     },
     "execution_count": 77,
     "metadata": {},
     "output_type": "execute_result"
    }
   ],
   "source": [
    "a = (np.arange(9) -4).reshape(3,3)\n",
    "a"
   ]
  },
  {
   "cell_type": "code",
   "execution_count": 205,
   "id": "c577cdcf",
   "metadata": {
    "scrolled": true
   },
   "outputs": [
    {
     "data": {
      "text/plain": [
       "array([[0, 1, 2]])"
      ]
     },
     "execution_count": 205,
     "metadata": {},
     "output_type": "execute_result"
    }
   ],
   "source": [
    "b = np.arange(3).reshape(1,3)\n",
    "b"
   ]
  },
  {
   "cell_type": "code",
   "execution_count": 209,
   "id": "17d0a391",
   "metadata": {},
   "outputs": [
    {
     "data": {
      "text/plain": [
       "2.23606797749979"
      ]
     },
     "execution_count": 209,
     "metadata": {},
     "output_type": "execute_result"
    }
   ],
   "source": [
    "np.linalg.norm(b)\n",
    "#1차원 배열에서는 정상적으로 작동"
   ]
  },
  {
   "cell_type": "code",
   "execution_count": 78,
   "id": "82ffcb54",
   "metadata": {},
   "outputs": [
    {
     "data": {
      "text/plain": [
       "7.745966692414834"
      ]
     },
     "execution_count": 78,
     "metadata": {},
     "output_type": "execute_result"
    }
   ],
   "source": [
    "# linalg : \"linear algebra\"의 약어로, 선형 대수 관련 함수를 제공하는 모듈입니다. \n",
    "# linalg 모듈은 행렬 분해, 행렬 연산, 행렬식, 고유값, 고유벡터, 선형 방정식 등의 기능을 제공합니다.\n",
    "\n",
    "np.linalg.norm(a)\n",
    "# 2차원 배열이면 열로 작용 -> 7이 됨"
   ]
  },
  {
   "cell_type": "code",
   "execution_count": 214,
   "id": "ab6dc76e",
   "metadata": {},
   "outputs": [
    {
     "data": {
      "text/plain": [
       "3.0"
      ]
     },
     "execution_count": 214,
     "metadata": {},
     "output_type": "execute_result"
    }
   ],
   "source": [
    "# 놈의 개념\n",
    "x= [2,3]\n",
    "np.linalg.norm(x,1)\n",
    "# x에 대해서 1놈을 구하는거(절댓값의 합)\n",
    "\n",
    "x= [2,3]\n",
    "np.linalg.norm(x,2) # 4+9=13, np.sqrt(13)\n",
    "# x에 대해서 2놈을 구하는거(출발점-도착점의 직선거리)\n",
    "\n",
    "x= [2,3]\n",
    "np.linalg.norm(x,np.inf)\n",
    "# x에 대해서 가장 큰 절댓값을 구하는거"
   ]
  },
  {
   "cell_type": "markdown",
   "id": "ed0d6b5e",
   "metadata": {},
   "source": [
    "#### 행렬식(determinant)은\n",
    "행렬식은 정방행렬에 대해서만 정의되는 값으로, 행렬의 성질을 나타내는 중요한 값 중 하나입니다. \n",
    "\n",
    "- 행렬식은 행렬의 크기에 상관없이 항상 하나의 스칼라값으로 계산됩니다.\n",
    "행렬 A의 행렬식은 $|A|$ 또는 det(A)로 표기합니다. 2x2 행렬의 경우, 다음과 같이 행렬식을 계산할 수 있습니다.$$det(A) = a11*a22 - a12*a21$$\n",
    "- 행렬식이 0이면, 해당 행렬은 역행렬을 가지지 않습니다. 반대로, 행렬식이 0이 아니면, 해당 행렬은 역행렬을 가지며, 선형 변환의 크기와 방향을 보존하는 역행렬을 사용하여 역변환을 수행할 수 있습니다.\n",
    "- 행렬식의 절댓값이 1인 행렬은 크기를 보존하는 선형 변환을 나타내며, 이러한 행렬은 회전 또는 반사와 같은 변환이 될 수 있습니다. 반면에, 행렬식의 절댓값이 1보다 작은 행렬은 크기를 축소하는 선형 변환이며, 이러한 행렬은 변환 중심을 기준으로 축소가 됩니다. 마지막으로, 행렬식의 절댓값이 1보다 큰 행렬은 크기를 확대하는 선형 변환을 나타내며, 이러한 행렬은 변환 중심을 기준으로 확대됩니다.\n",
    "- 행렬식은 선형 방정식의 해를 구하는 데에도 사용됩니다 $Ax = b$에서 A는 n x n 행렬이며, x와 b는 n 차원 벡터입니다. 만약 A의 행렬식이 0이 아니면, 이 방정식은 유일한 해를 가집니다. 그러나, A의 행렬식이 0이면, 이 방정식은 무수히 많은 해를 가질 수 있습니다.\n",
    "- 행렬식은 행렬식이 0이 아닌 행렬에 대한 Cramer의 법칙을 사용하여 역행렬을 구하는 데에도 사용됩니다. 역행렬은 선형 방정식의 해를 구하는 데 사용될 수 있으며, 행렬식이 0이 아닌 경우에만 존재합니다."
   ]
  },
  {
   "cell_type": "markdown",
   "id": "bf72e83a",
   "metadata": {},
   "source": [
    "#### 선형변환 (벡터@행렬=결과값)\n",
    "\n",
    ": 함수 역할을 하는 행렬이 가중치 역할을 한다. 가중치에 의해서 선형변환이 되어 결과값이 나온다. 즉 선형변환이란 내적에 있어 계산과정을 설명한다. 벡터에 대해 어떤 행렬에 의해 결과값을 출력하는 과정이 선형변환임. \n",
    "벡터를 행렬에 선형변환하여 내적의 결과값을 출력한다.\n",
    "\n",
    "직선의 형태를 띈 변환이 아니라 위의 뜻임."
   ]
  },
  {
   "cell_type": "markdown",
   "id": "c0355351",
   "metadata": {},
   "source": [
    "#### Ax = b : A계수행렬, x미지수벡터, b상수벡터\n",
    "- A, x, b가 스칼라 실수인 경우 : x = b/A \n",
    "- 행렬에서는  나눗셈 대신 역행렬 사용 : x = $A^{-1}$b"
   ]
  },
  {
   "cell_type": "code",
   "execution_count": 91,
   "id": "cb46a536",
   "metadata": {},
   "outputs": [
    {
     "name": "stdout",
     "output_type": "stream",
     "text": [
      "[[-2.   1. ]\n",
      " [ 1.5 -0.5]]\n"
     ]
    }
   ],
   "source": [
    "# 역행렬은 특정한 행렬과 곱했을 때 항등행렬이 나오는 행렬\n",
    "import numpy as np\n",
    "\n",
    "A = np.array([[1,2],[3,4]]) # 역행렬을 구할 행렬\n",
    "A_inv = np.linalg.inv(A) # A의 역행렬 계산\n",
    "\n",
    "print(A_inv)"
   ]
  },
  {
   "cell_type": "code",
   "execution_count": 92,
   "id": "9cd51b6e",
   "metadata": {},
   "outputs": [
    {
     "data": {
      "text/plain": [
       "array([[1.00000000e+00, 1.11022302e-16],\n",
       "       [0.00000000e+00, 1.00000000e+00]])"
      ]
     },
     "execution_count": 92,
     "metadata": {},
     "output_type": "execute_result"
    }
   ],
   "source": [
    "A @ A_inv"
   ]
  },
  {
   "cell_type": "code",
   "execution_count": 93,
   "id": "df7dfec8",
   "metadata": {},
   "outputs": [
    {
     "data": {
      "text/plain": [
       "array([[1., 0., 0.],\n",
       "       [0., 1., 0.],\n",
       "       [0., 0., 1.]])"
      ]
     },
     "execution_count": 93,
     "metadata": {},
     "output_type": "execute_result"
    }
   ],
   "source": [
    "# 역행렬이 있다는 것을 확인\n",
    "np.random.seed(0)\n",
    "mt1 = np.random.randint(1,4,size=(3,3))\n",
    "mt1\n",
    "\n",
    "mt2 = np.linalg.inv(mt1)\n",
    "mt2\n",
    "\n",
    "mt1 @ mt2"
   ]
  },
  {
   "cell_type": "code",
   "execution_count": 94,
   "id": "ac95bf9c",
   "metadata": {},
   "outputs": [
    {
     "name": "stdout",
     "output_type": "stream",
     "text": [
      "-1.0\n"
     ]
    }
   ],
   "source": [
    "# 역행렬이 존재하는 경우는 행렬식 값이 0이 아님.\n",
    "\n",
    "mt3 = np.linalg.det(mt1)\n",
    "print(mt3)"
   ]
  },
  {
   "cell_type": "code",
   "execution_count": 95,
   "id": "81a9c292",
   "metadata": {},
   "outputs": [
    {
     "name": "stdout",
     "output_type": "stream",
     "text": [
      "[[1 2]\n",
      " [2 4]]\n",
      "0.0\n"
     ]
    }
   ],
   "source": [
    "# 역행렬이 존재하지 않는 경우는 행렬식 값이 0 출력될 때\n",
    "\n",
    "nt1 = np.array([[1,2],[2,4]])\n",
    "print(nt1)\n",
    "nt2 = np.linalg.det(nt1) # det사용하여 행렬식으로 역행렬이 존재하는지 확인할 수 있다.\n",
    "print(nt2)"
   ]
  },
  {
   "cell_type": "markdown",
   "id": "9dfbb7af",
   "metadata": {},
   "source": [
    "<img src = '행렬식계산.png' STYLE='width 800px;'>"
   ]
  },
  {
   "cell_type": "code",
   "execution_count": 100,
   "id": "389e58f6",
   "metadata": {
    "scrolled": true
   },
   "outputs": [
    {
     "name": "stdout",
     "output_type": "stream",
     "text": [
      "[[1 2 3]\n",
      " [4 5 6]\n",
      " [7 8 9]]\n"
     ]
    }
   ],
   "source": [
    "a = np.array([[1,2,3],[4,5,6],[7,8,9]])\n",
    "print(a)"
   ]
  },
  {
   "cell_type": "code",
   "execution_count": 99,
   "id": "efdefc65",
   "metadata": {},
   "outputs": [
    {
     "data": {
      "text/plain": [
       "0"
      ]
     },
     "execution_count": 99,
     "metadata": {},
     "output_type": "execute_result"
    }
   ],
   "source": [
    "a = (1*(45-48)) - (2*(36-42)) +(3*(32-35))\n",
    "a"
   ]
  },
  {
   "cell_type": "markdown",
   "id": "20974dcf",
   "metadata": {},
   "source": [
    "123,147,789 기준 다 다르더라도 답은 다 0 나옴"
   ]
  },
  {
   "cell_type": "code",
   "execution_count": 103,
   "id": "d1cd6194",
   "metadata": {},
   "outputs": [
    {
     "data": {
      "text/plain": [
       "-9.51619735392994e-16"
      ]
     },
     "execution_count": 103,
     "metadata": {},
     "output_type": "execute_result"
    }
   ],
   "source": [
    "det_a = np.linalg.det(a)\n",
    "det_a # -9.xx나오는데 이거 0입니다. 과학적 표기법...이라고 하심"
   ]
  },
  {
   "cell_type": "markdown",
   "id": "5edf7324",
   "metadata": {},
   "source": [
    "- 선형예측모형은 입력데이터 벡터와 가중치 벡터의 내적으로 계산된 예측값이 실제 출력 데이터와 유사한 값을 출력하도록 하는 모형"
   ]
  },
  {
   "cell_type": "markdown",
   "id": "8bc6bd06",
   "metadata": {},
   "source": [
    "<img src = '가중치벡터.png' STYLE='width 800px;'>"
   ]
  },
  {
   "cell_type": "markdown",
   "id": "94cf83b6",
   "metadata": {},
   "source": [
    "위 사진은 딥러닝의 인공신경망\n",
    "\n",
    "- 인간의 뇌의 활동을 벤치마킹해서 만든 것이 딥러닝의 인공신경망\n",
    "- 1계층: 가중치 부여. 여러 군데에서 들어온 인풋들을 다 다른 가중치를 줘서 결합한다.\n",
    "- 1계층에서 가중치를 제대로 주지 못하면 최적의 값이 나오지 않는다. \n",
    "- => 실제 값과 예측 값을 비교했을 때 차이가 적어야 최적화된 모델.\n",
    "\n",
    "특징을 잡아내고 결과를 예측할 수 있는 모델을 만든다.\n"
   ]
  },
  {
   "cell_type": "markdown",
   "id": "afef52fc",
   "metadata": {},
   "source": [
    "행렬식은 선형 변환의 기하학적 특성을 나타내는 중요한 개념 중 하나\n",
    "\n",
    "- 우선, 선형 변환은 벡터 공간에서 하나의 벡터를 다른 벡터로 옮기는 함수입니다. 이 때, 선형 변환은 벡터 공간의 모양을 변경시키지 않습니다.\n",
    "\n",
    "- 행렬식은 이러한 선형 변환의 기하학적 특성 중 하나인 스케일링 및 회전을 나타냅니다. 스케일링은 벡터를 크기만 변경시키는 변환을 의미하며, 회전은 벡터를 방향을 변경시키는 변환을 의미합니다.\n",
    "\n",
    "- 행렬식은 선형 변환을 수행하는 행렬의 크기 변화를 나타내며, 변환 후의 공간의 부피를 결정합니다. 행렬식이 1보다 크면 공간이 확대되고, 1보다 작으면 공간이 축소됩니다. 또한, 행렬식이 0이면 선형 변환은 벡터 공간의 모양을 변경시키지 않습니다.\n",
    "\n",
    "- 2차원 평면에서 2배 확대하는 선형 변환을 수행하는 행렬의 행렬식은 2이며, 90도 회전하는 선형 변환을 수행하는 행렬의 행렬식은 -1입니다. 이러한 기하학적 의미는 컴퓨터 그래픽스, 물리학, 공학 등 다양한 분야에서 활용됩니다.\n",
    "    - 90도 회전하는 선형 변환을 수행하는 행렬의 행렬식이 -1이라는 것은, 이 변환이 공간의 부피를 음수로 변경시킨다는 의미\n",
    "    - 이러한 회전 변환이 적용되면, 양의 방향과 반대 방향으로 공간이 뒤집히게 되어 음수의 부피가 생기는 것\n",
    "    -  정사각형을 90도 회전하는 선형 변환을 적용하면, 정사각형은 기존과는 반대 방향으로 뒤집히게 됩니다. 이렇게 뒤집힌 정사각형은 양의 방향으로는 측정할 수 없는 음수의 부피를 가지게 됩니다.\n",
    "    \n",
    " 행렬식의 기하학적 의미 : https://angeloyeo.github.io/2019/08/06/determinant.html"
   ]
  },
  {
   "cell_type": "code",
   "execution_count": 23,
   "id": "b3278a8b",
   "metadata": {
    "scrolled": true
   },
   "outputs": [
    {
     "data": {
      "image/png": "[encoded data removed]",
      "text/plain": [
       "<Figure size 640x480 with 1 Axes>"
      ]
     },
     "metadata": {},
     "output_type": "display_data"
    }
   ],
   "source": [
    "# x축 방향으로 2배 확대하는 선형 변환 행렬\n",
    "import numpy as np\n",
    "import matplotlib.pyplot as plt\n",
    "\n",
    "# 변환 전의 기준 벡터\n",
    "v = np.array([1,0])\n",
    "\n",
    "# 선형 변환 행렬\n",
    "A = np.array([[2,0],[0,1]])\n",
    "\n",
    "# 변환 후의 벡터\n",
    "Av = np.dot(A,v)\n",
    "\n",
    "# 그래프 그리기\n",
    "fig,ax = plt.subplots()\n",
    "\n",
    "# 변환 전 벡터 그리기\n",
    "ax.quiver([0], [0], v[0], v[1], color='b', angles='xy', scale_units='xy', scale=1)\n",
    "\n",
    "# 변환 후 벡터 그리기\n",
    "ax.quiver([0], [0], Av[0], Av[1], color='r', angles='xy', scale_units='xy', scale=1)\n",
    "\n",
    "# 축 설정\n",
    "ax.set_xlim([-2,2])\n",
    "ax.set_ylim([-2,2])\n",
    "ax.set_xlabel('x')\n",
    "ax.set_xlabel('y')\n",
    "ax.grid() # 격자무늬\n",
    "\n",
    "plt.show()"
   ]
  },
  {
   "cell_type": "markdown",
   "id": "72a094b9",
   "metadata": {},
   "source": [
    "#### 질문. Av 구하는 과정에서 dot이후 순서\n",
    "\n",
    "슬기) Av와 vA값이 같다. 행렬곱이라면 교환법칙 성립x -> 값이 같다! 왜죠?\n",
    "\n",
    "==> 이는 벡터와 행렬이 다르기 때문\n",
    "\n",
    "v = np.array([1,0]) --> 벡터(행렬아님)\n",
    "\n",
    "v = np.array([[1,0],[1,0]]) --> 로 변경하면 행렬임(2차원배열)\n",
    "\n",
    "벡터와 행렬일 때의 곱은 순서 상관 없지만\n",
    "행렬과 행렬간의 곱은 교환법칙 미성립 -> 값이 다르게 나온다."
   ]
  },
  {
   "cell_type": "code",
   "execution_count": 14,
   "id": "0016ede7",
   "metadata": {},
   "outputs": [
    {
     "data": {
      "image/png": "[encoded data removed]",
      "text/plain": [
       "<Figure size 640x480 with 1 Axes>"
      ]
     },
     "metadata": {},
     "output_type": "display_data"
    }
   ],
   "source": [
    "# 2배 확대하는 선형 변환 행렬\n",
    "import numpy as np\n",
    "import matplotlib.pyplot as plt\n",
    "\n",
    "# 변환 전의 기준 벡터\n",
    "v = np.array([1,1])\n",
    "\n",
    "# 선형 변환 행렬\n",
    "A = np.array([[2,0],[0,1]])\n",
    "\n",
    "# 변환 후의 벡터\n",
    "Av = np.dot(A,v)\n",
    "\n",
    "# 그래프 그리기\n",
    "fig,ax = plt.subplots()\n",
    "\n",
    "# 변환 전 벡터 그리기\n",
    "ax.quiver([0], [0], v[0], v[1], color='b', angles='xy', scale_units='xy', scale=1)\n",
    "\n",
    "# 변환 후 벡터 그리기\n",
    "ax.quiver([0], [0], Av[0], Av[1], color='r', angles='xy', scale_units='xy', scale=1)\n",
    "\n",
    "# 축 설정\n",
    "ax.set_xlim([-2,2])\n",
    "ax.set_ylim([-2,2])\n",
    "ax.set_xlabel('x')\n",
    "ax.set_xlabel('y')\n",
    "ax.grid() # 격자무늬\n",
    "\n",
    "plt.show()"
   ]
  },
  {
   "cell_type": "code",
   "execution_count": 3,
   "id": "9613ab55",
   "metadata": {
    "scrolled": true
   },
   "outputs": [
    {
     "name": "stdout",
     "output_type": "stream",
     "text": [
      "2.0\n"
     ]
    }
   ],
   "source": [
    "# 위 그래프 행렬식 구하기\n",
    "import numpy as np\n",
    "\n",
    "A = np.array([[2,0],[0,1]])\n",
    "\n",
    "A_det = np.linalg.det(A)\n",
    "\n",
    "print(A_det) # 2.0 -> 면적이 두 배라는 이야기"
   ]
  },
  {
   "cell_type": "markdown",
   "id": "7ab5c827",
   "metadata": {},
   "source": [
    "np.dot과 np.matmul의 차이\n",
    "\n",
    "- np.dot() 함수는 두 개의 배열을 인수로 받아서 내적(dot product)을 반환합니다. 내적은 두 배열의 대응하는 요소끼리 곱한 값을 모두 더한 것입니다. 즉, 두 배열이 1D 배열인 경우에는 벡터의 내적을 계산하고, 두 배열이 2D 배열인 경우에는 행렬 곱셈을 계산합니다. 이때 두 배열의 차원 수가 다르면 np.dot() 함수는 인수를 전치(transpose)하여 계산\n",
    "\n",
    "- np.matmul() 함수도 두 개의 배열을 인수로 받아서 행렬 곱셈을 반환합니다. 그러나 np.matmul() 함수는 3D 이상의 배열에 대해서도 계산이 가능합니다. 이때 np.matmul() 함수는 마지막 두 차원에 대해서만 행렬 곱셈을 수행\n",
    "\n",
    "- np.matmul() 함수는 첫 번째 배열의 마지막 차원(4)과 두 번째 배열의 두 번째 차원(4)을 곱하여 (2, 3, 3) 크기의 배열을 반환합니다.\n",
    "따라서, np.dot() 함수는 두 배열이 1D 배열이거나 2D 배열인 경우에 사용하고, np.matmul() 함수는 두 배열이 2D 이상인 경우에 사용\n",
    "\n",
    "3차원 이상 -> np.matmul함수 쓰기\n",
    "\n",
    "https://m.blog.naver.com/PostView.naver?isHttpsRedirect=true&blogId=cjh226&logNo=221356884894"
   ]
  },
  {
   "cell_type": "code",
   "execution_count": 5,
   "id": "dacaa428",
   "metadata": {},
   "outputs": [
    {
     "name": "stdout",
     "output_type": "stream",
     "text": [
      "[[1 2 3]\n",
      " [4 5 6]] \n",
      "\n",
      "[[ 7  8]\n",
      " [ 9 10]\n",
      " [11 12]] \n",
      "\n",
      "[[ 58  64]\n",
      " [139 154]] \n",
      "\n",
      "[[ 58  64]\n",
      " [139 154]]\n"
     ]
    }
   ],
   "source": [
    "a= np.array([[1,2,3],[4,5,6]])\n",
    "b= np.array([[7,8],[9,10],[11,12]])\n",
    "print(a,'\\n')\n",
    "print(b,'\\n')\n",
    "print(np.dot(a,b),'\\n')\n",
    "print(np.matmul(a,b))"
   ]
  },
  {
   "cell_type": "markdown",
   "id": "f67c26e9",
   "metadata": {},
   "source": [
    "a11 * b11 + a12 * b21 + a13 * b31 = 1*7 + 2*9 + 3*11 = 58\n",
    "\n",
    "\n",
    "a11 * b12 + a12 * b22 + a13 * b32 = 1*8 + 2*10 + 3*12 = 64"
   ]
  },
  {
   "cell_type": "code",
   "execution_count": 22,
   "id": "73b5d65f",
   "metadata": {
    "collapsed": true
   },
   "outputs": [
    {
     "name": "stdout",
     "output_type": "stream",
     "text": [
      "[[[[0.91171694 0.403421   0.57339964]\n",
      "   [0.49903963 0.56455596 0.94293142]]\n",
      "\n",
      "  [[1.11223784 0.33805088 0.73770217]\n",
      "   [0.61842187 0.49249694 0.97658702]]\n",
      "\n",
      "  [[1.33062137 0.62045596 1.05324848]\n",
      "   [0.74688814 0.91616454 1.08808833]]]\n",
      "\n",
      "\n",
      " [[[0.83218014 0.18581716 0.47226576]\n",
      "   [0.47094971 0.21715884 0.73972432]]\n",
      "\n",
      "  [[0.94861725 0.47998752 0.70824465]\n",
      "   [0.5314355  0.6785966  0.84778531]]\n",
      "\n",
      "  [[1.54202748 0.5548386  1.00149136]\n",
      "   [0.8528358  0.78976912 1.44752294]]]] \n",
      "\n",
      "=======================================\n",
      "[[[0.91171694 0.403421   0.57339964]\n",
      "  [1.11223784 0.33805088 0.73770217]\n",
      "  [1.33062137 0.62045596 1.05324848]]\n",
      "\n",
      " [[0.47094971 0.21715884 0.73972432]\n",
      "  [0.5314355  0.6785966  0.84778531]\n",
      "  [0.8528358  0.78976912 1.44752294]]]\n"
     ]
    }
   ],
   "source": [
    "# 첫 번째 배열의 마지막 차원과 두 번째 배열의 두번째 차원을 곱하여 \n",
    "#(2,3,3)크기의 배열을 반환\n",
    "\n",
    "a= np.random.rand(2,3,4)\n",
    "b= np.random.rand(2,4,3)\n",
    "print(np.dot(a,b),'\\n') # 쓰면 안 됨\n",
    "print('=======================================')\n",
    "print(np.matmul(a,b))"
   ]
  },
  {
   "cell_type": "markdown",
   "id": "ff7dc0a6",
   "metadata": {},
   "source": [
    "#### 과제1_0421.\n",
    "5차원 배열 2개를 생성하여 행렬곱을 계산하세요"
   ]
  },
  {
   "cell_type": "code",
   "execution_count": 32,
   "id": "638ab335",
   "metadata": {},
   "outputs": [
    {
     "data": {
      "text/plain": [
       "array([[[1.50134203, 0.79997606, 1.60540054],\n",
       "        [1.03408316, 0.45631466, 1.02664272],\n",
       "        [1.19789038, 1.46247138, 1.67625111]],\n",
       "\n",
       "       [[1.50375897, 1.26780704, 1.05011317],\n",
       "        [1.19887635, 1.10063699, 1.08993877],\n",
       "        [1.98590333, 1.93426864, 1.49196826]],\n",
       "\n",
       "       [[1.01255225, 0.83389206, 1.0160527 ],\n",
       "        [1.24911657, 1.15229201, 1.57575663],\n",
       "        [0.88715834, 1.26927257, 1.27166886]],\n",
       "\n",
       "       [[1.05285189, 1.0468735 , 1.71037916],\n",
       "        [0.88318037, 1.24094287, 1.33623814],\n",
       "        [0.47583   , 1.10457764, 0.94660279]],\n",
       "\n",
       "       [[1.70561113, 1.60370643, 0.83044783],\n",
       "        [0.59249834, 0.42533562, 0.39258122],\n",
       "        [0.82846311, 0.71312668, 0.29971729]]])"
      ]
     },
     "execution_count": 32,
     "metadata": {},
     "output_type": "execute_result"
    }
   ],
   "source": [
    "a= np.random.rand(5,3,4)\n",
    "b= np.random.rand(5,4,3)\n",
    "\n",
    "np.matmul(a,b)"
   ]
  },
  {
   "cell_type": "code",
   "execution_count": null,
   "id": "7b53b977",
   "metadata": {},
   "outputs": [],
   "source": []
  },
  {
   "cell_type": "code",
   "execution_count": null,
   "id": "faf8caa7",
   "metadata": {},
   "outputs": [],
   "source": []
  },
  {
   "cell_type": "markdown",
   "id": "1739e449",
   "metadata": {},
   "source": [
    "#### 과제1\n",
    "앞에 언급한 5가지 사항들의 사례를 작성해서 의미를 확인하고 설명하세요."
   ]
  },
  {
   "cell_type": "code",
   "execution_count": 138,
   "id": "77172d51",
   "metadata": {},
   "outputs": [],
   "source": [
    "# 앞 행렬의 열의 수가 뒤 행렬의 행의 수와 일치해야 한다.\n",
    "\n",
    "x1 = np.arange(1,7).reshape(2,3)  # 2행 3열\n",
    "y1 = np.array([[6,23],[-1,7],[8,9]]) # 3행 2열\n",
    "x1.dot(y1) # 값 나옴\n",
    "\n",
    "x2 = np.arange(1,7).reshape(2,3)  # 2행 3열\n",
    "y2 = np.array([[-1,7],[8,9]]) # 2행 2열\n",
    "x2.dot(y2) # 에러 shapes (2,3) and (2,2) not aligned: 3 (dim 1) != 2 (dim 0)\n"
   ]
  },
  {
   "cell_type": "code",
   "execution_count": 143,
   "id": "7478c244",
   "metadata": {},
   "outputs": [
    {
     "data": {
      "text/plain": [
       "array([[ 98, 127, 156],\n",
       "       [ 27,  33,  39],\n",
       "       [ 44,  61,  78]])"
      ]
     },
     "execution_count": 143,
     "metadata": {},
     "output_type": "execute_result"
    }
   ],
   "source": [
    "# 교환법칙이 성립하지 않는다. (A@B) vs (B@A)\n",
    "\n",
    "x1 = np.arange(1,7).reshape(2,3)\n",
    "y1 = np.array([[6,23],[-1,7],[8,9]])\n",
    "\n",
    "x1.dot(y1) # 2행 2열\n",
    "y1.dot(x1) # 3행 3열"
   ]
  },
  {
   "cell_type": "code",
   "execution_count": 145,
   "id": "a0e20441",
   "metadata": {},
   "outputs": [
    {
     "data": {
      "text/plain": [
       "array([[ 50,  92],\n",
       "       [116, 245]])"
      ]
     },
     "execution_count": 145,
     "metadata": {},
     "output_type": "execute_result"
    }
   ],
   "source": [
    "# 분배법칙은 성립한다. A@(B+C) vs A@B + A@C\n",
    "\n",
    "x1 = np.arange(1,7).reshape(2,3)\n",
    "y1 = np.array([[6,23],[-1,7],[8,9]])\n",
    "z1 = np.arange(1,7).reshape(3,2)\n",
    "\n",
    "x1.dot(y1+z1)"
   ]
  },
  {
   "cell_type": "code",
   "execution_count": 146,
   "id": "976f40ec",
   "metadata": {},
   "outputs": [
    {
     "data": {
      "text/plain": [
       "array([[ 50,  92],\n",
       "       [116, 245]])"
      ]
     },
     "execution_count": 146,
     "metadata": {},
     "output_type": "execute_result"
    }
   ],
   "source": [
    "x1.dot(y1) + x1.dot(z1)"
   ]
  },
  {
   "cell_type": "code",
   "execution_count": 148,
   "id": "42dc65ce",
   "metadata": {},
   "outputs": [
    {
     "data": {
      "text/plain": [
       "array([[5, 7, 9]])"
      ]
     },
     "execution_count": 148,
     "metadata": {},
     "output_type": "execute_result"
    }
   ],
   "source": [
    "# 전치연산도 덧셈, 뺄셈에 대한 분배법칙이 성립된다.(A+B).T vs A.T + B.T\n",
    "\n",
    "x = np.array([[1],[2],[3]])\n",
    "y = np.array([[4],[5],[6]])\n",
    "\n",
    "(x+y).T"
   ]
  },
  {
   "cell_type": "code",
   "execution_count": 149,
   "id": "9e4c5e27",
   "metadata": {
    "scrolled": true
   },
   "outputs": [
    {
     "data": {
      "text/plain": [
       "array([[5, 7, 9]])"
      ]
     },
     "execution_count": 149,
     "metadata": {},
     "output_type": "execute_result"
    }
   ],
   "source": [
    "x.T + y.T"
   ]
  },
  {
   "cell_type": "code",
   "execution_count": 150,
   "id": "d9643d68",
   "metadata": {},
   "outputs": [
    {
     "data": {
      "text/plain": [
       "array([[-3, -3, -3]])"
      ]
     },
     "execution_count": 150,
     "metadata": {},
     "output_type": "execute_result"
    }
   ],
   "source": [
    "(x-y).T"
   ]
  },
  {
   "cell_type": "code",
   "execution_count": 151,
   "id": "0d2d2109",
   "metadata": {},
   "outputs": [
    {
     "data": {
      "text/plain": [
       "array([[-3, -3, -3]])"
      ]
     },
     "execution_count": 151,
     "metadata": {},
     "output_type": "execute_result"
    }
   ],
   "source": [
    "x.T - y.T"
   ]
  },
  {
   "cell_type": "code",
   "execution_count": 169,
   "id": "7153ec02",
   "metadata": {},
   "outputs": [
    {
     "data": {
      "text/plain": [
       "array([[ 28,  67],\n",
       "       [ 64, 181]])"
      ]
     },
     "execution_count": 169,
     "metadata": {},
     "output_type": "execute_result"
    }
   ],
   "source": [
    "# 전치 연산과 곱셈의 경우에는 분배법칙이 성립하지만 전치 연산이 분배되면서 곱셈의 순서가 바뀐다.\n",
    "# (A@B).T vs B.T @ A.T\n",
    "\n",
    "x = np.arange(1,7).reshape(2,3)\n",
    "y = np.array([[6,23],[-1,7],[8,9]])\n",
    "\n",
    "(x@y).T"
   ]
  },
  {
   "cell_type": "code",
   "execution_count": 170,
   "id": "a81f27be",
   "metadata": {
    "scrolled": true
   },
   "outputs": [
    {
     "data": {
      "text/plain": [
       "array([[ 98,  27,  44],\n",
       "       [127,  33,  61],\n",
       "       [156,  39,  78]])"
      ]
     },
     "execution_count": 170,
     "metadata": {},
     "output_type": "execute_result"
    }
   ],
   "source": [
    "(x.T)@(y.T)"
   ]
  },
  {
   "cell_type": "code",
   "execution_count": 171,
   "id": "7fe493ab",
   "metadata": {},
   "outputs": [
    {
     "data": {
      "text/plain": [
       "array([[ 28,  67],\n",
       "       [ 64, 181]])"
      ]
     },
     "execution_count": 171,
     "metadata": {},
     "output_type": "execute_result"
    }
   ],
   "source": [
    "(y.T)@(x.T)"
   ]
  },
  {
   "cell_type": "markdown",
   "id": "ed284750",
   "metadata": {},
   "source": [
    "#### 과제2\n",
    "배열e의 행렬식을 구하면 에러가 발생됩니다. 행렬식의 의미를 감안하여 e행렬을 수정하여 다음사항을 수행하세요.\n",
    "- 행렬식을 계산하세요\n",
    "- 역행렬을 구하세요\n",
    "- 역행렬이 맞는지 검증하세요"
   ]
  },
  {
   "cell_type": "code",
   "execution_count": 172,
   "id": "23fd9d77",
   "metadata": {
    "collapsed": true
   },
   "outputs": [
    {
     "ename": "LinAlgError",
     "evalue": "Last 2 dimensions of the array must be square",
     "output_type": "error",
     "traceback": [
      "\u001b[1;31m---------------------------------------------------------------------------\u001b[0m",
      "\u001b[1;31mLinAlgError\u001b[0m                               Traceback (most recent call last)",
      "\u001b[1;32m~\\AppData\\Local\\Temp\\ipykernel_9424\\81062199.py\u001b[0m in \u001b[0;36m<module>\u001b[1;34m\u001b[0m\n\u001b[0;32m      1\u001b[0m \u001b[0me\u001b[0m \u001b[1;33m=\u001b[0m \u001b[0mnp\u001b[0m\u001b[1;33m.\u001b[0m\u001b[0marray\u001b[0m\u001b[1;33m(\u001b[0m\u001b[1;33m[\u001b[0m\u001b[1;33m[\u001b[0m\u001b[1;36m1\u001b[0m\u001b[1;33m,\u001b[0m\u001b[1;36m0\u001b[0m\u001b[1;33m,\u001b[0m\u001b[1;36m0\u001b[0m\u001b[1;33m]\u001b[0m\u001b[1;33m,\u001b[0m\u001b[1;33m[\u001b[0m\u001b[1;36m0\u001b[0m\u001b[1;33m,\u001b[0m\u001b[1;36m1\u001b[0m\u001b[1;33m,\u001b[0m\u001b[1;36m0\u001b[0m\u001b[1;33m]\u001b[0m\u001b[1;33m]\u001b[0m\u001b[1;33m)\u001b[0m\u001b[1;33m\u001b[0m\u001b[1;33m\u001b[0m\u001b[0m\n\u001b[1;32m----> 2\u001b[1;33m \u001b[0mnp\u001b[0m\u001b[1;33m.\u001b[0m\u001b[0mlinalg\u001b[0m\u001b[1;33m.\u001b[0m\u001b[0mdet\u001b[0m\u001b[1;33m(\u001b[0m\u001b[0me\u001b[0m\u001b[1;33m)\u001b[0m\u001b[1;33m\u001b[0m\u001b[1;33m\u001b[0m\u001b[0m\n\u001b[0m",
      "\u001b[1;32m<__array_function__ internals>\u001b[0m in \u001b[0;36mdet\u001b[1;34m(*args, **kwargs)\u001b[0m\n",
      "\u001b[1;32m~\\anaconda3\\lib\\site-packages\\numpy\\linalg\\linalg.py\u001b[0m in \u001b[0;36mdet\u001b[1;34m(a)\u001b[0m\n\u001b[0;32m   2153\u001b[0m     \u001b[0ma\u001b[0m \u001b[1;33m=\u001b[0m \u001b[0masarray\u001b[0m\u001b[1;33m(\u001b[0m\u001b[0ma\u001b[0m\u001b[1;33m)\u001b[0m\u001b[1;33m\u001b[0m\u001b[1;33m\u001b[0m\u001b[0m\n\u001b[0;32m   2154\u001b[0m     \u001b[0m_assert_stacked_2d\u001b[0m\u001b[1;33m(\u001b[0m\u001b[0ma\u001b[0m\u001b[1;33m)\u001b[0m\u001b[1;33m\u001b[0m\u001b[1;33m\u001b[0m\u001b[0m\n\u001b[1;32m-> 2155\u001b[1;33m     \u001b[0m_assert_stacked_square\u001b[0m\u001b[1;33m(\u001b[0m\u001b[0ma\u001b[0m\u001b[1;33m)\u001b[0m\u001b[1;33m\u001b[0m\u001b[1;33m\u001b[0m\u001b[0m\n\u001b[0m\u001b[0;32m   2156\u001b[0m     \u001b[0mt\u001b[0m\u001b[1;33m,\u001b[0m \u001b[0mresult_t\u001b[0m \u001b[1;33m=\u001b[0m \u001b[0m_commonType\u001b[0m\u001b[1;33m(\u001b[0m\u001b[0ma\u001b[0m\u001b[1;33m)\u001b[0m\u001b[1;33m\u001b[0m\u001b[1;33m\u001b[0m\u001b[0m\n\u001b[0;32m   2157\u001b[0m     \u001b[0msignature\u001b[0m \u001b[1;33m=\u001b[0m \u001b[1;34m'D->D'\u001b[0m \u001b[1;32mif\u001b[0m \u001b[0misComplexType\u001b[0m\u001b[1;33m(\u001b[0m\u001b[0mt\u001b[0m\u001b[1;33m)\u001b[0m \u001b[1;32melse\u001b[0m \u001b[1;34m'd->d'\u001b[0m\u001b[1;33m\u001b[0m\u001b[1;33m\u001b[0m\u001b[0m\n",
      "\u001b[1;32m~\\anaconda3\\lib\\site-packages\\numpy\\linalg\\linalg.py\u001b[0m in \u001b[0;36m_assert_stacked_square\u001b[1;34m(*arrays)\u001b[0m\n\u001b[0;32m    201\u001b[0m         \u001b[0mm\u001b[0m\u001b[1;33m,\u001b[0m \u001b[0mn\u001b[0m \u001b[1;33m=\u001b[0m \u001b[0ma\u001b[0m\u001b[1;33m.\u001b[0m\u001b[0mshape\u001b[0m\u001b[1;33m[\u001b[0m\u001b[1;33m-\u001b[0m\u001b[1;36m2\u001b[0m\u001b[1;33m:\u001b[0m\u001b[1;33m]\u001b[0m\u001b[1;33m\u001b[0m\u001b[1;33m\u001b[0m\u001b[0m\n\u001b[0;32m    202\u001b[0m         \u001b[1;32mif\u001b[0m \u001b[0mm\u001b[0m \u001b[1;33m!=\u001b[0m \u001b[0mn\u001b[0m\u001b[1;33m:\u001b[0m\u001b[1;33m\u001b[0m\u001b[1;33m\u001b[0m\u001b[0m\n\u001b[1;32m--> 203\u001b[1;33m             \u001b[1;32mraise\u001b[0m \u001b[0mLinAlgError\u001b[0m\u001b[1;33m(\u001b[0m\u001b[1;34m'Last 2 dimensions of the array must be square'\u001b[0m\u001b[1;33m)\u001b[0m\u001b[1;33m\u001b[0m\u001b[1;33m\u001b[0m\u001b[0m\n\u001b[0m\u001b[0;32m    204\u001b[0m \u001b[1;33m\u001b[0m\u001b[0m\n\u001b[0;32m    205\u001b[0m \u001b[1;32mdef\u001b[0m \u001b[0m_assert_finite\u001b[0m\u001b[1;33m(\u001b[0m\u001b[1;33m*\u001b[0m\u001b[0marrays\u001b[0m\u001b[1;33m)\u001b[0m\u001b[1;33m:\u001b[0m\u001b[1;33m\u001b[0m\u001b[1;33m\u001b[0m\u001b[0m\n",
      "\u001b[1;31mLinAlgError\u001b[0m: Last 2 dimensions of the array must be square"
     ]
    }
   ],
   "source": [
    "e = np.array([[1,0,0],[0,1,0]])\n",
    "np.linalg.det(e)"
   ]
  },
  {
   "cell_type": "code",
   "execution_count": 187,
   "id": "71361f46",
   "metadata": {},
   "outputs": [
    {
     "data": {
      "text/plain": [
       "array([[1, 0, 0],\n",
       "       [0, 1, 0],\n",
       "       [0, 0, 1]])"
      ]
     },
     "execution_count": 187,
     "metadata": {},
     "output_type": "execute_result"
    }
   ],
   "source": [
    "# 행렬식\n",
    "e = np.array([[1,0,0],[0,1,0],[0,0,1]])\n",
    "e"
   ]
  },
  {
   "cell_type": "code",
   "execution_count": 188,
   "id": "c8e3b15c",
   "metadata": {},
   "outputs": [
    {
     "data": {
      "text/plain": [
       "array([[1., 0., 0.],\n",
       "       [0., 1., 0.],\n",
       "       [0., 0., 1.]])"
      ]
     },
     "execution_count": 188,
     "metadata": {},
     "output_type": "execute_result"
    }
   ],
   "source": [
    "# 역행렬\n",
    "e_inv = np.linalg.inv(e)\n",
    "e_inv"
   ]
  },
  {
   "cell_type": "code",
   "execution_count": 189,
   "id": "067a56f3",
   "metadata": {},
   "outputs": [
    {
     "data": {
      "text/plain": [
       "array([[1., 0., 0.],\n",
       "       [0., 1., 0.],\n",
       "       [0., 0., 1.]])"
      ]
     },
     "execution_count": 189,
     "metadata": {},
     "output_type": "execute_result"
    }
   ],
   "source": [
    "# 역행렬 검증\n",
    "e@e_inv"
   ]
  },
  {
   "cell_type": "markdown",
   "id": "c89a6897",
   "metadata": {},
   "source": [
    "#### 과제3\n",
    "\n",
    "아래 두 행렬을 생성해서 각각a1,b1으로 저장하고 행렬 내적을 계산한 결과를 출력하세요.\n",
    "\n",
    "\n",
    "[[1,2,3],[4,5,6]]\n",
    "\n",
    "[[10,11],[12,13],[14,15]]"
   ]
  },
  {
   "cell_type": "code",
   "execution_count": 112,
   "id": "99cd2b4d",
   "metadata": {},
   "outputs": [
    {
     "data": {
      "text/plain": [
       "array([[ 76,  82],\n",
       "       [184, 199]])"
      ]
     },
     "execution_count": 112,
     "metadata": {},
     "output_type": "execute_result"
    }
   ],
   "source": [
    "a1 = np.array([[1,2,3],[4,5,6]])\n",
    "b1 = np.array([[10,11],[12,13],[14,15]])\n",
    "\n",
    "a1.dot(b1)\n",
    "np.dot(a1,b1)"
   ]
  },
  {
   "cell_type": "code",
   "execution_count": null,
   "id": "6994bc6c",
   "metadata": {},
   "outputs": [],
   "source": []
  },
  {
   "cell_type": "code",
   "execution_count": null,
   "id": "4517c2e7",
   "metadata": {},
   "outputs": [],
   "source": []
  },
  {
   "cell_type": "code",
   "execution_count": null,
   "id": "8bdddc05",
   "metadata": {},
   "outputs": [],
   "source": []
  },
  {
   "cell_type": "code",
   "execution_count": null,
   "id": "dc36b4d7",
   "metadata": {},
   "outputs": [],
   "source": []
  }
 ],
 "metadata": {
  "kernelspec": {
   "display_name": "Python 3 (ipykernel)",
   "language": "python",
   "name": "python3"
  },
  "language_info": {
   "codemirror_mode": {
    "name": "ipython",
    "version": 3
   },
   "file_extension": ".py",
   "mimetype": "text/x-python",
   "name": "python",
   "nbconvert_exporter": "python",
   "pygments_lexer": "ipython3",
   "version": "3.9.13"
  }
 },
 "nbformat": 4,
 "nbformat_minor": 5
}
