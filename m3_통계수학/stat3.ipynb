{
 "cells": [
  {
   "cell_type": "markdown",
   "id": "1143b475",
   "metadata": {},
   "source": [
    ";ㅁ;"
   ]
  },
  {
   "cell_type": "code",
   "execution_count": 1,
   "id": "33727a08",
   "metadata": {},
   "outputs": [
    {
     "data": {
      "text/html": [
       "<style>.container { width:100% !important; }</style>"
      ],
      "text/plain": [
       "<IPython.core.display.HTML object>"
      ]
     },
     "metadata": {},
     "output_type": "display_data"
    }
   ],
   "source": [
    "#창 크게 맞게 주피터창 조절\n",
    "from IPython.display import display, HTML\n",
    "display(HTML(\"<style>.container { width:100% !important; }</style>\"))"
   ]
  },
  {
   "cell_type": "markdown",
   "id": "6d9e5588",
   "metadata": {},
   "source": [
    "#### z검정\n",
    ": 모집단의 분산을 알고 있을 때, 모집단의 평균에 대한 가설을 검정하는데 사용합니다.\n",
    "\n",
    "#### 일표본 t검정\n",
    ": 모집단의 분산을 모를 때, 모집단의 평균에 대한 가설을 검정하는데 사용합니다.\n",
    "\n",
    "#### 단일표본 t검정\n",
    ": 모집단의 분산을 모를 때, 모집단의 평균이 기준값과 같은지 검정하는데 사용합니다.\n",
    "\n",
    "#### 대응표본 t검정\n",
    ": 두 개의 짝을 이룬 표본의 차이에 대한 평균값이 0인지 검정하는데 사용합니다.(두 표본이 같은지 아닌지)\n",
    "\n",
    "#### 독립표본 t검정\n",
    ": 두 개의 독립된 표본의 평균이 같은지 검정하는데 사용합니다.\n",
    "\n",
    "#### 양측 t검정\n",
    ": 검정 대상인 모집단 평균이 두 개 이상의 값일 수 있으며, 가설을 양측으로 설정하여 검정하는데 사용합니다.\n",
    "\n",
    "#### 단측 t검정\n",
    ": 검정 대상인 모집단 평균이 특정 방향으로만 편향될 가능성이 있는 경우, 가설을 한쪽 방향으로 설정하여 검정하는데 사용합니다.\n",
    "\n",
    "#### 카이제곱검정\n",
    ": 변수 간의 연관성이 있는지 검정하는데 사용합니다. 일반적으로는 분할표 형태로 제공되며, 두 변수 간의 관계를 검정하여 유의한 차이가 있는지 확인합니다.\n"
   ]
  },
  {
   "cell_type": "markdown",
   "id": "d45d37c3",
   "metadata": {},
   "source": [
    "## 통계적 가설검정이란\n",
    "모집단의 모수에 관하여 두가지 가설을 세우고 표본으로부터 계산되는 통계량을 이용하여 어느 가설이 옳은지 판단하는 통계적인 방법\n",
    "- 검정통계량 vs 임곗값\n",
    "- p값 vs 유의수준"
   ]
  },
  {
   "cell_type": "markdown",
   "id": "416b7f96",
   "metadata": {},
   "source": [
    "통계적 가설 검정은, 모집단의 특성에 대한 가설을 세우고, 이 가설이 옳은지 여부를 검정하는 과정입니다. 이 과정에서는 표본 데이터를 이용하여 모집단의 특성을 추정하고, 추정한 결과를 바탕으로 가설을 세우고 검정합니다.\n",
    "\n",
    "- 가설 검정에서는 대개 두 개의 가설을 세웁니다. 이 중에서 귀무가설(null hypothesis)은 일반적으로 채택되어져 있는 가설로, 이를 기각하기 위해서는 통계적으로 유의한 증거가 필요합니다. 대립가설(alternative hypothesis)은 귀무가설과 반대되는 가설로, 이 가설이 옳은지 검정하는 것이 목적입니다.\n",
    "\n",
    "- 가설 검정에서는 먼저, 검정통계량(test statistic)을 계산합니다. 검정통계량은 표본 데이터를 이용하여 계산되는 통계량으로, 이를 통해 귀무가설이 맞는지 여부를 판단합니다. 검정통계량의 값이 특정 기준값(임계치)보다 작거나 크면, 귀무가설을 기각할 수 있습니다. 이 기준값은 보통 유의수준(significance level)이라고 불리며, 보통 0.05나 0.01로 설정됩니다. 이러한 유의수준은 귀무가설을 잘못 기각할 확률을 의미합니다.\n",
    "\n",
    "- 가설 검정에서는 또한, 검정통계량의 분포를 이용하여 p값(p-value)을 계산합니다. p값은 귀무가설이 옳은데도 불구하고, 검정통계량이 현재 값 이상이 나올 확률을 의미합니다. 만약 p값이 유의수준보다 작으면, 귀무가설을 기각할 수 있습니다. 반대로, p값이 유의수준보다 크다면, 귀무가설을 기각할 수 없습니다.\n",
    "\n",
    "- 가설 검정은 통계학에서 매우 중요한 개념 중 하나로, 데이터 분석의 근간을 이루는 기술 중 하나입니다. 특히, 가설 검정은 과학적인 사실을 검증하고, 의사결정을 하기 위해 필요한 중요한 도구입니다."
   ]
  },
  {
   "cell_type": "markdown",
   "id": "615dc01d",
   "metadata": {},
   "source": [
    "#### z-검정 vs t-검정\n",
    "- z-검정은 모집단의 분산이 알려져 있을 때 사용할 수 있는 검정 방법입니다. 예를 들어, 어떤 특성에 대한 모집단 분포가 정규분포를 따른다는 가정하에, 표본의 평균을 이용하여 모집단 평균을 추론하는 경우에 사용됩니다. 이때 표본 크기가 충분히 크다면, 중심극한정리에 따라 표본평균이 정규분포를 따르기 때문에 z-검정을 사용할 수 있습니다. z-검정은 검정통계량으로 z-score(표준정규분포 상에서의 위치)를 사용하며, z-score가 임계치보다 큰지 여부로 가설검정을 수행합니다.\n",
    "\n",
    "- t-검정은 모집단의 분산이 알려져 있지 않을 때 사용할 수 있는 검정 방법입니다. 예를 들어, 표본의 크기가 작거나 모집단이 정규분포를 따르지 않는 경우 t-검정을 사용할 수 있습니다. t-검정은 검정통계량으로 t-score(표준정규분포 대신 t-분포 상에서의 위치)를 사용하며, t-score가 임계치보다 큰지 여부로 가설검정을 수행합니다. t-검정에서 사용되는 임계치는 자유도(degree of freedom)와 유의수준에 따라 달라집니다.\n",
    "\n",
    "- 따라서, z-검정은 모집단 분산이 알려져 있을 때, t-검정은 모집단 분산이 알려져 있지 않을 때 사용됩니다. 또한, t-검정은 표본 크기가 크면 z-검정과 유사한 결과를 보여줄 수 있습니다.\n",
    "    - z_score = (sample_mean - mu) / (sigma / np.sqrt(sample_size))\n",
    "    - t_score = (sample_mean - mu) / (sample_std / np.sqrt(sample_size))"
   ]
  },
  {
   "cell_type": "markdown",
   "id": "feb0d6e2",
   "metadata": {},
   "source": [
    "sigma = 모표준편차\n",
    "sample_std = 표본표준편차"
   ]
  },
  {
   "cell_type": "markdown",
   "id": "e2a04310",
   "metadata": {},
   "source": [
    "sf: survival function 생존함수 확률분포함수 중 하나.\n",
    "    특정값보다 큰 값을 가질 확률\n",
    "    \n",
    "isf: sf의 역함수"
   ]
  },
  {
   "cell_type": "markdown",
   "id": "169377b7",
   "metadata": {},
   "source": [
    "z검정 임계값"
   ]
  },
  {
   "cell_type": "code",
   "execution_count": 1,
   "id": "a953bd6f",
   "metadata": {
    "scrolled": true
   },
   "outputs": [
    {
     "name": "stdout",
     "output_type": "stream",
     "text": [
      "0.95\n"
     ]
    }
   ],
   "source": [
    "# sf 함수는 \"Survival Function\"의 약어로, 확률 분포 함수 중 하나입니다. \n",
    "# 이 함수는 특정 값보다 큰 값을 가지는 확률\n",
    "import scipy.stats as stats\n",
    "\n",
    "x = -1.6448536269514722\n",
    "p=stats.norm.sf(x)\n",
    "\n",
    "print(p)\n"
   ]
  },
  {
   "cell_type": "code",
   "execution_count": 5,
   "id": "f21a6cd2",
   "metadata": {},
   "outputs": [
    {
     "name": "stdout",
     "output_type": "stream",
     "text": [
      "-1.959963984540054\n"
     ]
    },
    {
     "data": {
      "text/plain": [
       "1.9599639845400545"
      ]
     },
     "execution_count": 5,
     "metadata": {},
     "output_type": "execute_result"
    }
   ],
   "source": [
    "# isf: sf의 역함수, 유의수준 0.05\n",
    "th1 = stats.norm.isf(1-0.05/2) # 0.975 하측 임계값? => 시그마 값이어서 분포와 다른 개념\n",
    "print(th1)\n",
    "th2 = stats.norm.isf(0.05/2) # 0.025 상측 임계값?\n",
    "th2 # 유의수준"
   ]
  },
  {
   "cell_type": "code",
   "execution_count": 11,
   "id": "5b53c436",
   "metadata": {},
   "outputs": [
    {
     "data": {
      "text/plain": [
       "0.025"
      ]
     },
     "execution_count": 11,
     "metadata": {},
     "output_type": "execute_result"
    }
   ],
   "source": [
    "x = 1.959963984540054\n",
    "p = stats.norm.sf(x)\n",
    "p"
   ]
  },
  {
   "cell_type": "code",
   "execution_count": 12,
   "id": "2877b9c2",
   "metadata": {},
   "outputs": [
    {
     "data": {
      "text/plain": [
       "0.975"
      ]
     },
     "execution_count": 12,
     "metadata": {},
     "output_type": "execute_result"
    }
   ],
   "source": [
    "x = -1.959963984540054\n",
    "p = stats.norm.sf(x)\n",
    "p"
   ]
  },
  {
   "cell_type": "code",
   "execution_count": 13,
   "id": "edbd25b2",
   "metadata": {},
   "outputs": [
    {
     "data": {
      "text/plain": [
       "-1.959963984540054"
      ]
     },
     "execution_count": 13,
     "metadata": {},
     "output_type": "execute_result"
    }
   ],
   "source": [
    "p = stats.norm.isf(0.975)\n",
    "p\n",
    "# 0.025만 빼고 나머지를 다 주면 해당되는 분위값이 나온다.."
   ]
  },
  {
   "cell_type": "code",
   "execution_count": 14,
   "id": "cbb3c1ff",
   "metadata": {},
   "outputs": [
    {
     "data": {
      "text/plain": [
       "1.959963984540054"
      ]
     },
     "execution_count": 14,
     "metadata": {},
     "output_type": "execute_result"
    }
   ],
   "source": [
    "p = stats.norm.isf(1-0.975)\n",
    "p\n",
    "#반대로 할 때에는 1에서 빼준다"
   ]
  },
  {
   "cell_type": "code",
   "execution_count": 17,
   "id": "231c034e",
   "metadata": {},
   "outputs": [
    {
     "data": {
      "image/png": "[encoded data removed]",
      "text/plain": [
       "<Figure size 640x480 with 1 Axes>"
      ]
     },
     "metadata": {},
     "output_type": "display_data"
    }
   ],
   "source": [
    "import numpy as np\n",
    "import matplotlib.pyplot as plt\n",
    "x_plot = np.arange(-3,3,0.1)\n",
    "plt.plot(x_plot,stats.norm.pdf(x=x_plot,loc=0,scale=1),color='black')\n",
    "plt.axvline(th1, color='red', linestyle='--', label='임계값')\n",
    "plt.axvline(th2, color='red', linestyle='--', label='임계값')\n",
    "plt.show()"
   ]
  },
  {
   "cell_type": "markdown",
   "id": "fffeae45",
   "metadata": {},
   "source": [
    "신뢰수준이 95이고 양측검정일 때 0.975 & 1-0.975 사용하면 됨\n",
    "상측값&하측값 구해서 그 값들보다 크면 귀무가설 기각\n",
    "\n",
    "임계값은 isf로 구한다\n",
    "\n",
    "단측검정이면 한 쪽만 !!"
   ]
  },
  {
   "cell_type": "code",
   "execution_count": 18,
   "id": "1f810db7",
   "metadata": {
    "scrolled": true
   },
   "outputs": [
    {
     "data": {
      "image/png": "[encoded data removed]",
      "text/plain": [
       "<Figure size 640x480 with 1 Axes>"
      ]
     },
     "metadata": {},
     "output_type": "display_data"
    },
    {
     "name": "stdout",
     "output_type": "stream",
     "text": [
      "-2.5758293035489004\n",
      "2.575829303548901\n"
     ]
    }
   ],
   "source": [
    "# 99%\n",
    "t1 = stats.norm.isf(1-0.01/2) # 하측 임계값\n",
    "t2 = stats.norm.isf(0.01/2) # 상측 임계값\n",
    "\n",
    "x_plot = np.arange(-4,4,0.1)\n",
    "plt.plot(x_plot,stats.norm.pdf(x=x_plot,loc=0,scale=1),color='black')\n",
    "plt.axvline(th1, color='red', linestyle='--', label='임계값')\n",
    "plt.axvline(th2, color='red', linestyle='--', label='임계값')\n",
    "plt.show()\n",
    "\n",
    "print(t1)\n",
    "print(t2)"
   ]
  },
  {
   "cell_type": "code",
   "execution_count": 4,
   "id": "ec597162",
   "metadata": {
    "scrolled": true
   },
   "outputs": [
    {
     "name": "stdout",
     "output_type": "stream",
     "text": [
      "검정통계량: 0.4273125348170055\n",
      "유의확률: 0.33457585205872553\n",
      "임계값: (-1.959963984540054, 1.959963984540054)\n"
     ]
    }
   ],
   "source": [
    "import numpy as np\n",
    "from scipy.stats import norm\n",
    "\n",
    "# 모집단의 평균과 표준편차를 지정합니다.\n",
    "mu = 100\n",
    "sigma = 10 # 얘는 기본적으로 알고있다는 가정\n",
    "\n",
    "# 표본 데이터를 생성합니다.\n",
    "sample_size=100\n",
    "sample= np.random.normal(mu,sigma,sample_size)\n",
    "\n",
    "# 표본평균과 표준편차를 계산합니다.\n",
    "sample_mean = np.mean(sample)\n",
    "sample_std = np.std(sample, ddof=1)\n",
    "\n",
    "# 검정통계량과 유의확률을 계산합니다.\n",
    "z= (sample_mean-mu) / (sigma/np.sqrt(sample_size)) #z_score를 구한다\n",
    "p_value = 1-norm.cdf(z) \n",
    "\n",
    "print('검정통계량:',z)\n",
    "print('유의확률:', p_value)\n",
    "\n",
    "alpha=0.05 #유의수준\n",
    "critical_value = norm.ppf(1-alpha/2) #임계값\n",
    "# critical_value = norm.ppf(alpha/2) 똑같음\n",
    "lower_bound = -critical_value #부호만 다르고 똑같음\n",
    "upper_bound = critical_value \n",
    "\n",
    "print(f\"임계값: ({lower_bound}, {upper_bound})\")\n",
    "# 위 코드를 실행하면 다음과 같은 결과가 나타납니다.\n",
    "\n",
    "#임계값: (-1.959963984540054, 1.959963984540054) \n",
    "# 범위내 z score가 있으므로 귀무가설을 기각할 수 없음\n",
    "# p값이 0.05 보다 크므로 귀무가설을 기각할 수 없음"
   ]
  },
  {
   "cell_type": "markdown",
   "id": "727403f0",
   "metadata": {},
   "source": [
    "위 코드추가설명\n",
    "\n",
    "- 검정통계량 z 값과 유의수준(α)에 따라서 임계값을 계산할 수 있습니다. \n",
    "- 보통 α=0.05로 설정하여 유의수준이 5%일 때, 양측검정을 할 경우 임계값은 ±1.96이 됩니다.\n",
    "\n",
    "- 만약 단측검정을 수행한다면, 유의수준(α)과 검정 방향에 따라서 임계값이 달라집니다. \n",
    "- 예를 들어, 유의수준이 5%이고, 검정 방향이 오른쪽(대립가설: 평균 > 기준값)인 경우에는 임계값이 1.645가 됩니다.\n",
    "- 따라서, 해당 코드에서는 양측검정을 수행하므로, 임계값은 ±1.96이 됩니다. 이를 코드로 나타내면 다음과 같습니다."
   ]
  },
  {
   "cell_type": "markdown",
   "id": "e56234b1",
   "metadata": {},
   "source": [
    "t검정 임계값\n",
    "\n",
    "t검정에서는 검정통계량(t-score)을 사용하여 가설검정을 수행합니다. 이 때, 검정통계량은 t분포를 따르므로 \n",
    "\n",
    "유의수준과 검정방향(양측/단측)에 따라 t분포의 분위수를 사용하여 임계값을 결정한다."
   ]
  },
  {
   "cell_type": "code",
   "execution_count": 21,
   "id": "4724b5ec",
   "metadata": {},
   "outputs": [
    {
     "name": "stdout",
     "output_type": "stream",
     "text": [
      "검정통계량: -1.7554499620077575\n",
      "유의확률: 0.09529259522926203\n"
     ]
    }
   ],
   "source": [
    "import numpy as np\n",
    "from scipy.stats import t\n",
    "\n",
    "# 모집단의 평균을 지정합니다.\n",
    "mu = 100\n",
    "\n",
    "# 표본 데이터를 생성합니다.\n",
    "sample_size=20\n",
    "sample= np.random.normal(mu,10,sample_size)\n",
    "\n",
    "# 표본 평균과 표준편차를 계산합니다.\n",
    "sample_mean = np.mean(sample)\n",
    "sample_std = np.std(sample, ddof=1)\n",
    "\n",
    "# 검정통계량과 유의확률을 계산합니다.\n",
    "t_score= (sample_mean-mu) / (sigma/np.sqrt(sample_size))\n",
    "p_value = 2* (1 - t.cdf(abs(t_score),df=sample_size-1))\n",
    "\n",
    "print('검정통계량:',t_score)\n",
    "print('유의확률:', p_value)"
   ]
  },
  {
   "cell_type": "code",
   "execution_count": 23,
   "id": "d5bc005d",
   "metadata": {},
   "outputs": [
    {
     "name": "stdout",
     "output_type": "stream",
     "text": [
      "임계값: -2.0930240544082634 2.093024054408263\n"
     ]
    }
   ],
   "source": [
    "# 양측검정\n",
    "import numpy as np\n",
    "from scipy.stats import t\n",
    "\n",
    "alpha = 0.05 #유의수준\n",
    "df =19 # 자유도\n",
    "t_crit1 = t.ppf(alpha/2, df) #양측 검정의 임계값(하)\n",
    "t_crit2 = t.ppf(1- alpha/2, df) #상\n",
    "print('임계값:',t_crit1,t_crit2)"
   ]
  },
  {
   "cell_type": "code",
   "execution_count": 24,
   "id": "f65c4f4a",
   "metadata": {
    "scrolled": true
   },
   "outputs": [
    {
     "data": {
      "text/plain": [
       "1.729132811521367"
      ]
     },
     "execution_count": 24,
     "metadata": {},
     "output_type": "execute_result"
    }
   ],
   "source": [
    "# 우측 단측검정\n",
    "import numpy as np\n",
    "from scipy.stats import t\n",
    "alpha = 0.05 #유의수준\n",
    "df =19 # 자유도\n",
    "t_crit1 = t.ppf(1-alpha, df) # 우측단측\n",
    "t_crit1"
   ]
  },
  {
   "cell_type": "markdown",
   "id": "3ab36d45",
   "metadata": {},
   "source": [
    "통계적으로 유의미하다 / 하지 않다라는 표현을 하는 이유 -> 확률이니까~!"
   ]
  },
  {
   "cell_type": "markdown",
   "id": "d84d7c87",
   "metadata": {},
   "source": [
    "z -> isf\n",
    "t -> ppf 라서 임계값이 하/상측 헷갈릴 수 있음.\n",
    "1-하는거 헷갈리지마~~~~~~~~~~~~~~~~~~~~~"
   ]
  },
  {
   "cell_type": "markdown",
   "id": "17ac6877",
   "metadata": {},
   "source": [
    "## p-value를 계산하고 검정을 수행하는 방법\n",
    "t.cdf() 함수를 이용하여 t-분포의 누적분포함수(cumulative distribution function) 값을 계산합니다. 그리고 p-value는 양측검정 이므로, 계산된 누적분포함수 값에서 양쪽 꼬리 면적을 고려하여 2를 곱합니다.\n",
    "\n",
    "계산된 p-value는 유의수준(alpha)와 비교하여 검정을 수행합니다. 만약 p-value가 alpha보다 작으면, 귀무가설을 기각하고 대립가설을 채택합니다. 그 반대로, p-value가 alpha보다 크면, 귀무가설을 채택"
   ]
  },
  {
   "cell_type": "code",
   "execution_count": 2,
   "id": "1bb90249",
   "metadata": {},
   "outputs": [
    {
     "name": "stdout",
     "output_type": "stream",
     "text": [
      "귀무가설 채택: 표본평균과 모집단평균은 차이가 없습니다.\n"
     ]
    }
   ],
   "source": [
    "# 임계값 기준으로 검정\n",
    "# 모표준편차가 알려져 있는 경우, \n",
    "# z-검정 사용하지만 샘플 수가 적은 경우는 t-검정을 사용할 수 있다.(예외)\n",
    "\n",
    "import numpy as np\n",
    "from scipy.stats import norm\n",
    "from scipy.stats import t\n",
    "\n",
    "# 모집단 평균과 표준편차를 지정합니다.\n",
    "mu = 100\n",
    "sigma = 10\n",
    "\n",
    "# 표본 데이터를 생성합니다.\n",
    "sample_size=20\n",
    "sample= np.random.normal(mu,sigma,sample_size)\n",
    "\n",
    "# 표본 평균과 표준오차를 계산합니다.\n",
    "sample_mean = np.mean(sample)\n",
    "sample_std = np.std(sample, ddof=1)\n",
    "standard_error = sample_std/np.sqrt(sample_size)\n",
    "\n",
    "# 검정통계량을 계산합니다.\n",
    "t_score= (sample_mean-mu) / standard_error\n",
    "\n",
    "# 유의수준과 검정 방향을 설정합니다.\n",
    "alpha = 0.05 # 95% 신뢰수준\n",
    "tail = 'two' # 양측검정\n",
    "\n",
    "# 임계값을 계산합니다.\n",
    "if tail =='two':\n",
    "    t_crit = t.ppf(1-alpha/2, df=sample_size-1)\n",
    "else:\n",
    "    t_crit = t.ppf(1-alpha, df=sample_size-1)\n",
    "\n",
    "# 검정결과를 출력합니다.\n",
    "if abs(t_score) > t_crit:\n",
    "    print('귀무가설 기각: 표본평균과 모집단평균은 유의하게 다릅니다.')\n",
    "else:\n",
    "    print('귀무가설 채택: 표본평균과 모집단평균은 차이가 없습니다.')\n",
    "\n"
   ]
  },
  {
   "cell_type": "code",
   "execution_count": 26,
   "id": "cce1f3b5",
   "metadata": {},
   "outputs": [
    {
     "name": "stdout",
     "output_type": "stream",
     "text": [
      "귀무가설 기각: p_value는 0.28 이며, 표본평균과 모집단평균은 유의하게 다릅니다.\n"
     ]
    }
   ],
   "source": [
    "# p_value를 구해서 검정을 시행\n",
    "\n",
    "import numpy as np\n",
    "from scipy.stats import t\n",
    "\n",
    "# 모집단 평균과 표준편차를 지정합니다.\n",
    "mu = 100\n",
    "sigma = 10\n",
    "\n",
    "# 표본 데이터를 생성합니다.\n",
    "sample_size=20\n",
    "sample= np.random.normal(mu,sigma,sample_size)\n",
    "\n",
    "# 표본 평균과 표준오차를 계산합니다.\n",
    "sample_mean = np.mean(sample)\n",
    "sample_std = np.std(sample, ddof=1)\n",
    "standard_error = sample_std/np.sqrt(sample_size)\n",
    "\n",
    "# 검정통계량과 p-value를 계산합니다.\n",
    "t_score= (sample_mean-mu) / standard_error\n",
    "p_value = 2*(1-t.cdf(abs(t_score),df=sample_size-1))\n",
    "\n",
    "# 유의수준을 설정합니다.\n",
    "alpha = 0.05\n",
    "\n",
    "# 검정결과를 출력합니다.\n",
    "if p_value > alpha:\n",
    "    print('귀무가설 기각: p_value는',round(p_value,2),'이며, 표본평균과 모집단평균은 유의하게 다릅니다.')\n",
    "else:\n",
    "    print('귀무가설 기각: p_value는',round(p_value,2),'이며, 표본평균과 모집단평균은 차이가 없습니다.')\n"
   ]
  },
  {
   "cell_type": "markdown",
   "id": "9b86b7d8",
   "metadata": {},
   "source": [
    "- 귀무가설 대립가설\n",
    "    - 기각 대상이 되는 첫번째 가설을 귀무가설, 귀무가설과 대립되는 가설을 대립가설이라고 함\n",
    "    - 귀무가설이 기각된다면 즉 귀무가설이 틀렸다고 판단을 하면 유의미한 차이가 있다는 것임\n",
    "- p값(유의확률) : 표본과 귀무가설 간의 모순을 나타내는 지표\n",
    "    - p값이 작을수록 귀무가설과 표본이 모순된다고 판단\n",
    "- 유의수준 : 귀무가설을 기각하는 기준이 되는 값\n",
    "    - 유의수준은 위험률이라고 하며 5%를 사용하는 경우가 많음"
   ]
  },
  {
   "cell_type": "markdown",
   "id": "f205b338",
   "metadata": {},
   "source": [
    "일표본t검정\n",
    "\n",
    "일표본 t-검정은 하나의 표본에 대해 평균이 특정 값과 다른지 검정하는 방법입니다. 가설검정의 절차는 다음과 같습니다.\n",
    "- 귀무가설과 대립가설 설정\n",
    "- 유의 수준 결정\n",
    "- 검정통계량(t-값) 계산\n",
    "- 임계값과 비교\n",
    "- 검정결과 판단 및 결론 도출"
   ]
  },
  {
   "cell_type": "markdown",
   "id": "d595748a",
   "metadata": {},
   "source": [
    "일표본(One-sample)이란, 통계적 추론에서 사용되는 용어 중 하나로, 분석하고자 하는 모집단으로부터 하나의 표본을 추출하여 해당 표본을 토대로 모집단의 특성을 추론하는 방법을 말합니다."
   ]
  },
  {
   "cell_type": "code",
   "execution_count": 4,
   "id": "ec00277c",
   "metadata": {
    "scrolled": true
   },
   "outputs": [
    {
     "name": "stdout",
     "output_type": "stream",
     "text": [
      "표본평균: 10.610000000000001\n",
      "표본표준편차: 0.5820461990063828\n",
      "t-값: 3.3141516532462774\n",
      "임계값: -2.262157162740992 2.2621571627409915\n",
      "p-value: 0.009024007157468749\n",
      "유의수준 0.05에서 검정통계량은 임계값보다 크므로 귀무가설 기각\n"
     ]
    }
   ],
   "source": [
    "# 일표본 t-검정\n",
    "import numpy as np\n",
    "from scipy.stats import t\n",
    "\n",
    "#샘플 데이터 생성\n",
    "sample_data = np.array([10.8, 9.5, 11.2, 10.5, 11.3, 10.7, 10.9, 9.8, 11.0, 10.4])\n",
    "\n",
    "#귀무가설: 표본 평균은 10과 같다.\n",
    "# 대립가설: 표본 평균은 1001 아니다. \n",
    "mu= 10 # 귀무가설에 따른 평균값 \n",
    "alpha = 0.05 # +2\n",
    "sample_mean = np. mean (sample_data) # 표본평균\n",
    "sample_std = np.std (sample_data, ddof=1) #표본표준편차\n",
    "df = len(sample_data) - 1 # 자유도\n",
    "t_value = (sample_mean - mu) / (sample_std/ np.sqrt(len(sample_data))) #검정통계량\n",
    "t_crit1 = t.ppf(alpha/2, df) #임계값\n",
    "t_crit2 = t.ppf(1-alpha/2, df)\n",
    "p_value = t.sf (abs(t_value), df) * 2 # p-value\n",
    "\n",
    "# 결과 출력\n",
    "print('표본평균:', sample_mean)\n",
    "print('표본표준편차:', sample_std)\n",
    "print('t-값:', t_value)\n",
    "print('임계값:', t_crit1, t_crit2) # 하측 임계값, 상측 임계값\n",
    "print('p-value:', p_value)\n",
    "\n",
    "if abs(t_value) > t_crit2:\n",
    "    print('유의수준 {}에서 검정통계량은 임계값보다 크므로 귀무가설 기각'.format(alpha))\n",
    "else:\n",
    "    print('유의수준 {}에서 검정통계량은 임계값보다 작으므로 귀무가설 채택'.format(alpha))"
   ]
  },
  {
   "cell_type": "code",
   "execution_count": 6,
   "id": "47c6221d",
   "metadata": {},
   "outputs": [],
   "source": [
    "import matplotlib.pyplot as plt\n",
    "from matplotlib import rc\n",
    "\n",
    "rc('font',family='Malgun Gothic')  # 한글 폰트 설정\n",
    "plt.rcParams['axes.unicode_minus'] = False # 마이너스 부호 출력 설정"
   ]
  },
  {
   "cell_type": "code",
   "execution_count": 6,
   "id": "b6eeee56",
   "metadata": {},
   "outputs": [
    {
     "name": "stdout",
     "output_type": "stream",
     "text": [
      "t_value: 3.31\n",
      "임계값: -2.262157162740992 2.2621571627409915\n",
      "p_value: 0.01\n"
     ]
    }
   ],
   "source": [
    "# 과제1 \n",
    "# t분포 확률밀도 함수를 그래프로 그리고 그 위에 t_value와 임계값을 vline으로 표시하세요.\n",
    "\n",
    "import matplotlib.pyplot as plt\n",
    "from matplotlib import rc\n",
    "\n",
    "rc('font',family='Malgun Gothic')  # 한글 폰트 설정\n",
    "plt.rcParams['axes.unicode_minus'] = False # 마이너스 부호 출력 설정\n",
    "\n",
    "sample_data = np.array([10.8, 9.5, 11.2, 10.5, 11.3, 10.7, 10.9, 9.8, 11.0, 10.4])\n",
    "mu = 10  # 귀무가설에 따른 평균값\n",
    "alpha = 0.05  # 유의 수준\n",
    "sample_mean = np.mean(sample_data)  # 표본평균\n",
    "sample_std = np.std(sample_data, ddof=1)  # 표본표준편차\n",
    "df = len(sample_data) - 1  # 자유도\n",
    "t_value = (sample_mean - mu) / (sample_std / np.sqrt(len(sample_data)))  # 검정통계량\n",
    "t_crit1 = t.ppf(alpha/2, df) # 임계값\n",
    "t_crit2 = t.ppf(1-alpha/2, df) \n",
    "p_value = t.sf(abs(t_value), df) * 2  # p-value\n",
    "print('t_value:', round(t_value,2))\n",
    "print('임계값:', t_crit1, t_crit2)\n",
    "print('p_value:', round(p_value,2))"
   ]
  },
  {
   "cell_type": "markdown",
   "id": "85c61719",
   "metadata": {},
   "source": [
    "#### 대응표본 t-검정(Paired samples t-test) \n",
    "동일한 개체나 집단에서, 두 조건의 차이에 대한 검정 방법입니다. \n",
    "예를 들어, 특정 약의 효과를 검증하기 위해, 약을 복용하기 전과 후의 체온을 측정한 경우에 대응표본 t-검정을 사용할 수 있습니다."
   ]
  },
  {
   "cell_type": "code",
   "execution_count": 15,
   "id": "b66b7cb5",
   "metadata": {},
   "outputs": [
    {
     "data": {
      "text/html": [
       "<div>\n",
       "<style scoped>\n",
       "    .dataframe tbody tr th:only-of-type {\n",
       "        vertical-align: middle;\n",
       "    }\n",
       "\n",
       "    .dataframe tbody tr th {\n",
       "        vertical-align: top;\n",
       "    }\n",
       "\n",
       "    .dataframe thead th {\n",
       "        text-align: right;\n",
       "    }\n",
       "</style>\n",
       "<table border=\"1\" class=\"dataframe\">\n",
       "  <thead>\n",
       "    <tr style=\"text-align: right;\">\n",
       "      <th></th>\n",
       "      <th>person</th>\n",
       "      <th>medicine</th>\n",
       "      <th>body_temperature</th>\n",
       "    </tr>\n",
       "  </thead>\n",
       "  <tbody>\n",
       "    <tr>\n",
       "      <th>0</th>\n",
       "      <td>A</td>\n",
       "      <td>before</td>\n",
       "      <td>36.2</td>\n",
       "    </tr>\n",
       "    <tr>\n",
       "      <th>1</th>\n",
       "      <td>B</td>\n",
       "      <td>before</td>\n",
       "      <td>36.2</td>\n",
       "    </tr>\n",
       "    <tr>\n",
       "      <th>2</th>\n",
       "      <td>C</td>\n",
       "      <td>before</td>\n",
       "      <td>35.3</td>\n",
       "    </tr>\n",
       "    <tr>\n",
       "      <th>3</th>\n",
       "      <td>D</td>\n",
       "      <td>before</td>\n",
       "      <td>36.1</td>\n",
       "    </tr>\n",
       "    <tr>\n",
       "      <th>4</th>\n",
       "      <td>E</td>\n",
       "      <td>before</td>\n",
       "      <td>36.1</td>\n",
       "    </tr>\n",
       "    <tr>\n",
       "      <th>5</th>\n",
       "      <td>A</td>\n",
       "      <td>after</td>\n",
       "      <td>36.8</td>\n",
       "    </tr>\n",
       "    <tr>\n",
       "      <th>6</th>\n",
       "      <td>B</td>\n",
       "      <td>after</td>\n",
       "      <td>36.1</td>\n",
       "    </tr>\n",
       "    <tr>\n",
       "      <th>7</th>\n",
       "      <td>C</td>\n",
       "      <td>after</td>\n",
       "      <td>36.8</td>\n",
       "    </tr>\n",
       "    <tr>\n",
       "      <th>8</th>\n",
       "      <td>D</td>\n",
       "      <td>after</td>\n",
       "      <td>37.1</td>\n",
       "    </tr>\n",
       "    <tr>\n",
       "      <th>9</th>\n",
       "      <td>E</td>\n",
       "      <td>after</td>\n",
       "      <td>36.9</td>\n",
       "    </tr>\n",
       "  </tbody>\n",
       "</table>\n",
       "</div>"
      ],
      "text/plain": [
       "  person medicine  body_temperature\n",
       "0      A   before              36.2\n",
       "1      B   before              36.2\n",
       "2      C   before              35.3\n",
       "3      D   before              36.1\n",
       "4      E   before              36.1\n",
       "5      A    after              36.8\n",
       "6      B    after              36.1\n",
       "7      C    after              36.8\n",
       "8      D    after              37.1\n",
       "9      E    after              36.9"
      ]
     },
     "execution_count": 15,
     "metadata": {},
     "output_type": "execute_result"
    }
   ],
   "source": [
    "import pandas as pd\n",
    "pt_data = pd.read_csv('dataset/5_9_ptt.csv')\n",
    "pt_data"
   ]
  },
  {
   "cell_type": "code",
   "execution_count": 16,
   "id": "40fdb1fc",
   "metadata": {
    "scrolled": true
   },
   "outputs": [
    {
     "data": {
      "text/plain": [
       "before    5\n",
       "after     5\n",
       "Name: medicine, dtype: int64"
      ]
     },
     "execution_count": 16,
     "metadata": {},
     "output_type": "execute_result"
    }
   ],
   "source": [
    "pt_data.medicine.value_counts()"
   ]
  },
  {
   "cell_type": "code",
   "execution_count": 25,
   "id": "f37d6819",
   "metadata": {},
   "outputs": [
    {
     "data": {
      "text/plain": [
       "Ttest_1sampResult(statistic=2.901693483620596, pvalue=0.044043109730074276)"
      ]
     },
     "execution_count": 25,
     "metadata": {},
     "output_type": "execute_result"
    }
   ],
   "source": [
    "from scipy import stats\n",
    "before = pt_data[pt_data.medicine=='before']['body_temperature']\n",
    "after = pt_data.query('medicine==\"after\"')['body_temperature'] #이렇게도 만들 수 있어요. 따옴표 주의\n",
    "\n",
    "# 배열로 변환\n",
    "before = np.array(before)\n",
    "after = np.array(after)\n",
    "\n",
    "# 차이 구하기\n",
    "diff = after - before\n",
    "diff\n",
    "\n",
    "# 이것의 평균값이 0과 다른지 검정\n",
    "stats.ttest_1samp(diff,0) # 0.044043...\n",
    "\n",
    "# 0.05보다 작아서 귀무가설 기각 -> 통계적으로 유의미한 차이가 있다고 주장할 수 있다.\n",
    "# 약을 복용하기 전과 후의 차이가 있으므로 통계적으로 유의미하다.\n"
   ]
  },
  {
   "cell_type": "markdown",
   "id": "5047aca0",
   "metadata": {},
   "source": [
    "#### 독립표본 t-검정(Independent samples t-test)\n",
    "두 개의 독립된 집단에서, 각 집단의 평균 차이가 유의한지를 검정하는 방법입니다. 예를 들어, 남자와 여자의 평균 키를 비교하는 경우에 독립표본 t-검정을 사용할 수 있습니다."
   ]
  },
  {
   "cell_type": "code",
   "execution_count": 27,
   "id": "edbfc591",
   "metadata": {},
   "outputs": [
    {
     "data": {
      "text/plain": [
       "3.1557282344421034"
      ]
     },
     "execution_count": 27,
     "metadata": {},
     "output_type": "execute_result"
    }
   ],
   "source": [
    "# 평균\n",
    "mean_bf = np.mean(before)\n",
    "mean_af = np.mean(after)\n",
    "\n",
    "# 분산\n",
    "sigma_bf = np.var(before,ddof=1)\n",
    "sigma_af = np.var(after,ddof=1)\n",
    "\n",
    "#샘플사이즈\n",
    "m = len(before)\n",
    "n = len(after)\n",
    "\n",
    "# t값 구하기\n",
    "t_value = (mean_af - mean_bf) / (np.sqrt(sigma_bf/m+sigma_af/n))\n",
    "t_value\n",
    "\n"
   ]
  },
  {
   "cell_type": "code",
   "execution_count": 28,
   "id": "d65d47de",
   "metadata": {},
   "outputs": [
    {
     "data": {
      "text/plain": [
       "Ttest_indResult(statistic=3.1557282344421034, pvalue=0.013484775682079892)"
      ]
     },
     "execution_count": 28,
     "metadata": {},
     "output_type": "execute_result"
    }
   ],
   "source": [
    "# 귀무가설을 기각하고 통계적으로 유의미한 차이가 있다고 판단.\n",
    "# 두 개의 집단이기 때문에 독립표본(ind)사용\n",
    "# equal_var=False --> 분산이 다르다고 가정한 검정\n",
    "stats.ttest_ind(after,before,equal_var=False)"
   ]
  },
  {
   "cell_type": "markdown",
   "id": "3eaea9a8",
   "metadata": {},
   "source": [
    "#### 과제2\n",
    "동일한 집단에 대해서 약 복용 전과 후의 체온에 변화가 있는지에 대한 유의성 검정을 수행하세요.\n",
    "- 약 복용 전 체온 데이터 : [36.2, 36.1, 36.5, 36.3, 36.2, 36.4, 36.3, 36.1, 36.6, 36.2]\n",
    "- 약 복용 후 체온 데이터 : [36.5, 36.3, 36.8, 36.6, 36.5, 36.7, 36.6, 36.2, 36.9, 36.4]"
   ]
  },
  {
   "cell_type": "code",
   "execution_count": 2,
   "id": "b39857b8",
   "metadata": {},
   "outputs": [
    {
     "data": {
      "text/plain": [
       "Ttest_1sampResult(statistic=2.901693483620596, pvalue=0.044043109730074276)"
      ]
     },
     "execution_count": 2,
     "metadata": {},
     "output_type": "execute_result"
    }
   ],
   "source": [
    "import pandas as pd\n",
    "pt_data = pd.read_csv('dataset/5_9_ptt.csv')\n",
    "pt_data\n",
    "\n",
    "# A.\n",
    "# 귀무가설을 기각하므로 통계적으로 유의미한 차이가 있다고 주장할 수 있다.\n",
    "before = pt_data[pt_data.medicine=='before']['body_temperature']\n",
    "after = pt_data.query('medicine==\"after\"')['body_temperature']\n",
    "# 배열로 변환\n",
    "before = np.array(before)\n",
    "after = np.array(after)\n",
    "diff = after - before\n",
    "\n",
    "# 평균값이 0과 다른지 검정\n",
    "from scipy import stats\n",
    "stats.ttest_1samp(diff,0)"
   ]
  },
  {
   "cell_type": "markdown",
   "id": "0e1f35bc",
   "metadata": {},
   "source": [
    "#### 과제3\n",
    "남자와 여자 두 그룹에 대해서 평균 키의 차이가 있는지에 대한 유의성 검정을 수행하세요.\n",
    "- 남자의 키 데이터 : [172, 174, 176, 178, 180, 182, 184, 186, 188, 190]\n",
    "- 여자의 키 데이터 : [156, 158, 160, 162, 164, 166, 168, 170, 172, 174]"
   ]
  },
  {
   "cell_type": "code",
   "execution_count": 1,
   "id": "de611051",
   "metadata": {},
   "outputs": [
    {
     "name": "stdout",
     "output_type": "stream",
     "text": [
      "검정 결과 : 남자와 여자의 키의 평균 차이가 있다고 할 수 있습니다.\n"
     ]
    }
   ],
   "source": [
    "# A.\n",
    "import numpy as np\n",
    "from scipy.stats import ttest_ind\n",
    "\n",
    "# 남자의 키 데이터\n",
    "male_height = np.array([172, 174, 176, 178, 180, 182, 184, 186, 188, 190])\n",
    "\n",
    "# 여자의 키 데이터\n",
    "female_height = np.array([156, 158, 160, 162, 164, 166, 168, 170, 172, 174])\n",
    "\n",
    "# 독립표본 t-검정을 수행합니다.\n",
    "t_statistic, p_value = ttest_ind(male_height, female_height)\n",
    "\n",
    "# 유의수준을 0.05로 설정하고, 양측 검정을 수행한다고 가정합니다.\n",
    "alpha = 0.05\n",
    "\n",
    "# 검정 결과를 출력합니다.\n",
    "if p_value < alpha:\n",
    "    print(\"검정 결과 : 남자와 여자의 키의 평균 차이가 있다고 할 수 있습니다.\")\n",
    "else:\n",
    "    print(\"검정 결과 : 남자와 여자의 키의 평균 차이가 없다고 할 수 있습니다.\")"
   ]
  },
  {
   "cell_type": "markdown",
   "id": "7c2655ee",
   "metadata": {},
   "source": [
    "#### 카이제곱 분포\n",
    "- 분산분석이나 독립성 검정 등에서 사용되는 확률분포입니다. 카이제곱 분포는 자유도(degree of freedom)에 따라 모양이 달라지며, 자유도가 클수록 정규분포에 가까워집니다.\n",
    "\n",
    "- 독립성 검정에서 카이스퀘어 분포를 사용하는 이유는 검정통계량으로서 카이스퀘어 검정통계량을 사용하기 때문입니다.\n",
    "\n",
    "- 독립성 검정은 두 범주형 변수 간의 관련성을 검정하는 방법입니다. 예를 들어, 성별과 흡연 여부라는 두 가지 범주형 변수가 있을 때, 이 두 변수 간에는 관련성이 있는지 없는지를 검정하는 것입니다.\n",
    "\n",
    "- 카이스퀘어 검정통계량은 범주형 변수 간의 관련성을 검정하는 데 사용되며, 관측된 빈도와 기대 빈도 간의 차이를 이용하여 검정통계량을 계산합니다. 검정통계량은 카이스퀘어 분포를 따르므로, 카이스퀘어 분포를 이용하여 유의확률을 계산합니다. 이 때, 검정통계량이 카이스퀘어 분포를 따르는 것은 큰 표본에서는 중심극한정리에 의해, 작은 표본에서는 피셔의 정확 검정에 의해 유도됩니다.\n"
   ]
  },
  {
   "cell_type": "code",
   "execution_count": 33,
   "id": "cd9412a3",
   "metadata": {},
   "outputs": [
    {
     "data": {
      "image/png": "[encoded data removed]",
      "text/plain": [
       "<Figure size 640x480 with 1 Axes>"
      ]
     },
     "metadata": {},
     "output_type": "display_data"
    }
   ],
   "source": [
    "\n",
    "import numpy as np\n",
    "from scipy.stats import chi2 #카이 투 \n",
    "import matplotlib.pyplot as plt\n",
    "\n",
    "# 카이제곱 분포의 확률밀도함수 그래프\n",
    "x=np.linspace(0,10,100)\n",
    "df =5\n",
    "pdf = chi2.pdf(x,df) #카이스퀘어분포를 따르는 확률밀도함수\n",
    "plt.plot(x,pdf,label='PDF')\n",
    "plt.legend()\n",
    "\n",
    "# 카이제곱 분포의 누적분포함수 그래프\n",
    "x=np.linspace(0,10,100)\n",
    "df=5\n",
    "cdf=chi2.cdf(x,df)\n",
    "plt.plot(x,cdf,label='CDF')\n",
    "plt.legend()\n",
    "plt.show()\n",
    "\n",
    "# 종모양이 아니죠?"
   ]
  },
  {
   "cell_type": "code",
   "execution_count": 40,
   "id": "d03e7cd2",
   "metadata": {},
   "outputs": [
    {
     "data": {
      "image/png": "[encoded data removed]",
      "text/plain": [
       "<Figure size 640x480 with 1 Axes>"
      ]
     },
     "metadata": {},
     "output_type": "display_data"
    }
   ],
   "source": [
    "# + 자유도 및 샘플크기 변화줬을 때\n",
    "import numpy as np\n",
    "from scipy.stats import chi2 #카이 투 \n",
    "import matplotlib.pyplot as plt\n",
    "\n",
    "# 카이제곱 분포의 확률밀도함수 그래프\n",
    "x=np.linspace(10,60,100)\n",
    "df =30\n",
    "pdf = chi2.pdf(x,df) #카이스퀘어분포를 따르는 확률밀도함수\n",
    "plt.plot(x,pdf,label='PDF')\n",
    "plt.legend()\n",
    "\n",
    "# 카이제곱 분포의 누적분포함수 그래프\n",
    "# x=np.linspace(0,10,100)\n",
    "# df=30\n",
    "# cdf=chi2.cdf(x,df)\n",
    "# plt.plot(x,cdf,label='CDF')\n",
    "# plt.legend()\n",
    "plt.show()\n",
    "\n",
    "# 모양이 정규분포랑 비슷하다.\n",
    "# 모양은 자유도에 따라 달라진다"
   ]
  },
  {
   "cell_type": "markdown",
   "id": "682e2412",
   "metadata": {},
   "source": [
    "#### 독립성 검정\n",
    "- 독립성 검정은 두 개의 범주형 변수 간의 상관 관계를 검정하는 방법입니다. 독립성 검정에서는 귀무가설로 두 변수가 서로 독립적이라는 가정을 놓고, 대립가설로 두 변수가 서로 상관 관계가 있다는 가정을 놓습니다. 검정 결과로는 유의확률(p값)이 출력되며, 유의확률이 유의수준보다 작을 경우 귀무가설을 기각하고 대립가설을 채택합니다.\n",
    "\n",
    "- 독립성 검정에서는 검정통계량으로 카이제곱 검정통계량을 사용합니다. 검정통계량을 계산하기 위해 교차표(cross table)을 생성하고, 이를 바탕으로 관측값과 기대값의 차이를 계산합니다. 교차표는 각 범주형 변수의 카테고리를 축으로 하는 표입니다. 예를 들어, 성별과 흡연 여부라는 두 범주형 변수 간의 독립성을 검정하는 경우, 교차표는 성별을 행으로, 흡연 여부를 열로 나열한 표입니다.\n",
    "\n",
    "- 검정 결과로는 검정통계량과 유의확률이 출력되며, 유의확률이 유의수준보다 작으면 귀무가설을 기각하고 대립가설을 채택합니다. 따라서, 독립성 검정 결과를 해석할 때에는 유의수준을 고려하여 검정 결과를 해석해야 합니다.\n",
    "\n",
    "-> 독립성검정 독립인지 상관관계가 있는지 확인 유의확률이 유의수준보다 작을 경우 상관관계가 있다고 봄"
   ]
  },
  {
   "cell_type": "code",
   "execution_count": 42,
   "id": "265e1fe6",
   "metadata": {},
   "outputs": [
    {
     "name": "stdout",
     "output_type": "stream",
     "text": [
      "카이제곱 검정통계량:  0.4464285714285714\n",
      "p_value:  0.009024007157468749\n",
      "자유도:  1\n",
      "기대빈도:  \n",
      " [[12. 18.]\n",
      " [28. 42.]]\n"
     ]
    }
   ],
   "source": [
    "from scipy.stats import chi2_contingency\n",
    "\n",
    "#교차표 생성\n",
    "observed = [[10,20],[30,40]] #관측치\n",
    "\n",
    "#카이제곱 검정실행\n",
    "chi2_stat,p_val, dof, expected = chi2_contingency(observed)\n",
    "\n",
    "print('카이제곱 검정통계량: ',chi2_stat)\n",
    "print('p_value: ',p_value)\n",
    "print('자유도: ',dof)\n",
    "print('기대빈도: ','\\n',expected)"
   ]
  },
  {
   "cell_type": "code",
   "execution_count": 49,
   "id": "c492c6b6",
   "metadata": {},
   "outputs": [
    {
     "data": {
      "text/html": [
       "<div>\n",
       "<style scoped>\n",
       "    .dataframe tbody tr th:only-of-type {\n",
       "        vertical-align: middle;\n",
       "    }\n",
       "\n",
       "    .dataframe tbody tr th {\n",
       "        vertical-align: top;\n",
       "    }\n",
       "\n",
       "    .dataframe thead th {\n",
       "        text-align: right;\n",
       "    }\n",
       "</style>\n",
       "<table border=\"1\" class=\"dataframe\">\n",
       "  <thead>\n",
       "    <tr style=\"text-align: right;\">\n",
       "      <th></th>\n",
       "      <th>color</th>\n",
       "      <th>click</th>\n",
       "      <th>freq</th>\n",
       "    </tr>\n",
       "  </thead>\n",
       "  <tbody>\n",
       "    <tr>\n",
       "      <th>0</th>\n",
       "      <td>blue</td>\n",
       "      <td>click</td>\n",
       "      <td>20</td>\n",
       "    </tr>\n",
       "    <tr>\n",
       "      <th>1</th>\n",
       "      <td>blue</td>\n",
       "      <td>not</td>\n",
       "      <td>230</td>\n",
       "    </tr>\n",
       "    <tr>\n",
       "      <th>2</th>\n",
       "      <td>red</td>\n",
       "      <td>click</td>\n",
       "      <td>10</td>\n",
       "    </tr>\n",
       "    <tr>\n",
       "      <th>3</th>\n",
       "      <td>red</td>\n",
       "      <td>not</td>\n",
       "      <td>40</td>\n",
       "    </tr>\n",
       "  </tbody>\n",
       "</table>\n",
       "</div>"
      ],
      "text/plain": [
       "  color  click  freq\n",
       "0  blue  click    20\n",
       "1  blue    not   230\n",
       "2   red  click    10\n",
       "3   red    not    40"
      ]
     },
     "execution_count": 49,
     "metadata": {},
     "output_type": "execute_result"
    }
   ],
   "source": [
    "click_data = pd.read_csv('dataset/5_10_cd.csv')\n",
    "click_data"
   ]
  },
  {
   "cell_type": "code",
   "execution_count": 51,
   "id": "186c90cc",
   "metadata": {},
   "outputs": [
    {
     "data": {
      "text/html": [
       "<div>\n",
       "<style scoped>\n",
       "    .dataframe tbody tr th:only-of-type {\n",
       "        vertical-align: middle;\n",
       "    }\n",
       "\n",
       "    .dataframe tbody tr th {\n",
       "        vertical-align: top;\n",
       "    }\n",
       "\n",
       "    .dataframe thead th {\n",
       "        text-align: right;\n",
       "    }\n",
       "</style>\n",
       "<table border=\"1\" class=\"dataframe\">\n",
       "  <thead>\n",
       "    <tr style=\"text-align: right;\">\n",
       "      <th>click</th>\n",
       "      <th>click</th>\n",
       "      <th>not</th>\n",
       "    </tr>\n",
       "    <tr>\n",
       "      <th>color</th>\n",
       "      <th></th>\n",
       "      <th></th>\n",
       "    </tr>\n",
       "  </thead>\n",
       "  <tbody>\n",
       "    <tr>\n",
       "      <th>blue</th>\n",
       "      <td>20</td>\n",
       "      <td>230</td>\n",
       "    </tr>\n",
       "    <tr>\n",
       "      <th>red</th>\n",
       "      <td>10</td>\n",
       "      <td>40</td>\n",
       "    </tr>\n",
       "  </tbody>\n",
       "</table>\n",
       "</div>"
      ],
      "text/plain": [
       "click  click  not\n",
       "color            \n",
       "blue      20  230\n",
       "red       10   40"
      ]
     },
     "execution_count": 51,
     "metadata": {},
     "output_type": "execute_result"
    }
   ],
   "source": [
    "# 분할표 -> 관측한거야.\n",
    "# 근데 카이스퀘어 검정을 통해서 칼라별로 클릭하는게 차이가 잇는지에 대해 검증하는데\n",
    "# 기대치하고 기대도수표하고 비교를 해서 보여줌\n",
    "# 기대도수는 확률적으로 기대하는 값. 그걸 기계가 구해줌\n",
    "cross = pd.pivot_table(data=click_data, values='freq', aggfunc='sum', index='color', columns='click')\n",
    "cross\n"
   ]
  },
  {
   "cell_type": "code",
   "execution_count": 54,
   "id": "1ff03274",
   "metadata": {},
   "outputs": [
    {
     "data": {
      "text/plain": [
       "(6.666666666666666,\n",
       " 0.009823274507519247,\n",
       " 1,\n",
       " array([[ 25., 225.],\n",
       "        [  5.,  45.]]))"
      ]
     },
     "execution_count": 54,
     "metadata": {},
     "output_type": "execute_result"
    }
   ],
   "source": [
    "# 색깔에 따라 클릭하는 게 독립적이다.관계없다 -> 귀무가설\n",
    "# 0.05보다 작으므로 귀무가설 기각. 즉 색깔과 클릭에는 관계가 있다.\n",
    "# 통계량,p값,자유도,기대도수표\n",
    "stats.chi2_contingency(cross, correction=False) # 보정 안 함"
   ]
  },
  {
   "cell_type": "markdown",
   "id": "c89469c2",
   "metadata": {},
   "source": [
    "과제4 아래 df에서 gender와 purchase간 독립성 검정을 수행하고 그 결과를 기술하세요"
   ]
  },
  {
   "cell_type": "code",
   "execution_count": null,
   "id": "39d18b86",
   "metadata": {},
   "outputs": [],
   "source": [
    "import pandas as pd\n",
    "from scipy.stats import chi2_contingency\n",
    "# 귀무가설로 두 변수가 서로 독립적이라는 가정\n",
    "# 데이터 프레임 생성\n",
    "data = {'gender': ['M', 'M', 'F', 'F', 'F', 'M', 'M', 'F', 'M', 'M'],\n",
    "        'purchase': ['yes', 'yes', 'no', 'yes', 'no', 'yes', 'no', 'no', 'no', 'yes']}\n",
    "df = pd.DataFrame(data)\n",
    "df.head()"
   ]
  },
  {
   "cell_type": "code",
   "execution_count": null,
   "id": "28b6a60d",
   "metadata": {},
   "outputs": [],
   "source": []
  },
  {
   "cell_type": "code",
   "execution_count": null,
   "id": "034c8c3f",
   "metadata": {},
   "outputs": [],
   "source": []
  },
  {
   "cell_type": "code",
   "execution_count": null,
   "id": "65185bd1",
   "metadata": {},
   "outputs": [],
   "source": []
  }
 ],
 "metadata": {
  "kernelspec": {
   "display_name": "Python 3 (ipykernel)",
   "language": "python",
   "name": "python3"
  },
  "language_info": {
   "codemirror_mode": {
    "name": "ipython",
    "version": 3
   },
   "file_extension": ".py",
   "mimetype": "text/x-python",
   "name": "python",
   "nbconvert_exporter": "python",
   "pygments_lexer": "ipython3",
   "version": "3.9.13"
  }
 },
 "nbformat": 4,
 "nbformat_minor": 5
}
